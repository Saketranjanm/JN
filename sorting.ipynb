{
 "cells": [
  {
   "cell_type": "code",
   "execution_count": 25,
   "id": "4cd520e4-9a2a-4841-ad98-f929af1daa95",
   "metadata": {},
   "outputs": [
    {
     "name": "stdout",
     "output_type": "stream",
     "text": [
      "[1, 2, 3, 4, 5]\n"
     ]
    }
   ],
   "source": [
    "#bubble sort\n",
    "#O(N^2)\n",
    "def bubblesort(arr):\n",
    "    for i in range(len(arr)-1,0,-1):\n",
    "        for j in range(i):\n",
    "            if (arr[j]>arr[j+1]):\n",
    "                arr[j],arr[j+1] = arr[j+1],arr[j]\n",
    "arr = [3,5,2,1,4]\n",
    "bubblesort(arr)\n",
    "print(arr)"
   ]
  },
  {
   "cell_type": "code",
   "execution_count": 5,
   "id": "848d2665-b620-4ffb-92e4-17e986bc7305",
   "metadata": {},
   "outputs": [
    {
     "name": "stdout",
     "output_type": "stream",
     "text": [
      "array is already sorted\n",
      "[1, 2, 3, 4, 5]\n"
     ]
    }
   ],
   "source": [
    "#optimised bubble sort\n",
    "def bubblesort(arr):\n",
    "    for i in range(len(arr)-1,0,-1):\n",
    "        isSorted = True\n",
    "        for j in range(i):\n",
    "            if (arr[j]>arr[j+1]):\n",
    "                isSorted = False\n",
    "                arr[j],arr[j+1] = arr[j+1],arr[j]\n",
    "\n",
    "        if isSorted:\n",
    "             print(\"array is already sorted\")\n",
    "arr = [3,5,2,1,4]\n",
    "bubblesort(arr)\n",
    "print(arr)"
   ]
  },
  {
   "cell_type": "code",
   "execution_count": 24,
   "id": "5db2d808-b25e-4648-be5e-2e82868827ab",
   "metadata": {},
   "outputs": [
    {
     "name": "stdout",
     "output_type": "stream",
     "text": [
      "[1, 2, 3, 4, 5]\n"
     ]
    }
   ],
   "source": [
    "#Selection sort\n",
    "#O(N^2)\n",
    "def selectionSort(arr):\n",
    "    for i in range(len(arr)):\n",
    "        min = i\n",
    "        for j in range(i+1,len(arr)):\n",
    "            if arr[j] < arr[min]:\n",
    "                min = j\n",
    "        arr[i],arr[min] = arr[min],arr[i]\n",
    "arr = [2,4,1,5,3]\n",
    "selectionSort(arr)\n",
    "print(arr)\n",
    "            "
   ]
  },
  {
   "cell_type": "code",
   "execution_count": 11,
   "id": "6c118213-c03e-4390-a2eb-f69bebb5ee78",
   "metadata": {},
   "outputs": [
    {
     "name": "stdout",
     "output_type": "stream",
     "text": [
      "[1, 2, 3, 4, 5]\n"
     ]
    }
   ],
   "source": [
    "#insertion sort\n",
    "#O(N^2)\n",
    "def insertion_sort(arr):\n",
    "    for i in range(1,len(arr)):\n",
    "        v = arr[i]\n",
    "        j = i\n",
    "        while(j>=1 and arr[j-1]>v):\n",
    "            arr[j]= arr[j-1]\n",
    "            j-=1\n",
    "        arr[j] = v\n",
    "arr = [3,1,5,2,4]\n",
    "insertion_sort(arr)\n",
    "print(arr)"
   ]
  },
  {
   "cell_type": "code",
   "execution_count": 23,
   "id": "5a247406-e80a-4400-995f-a5c688e448e7",
   "metadata": {},
   "outputs": [
    {
     "name": "stdout",
     "output_type": "stream",
     "text": [
      "element is found at index 4\n"
     ]
    }
   ],
   "source": [
    "#linearSearch\n",
    "#O(N)\n",
    "def LinearSearch(arr,ele):\n",
    "    for i in range(len(arr)):\n",
    "        if ele == arr[i]:\n",
    "            return i\n",
    "    else:\n",
    "        return -1\n",
    "         \n",
    "arr = [1,2,3,4,5]\n",
    "ele = 5\n",
    "result = LinearSearch(arr,ele)\n",
    "print(f\"element is found at index {result}\")"
   ]
  },
  {
   "cell_type": "code",
   "execution_count": 30,
   "id": "84b36b14-3c09-4398-a478-1808b27fe9fe",
   "metadata": {},
   "outputs": [
    {
     "name": "stdout",
     "output_type": "stream",
     "text": [
      "number is found at index 3\n"
     ]
    }
   ],
   "source": [
    "#binarySearch\n",
    "#O(logN)\n",
    "def binarySearch(arr,num):\n",
    "    left = 0\n",
    "    right = len(arr)-1\n",
    "    while(left<= right):\n",
    "        mid = int(left + (right - left)/2)\n",
    "        if arr[mid] == num:\n",
    "            return mid\n",
    "        elif arr[mid]>num:\n",
    "            right = mid -1\n",
    "        else:\n",
    "            left = mid+1\n",
    "    return -1\n",
    "arr = [22,33,43,56,76]\n",
    "num = 56\n",
    "result = binarySearch(arr,num)\n",
    "print(f\"number is found at index {result}\")"
   ]
  },
  {
   "cell_type": "code",
   "execution_count": null,
   "id": "cf55f7f9-7077-4680-91a5-08acbb906d4e",
   "metadata": {},
   "outputs": [],
   "source": []
  }
 ],
 "metadata": {
  "kernelspec": {
   "display_name": "Python 3 (ipykernel)",
   "language": "python",
   "name": "python3"
  },
  "language_info": {
   "codemirror_mode": {
    "name": "ipython",
    "version": 3
   },
   "file_extension": ".py",
   "mimetype": "text/x-python",
   "name": "python",
   "nbconvert_exporter": "python",
   "pygments_lexer": "ipython3",
   "version": "3.12.1"
  }
 },
 "nbformat": 4,
 "nbformat_minor": 5
}
