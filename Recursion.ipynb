{
 "cells": [
  {
   "cell_type": "code",
   "execution_count": 16,
   "id": "a2bc561e-02a6-4841-9004-5b3ff0c23c9e",
   "metadata": {},
   "outputs": [
    {
     "name": "stdout",
     "output_type": "stream",
     "text": [
      "Move disk 1 from rod A to rod C\n",
      "Move disk 2 from rod A to rod B\n",
      "Move disk 1 from rod C to rod B\n",
      "Move disk 3 from rod A to rod C\n",
      "Move disk 1 from rod B to rod A\n",
      "Move disk 2 from rod B to rod C\n",
      "Move disk 1 from rod A to rod C\n"
     ]
    }
   ],
   "source": [
    "#Q.1 Can you explain the logic and working of the Tower of Hanoi algorithm by writing a python program?\n",
    "#How does the recursion work, and how are the movements of disks between rods accomplished?\n",
    "def tower_of_hanoi(n, source, auxiliary, destination):\n",
    "    if n == 1:\n",
    "        print(f\"Move disk 1 from rod {source} to rod {destination}\")\n",
    "        return\n",
    "    tower_of_hanoi(n - 1, source, destination, auxiliary)\n",
    "    print(f\"Move disk {n} from rod {source} to rod {destination}\")\n",
    "    tower_of_hanoi(n - 1, auxiliary, source, destination)\n",
    "\n",
    "n = 3  \n",
    "tower_of_hanoi(n, 'A', 'B', 'C')  \n"
   ]
  },
  {
   "cell_type": "code",
   "execution_count": 15,
   "id": "972a50f0-e6db-414d-bb59-850be2ff9cd0",
   "metadata": {},
   "outputs": [
    {
     "name": "stdout",
     "output_type": "stream",
     "text": [
      "Minimum number of operations: 3\n"
     ]
    }
   ],
   "source": [
    "#Given two strings word1 and word2, return the minimum number of operations required to convert word1\n",
    "#to word2.\n",
    "#Example 1:\n",
    "#nput: word1 = \"horse\", word2 = \"ros\"\n",
    "def min_distance(word1, word2):\n",
    "    def helper(i, j):\n",
    "        if i == len(word1):\n",
    "            return len(word2) - j \n",
    "        if j == len(word2):\n",
    "            return len(word1) - i  \n",
    "        if word1[i] == word2[j]:\n",
    "            return helper(i + 1, j + 1)\n",
    "        insert = 1 + helper(i, j + 1) \n",
    "        delete = 1 + helper(i + 1, j) \n",
    "        replace = 1 + helper(i + 1, j + 1)\n",
    "        return min(insert, delete, replace)\n",
    "    return helper(0, 0)\n",
    "word1 = \"horse\"\n",
    "word2 = \"ros\"\n",
    "print(\"Minimum number of operations:\", min_distance(word1, word2))\n"
   ]
  },
  {
   "cell_type": "code",
   "execution_count": 1,
   "id": "2b35a7e2-d07f-4e6a-acf8-8301d4e85f8d",
   "metadata": {},
   "outputs": [
    {
     "name": "stdout",
     "output_type": "stream",
     "text": [
      "Maximum value in the array: 22\n"
     ]
    }
   ],
   "source": [
    "#Q. 3 Print the max value of the array [ 13, 1, -3, 22, 5].\n",
    "def find_max(arr, n):\n",
    "    if n == 1:\n",
    "        return arr[0]\n",
    "    return max(arr[n - 1], find_max(arr, n - 1))\n",
    "\n",
    "arr = [13, 1, -3, 22, 5]\n",
    "max_value = find_max(arr, len(arr))\n",
    "print(\"Maximum value in the array:\", max_value)\n"
   ]
  },
  {
   "cell_type": "code",
   "execution_count": 3,
   "id": "73b343c9-3c6b-4e90-9f44-1b79e49de06a",
   "metadata": {},
   "outputs": [
    {
     "name": "stdout",
     "output_type": "stream",
     "text": [
      "total value in the array: 120\n"
     ]
    }
   ],
   "source": [
    "#Q.4 Find the sum of the values of the array [92, 23, 15, -20, 10].\n",
    "def summ(arr, n):\n",
    "    if n == 1:\n",
    "        return arr[0]\n",
    "    return arr[n-1] + summ(arr,n-1)\n",
    "\n",
    "arr = [92,23,15,-20,10]\n",
    "sum_value = summ(arr, len(arr))\n",
    "print(\"total value in the array:\", sum_value)\n"
   ]
  },
  {
   "cell_type": "code",
   "execution_count": 13,
   "id": "74ca6637-f74b-4ed8-83aa-2df1dc35f36c",
   "metadata": {},
   "outputs": [
    {
     "name": "stdin",
     "output_type": "stream",
     "text": [
      "Enter a number:  370\n"
     ]
    },
    {
     "name": "stdout",
     "output_type": "stream",
     "text": [
      "370 is an Armstrong number.\n"
     ]
    }
   ],
   "source": [
    "#Q.5 Given a number n. Print if it is an armstrong number or not.An armstrong number is a number if the sum\n",
    "#of every digit in that number raised to the power of total digits in that number is equal to the number.\n",
    "def count_digits(n):\n",
    "    if n < 10:\n",
    "        return 1\n",
    "    return 1 + count_digits(n // 10)\n",
    "\n",
    "def is_armstrong_recursive(n, num_digits, original_n):\n",
    "    if n == 0:\n",
    "        return 0\n",
    "    digit = n % 10\n",
    "    return (digit ** num_digits) + is_armstrong_recursive(n // 10, num_digits, original_n)\n",
    "\n",
    "def is_armstrong(n):\n",
    "    num_digits = count_digits(n)\n",
    "    armstrong_sum = is_armstrong_recursive(n, num_digits, n)\n",
    "    return armstrong_sum == n\n",
    "\n",
    "number = int(input(\"Enter a number: \"))\n",
    "if is_armstrong(number):\n",
    "    print(number, \"is an Armstrong number.\")\n",
    "else:\n",
    "    print(number, \"is not an Armstrong number.\")\n",
    "\n"
   ]
  },
  {
   "cell_type": "code",
   "execution_count": null,
   "id": "a570589a-1d78-434d-bec9-7e45a9bfe7c3",
   "metadata": {},
   "outputs": [],
   "source": []
  }
 ],
 "metadata": {
  "kernelspec": {
   "display_name": "Python 3 (ipykernel)",
   "language": "python",
   "name": "python3"
  },
  "language_info": {
   "codemirror_mode": {
    "name": "ipython",
    "version": 3
   },
   "file_extension": ".py",
   "mimetype": "text/x-python",
   "name": "python",
   "nbconvert_exporter": "python",
   "pygments_lexer": "ipython3",
   "version": "3.12.1"
  }
 },
 "nbformat": 4,
 "nbformat_minor": 5
}
