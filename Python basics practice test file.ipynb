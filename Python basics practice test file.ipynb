{
 "cells": [
  {
   "cell_type": "code",
   "execution_count": 2,
   "id": "f3146563-e279-4e5c-a5bb-f4983e835ca0",
   "metadata": {},
   "outputs": [
    {
     "name": "stdout",
     "output_type": "stream",
     "text": [
      "tekas\n"
     ]
    }
   ],
   "source": [
    "#TOPIC: String Based Assignment Problem\n",
    "\n",
    "#1. Write a program to reverse a string\n",
    "a = 'saket'\n",
    "print(a[::-1])"
   ]
  },
  {
   "cell_type": "code",
   "execution_count": 8,
   "id": "3e59734c-9edd-40c7-b4dd-6444fab0d02e",
   "metadata": {},
   "outputs": [
    {
     "name": "stdout",
     "output_type": "stream",
     "text": [
      "palindrome\n"
     ]
    }
   ],
   "source": [
    "#2. Check if a string is a palindrome.\n",
    "c = 'madam'\n",
    "b = c[::-1]\n",
    "if(c==b):\n",
    "         print(\"palindrome\")\n",
    "else:\n",
    "    print(\"not palindrome\")"
   ]
  },
  {
   "cell_type": "code",
   "execution_count": 9,
   "id": "14c45c0b-deb9-4db9-8b5c-77861621627f",
   "metadata": {},
   "outputs": [
    {
     "name": "stdout",
     "output_type": "stream",
     "text": [
      "SAKET\n"
     ]
    }
   ],
   "source": [
    "#3. Convert a string to uppercase.\n",
    "print(a.upper())"
   ]
  },
  {
   "cell_type": "code",
   "execution_count": 10,
   "id": "2fd17a64-0145-415f-a88a-50fae46d651d",
   "metadata": {},
   "outputs": [
    {
     "name": "stdout",
     "output_type": "stream",
     "text": [
      "saket\n"
     ]
    }
   ],
   "source": [
    "#4. Convert a string to lowercase.\n",
    "x = 'SAKET'\n",
    "print(x.lower())"
   ]
  },
  {
   "cell_type": "code",
   "execution_count": 14,
   "id": "8b4eee13-16c6-4ab4-b666-7f8efeab2c13",
   "metadata": {},
   "outputs": [
    {
     "name": "stdout",
     "output_type": "stream",
     "text": [
      "2\n"
     ]
    }
   ],
   "source": [
    "#5. Count the number of vowels in a string.\n",
    "y = x.lower()\n",
    "count = 0\n",
    "for n in y:\n",
    "    if(n == 'a'or n =='e'or n =='i' or n == 'o' or n =='u'):\n",
    "        count= count+1;\n",
    "print(count)    "
   ]
  },
  {
   "cell_type": "code",
   "execution_count": 26,
   "id": "06d74486-cf3d-4642-9d1c-5aaec82c2801",
   "metadata": {},
   "outputs": [
    {
     "name": "stdout",
     "output_type": "stream",
     "text": [
      "number of consonant in string 'saket' is:  3\n"
     ]
    }
   ],
   "source": [
    "#6. Count the number of consonants in a string.\n",
    "z = len(y)\n",
    "result = z - count\n",
    "print(\"number of consonant in string 'saket' is: \" , result)"
   ]
  },
  {
   "cell_type": "code",
   "execution_count": 30,
   "id": "87803b2b-b81f-411f-acbd-584c714c83b6",
   "metadata": {},
   "outputs": [
    {
     "name": "stdout",
     "output_type": "stream",
     "text": [
      "hi!iamsaketranjan\n"
     ]
    }
   ],
   "source": [
    "#7. Remove all whitespaces from a string.\n",
    "example = 'hi! i am saket ranjan'\n",
    "res = example.replace(\" \",\"\")\n",
    "print(res)"
   ]
  },
  {
   "cell_type": "code",
   "execution_count": 33,
   "id": "94babbda-87a7-4590-8039-d3553df1381e",
   "metadata": {},
   "outputs": [
    {
     "name": "stdout",
     "output_type": "stream",
     "text": [
      "length of the string is : 17\n"
     ]
    }
   ],
   "source": [
    "#8. Find the length of a string without using the `len()` function.\n",
    "coun = 0;\n",
    "for n in res:\n",
    "    coun= coun+1;\n",
    "print(\"length of the string is :\", coun);    "
   ]
  },
  {
   "cell_type": "code",
   "execution_count": 40,
   "id": "9649c1ef-a4b7-42ef-b574-7dfcfc01b29f",
   "metadata": {},
   "outputs": [
    {
     "name": "stdout",
     "output_type": "stream",
     "text": [
      "found\n"
     ]
    }
   ],
   "source": [
    "#9. Check if a string contains a specific word.\n",
    "if example.find(\"saket\"):\n",
    "    print(\"found\")"
   ]
  },
  {
   "cell_type": "code",
   "execution_count": 42,
   "id": "f8ea7446-4be7-418a-acbc-119737950213",
   "metadata": {},
   "outputs": [
    {
     "name": "stdout",
     "output_type": "stream",
     "text": [
      "hi! i am nikhil ranjan\n"
     ]
    }
   ],
   "source": [
    "#10. Replace a word in a string with another word.\n",
    "ex= example.replace(\"saket\",\"nikhil\")\n",
    "print(ex)"
   ]
  },
  {
   "cell_type": "code",
   "execution_count": 43,
   "id": "a32032a2-01d8-4c44-b3fb-5bc434af252a",
   "metadata": {},
   "outputs": [
    {
     "name": "stdout",
     "output_type": "stream",
     "text": [
      "4\n"
     ]
    }
   ],
   "source": [
    "#11. Count the occurrences of a word in a string.\n",
    "ex1 = example.count(\"a\")\n",
    "print(ex1)"
   ]
  },
  {
   "cell_type": "code",
   "execution_count": 44,
   "id": "c5770c75-4a4e-4160-a7b0-469e1da7b3ee",
   "metadata": {},
   "outputs": [
    {
     "name": "stdout",
     "output_type": "stream",
     "text": [
      "6\n"
     ]
    }
   ],
   "source": [
    "#12. Find the first occurrence of a word in a string.\n",
    "ex2 = example.index(\"a\")\n",
    "print(ex2)"
   ]
  },
  {
   "cell_type": "code",
   "execution_count": 45,
   "id": "e88f570a-3d3f-447e-89ad-0310aa5792df",
   "metadata": {},
   "outputs": [
    {
     "name": "stdout",
     "output_type": "stream",
     "text": [
      "19\n"
     ]
    }
   ],
   "source": [
    "#13. Find the last occurrence of a word in a string.\n",
    "ex3 = example.rfind(\"a\")\n",
    "print(ex3)"
   ]
  },
  {
   "cell_type": "code",
   "execution_count": 46,
   "id": "865c3709-2a6f-4acf-8162-042b0d61cd92",
   "metadata": {},
   "outputs": [
    {
     "name": "stdout",
     "output_type": "stream",
     "text": [
      "['hi!', 'i', 'am', 'saket', 'ranjan']\n"
     ]
    }
   ],
   "source": [
    "#14. Split a string into a list of words\n",
    "ls = example.split(\" \")\n",
    "print(ls)"
   ]
  },
  {
   "cell_type": "code",
   "execution_count": 53,
   "id": "90ca9896-10d5-40d7-9ae7-8973a3c332fd",
   "metadata": {},
   "outputs": [
    {
     "name": "stdout",
     "output_type": "stream",
     "text": [
      "joined =  hi! i am saket ranjan, and i am from bihar\n"
     ]
    }
   ],
   "source": [
    "#15. Join a list of words into a string.\n",
    "sr = \", and i am from bihar\"\n",
    "print(\"joined = \",\"\".join([example,sr]))"
   ]
  },
  {
   "cell_type": "code",
   "execution_count": 54,
   "id": "717766a2-1aff-4359-8100-b81da25abbf3",
   "metadata": {},
   "outputs": [
    {
     "name": "stdout",
     "output_type": "stream",
     "text": [
      "hi!_i_am_saket_ranjan\n"
     ]
    }
   ],
   "source": [
    "#16. Convert a string where words are separated by spaces to one where words are separated by underscores.\n",
    "str = example.replace(\" \",\"_\")\n",
    "print(str)\n"
   ]
  },
  {
   "cell_type": "code",
   "execution_count": 55,
   "id": "0cf013f3-05fe-46fe-b160-dcc8f75c2925",
   "metadata": {},
   "outputs": [
    {
     "name": "stdout",
     "output_type": "stream",
     "text": [
      "True\n"
     ]
    }
   ],
   "source": [
    "#17. Check if a string starts with a specific word or phrase\n",
    "str1 = example.startswith(\"hi\")\n",
    "print(str1)"
   ]
  },
  {
   "cell_type": "code",
   "execution_count": 56,
   "id": "03a99df1-9604-4af5-925a-ec6cc22d9be1",
   "metadata": {},
   "outputs": [
    {
     "name": "stdout",
     "output_type": "stream",
     "text": [
      "True\n"
     ]
    }
   ],
   "source": [
    "#18. Check if a string ends with a specific word or phrase.\n",
    "str2 = example.endswith(\"ranjan\")\n",
    "print(str2)"
   ]
  },
  {
   "cell_type": "code",
   "execution_count": 57,
   "id": "d2cab5dd-1bac-44fe-af9b-fbceb76494b5",
   "metadata": {},
   "outputs": [
    {
     "name": "stdout",
     "output_type": "stream",
     "text": [
      "Hi! I Am Saket Ranjan\n"
     ]
    }
   ],
   "source": [
    "#19. Convert a string to title case (e.g., \"hello world\" to \"Hello World\").\n",
    "str3 = example.title()\n",
    "print(str3)"
   ]
  },
  {
   "cell_type": "code",
   "execution_count": 2,
   "id": "9c051eff-c013-4785-ad96-eaf39e511741",
   "metadata": {},
   "outputs": [
    {
     "name": "stdout",
     "output_type": "stream",
     "text": [
      "computer\n"
     ]
    }
   ],
   "source": [
    "#20. Find the longest word in a string.\n",
    "str = \"i am computer science student\"\n",
    "s = str.split(\" \")\n",
    "longest_word = max(s, key=len)\n",
    "print(longest_word)\n",
    "    \n"
   ]
  },
  {
   "cell_type": "code",
   "execution_count": 3,
   "id": "a3e6bb5c-9bc1-4801-8c74-f5ac8f20f891",
   "metadata": {},
   "outputs": [
    {
     "name": "stdout",
     "output_type": "stream",
     "text": [
      "i\n"
     ]
    }
   ],
   "source": [
    "#21. Find the shortest word in a string\n",
    "smallest_word =  min(s,key = len)\n",
    "print(smallest_word)"
   ]
  },
  {
   "cell_type": "code",
   "execution_count": 16,
   "id": "5f30f30d-69a0-4c1f-bf7e-3fd436075ae4",
   "metadata": {},
   "outputs": [
    {
     "name": "stdout",
     "output_type": "stream",
     "text": [
      "banglore from am i\n"
     ]
    }
   ],
   "source": [
    "#22. Reverse the order of words in a string.\n",
    "s = \"i am from banglore\"\n",
    "a = s.split()\n",
    "a.reverse()\n",
    "result = \" \".join(a)\n",
    "print(result)"
   ]
  },
  {
   "cell_type": "code",
   "execution_count": 19,
   "id": "30c1e81c-d760-4307-bf7d-d7a077389a96",
   "metadata": {},
   "outputs": [
    {
     "name": "stdout",
     "output_type": "stream",
     "text": [
      "True\n"
     ]
    }
   ],
   "source": [
    "#23. Check if a string is alphanumeric.\n",
    "s= \"saket123\"\n",
    "print(s.isalnum())"
   ]
  },
  {
   "cell_type": "code",
   "execution_count": 23,
   "id": "beebbbca-ff55-4b70-ab35-d0b86f1c7957",
   "metadata": {},
   "outputs": [
    {
     "name": "stdout",
     "output_type": "stream",
     "text": [
      "1\n",
      "2\n",
      "3\n"
     ]
    }
   ],
   "source": [
    "#24. Extract all digits from a string.\n",
    "s = \"saket123 Hello\"\n",
    "for n in s:\n",
    "    if(n.isdigit()):\n",
    "        print(n)\n",
    "  "
   ]
  },
  {
   "cell_type": "code",
   "execution_count": 25,
   "id": "f163aac6-ccdc-4a19-ae7a-1698999cf0a3",
   "metadata": {},
   "outputs": [
    {
     "name": "stdout",
     "output_type": "stream",
     "text": [
      "s\n",
      "a\n",
      "k\n",
      "e\n",
      "t\n",
      "H\n",
      "e\n",
      "l\n",
      "l\n",
      "o\n"
     ]
    }
   ],
   "source": [
    "#25. Extract all alphabets from a string.\n",
    "for n in s:\n",
    "    if(n.isalpha()):\n",
    "        print(n)"
   ]
  },
  {
   "cell_type": "code",
   "execution_count": 27,
   "id": "584f4962-c675-4af2-81eb-f7284464b98b",
   "metadata": {},
   "outputs": [
    {
     "name": "stdout",
     "output_type": "stream",
     "text": [
      "6\n"
     ]
    }
   ],
   "source": [
    "#26. Count the number of uppercase letters in a string.\n",
    "s = \"Hi, i am from INDIA\"\n",
    "count = 0\n",
    "for n in s:\n",
    "    if(n.isupper()):\n",
    "        count = count+1;\n",
    "print(count)"
   ]
  },
  {
   "cell_type": "code",
   "execution_count": 28,
   "id": "9b524ed6-9de4-4f3b-a8c8-16fcf9c24797",
   "metadata": {},
   "outputs": [
    {
     "name": "stdout",
     "output_type": "stream",
     "text": [
      "8\n"
     ]
    }
   ],
   "source": [
    "#27. Count the number of lowercase letters in a string.\n",
    "count = 0\n",
    "for n in s:\n",
    "    if(n.islower()):\n",
    "        count = count+1;\n",
    "print(count)"
   ]
  },
  {
   "cell_type": "code",
   "execution_count": 30,
   "id": "b3964702-3d4b-4422-9166-acc5f2c07477",
   "metadata": {},
   "outputs": [
    {
     "name": "stdout",
     "output_type": "stream",
     "text": [
      "hI, I AM FROM india\n"
     ]
    }
   ],
   "source": [
    "#28. Swap the case of each character in a string.\n",
    "s = \"Hi, i am from INDIA\"\n",
    "s1 = s.swapcase()\n",
    "print(s1)"
   ]
  },
  {
   "cell_type": "code",
   "execution_count": 32,
   "id": "09f3ff85-0d1b-486a-85b2-9ff3b2411c56",
   "metadata": {},
   "outputs": [
    {
     "name": "stdout",
     "output_type": "stream",
     "text": [
      "Hi, i am  INDIA\n"
     ]
    }
   ],
   "source": [
    "#29. Remove a specific word from a string.\n",
    "s1 = s.replace(\"from\",\"\")\n",
    "print(s1)"
   ]
  },
  {
   "cell_type": "code",
   "execution_count": 37,
   "id": "53a7ae57-2e55-4817-b39e-ba044ad993f5",
   "metadata": {},
   "outputs": [
    {
     "name": "stdout",
     "output_type": "stream",
     "text": [
      "True\n",
      "False\n"
     ]
    }
   ],
   "source": [
    "#30. Check if a string is a valid email address.\n",
    "import re \n",
    "\n",
    "def is_valid_email(email):\n",
    "    pattern = r'^[\\w\\.-]+@[\\w\\.-]+\\.\\w+$' \n",
    "    if re.match(pattern, email):\n",
    "        return True\n",
    "    else:\n",
    "        return False\n",
    "email1 = \"saketranjan@email.com\"\n",
    "email2 = \"isinvalid@email\"\n",
    "result1 = is_valid_email(email1)\n",
    "result2 = is_valid_email(email2)\n",
    "print(result1)\n",
    "print(result2)"
   ]
  },
  {
   "cell_type": "code",
   "execution_count": 38,
   "id": "ebdb3ddb-f9dc-47d1-9c68-0be509f9fd30",
   "metadata": {},
   "outputs": [
    {
     "name": "stdout",
     "output_type": "stream",
     "text": [
      "saketranjan\n"
     ]
    }
   ],
   "source": [
    "#31. Extract the username from an email address string.\n",
    "email = \"saketranjan@gmail.com\"\n",
    "res = email.split(\"@\")\n",
    "print(res[0])"
   ]
  },
  {
   "cell_type": "code",
   "execution_count": 39,
   "id": "3531878a-2787-4af0-b092-e0c70ba99ffb",
   "metadata": {},
   "outputs": [
    {
     "name": "stdout",
     "output_type": "stream",
     "text": [
      "gmail.com\n"
     ]
    }
   ],
   "source": [
    "#32. Extract the domain name from an email address string.\n",
    "print(res[1])"
   ]
  },
  {
   "cell_type": "code",
   "execution_count": 43,
   "id": "04679065-25b6-4fe3-8f3f-18a998b9e55a",
   "metadata": {},
   "outputs": [
    {
     "name": "stdout",
     "output_type": "stream",
     "text": [
      "saket ranjan chaubey\n"
     ]
    }
   ],
   "source": [
    "#33. Replace multiple spaces in a string with a single space.\n",
    "str =\"saket     ranjan       chaubey\"\n",
    "s = str.split()\n",
    "s1 = \" \".join(s)\n",
    "print(s1)"
   ]
  },
  {
   "cell_type": "code",
   "execution_count": 44,
   "id": "02733dcd-e03d-48dd-87f9-9acc47330bf2",
   "metadata": {},
   "outputs": [
    {
     "name": "stdout",
     "output_type": "stream",
     "text": [
      "True\n",
      "False\n"
     ]
    }
   ],
   "source": [
    "#34. Check if a string is a valid URL.\n",
    "from urllib.parse import urlparse\n",
    "\n",
    "def is_valid_url(url):\n",
    "    try:\n",
    "        result = urlparse(url)\n",
    "        return all([result.scheme, result.netloc]) \n",
    "    except ValueError:\n",
    "        return False\n",
    "url1 = \"https://www.google.com\"\n",
    "url2 = \"isnvalid.url\"\n",
    "result1 = is_valid_url(url1)\n",
    "result2 = is_valid_url(url2)\n",
    "print(result1)  \n",
    "print(result2)  "
   ]
  },
  {
   "cell_type": "code",
   "execution_count": 46,
   "id": "15884e92-bcee-40b6-9be7-d80a75d05dc5",
   "metadata": {},
   "outputs": [
    {
     "name": "stdout",
     "output_type": "stream",
     "text": [
      "https\n"
     ]
    }
   ],
   "source": [
    "#35. Extract the protocol (http or https) from a URL string.\n",
    "s= \"https://www.google.com\"\n",
    "s1 = s.split(\"://\")\n",
    "print(s1[0])"
   ]
  },
  {
   "cell_type": "code",
   "execution_count": 50,
   "id": "7bd6856f-30dc-45df-bd9e-b73140aaabb1",
   "metadata": {},
   "outputs": [
    {
     "name": "stdout",
     "output_type": "stream",
     "text": [
      "Character 'h' appears 1 times.\n",
      "Character 'e' appears 3 times.\n",
      "Character 'l' appears 3 times.\n",
      "Character 'o' appears 2 times.\n",
      "Character ' ' appears 1 times.\n",
      "Character 'p' appears 2 times.\n"
     ]
    }
   ],
   "source": [
    "#36. Find the frequency of each character in a string.\n",
    "def character_frequency(input_string):\n",
    "    frequency_dict = {}\n",
    "    for char in input_string:\n",
    "        frequency_dict[char] = frequency_dict.get(char, 0) + 1\n",
    "\n",
    "    return frequency_dict\n",
    "    \n",
    "test_string = \"hello people\"\n",
    "result = character_frequency(test_string)\n",
    "\n",
    "for char, frequency in result.items():\n",
    "    print(f\"Character '{char}' appears {frequency} times.\")\n",
    "\n"
   ]
  },
  {
   "cell_type": "code",
   "execution_count": 57,
   "id": "189fbd15-9b61-4eb5-abfe-3028ef4cc3b2",
   "metadata": {},
   "outputs": [
    {
     "name": "stdout",
     "output_type": "stream",
     "text": [
      "Original string: Hello, world! How's it going?\n",
      "Cleaned string: Hello world Hows it going\n"
     ]
    }
   ],
   "source": [
    "#37. Remove all punctuation from a string.\n",
    "import string\n",
    "\n",
    "def remove_punctuation(input_string):\n",
    "    translator = str.maketrans(\"\", \"\", string.punctuation)\n",
    "    clean_string = input_string.translate(translator)\n",
    "\n",
    "    return clean_string\n",
    "\n",
    "input_str = \"Hello, world! How's it going?\"\n",
    "\n",
    "new_str = remove_punctuation(input_str)\n",
    "\n",
    "print(\"Original string:\", input_str)\n",
    "print(\"Cleaned string:\", new_str)"
   ]
  },
  {
   "cell_type": "code",
   "execution_count": 62,
   "id": "452dcbd8-03d1-48dd-80af-68dbfd2cf53e",
   "metadata": {},
   "outputs": [
    {
     "name": "stdout",
     "output_type": "stream",
     "text": [
      "'12334'  conatins only digit: True\n",
      "'123334saket' conatins only digit: False\n"
     ]
    }
   ],
   "source": [
    "#38. Check if a string contains only digits\n",
    "s = \"12334\"\n",
    "print(f\"'12334'  conatins only digit: {s.isdigit()}\")\n",
    "s1 = \"12334saket\"\n",
    "print(f\"'123334saket' conatins only digit: {s1.isdigit()}\")"
   ]
  },
  {
   "cell_type": "code",
   "execution_count": 63,
   "id": "ec670c50-3199-44ef-84da-f2c2d171e4a2",
   "metadata": {},
   "outputs": [
    {
     "name": "stdout",
     "output_type": "stream",
     "text": [
      "'saket' conatins only digit: True\n",
      "'123334saket' conatins only digit: False\n"
     ]
    }
   ],
   "source": [
    "#39. Check if a string contains only alphabets\n",
    "s = \"saket\"\n",
    "print(f\"'saket' conatins only digit: {s.isalpha()}\")\n",
    "s1 = \"12334saket\"\n",
    "print(f\"'123334saket' conatins only digit: {s1.isalpha()}\")"
   ]
  },
  {
   "cell_type": "code",
   "execution_count": 64,
   "id": "ae12ee9c-5c10-4e93-ba43-34776a3e625a",
   "metadata": {},
   "outputs": [
    {
     "name": "stdout",
     "output_type": "stream",
     "text": [
      "['s', 'a', 'k', 'e', 't', ' ', 'i', 's', ' ', 'b', 'u', 's', 'y', ' ', 'n', 'o', 'w']\n"
     ]
    }
   ],
   "source": [
    "#40. Convert a string to a list of characters.\n",
    "str = \"saket is busy now\"\n",
    "l = list(str)\n",
    "print(l)"
   ]
  },
  {
   "cell_type": "code",
   "execution_count": 69,
   "id": "f56e3ab1-aa02-48e1-9104-c7b06e26e716",
   "metadata": {},
   "outputs": [
    {
     "name": "stdout",
     "output_type": "stream",
     "text": [
      "both strings are anagram: True\n",
      "both strings are anagram: False\n"
     ]
    }
   ],
   "source": [
    "#41. Check if two strings are anagrams.\n",
    "s =\"saket\"\n",
    "s1 = \"tesak\"\n",
    "s_sorted = sorted(s)\n",
    "s1_sorted = sorted(s1)\n",
    "print(f\"both strings are anagram: {s_sorted==s1_sorted}\")\n",
    "s =\"saket\"\n",
    "s1 = \"tesaka\"\n",
    "s_sorted = sorted(s)\n",
    "s1_sorted = sorted(s1)\n",
    "print(f\"both strings are anagram: {s_sorted==s1_sorted}\")\n",
    "    "
   ]
  },
  {
   "cell_type": "code",
   "execution_count": 78,
   "id": "11d228f1-e342-4bd3-8ad7-49151b0d4fa4",
   "metadata": {},
   "outputs": [
    {
     "name": "stdout",
     "output_type": "stream",
     "text": [
      "Original text: Hello, World!\n",
      "Encoded text: Khoor, Zruog!\n"
     ]
    }
   ],
   "source": [
    "#42. Encode a string using a Caesar cipher\n",
    "def caesar_cipher_encode(input_string, shift):\n",
    "    encoded_string = \"\"\n",
    "\n",
    "    for char in input_string:\n",
    "        if char.isalpha():\n",
    "            is_upper = char.isupper()\n",
    "            shifted_char = chr((ord(char) - ord('A' if is_upper else 'a') + shift) % 26 + ord('A' if is_upper else 'a'))\n",
    "            encoded_string += shifted_char\n",
    "        else:\n",
    "            encoded_string += char\n",
    "\n",
    "    return encoded_string\n",
    "plaintext = \"Hello, World!\"\n",
    "shift_amount = 3\n",
    "encoded_text = caesar_cipher_encode(plaintext, shift_amount)\n",
    "print(f\"Original text: {plaintext}\")\n",
    "print(f\"Encoded text: {encoded_text}\")\n"
   ]
  },
  {
   "cell_type": "code",
   "execution_count": 86,
   "id": "9a15b0e0-ac97-4401-975f-27415ebfe859",
   "metadata": {},
   "outputs": [
    {
     "name": "stdout",
     "output_type": "stream",
     "text": [
      "Encoded text: Khoor, Zruog!\n",
      "Decoded text: Hello, World!\n"
     ]
    }
   ],
   "source": [
    "#43. Decode a Caesar cipher encoded string.\n",
    "def caesar_cipher_decode(encoded_string, shift):\n",
    "    decoded_string = \"\"\n",
    "\n",
    "    for char in encoded_string:\n",
    "        if char.isalpha():\n",
    "            is_upper = char.isupper()\n",
    "            decoded_char = chr((ord(char) - ord('A' if is_upper else 'a') - shift) % 26 + ord('A' if is_upper else 'a'))\n",
    "            decoded_string += decoded_char\n",
    "        else:\n",
    "            decoded_string += char\n",
    "\n",
    "    return decoded_string\n",
    "encoded_text = \"Khoor, Zruog!\"\n",
    "shift_amount = 3\n",
    "decoded_text = caesar_cipher_decode(encoded_text, shift_amount)\n",
    "\n",
    "print(f\"Encoded text: {encoded_text}\")\n",
    "print(f\"Decoded text: {decoded_text}\")\n"
   ]
  },
  {
   "cell_type": "code",
   "execution_count": 91,
   "id": "67a0bdf2-3d52-48ba-94be-8cefe57b6410",
   "metadata": {},
   "outputs": [
    {
     "name": "stdout",
     "output_type": "stream",
     "text": [
      "The most frequent word is 'sample' with a frequency of 2.\n"
     ]
    }
   ],
   "source": [
    "#44. Find the most frequent word in a string.\n",
    "from collections import Counter\n",
    "\n",
    "def most_frequent_word(input_string):\n",
    "    words = input_string.split()\n",
    "    word_frequency = Counter(words)\n",
    "    most_common_word, frequency = word_frequency.most_common(1)[0]\n",
    "    return most_common_word, frequency\n",
    "\n",
    "input_string = \"This is a sample string. The sample has some words, and some words repeat.\"\n",
    "most_common, frequency = most_frequent_word(input_string)\n",
    "\n",
    "print(f\"The most frequent word is '{most_common}' with a frequency of {frequency}.\")\n"
   ]
  },
  {
   "cell_type": "code",
   "execution_count": 94,
   "id": "790da232-0ca5-46ad-952f-b9bf2d4c18f3",
   "metadata": {},
   "outputs": [
    {
     "name": "stdout",
     "output_type": "stream",
     "text": [
      "Unique words in the string:\n",
      "This\n",
      "is\n",
      "some\n",
      "repeat.\n",
      "words\n",
      "has\n",
      "string.\n",
      "and\n",
      "sample\n",
      "words,\n",
      "a\n",
      "The\n"
     ]
    }
   ],
   "source": [
    "#45. Find all unique words in a string.\n",
    "def unique_words(input_string):\n",
    "    words = input_string.split()\n",
    "    unique_word_set = set(words)\n",
    "    return unique_word_set\n",
    "\n",
    "input_string = \"This is a sample string. The sample has some words, and some words repeat.\"\n",
    "unique_words_set = unique_words(input_string)\n",
    "\n",
    "print(\"Unique words in the string:\")\n",
    "for word in unique_words_set:\n",
    "    print(word)\n"
   ]
  },
  {
   "cell_type": "code",
   "execution_count": 99,
   "id": "50319abc-e2cd-4194-ab16-86d5311cbcdf",
   "metadata": {},
   "outputs": [
    {
     "name": "stdout",
     "output_type": "stream",
     "text": [
      "The total number of syllables in the string is: 19\n"
     ]
    }
   ],
   "source": [
    "#46. Count the number of syllables in a string.\n",
    "def count_syllables(word):\n",
    "    vowels = \"aeiouAEIOU\"\n",
    "    count = 0\n",
    "    in_syllable = False\n",
    "    for char in word:\n",
    "        if char in vowels:\n",
    "            if not in_syllable:\n",
    "                count += 1\n",
    "                in_syllable = True\n",
    "        else:\n",
    "            in_syllable = False\n",
    "\n",
    "    return count\n",
    "\n",
    "def total_syllables(input_string):\n",
    "    words = input_string.split()\n",
    "    total_syllable_count = sum(count_syllables(word) for word in words)\n",
    "    return total_syllable_count\n",
    "input_string = \"This is a sample sentence. The number of syllables varies in each word.\"\n",
    "syllable_count = total_syllables(input_string)\n",
    "\n",
    "print(f\"The total number of syllables in the string is: {syllable_count}\")\n"
   ]
  },
  {
   "cell_type": "code",
   "execution_count": 104,
   "id": "371be6d3-374b-4e50-9504-0c82b0c3056c",
   "metadata": {},
   "outputs": [
    {
     "name": "stdout",
     "output_type": "stream",
     "text": [
      "The string contains special characters.\n"
     ]
    }
   ],
   "source": [
    "#47. Check if a string contains any special characters.\n",
    "def has_special_characters(input_string):\n",
    "    alphanumeric_characters = set(\"abcdefghijklmnopqrstuvwxyzABCDEFGHIJKLMNOPQRSTUVWXYZ0123456789\")\n",
    "    for char in input_string:\n",
    "        if char not in alphanumeric_characters:\n",
    "            return True  \n",
    "    return False \n",
    "test_string = \"Hello123*\"\n",
    "result = has_special_characters(test_string)\n",
    "\n",
    "if result:\n",
    "    print(\"The string contains special characters.\")\n",
    "else:\n",
    "    print(\"The string does not contain special characters.\")\n"
   ]
  },
  {
   "cell_type": "code",
   "execution_count": 107,
   "id": "cfd264af-31d4-483e-99f6-052c2a7d9a49",
   "metadata": {},
   "outputs": [
    {
     "name": "stdout",
     "output_type": "stream",
     "text": [
      "Original string: This is a sample sentence. The nth word will be removed.\n",
      "String after removing the 5th word: This is a sample The nth word will be removed.\n"
     ]
    }
   ],
   "source": [
    "#48. Remove the nth word from a string.\n",
    "def remove_nth_word(input_string, n):\n",
    "    words = input_string.split()\n",
    "    if 1 <= n <= len(words):\n",
    "        del words[n - 1]\n",
    "        result_string = ' '.join(words)\n",
    "        return result_string\n",
    "    else:\n",
    "        return input_string\n",
    "original_string = \"This is a sample sentence. The nth word will be removed.\"\n",
    "index_to_remove = 5\n",
    "result = remove_nth_word(original_string, index_to_remove)\n",
    "\n",
    "print(f\"Original string: {original_string}\")\n",
    "print(f\"String after removing the {index_to_remove}th word: {result}\")\n"
   ]
  },
  {
   "cell_type": "code",
   "execution_count": 116,
   "id": "ef56bb5f-713b-4dbd-8e0e-9168dc343273",
   "metadata": {},
   "outputs": [
    {
     "name": "stdout",
     "output_type": "stream",
     "text": [
      "Original string: This is a sample sentence. A new word will be inserted.\n",
      "String after inserting 'awesome' at the 4th position: This is a awesome sample sentence. A new word will be inserted.\n"
     ]
    }
   ],
   "source": [
    "#49. Insert a word at the nth position in a string.\n",
    "def insert_word_at_nth_position(input_string, n, new_word):\n",
    "    words = input_string.split()\n",
    "    if 1 <= n <= len(words) + 1:\n",
    "        words.insert(n - 1, new_word)\n",
    "        result_string = ' '.join(words)\n",
    "        return result_string\n",
    "    else:\n",
    "        return input_string\n",
    "original_string = \"This is a sample sentence. A new word will be inserted.\"\n",
    "index_to_insert = 4\n",
    "new_word_to_insert = \"awesome\"\n",
    "result = insert_word_at_nth_position(original_string, index_to_insert, new_word_to_insert)\n",
    "\n",
    "print(f\"Original string: {original_string}\")\n",
    "print(f\"String after inserting '{new_word_to_insert}' at the {index_to_insert}th position: {result}\")\n"
   ]
  },
  {
   "cell_type": "code",
   "execution_count": 126,
   "id": "eaf3535d-5b3d-46f1-a6d6-6fc0bf046b19",
   "metadata": {},
   "outputs": [
    {
     "name": "stdout",
     "output_type": "stream",
     "text": [
      "['Name', 'Age', 'Occupation']\n",
      "['John', '30', 'Engineer']\n",
      "['Alice', '25', 'Doctor']\n",
      "['Bob', '40', 'Teacher']\n"
     ]
    }
   ],
   "source": [
    "#50. Convert a CSV string to a list of lists.\n",
    "def csv_string_to_list_of_lists(csv_string):\n",
    "    rows = csv_string.split('\\n')\n",
    "    rows = [row.strip() for row in rows if row.strip()]\n",
    "    result = [row.split(',') for row in rows]\n",
    "\n",
    "    return result\n",
    "csv_data = \"Name,Age,Occupation\\nJohn,30,Engineer\\nAlice,25,Doctor\\nBob,40,Teacher\"\n",
    "result_list_of_lists = csv_string_to_list_of_lists(csv_data)\n",
    "for row in result_list_of_lists:\n",
    "    print(row)\n"
   ]
  },
  {
   "cell_type": "code",
   "execution_count": 128,
   "id": "2d0b63bd-d8ad-4cfa-940e-52052729ba9a",
   "metadata": {},
   "outputs": [],
   "source": [
    "# LIST"
   ]
  },
  {
   "cell_type": "code",
   "execution_count": 16,
   "id": "ef759584-3f22-464e-a371-961f0e7c08b4",
   "metadata": {},
   "outputs": [
    {
     "name": "stdout",
     "output_type": "stream",
     "text": [
      "[1, 2, 3, 4, 5, 6, 7, 8, 9, 10]\n"
     ]
    }
   ],
   "source": [
    "#1. Create a list with integers from 1 to 10.\n",
    "a = [1,2,3,4,5,6,7,8,9,10]\n",
    "print(a)"
   ]
  },
  {
   "cell_type": "code",
   "execution_count": 17,
   "id": "ad13fb6e-ded0-404d-ac4f-490dd6519242",
   "metadata": {},
   "outputs": [
    {
     "name": "stdout",
     "output_type": "stream",
     "text": [
      "10\n"
     ]
    }
   ],
   "source": [
    "#2. Find the length of a list without using the `len()` function.\n",
    "count= 0;\n",
    "for n in a:\n",
    "    count= count+1;\n",
    "print(count)    "
   ]
  },
  {
   "cell_type": "code",
   "execution_count": 18,
   "id": "27ba66dc-15f5-4a2a-a78d-eae98e16c5ff",
   "metadata": {},
   "outputs": [
    {
     "name": "stdout",
     "output_type": "stream",
     "text": [
      "[1, 2, 3, 4, 5, 6, 7, 8, 9, 10, 11]\n"
     ]
    }
   ],
   "source": [
    "#3. Append an element to the end of a list.\n",
    "a.append(11)\n",
    "print(a)"
   ]
  },
  {
   "cell_type": "code",
   "execution_count": 19,
   "id": "2bcbc5ac-006b-41ae-8f85-0cec03fc4fa4",
   "metadata": {},
   "outputs": [
    {
     "name": "stdout",
     "output_type": "stream",
     "text": [
      "[1, 2, 3, 4, 100, 5, 6, 7, 8, 9, 10, 11]\n"
     ]
    }
   ],
   "source": [
    "#4. Insert an element at a specific index in a list.\n",
    "a.insert(4,100)\n",
    "print(a)"
   ]
  },
  {
   "cell_type": "code",
   "execution_count": 20,
   "id": "7377e80b-3d24-4537-a75c-7f9f586385a2",
   "metadata": {},
   "outputs": [
    {
     "name": "stdout",
     "output_type": "stream",
     "text": [
      "[2, 3, 4, 100, 5, 6, 7, 8, 9, 10, 11]\n"
     ]
    }
   ],
   "source": [
    "#5. Remove an element from a list by its value.\n",
    "a.remove(1)\n",
    "print(a)"
   ]
  },
  {
   "cell_type": "code",
   "execution_count": 23,
   "id": "79f74a86-d0d8-430d-af90-6a891fe03a48",
   "metadata": {},
   "outputs": [
    {
     "name": "stdout",
     "output_type": "stream",
     "text": [
      "[3, 4, 100, 5, 6, 7, 8, 9, 10, 11]\n"
     ]
    }
   ],
   "source": [
    "#6. Remove an element from a list by its index.\n",
    "del a[0]\n",
    "print(a)"
   ]
  },
  {
   "cell_type": "code",
   "execution_count": 25,
   "id": "2280c2a7-c6bb-49a9-a830-f623a9453d68",
   "metadata": {},
   "outputs": [
    {
     "name": "stdout",
     "output_type": "stream",
     "text": [
      "1\n",
      "0\n"
     ]
    }
   ],
   "source": [
    "#7. Check if an element exists in a list.\n",
    "print(a.count(3))\n",
    "print(a.count(2))"
   ]
  },
  {
   "cell_type": "code",
   "execution_count": 27,
   "id": "7afcea30-aab4-409f-85cd-d01ed925423a",
   "metadata": {},
   "outputs": [
    {
     "name": "stdout",
     "output_type": "stream",
     "text": [
      "1\n"
     ]
    }
   ],
   "source": [
    "#8. Find the index of the first occurrence of an element in a list.\n",
    "print(a.index(4))"
   ]
  },
  {
   "cell_type": "code",
   "execution_count": 28,
   "id": "77d22c68-f723-4782-ae44-0e2936b09515",
   "metadata": {},
   "outputs": [
    {
     "name": "stdout",
     "output_type": "stream",
     "text": [
      "5\n"
     ]
    }
   ],
   "source": [
    "#9. Count the occurrences of an element in a list.\n",
    "a = [ 1,1,2,3,4,2,3,4,4,4,4,6,7]\n",
    "print(a.count(4))"
   ]
  },
  {
   "cell_type": "code",
   "execution_count": 29,
   "id": "a2b41905-cb4c-40aa-bf18-8a41e631d1d4",
   "metadata": {},
   "outputs": [
    {
     "name": "stdout",
     "output_type": "stream",
     "text": [
      "[7, 6, 4, 4, 4, 4, 3, 2, 4, 3, 2, 1, 1]\n"
     ]
    }
   ],
   "source": [
    "#10. Reverse the order of elements in a list.\n",
    "print(a[::-1])"
   ]
  },
  {
   "cell_type": "code",
   "execution_count": 31,
   "id": "70180206-2989-48a4-8bbe-bec53355d2c4",
   "metadata": {},
   "outputs": [
    {
     "name": "stdout",
     "output_type": "stream",
     "text": [
      "[1, 1, 2, 2, 3, 3, 4, 4, 4, 4, 4, 6, 7]\n"
     ]
    }
   ],
   "source": [
    "#11. Sort a list in ascending order.\n",
    "a.sort()\n",
    "print(a)"
   ]
  },
  {
   "cell_type": "code",
   "execution_count": 32,
   "id": "42ccb194-b015-4948-a81c-005c2e30d43a",
   "metadata": {},
   "outputs": [
    {
     "name": "stdout",
     "output_type": "stream",
     "text": [
      "[7, 6, 4, 4, 4, 4, 4, 3, 3, 2, 2, 1, 1]\n"
     ]
    }
   ],
   "source": [
    "#12. Sort a list in descending order\n",
    "a.sort()\n",
    "print(a[::-1])"
   ]
  },
  {
   "cell_type": "code",
   "execution_count": null,
   "id": "b3f08601-ce69-4357-88ff-be7a0052878e",
   "metadata": {},
   "outputs": [],
   "source": []
  }
 ],
 "metadata": {
  "kernelspec": {
   "display_name": "Python 3 (ipykernel)",
   "language": "python",
   "name": "python3"
  },
  "language_info": {
   "codemirror_mode": {
    "name": "ipython",
    "version": 3
   },
   "file_extension": ".py",
   "mimetype": "text/x-python",
   "name": "python",
   "nbconvert_exporter": "python",
   "pygments_lexer": "ipython3",
   "version": "3.12.1"
  }
 },
 "nbformat": 4,
 "nbformat_minor": 5
}
