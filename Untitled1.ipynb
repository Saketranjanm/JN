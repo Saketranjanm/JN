{
 "cells": [
  {
   "cell_type": "code",
   "execution_count": 11,
   "id": "90e25876-a568-47d1-a648-2f9d0cb96425",
   "metadata": {},
   "outputs": [
    {
     "data": {
      "text/plain": [
       "[[7, 4, 1], [8, 5, 2], [9, 6, 3]]"
      ]
     },
     "execution_count": 11,
     "metadata": {},
     "output_type": "execute_result"
    }
   ],
   "source": [
    "def rotation(matrix):\n",
    "    \n",
    "    for i in range(len(matrix)):\n",
    "        for j in range(i+1,len(matrix)):\n",
    "            matrix[i][j],matrix[j][i]=matrix[j][i],matrix[i][j]\n",
    "    for i in range(len(matrix)):\n",
    "        matrix[i].reverse()\n",
    "    return matrix\n",
    "matrix=[[1,2,3],[4,5,6],[7,8,9]]\n",
    "rotation(matrix)"
   ]
  },
  {
   "cell_type": "code",
   "execution_count": null,
   "id": "b6bad055-833e-4281-9ebc-7e8673f99392",
   "metadata": {},
   "outputs": [],
   "source": []
  },
  {
   "cell_type": "code",
   "execution_count": null,
   "id": "68f35ff7-f04f-40e9-916b-18f30837c712",
   "metadata": {},
   "outputs": [],
   "source": []
  }
 ],
 "metadata": {
  "kernelspec": {
   "display_name": "Python 3 (ipykernel)",
   "language": "python",
   "name": "python3"
  },
  "language_info": {
   "codemirror_mode": {
    "name": "ipython",
    "version": 3
   },
   "file_extension": ".py",
   "mimetype": "text/x-python",
   "name": "python",
   "nbconvert_exporter": "python",
   "pygments_lexer": "ipython3",
   "version": "3.12.1"
  }
 },
 "nbformat": 4,
 "nbformat_minor": 5
}
