{
 "cells": [
  {
   "cell_type": "code",
   "execution_count": 19,
   "id": "95283341-a625-440d-90be-391f10b6eaff",
   "metadata": {},
   "outputs": [
    {
     "name": "stdout",
     "output_type": "stream",
     "text": [
      "1->2->3->4->"
     ]
    }
   ],
   "source": [
    "#defining LinkedList\n",
    "class Node:\n",
    "    #constructor part\n",
    "    def __init__(self,data=None,next=None):\n",
    "        self.data=data\n",
    "        self.next=next\n",
    "    #method to set data\n",
    "    def setData(self,data):\n",
    "        self.data=data\n",
    "    #method to get data\n",
    "    def getData(self):\n",
    "        return self.data\n",
    "    #method to set next\n",
    "    def setNext(self,next):\n",
    "        self.next=next\n",
    "    #method to get next\n",
    "    def getNext(self):\n",
    "        return self.next\n",
    "#creating a linked list\n",
    "head = Node(1)\n",
    "node2 = Node(2)\n",
    "node3 = Node(3)\n",
    "node4 = Node(4)\n",
    "#creating a linkage\n",
    "head.setNext(node2)\n",
    "node2.setNext(node3)\n",
    "node3.setNext(node4)\n",
    "#traversing  linked list\n",
    "def traverse(head):\n",
    "    temp = head\n",
    "    while(temp):\n",
    "        print(temp.getData(),end=\"->\")\n",
    "        temp = temp.getNext()\n",
    "    \n",
    "traverse(head)"
   ]
  },
  {
   "cell_type": "code",
   "execution_count": 20,
   "id": "906104fc-ac6d-42d0-be5d-0446c5003725",
   "metadata": {},
   "outputs": [
    {
     "name": "stdout",
     "output_type": "stream",
     "text": [
      "1->2->3->4->"
     ]
    }
   ],
   "source": [
    "#defining traverse recursively\n",
    "def traverseRec(node):\n",
    "    if not node:\n",
    "        return\n",
    "    print(node.getData(),end=\"->\")  \n",
    "    traverseRec(node.getNext())\n",
    "traverseRec(head)"
   ]
  },
  {
   "cell_type": "code",
   "execution_count": 38,
   "id": "b31484c9-6f0a-48f9-83c8-019b5cf43b91",
   "metadata": {},
   "outputs": [],
   "source": [
    "#length of linked list\n",
    "def length(head):\n",
    "    temp = head\n",
    "    len = 0\n",
    "    while(temp):\n",
    "        len+=1\n",
    "        temp = temp.getNext()\n",
    "    return len\n",
    "    "
   ]
  },
  {
   "cell_type": "code",
   "execution_count": 40,
   "id": "9f00ea6e-a102-458d-afac-0c1dde7e9186",
   "metadata": {},
   "outputs": [
    {
     "name": "stdout",
     "output_type": "stream",
     "text": [
      "1->2->3->4->\n",
      "6->1->2->3->8->4->9->\n"
     ]
    }
   ],
   "source": [
    "#insertion\n",
    "def insertNode(head,data,k):\n",
    "    if(k>length(head) or k<0):\n",
    "        print(\"Argument passed is not valid\")\n",
    "        return head\n",
    "    newNode = Node(data)\n",
    "    #insertion at beginning\n",
    "    if(k==0):\n",
    "        newNode.setNext(head)\n",
    "        head = newNode\n",
    "    #insertion at last and in between\n",
    "    else:\n",
    "        prev = head\n",
    "        i = 0\n",
    "        while(i<k-1):\n",
    "            prev= prev.getNext()\n",
    "            i+=1\n",
    "        newNode.setNext(prev.getNext())\n",
    "        prev.setNext(newNode)\n",
    "    return head\n",
    "head = Node(1)\n",
    "node2 = Node(2)\n",
    "node3 = Node(3)\n",
    "node4 = Node(4)\n",
    "#creating a linkage\n",
    "head.setNext(node2)\n",
    "node2.setNext(node3)\n",
    "node3.setNext(node4)\n",
    "traverse(head)\n",
    "print()\n",
    "#in between\n",
    "head = insertNode(head,8,3)\n",
    "#beginning\n",
    "head = insertNode(head,6,0)\n",
    "#last\n",
    "head = insertNode(head,9,6)\n",
    "traverse(head)\n",
    "print()\n"
   ]
  },
  {
   "cell_type": "code",
   "execution_count": null,
   "id": "e5db20ee-3ddd-4550-a492-db353bfe48b8",
   "metadata": {},
   "outputs": [],
   "source": []
  }
 ],
 "metadata": {
  "kernelspec": {
   "display_name": "Python 3 (ipykernel)",
   "language": "python",
   "name": "python3"
  },
  "language_info": {
   "codemirror_mode": {
    "name": "ipython",
    "version": 3
   },
   "file_extension": ".py",
   "mimetype": "text/x-python",
   "name": "python",
   "nbconvert_exporter": "python",
   "pygments_lexer": "ipython3",
   "version": "3.12.1"
  }
 },
 "nbformat": 4,
 "nbformat_minor": 5
}
