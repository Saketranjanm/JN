{
 "cells": [
  {
   "cell_type": "code",
   "execution_count": 1,
   "id": "9b6b6eb3-6283-4807-8559-2597adfb9395",
   "metadata": {},
   "outputs": [
    {
     "name": "stdout",
     "output_type": "stream",
     "text": [
      "Decision Tree:\n",
      "{'outlook': {'rainy': {'windy': {False: 'yes', True: 'no'}}, 'sunny': {'humidity': {'high': 'no', 'normal': 'yes'}}, 'overcast': 'yes'}}\n"
     ]
    }
   ],
   "source": [
    "import math\n",
    "from collections import Counter\n",
    "\n",
    "def entropy(data):\n",
    "    \"\"\" Calculate the entropy of a dataset \"\"\"\n",
    "    labels = [item['label'] for item in data]\n",
    "    label_counts = Counter(labels)\n",
    "    entropy = 0\n",
    "    total = len(data)\n",
    "    for count in label_counts.values():\n",
    "        probability = count / total\n",
    "        entropy -= probability * math.log2(probability)\n",
    "    return entropy\n",
    "\n",
    "def information_gain(data, attribute):\n",
    "    \"\"\" Calculate the information gain of an attribute in the dataset \"\"\"\n",
    "    values = set([item[attribute] for item in data])\n",
    "    remainder = 0\n",
    "    total = len(data)\n",
    "    \n",
    "    for value in values:\n",
    "        subset = [item for item in data if item[attribute] == value]\n",
    "        remainder += (len(subset) / total) * entropy(subset)\n",
    "        \n",
    "    return entropy(data) - remainder\n",
    "\n",
    "def id3(data, features, target_attribute):\n",
    "    \"\"\" ID3 algorithm to build a decision tree \"\"\"\n",
    "    labels = [item[target_attribute] for item in data]\n",
    "    if len(set(labels)) == 1:  # If all labels are the same, return a leaf node with that label\n",
    "        return labels[0]\n",
    "    \n",
    "    if len(features) == 0:  # If no more features to split on, return the most common label\n",
    "        return Counter(labels).most_common(1)[0][0]\n",
    "    \n",
    "    # Choose the best attribute to split on\n",
    "    best_attribute = max(features, key=lambda attribute: information_gain(data, attribute))\n",
    "    tree = {best_attribute: {}}\n",
    "    remaining_features = [f for f in features if f != best_attribute]\n",
    "    \n",
    "    # Split the dataset based on the best attribute\n",
    "    for value in set([item[best_attribute] for item in data]):\n",
    "        subset = [item for item in data if item[best_attribute] == value]\n",
    "        subtree = id3(subset, remaining_features, target_attribute)\n",
    "        tree[best_attribute][value] = subtree\n",
    "        \n",
    "    return tree\n",
    "\n",
    "# Example usage\n",
    "if __name__ == \"__main__\":\n",
    "    # Example dataset (weather outlook and whether to play golf)\n",
    "    data = [\n",
    "        {'outlook': 'sunny', 'temperature': 'hot', 'humidity': 'high', 'windy': False, 'label': 'no'},\n",
    "        {'outlook': 'sunny', 'temperature': 'hot', 'humidity': 'high', 'windy': True, 'label': 'no'},\n",
    "        {'outlook': 'overcast', 'temperature': 'hot', 'humidity': 'high', 'windy': False, 'label': 'yes'},\n",
    "        {'outlook': 'rainy', 'temperature': 'mild', 'humidity': 'high', 'windy': False, 'label': 'yes'},\n",
    "        {'outlook': 'rainy', 'temperature': 'cool', 'humidity': 'normal', 'windy': False, 'label': 'yes'},\n",
    "        {'outlook': 'rainy', 'temperature': 'cool', 'humidity': 'normal', 'windy': True, 'label': 'no'},\n",
    "        {'outlook': 'overcast', 'temperature': 'cool', 'humidity': 'normal', 'windy': True, 'label': 'yes'},\n",
    "        {'outlook': 'sunny', 'temperature': 'mild', 'humidity': 'high', 'windy': False, 'label': 'no'},\n",
    "        {'outlook': 'sunny', 'temperature': 'cool', 'humidity': 'normal', 'windy': False, 'label': 'yes'},\n",
    "        {'outlook': 'rainy', 'temperature': 'mild', 'humidity': 'normal', 'windy': False, 'label': 'yes'},\n",
    "        {'outlook': 'sunny', 'temperature': 'mild', 'humidity': 'normal', 'windy': True, 'label': 'yes'},\n",
    "        {'outlook': 'overcast', 'temperature': 'mild', 'humidity': 'high', 'windy': True, 'label': 'yes'},\n",
    "        {'outlook': 'overcast', 'temperature': 'hot', 'humidity': 'normal', 'windy': False, 'label': 'yes'},\n",
    "        {'outlook': 'rainy', 'temperature': 'mild', 'humidity': 'high', 'windy': True, 'label': 'no'}\n",
    "    ]\n",
    "\n",
    "    features = ['outlook', 'temperature', 'humidity', 'windy']\n",
    "    target_attribute = 'label'\n",
    "\n",
    "    decision_tree = id3(data, features, target_attribute)\n",
    "    print(\"Decision Tree:\")\n",
    "    print(decision_tree)\n"
   ]
  },
  {
   "cell_type": "code",
   "execution_count": null,
   "id": "9836afe9-6c11-401e-922a-b94eee576e5b",
   "metadata": {},
   "outputs": [],
   "source": []
  }
 ],
 "metadata": {
  "kernelspec": {
   "display_name": "Python 3 (ipykernel)",
   "language": "python",
   "name": "python3"
  },
  "language_info": {
   "codemirror_mode": {
    "name": "ipython",
    "version": 3
   },
   "file_extension": ".py",
   "mimetype": "text/x-python",
   "name": "python",
   "nbconvert_exporter": "python",
   "pygments_lexer": "ipython3",
   "version": "3.12.1"
  }
 },
 "nbformat": 4,
 "nbformat_minor": 5
}
