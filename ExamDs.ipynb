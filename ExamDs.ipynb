{
 "cells": [
  {
   "cell_type": "code",
   "execution_count": 2,
   "id": "6949cb12-1ff0-4c4b-a736-9066ada2523a",
   "metadata": {},
   "outputs": [],
   "source": [
    "# Task 1: Create array using NumPy, do four arithmetic operations, indexing of the array, slice the \n",
    "# array elements, broadcast the array.\n",
    "import numpy as np\n",
    "arr = np.array([1,2,3,4,5])"
   ]
  },
  {
   "cell_type": "code",
   "execution_count": 4,
   "id": "4a1d40b7-0dcb-4a2c-b95c-6a999de308db",
   "metadata": {},
   "outputs": [
    {
     "name": "stdout",
     "output_type": "stream",
     "text": [
      "arithmatic operations are : [4 5 6 7 8], [-1  0  1  2  3], [ 2  4  6  8 10], [0.5 1.  1.5 2.  2.5]\n",
      "index elements are : 1 and 5\n",
      "sliced array are: [3 4 5]\n",
      "broadcasted array is: [11 12 13 14 15]\n"
     ]
    }
   ],
   "source": [
    "arr_add = arr +3\n",
    "arr_sub = arr -2\n",
    "arr_mul = arr * 2\n",
    "arr_div = arr/2\n",
    "first_element = arr[0]\n",
    "last_element = arr[-1]\n",
    "sliced_arr = arr[2:5]\n",
    "broadcasted_array = arr + np.array([10])\n",
    "print(f\"arithmatic operations are : {arr_add}, {arr_sub}, {arr_mul}, {arr_div}\")\n",
    "print(f\"index elements are : {first_element} and {last_element}\")\n",
    "print(f\"sliced array are: {sliced_arr}\")\n",
    "print(f\"broadcasted array is: {broadcasted_array}\")"
   ]
  },
  {
   "cell_type": "code",
   "execution_count": 5,
   "id": "bf379dcd-b893-417a-8990-5c4106cde672",
   "metadata": {},
   "outputs": [
    {
     "name": "stderr",
     "output_type": "stream",
     "text": [
      "C:\\Users\\Saket Ranjan\\AppData\\Local\\Temp\\ipykernel_2392\\725070452.py:3: DeprecationWarning: \n",
      "Pyarrow will become a required dependency of pandas in the next major release of pandas (pandas 3.0),\n",
      "(to allow more performant data types, such as the Arrow string type, and better interoperability with other libraries)\n",
      "but was not found to be installed on your system.\n",
      "If this would cause problems for you,\n",
      "please provide us feedback at https://github.com/pandas-dev/pandas/issues/54466\n",
      "        \n",
      "  import pandas as pd\n"
     ]
    }
   ],
   "source": [
    "# Task 2: Analyzing data using Pandas: create a series of data, create DataFrame from CSV, filter \n",
    "# the DataFrame, sort them, show GroupBy operation, and then visualization of the results.\n",
    "import pandas as pd\n",
    "import matplotlib.pyplot as plt\n",
    "series = pd.Series([1,2,3,4,5])"
   ]
  },
  {
   "cell_type": "code",
   "execution_count": 6,
   "id": "78367d83-c2d6-48a2-9004-20ec2ddc5f57",
   "metadata": {},
   "outputs": [
    {
     "data": {
      "text/plain": [
       "0    1\n",
       "1    2\n",
       "2    3\n",
       "3    4\n",
       "4    5\n",
       "dtype: int64"
      ]
     },
     "execution_count": 6,
     "metadata": {},
     "output_type": "execute_result"
    }
   ],
   "source": [
    "series\n"
   ]
  },
  {
   "cell_type": "code",
   "execution_count": 9,
   "id": "cc891c42-49e4-44be-aa1b-19ec8debc414",
   "metadata": {},
   "outputs": [],
   "source": [
    "df = pd.read_csv(\"height-weight.csv\")"
   ]
  },
  {
   "cell_type": "code",
   "execution_count": 10,
   "id": "db0ba99d-c876-4f94-a7bb-a232376c76fa",
   "metadata": {},
   "outputs": [
    {
     "data": {
      "text/html": [
       "<div>\n",
       "<style scoped>\n",
       "    .dataframe tbody tr th:only-of-type {\n",
       "        vertical-align: middle;\n",
       "    }\n",
       "\n",
       "    .dataframe tbody tr th {\n",
       "        vertical-align: top;\n",
       "    }\n",
       "\n",
       "    .dataframe thead th {\n",
       "        text-align: right;\n",
       "    }\n",
       "</style>\n",
       "<table border=\"1\" class=\"dataframe\">\n",
       "  <thead>\n",
       "    <tr style=\"text-align: right;\">\n",
       "      <th></th>\n",
       "      <th>Weight</th>\n",
       "      <th>Height</th>\n",
       "    </tr>\n",
       "  </thead>\n",
       "  <tbody>\n",
       "    <tr>\n",
       "      <th>0</th>\n",
       "      <td>45</td>\n",
       "      <td>120</td>\n",
       "    </tr>\n",
       "    <tr>\n",
       "      <th>1</th>\n",
       "      <td>58</td>\n",
       "      <td>135</td>\n",
       "    </tr>\n",
       "    <tr>\n",
       "      <th>2</th>\n",
       "      <td>48</td>\n",
       "      <td>123</td>\n",
       "    </tr>\n",
       "    <tr>\n",
       "      <th>3</th>\n",
       "      <td>60</td>\n",
       "      <td>145</td>\n",
       "    </tr>\n",
       "    <tr>\n",
       "      <th>4</th>\n",
       "      <td>70</td>\n",
       "      <td>160</td>\n",
       "    </tr>\n",
       "    <tr>\n",
       "      <th>5</th>\n",
       "      <td>78</td>\n",
       "      <td>162</td>\n",
       "    </tr>\n",
       "    <tr>\n",
       "      <th>6</th>\n",
       "      <td>80</td>\n",
       "      <td>163</td>\n",
       "    </tr>\n",
       "    <tr>\n",
       "      <th>7</th>\n",
       "      <td>90</td>\n",
       "      <td>175</td>\n",
       "    </tr>\n",
       "    <tr>\n",
       "      <th>8</th>\n",
       "      <td>95</td>\n",
       "      <td>182</td>\n",
       "    </tr>\n",
       "    <tr>\n",
       "      <th>9</th>\n",
       "      <td>78</td>\n",
       "      <td>170</td>\n",
       "    </tr>\n",
       "    <tr>\n",
       "      <th>10</th>\n",
       "      <td>82</td>\n",
       "      <td>176</td>\n",
       "    </tr>\n",
       "    <tr>\n",
       "      <th>11</th>\n",
       "      <td>95</td>\n",
       "      <td>182</td>\n",
       "    </tr>\n",
       "    <tr>\n",
       "      <th>12</th>\n",
       "      <td>105</td>\n",
       "      <td>175</td>\n",
       "    </tr>\n",
       "    <tr>\n",
       "      <th>13</th>\n",
       "      <td>100</td>\n",
       "      <td>183</td>\n",
       "    </tr>\n",
       "    <tr>\n",
       "      <th>14</th>\n",
       "      <td>85</td>\n",
       "      <td>170</td>\n",
       "    </tr>\n",
       "    <tr>\n",
       "      <th>15</th>\n",
       "      <td>78</td>\n",
       "      <td>177</td>\n",
       "    </tr>\n",
       "    <tr>\n",
       "      <th>16</th>\n",
       "      <td>50</td>\n",
       "      <td>140</td>\n",
       "    </tr>\n",
       "    <tr>\n",
       "      <th>17</th>\n",
       "      <td>65</td>\n",
       "      <td>159</td>\n",
       "    </tr>\n",
       "    <tr>\n",
       "      <th>18</th>\n",
       "      <td>76</td>\n",
       "      <td>150</td>\n",
       "    </tr>\n",
       "    <tr>\n",
       "      <th>19</th>\n",
       "      <td>87</td>\n",
       "      <td>167</td>\n",
       "    </tr>\n",
       "    <tr>\n",
       "      <th>20</th>\n",
       "      <td>45</td>\n",
       "      <td>129</td>\n",
       "    </tr>\n",
       "    <tr>\n",
       "      <th>21</th>\n",
       "      <td>56</td>\n",
       "      <td>140</td>\n",
       "    </tr>\n",
       "    <tr>\n",
       "      <th>22</th>\n",
       "      <td>72</td>\n",
       "      <td>160</td>\n",
       "    </tr>\n",
       "  </tbody>\n",
       "</table>\n",
       "</div>"
      ],
      "text/plain": [
       "    Weight  Height\n",
       "0       45     120\n",
       "1       58     135\n",
       "2       48     123\n",
       "3       60     145\n",
       "4       70     160\n",
       "5       78     162\n",
       "6       80     163\n",
       "7       90     175\n",
       "8       95     182\n",
       "9       78     170\n",
       "10      82     176\n",
       "11      95     182\n",
       "12     105     175\n",
       "13     100     183\n",
       "14      85     170\n",
       "15      78     177\n",
       "16      50     140\n",
       "17      65     159\n",
       "18      76     150\n",
       "19      87     167\n",
       "20      45     129\n",
       "21      56     140\n",
       "22      72     160"
      ]
     },
     "execution_count": 10,
     "metadata": {},
     "output_type": "execute_result"
    }
   ],
   "source": [
    "df"
   ]
  },
  {
   "cell_type": "code",
   "execution_count": 15,
   "id": "609f0465-2bc8-4971-8926-b4390c9852d0",
   "metadata": {},
   "outputs": [],
   "source": [
    "filtered_df = df[df['Weight']> 85]"
   ]
  },
  {
   "cell_type": "code",
   "execution_count": 16,
   "id": "6b2beb2f-c666-4f04-a8e7-1db1797e7be1",
   "metadata": {},
   "outputs": [
    {
     "data": {
      "text/html": [
       "<div>\n",
       "<style scoped>\n",
       "    .dataframe tbody tr th:only-of-type {\n",
       "        vertical-align: middle;\n",
       "    }\n",
       "\n",
       "    .dataframe tbody tr th {\n",
       "        vertical-align: top;\n",
       "    }\n",
       "\n",
       "    .dataframe thead th {\n",
       "        text-align: right;\n",
       "    }\n",
       "</style>\n",
       "<table border=\"1\" class=\"dataframe\">\n",
       "  <thead>\n",
       "    <tr style=\"text-align: right;\">\n",
       "      <th></th>\n",
       "      <th>Weight</th>\n",
       "      <th>Height</th>\n",
       "    </tr>\n",
       "  </thead>\n",
       "  <tbody>\n",
       "    <tr>\n",
       "      <th>7</th>\n",
       "      <td>90</td>\n",
       "      <td>175</td>\n",
       "    </tr>\n",
       "    <tr>\n",
       "      <th>8</th>\n",
       "      <td>95</td>\n",
       "      <td>182</td>\n",
       "    </tr>\n",
       "    <tr>\n",
       "      <th>11</th>\n",
       "      <td>95</td>\n",
       "      <td>182</td>\n",
       "    </tr>\n",
       "    <tr>\n",
       "      <th>12</th>\n",
       "      <td>105</td>\n",
       "      <td>175</td>\n",
       "    </tr>\n",
       "    <tr>\n",
       "      <th>13</th>\n",
       "      <td>100</td>\n",
       "      <td>183</td>\n",
       "    </tr>\n",
       "    <tr>\n",
       "      <th>19</th>\n",
       "      <td>87</td>\n",
       "      <td>167</td>\n",
       "    </tr>\n",
       "  </tbody>\n",
       "</table>\n",
       "</div>"
      ],
      "text/plain": [
       "    Weight  Height\n",
       "7       90     175\n",
       "8       95     182\n",
       "11      95     182\n",
       "12     105     175\n",
       "13     100     183\n",
       "19      87     167"
      ]
     },
     "execution_count": 16,
     "metadata": {},
     "output_type": "execute_result"
    }
   ],
   "source": [
    "filtered_df"
   ]
  },
  {
   "cell_type": "code",
   "execution_count": 21,
   "id": "aee4a555-0e61-42f3-bdfa-6d1b3436a0e4",
   "metadata": {},
   "outputs": [],
   "source": [
    "sorted_df = df.sort_values(by='Weight')"
   ]
  },
  {
   "cell_type": "code",
   "execution_count": 22,
   "id": "088942a8-81d3-47a5-a61f-d5bb5eeee377",
   "metadata": {},
   "outputs": [
    {
     "data": {
      "text/html": [
       "<div>\n",
       "<style scoped>\n",
       "    .dataframe tbody tr th:only-of-type {\n",
       "        vertical-align: middle;\n",
       "    }\n",
       "\n",
       "    .dataframe tbody tr th {\n",
       "        vertical-align: top;\n",
       "    }\n",
       "\n",
       "    .dataframe thead th {\n",
       "        text-align: right;\n",
       "    }\n",
       "</style>\n",
       "<table border=\"1\" class=\"dataframe\">\n",
       "  <thead>\n",
       "    <tr style=\"text-align: right;\">\n",
       "      <th></th>\n",
       "      <th>Weight</th>\n",
       "      <th>Height</th>\n",
       "    </tr>\n",
       "  </thead>\n",
       "  <tbody>\n",
       "    <tr>\n",
       "      <th>0</th>\n",
       "      <td>45</td>\n",
       "      <td>120</td>\n",
       "    </tr>\n",
       "    <tr>\n",
       "      <th>20</th>\n",
       "      <td>45</td>\n",
       "      <td>129</td>\n",
       "    </tr>\n",
       "    <tr>\n",
       "      <th>2</th>\n",
       "      <td>48</td>\n",
       "      <td>123</td>\n",
       "    </tr>\n",
       "    <tr>\n",
       "      <th>16</th>\n",
       "      <td>50</td>\n",
       "      <td>140</td>\n",
       "    </tr>\n",
       "    <tr>\n",
       "      <th>21</th>\n",
       "      <td>56</td>\n",
       "      <td>140</td>\n",
       "    </tr>\n",
       "    <tr>\n",
       "      <th>1</th>\n",
       "      <td>58</td>\n",
       "      <td>135</td>\n",
       "    </tr>\n",
       "    <tr>\n",
       "      <th>3</th>\n",
       "      <td>60</td>\n",
       "      <td>145</td>\n",
       "    </tr>\n",
       "    <tr>\n",
       "      <th>17</th>\n",
       "      <td>65</td>\n",
       "      <td>159</td>\n",
       "    </tr>\n",
       "    <tr>\n",
       "      <th>4</th>\n",
       "      <td>70</td>\n",
       "      <td>160</td>\n",
       "    </tr>\n",
       "    <tr>\n",
       "      <th>22</th>\n",
       "      <td>72</td>\n",
       "      <td>160</td>\n",
       "    </tr>\n",
       "    <tr>\n",
       "      <th>18</th>\n",
       "      <td>76</td>\n",
       "      <td>150</td>\n",
       "    </tr>\n",
       "    <tr>\n",
       "      <th>15</th>\n",
       "      <td>78</td>\n",
       "      <td>177</td>\n",
       "    </tr>\n",
       "    <tr>\n",
       "      <th>5</th>\n",
       "      <td>78</td>\n",
       "      <td>162</td>\n",
       "    </tr>\n",
       "    <tr>\n",
       "      <th>9</th>\n",
       "      <td>78</td>\n",
       "      <td>170</td>\n",
       "    </tr>\n",
       "    <tr>\n",
       "      <th>6</th>\n",
       "      <td>80</td>\n",
       "      <td>163</td>\n",
       "    </tr>\n",
       "    <tr>\n",
       "      <th>10</th>\n",
       "      <td>82</td>\n",
       "      <td>176</td>\n",
       "    </tr>\n",
       "    <tr>\n",
       "      <th>14</th>\n",
       "      <td>85</td>\n",
       "      <td>170</td>\n",
       "    </tr>\n",
       "    <tr>\n",
       "      <th>19</th>\n",
       "      <td>87</td>\n",
       "      <td>167</td>\n",
       "    </tr>\n",
       "    <tr>\n",
       "      <th>7</th>\n",
       "      <td>90</td>\n",
       "      <td>175</td>\n",
       "    </tr>\n",
       "    <tr>\n",
       "      <th>8</th>\n",
       "      <td>95</td>\n",
       "      <td>182</td>\n",
       "    </tr>\n",
       "    <tr>\n",
       "      <th>11</th>\n",
       "      <td>95</td>\n",
       "      <td>182</td>\n",
       "    </tr>\n",
       "    <tr>\n",
       "      <th>13</th>\n",
       "      <td>100</td>\n",
       "      <td>183</td>\n",
       "    </tr>\n",
       "    <tr>\n",
       "      <th>12</th>\n",
       "      <td>105</td>\n",
       "      <td>175</td>\n",
       "    </tr>\n",
       "  </tbody>\n",
       "</table>\n",
       "</div>"
      ],
      "text/plain": [
       "    Weight  Height\n",
       "0       45     120\n",
       "20      45     129\n",
       "2       48     123\n",
       "16      50     140\n",
       "21      56     140\n",
       "1       58     135\n",
       "3       60     145\n",
       "17      65     159\n",
       "4       70     160\n",
       "22      72     160\n",
       "18      76     150\n",
       "15      78     177\n",
       "5       78     162\n",
       "9       78     170\n",
       "6       80     163\n",
       "10      82     176\n",
       "14      85     170\n",
       "19      87     167\n",
       "7       90     175\n",
       "8       95     182\n",
       "11      95     182\n",
       "13     100     183\n",
       "12     105     175"
      ]
     },
     "execution_count": 22,
     "metadata": {},
     "output_type": "execute_result"
    }
   ],
   "source": [
    "sorted_df"
   ]
  },
  {
   "cell_type": "code",
   "execution_count": 26,
   "id": "2b6b864b-7005-49fa-bb76-6b425b6ef3b8",
   "metadata": {},
   "outputs": [],
   "source": [
    "grouped_df = df.groupby('Weight')['Height'].mean()"
   ]
  },
  {
   "cell_type": "code",
   "execution_count": 27,
   "id": "83314147-4047-4e97-bd98-f4ed0654d24b",
   "metadata": {},
   "outputs": [
    {
     "data": {
      "text/plain": [
       "Weight\n",
       "45     124.500000\n",
       "48     123.000000\n",
       "50     140.000000\n",
       "56     140.000000\n",
       "58     135.000000\n",
       "60     145.000000\n",
       "65     159.000000\n",
       "70     160.000000\n",
       "72     160.000000\n",
       "76     150.000000\n",
       "78     169.666667\n",
       "80     163.000000\n",
       "82     176.000000\n",
       "85     170.000000\n",
       "87     167.000000\n",
       "90     175.000000\n",
       "95     182.000000\n",
       "100    183.000000\n",
       "105    175.000000\n",
       "Name: Height, dtype: float64"
      ]
     },
     "execution_count": 27,
     "metadata": {},
     "output_type": "execute_result"
    }
   ],
   "source": [
    "grouped_df"
   ]
  },
  {
   "cell_type": "code",
   "execution_count": 33,
   "id": "f83f98c6-6bfe-4db8-81be-154cfaa6fba0",
   "metadata": {},
   "outputs": [
    {
     "data": {
      "image/png": "[encoded data removed]",
      "text/plain": [
       "<Figure size 640x480 with 1 Axes>"
      ]
     },
     "metadata": {},
     "output_type": "display_data"
    }
   ],
   "source": [
    "grouped_df.plot(kind = 'bar')\n",
    "plt.title(\"Average height by  weight\")\n",
    "plt.xlabel(\"Weight\")\n",
    "plt.ylabel(\"Height\")\n",
    "plt.show()"
   ]
  },
  {
   "cell_type": "code",
   "execution_count": 39,
   "id": "59185286-20cf-4f2f-b68f-2f46a2d865cf",
   "metadata": {},
   "outputs": [],
   "source": [
    "# Task 3: Analyzing healthcare data using Pandas: concatenation DataFrame, merging DataFrame,\n",
    "# join the DataFrame, and then visualization of the results.\n",
    "df = pd.DataFrame({'A':[1,2,3,4], 'B':[3,4,5,7]})\n",
    "df2 = pd.DataFrame({'A':[3,2,6,7], 'B':[5,8,9,3]})\n",
    "concatenated = pd.concat([df,df2])"
   ]
  },
  {
   "cell_type": "code",
   "execution_count": 40,
   "id": "b5582d0d-a97a-4122-95a3-89c747cb8bc1",
   "metadata": {},
   "outputs": [
    {
     "data": {
      "text/html": [
       "<div>\n",
       "<style scoped>\n",
       "    .dataframe tbody tr th:only-of-type {\n",
       "        vertical-align: middle;\n",
       "    }\n",
       "\n",
       "    .dataframe tbody tr th {\n",
       "        vertical-align: top;\n",
       "    }\n",
       "\n",
       "    .dataframe thead th {\n",
       "        text-align: right;\n",
       "    }\n",
       "</style>\n",
       "<table border=\"1\" class=\"dataframe\">\n",
       "  <thead>\n",
       "    <tr style=\"text-align: right;\">\n",
       "      <th></th>\n",
       "      <th>A</th>\n",
       "      <th>B</th>\n",
       "    </tr>\n",
       "  </thead>\n",
       "  <tbody>\n",
       "    <tr>\n",
       "      <th>0</th>\n",
       "      <td>1</td>\n",
       "      <td>3</td>\n",
       "    </tr>\n",
       "    <tr>\n",
       "      <th>1</th>\n",
       "      <td>2</td>\n",
       "      <td>4</td>\n",
       "    </tr>\n",
       "    <tr>\n",
       "      <th>2</th>\n",
       "      <td>3</td>\n",
       "      <td>5</td>\n",
       "    </tr>\n",
       "    <tr>\n",
       "      <th>3</th>\n",
       "      <td>4</td>\n",
       "      <td>7</td>\n",
       "    </tr>\n",
       "    <tr>\n",
       "      <th>0</th>\n",
       "      <td>3</td>\n",
       "      <td>5</td>\n",
       "    </tr>\n",
       "    <tr>\n",
       "      <th>1</th>\n",
       "      <td>2</td>\n",
       "      <td>8</td>\n",
       "    </tr>\n",
       "    <tr>\n",
       "      <th>2</th>\n",
       "      <td>6</td>\n",
       "      <td>9</td>\n",
       "    </tr>\n",
       "    <tr>\n",
       "      <th>3</th>\n",
       "      <td>7</td>\n",
       "      <td>3</td>\n",
       "    </tr>\n",
       "  </tbody>\n",
       "</table>\n",
       "</div>"
      ],
      "text/plain": [
       "   A  B\n",
       "0  1  3\n",
       "1  2  4\n",
       "2  3  5\n",
       "3  4  7\n",
       "0  3  5\n",
       "1  2  8\n",
       "2  6  9\n",
       "3  7  3"
      ]
     },
     "execution_count": 40,
     "metadata": {},
     "output_type": "execute_result"
    }
   ],
   "source": [
    "concatenated"
   ]
  },
  {
   "cell_type": "code",
   "execution_count": 41,
   "id": "60bfe646-671c-485f-829b-936bc73f68c5",
   "metadata": {},
   "outputs": [],
   "source": [
    "merged = pd.merge(df,df2,on = 'A')"
   ]
  },
  {
   "cell_type": "code",
   "execution_count": 42,
   "id": "b766867b-eb07-44b8-8d7b-f98aec84ba24",
   "metadata": {},
   "outputs": [
    {
     "data": {
      "text/html": [
       "<div>\n",
       "<style scoped>\n",
       "    .dataframe tbody tr th:only-of-type {\n",
       "        vertical-align: middle;\n",
       "    }\n",
       "\n",
       "    .dataframe tbody tr th {\n",
       "        vertical-align: top;\n",
       "    }\n",
       "\n",
       "    .dataframe thead th {\n",
       "        text-align: right;\n",
       "    }\n",
       "</style>\n",
       "<table border=\"1\" class=\"dataframe\">\n",
       "  <thead>\n",
       "    <tr style=\"text-align: right;\">\n",
       "      <th></th>\n",
       "      <th>A</th>\n",
       "      <th>B_x</th>\n",
       "      <th>B_y</th>\n",
       "    </tr>\n",
       "  </thead>\n",
       "  <tbody>\n",
       "    <tr>\n",
       "      <th>0</th>\n",
       "      <td>2</td>\n",
       "      <td>4</td>\n",
       "      <td>8</td>\n",
       "    </tr>\n",
       "    <tr>\n",
       "      <th>1</th>\n",
       "      <td>3</td>\n",
       "      <td>5</td>\n",
       "      <td>5</td>\n",
       "    </tr>\n",
       "  </tbody>\n",
       "</table>\n",
       "</div>"
      ],
      "text/plain": [
       "   A  B_x  B_y\n",
       "0  2    4    8\n",
       "1  3    5    5"
      ]
     },
     "execution_count": 42,
     "metadata": {},
     "output_type": "execute_result"
    }
   ],
   "source": [
    "merged"
   ]
  },
  {
   "cell_type": "code",
   "execution_count": 52,
   "id": "5a1b2208-bf6d-4ad4-ae94-21d43c03f1e7",
   "metadata": {},
   "outputs": [],
   "source": [
    "df3 = pd.DataFrame({'A':[3,7,5,6], 'B':[5,8,9,3]}).set_index('A')\n"
   ]
  },
  {
   "cell_type": "code",
   "execution_count": 55,
   "id": "a95b8122-4a06-40cf-8fcb-206b05be0960",
   "metadata": {},
   "outputs": [],
   "source": [
    "joined = df2.set_index('B').join(df3)"
   ]
  },
  {
   "cell_type": "code",
   "execution_count": 56,
   "id": "d5f4676a-f6d1-413a-879f-c8eda2d526fd",
   "metadata": {},
   "outputs": [
    {
     "data": {
      "text/html": [
       "<div>\n",
       "<style scoped>\n",
       "    .dataframe tbody tr th:only-of-type {\n",
       "        vertical-align: middle;\n",
       "    }\n",
       "\n",
       "    .dataframe tbody tr th {\n",
       "        vertical-align: top;\n",
       "    }\n",
       "\n",
       "    .dataframe thead th {\n",
       "        text-align: right;\n",
       "    }\n",
       "</style>\n",
       "<table border=\"1\" class=\"dataframe\">\n",
       "  <thead>\n",
       "    <tr style=\"text-align: right;\">\n",
       "      <th></th>\n",
       "      <th>A</th>\n",
       "      <th>B</th>\n",
       "    </tr>\n",
       "    <tr>\n",
       "      <th>B</th>\n",
       "      <th></th>\n",
       "      <th></th>\n",
       "    </tr>\n",
       "  </thead>\n",
       "  <tbody>\n",
       "    <tr>\n",
       "      <th>5</th>\n",
       "      <td>3</td>\n",
       "      <td>9.0</td>\n",
       "    </tr>\n",
       "    <tr>\n",
       "      <th>8</th>\n",
       "      <td>2</td>\n",
       "      <td>NaN</td>\n",
       "    </tr>\n",
       "    <tr>\n",
       "      <th>9</th>\n",
       "      <td>6</td>\n",
       "      <td>NaN</td>\n",
       "    </tr>\n",
       "    <tr>\n",
       "      <th>3</th>\n",
       "      <td>7</td>\n",
       "      <td>5.0</td>\n",
       "    </tr>\n",
       "  </tbody>\n",
       "</table>\n",
       "</div>"
      ],
      "text/plain": [
       "   A    B\n",
       "B        \n",
       "5  3  9.0\n",
       "8  2  NaN\n",
       "9  6  NaN\n",
       "3  7  5.0"
      ]
     },
     "execution_count": 56,
     "metadata": {},
     "output_type": "execute_result"
    }
   ],
   "source": [
    "joined"
   ]
  },
  {
   "cell_type": "code",
   "execution_count": 57,
   "id": "7b3ef9d6-506a-4df7-bdf8-ab565559da81",
   "metadata": {},
   "outputs": [
    {
     "data": {
      "text/plain": [
       "<Axes: xlabel='B'>"
      ]
     },
     "execution_count": 57,
     "metadata": {},
     "output_type": "execute_result"
    },
    {
     "data": {
      "image/png": "[encoded data removed]",
      "text/plain": [
       "<Figure size 640x480 with 1 Axes>"
      ]
     },
     "metadata": {},
     "output_type": "display_data"
    }
   ],
   "source": [
    "joined.plot(kind = 'bar')"
   ]
  },
  {
   "cell_type": "code",
   "execution_count": 58,
   "id": "9c8e6e11-6c5c-479c-84e1-08485e934b63",
   "metadata": {},
   "outputs": [],
   "source": [
    "# Task 4: Create a DataFrame for student data and then visualization to plot using different (five) \n",
    "# techniques.\n",
    "student = pd.DataFrame({'Name':['Saket','Ranjan','Mithu'], 'Class':[1,2,3],'Age':[5,6,7]})\n",
    "\n",
    "                       "
   ]
  },
  {
   "cell_type": "code",
   "execution_count": 59,
   "id": "89e31526-e059-4039-bcd9-3959061ecae7",
   "metadata": {},
   "outputs": [
    {
     "data": {
      "text/html": [
       "<div>\n",
       "<style scoped>\n",
       "    .dataframe tbody tr th:only-of-type {\n",
       "        vertical-align: middle;\n",
       "    }\n",
       "\n",
       "    .dataframe tbody tr th {\n",
       "        vertical-align: top;\n",
       "    }\n",
       "\n",
       "    .dataframe thead th {\n",
       "        text-align: right;\n",
       "    }\n",
       "</style>\n",
       "<table border=\"1\" class=\"dataframe\">\n",
       "  <thead>\n",
       "    <tr style=\"text-align: right;\">\n",
       "      <th></th>\n",
       "      <th>Name</th>\n",
       "      <th>Class</th>\n",
       "      <th>Age</th>\n",
       "    </tr>\n",
       "  </thead>\n",
       "  <tbody>\n",
       "    <tr>\n",
       "      <th>0</th>\n",
       "      <td>Saket</td>\n",
       "      <td>1</td>\n",
       "      <td>5</td>\n",
       "    </tr>\n",
       "    <tr>\n",
       "      <th>1</th>\n",
       "      <td>Ranjan</td>\n",
       "      <td>2</td>\n",
       "      <td>6</td>\n",
       "    </tr>\n",
       "    <tr>\n",
       "      <th>2</th>\n",
       "      <td>Mithu</td>\n",
       "      <td>3</td>\n",
       "      <td>7</td>\n",
       "    </tr>\n",
       "  </tbody>\n",
       "</table>\n",
       "</div>"
      ],
      "text/plain": [
       "     Name  Class  Age\n",
       "0   Saket      1    5\n",
       "1  Ranjan      2    6\n",
       "2   Mithu      3    7"
      ]
     },
     "execution_count": 59,
     "metadata": {},
     "output_type": "execute_result"
    }
   ],
   "source": [
    "student"
   ]
  },
  {
   "cell_type": "code",
   "execution_count": 61,
   "id": "0d745fe6-2dd4-45e6-8ad7-7d81167e06b6",
   "metadata": {},
   "outputs": [
    {
     "data": {
      "text/plain": [
       "Text(0.5, 1.0, 'Student along with their class and age')"
      ]
     },
     "execution_count": 61,
     "metadata": {},
     "output_type": "execute_result"
    },
    {
     "data": {
      "image/png": "[encoded data removed]",
      "text/plain": [
       "<Figure size 640x480 with 1 Axes>"
      ]
     },
     "metadata": {},
     "output_type": "display_data"
    }
   ],
   "source": [
    "student.plot(kind='bar')\n",
    "plt.title(\"Student along with their class and age\")"
   ]
  },
  {
   "cell_type": "code",
   "execution_count": 64,
   "id": "55fbbc59-d84d-49a4-9e88-0282fd4233af",
   "metadata": {},
   "outputs": [
    {
     "data": {
      "text/plain": [
       "<Axes: >"
      ]
     },
     "execution_count": 64,
     "metadata": {},
     "output_type": "execute_result"
    },
    {
     "data": {
      "image/png": "[encoded data removed]",
      "text/plain": [
       "<Figure size 640x480 with 1 Axes>"
      ]
     },
     "metadata": {},
     "output_type": "display_data"
    }
   ],
   "source": [
    "student.plot(kind = 'line')"
   ]
  },
  {
   "cell_type": "code",
   "execution_count": 66,
   "id": "0319922e-d063-4e13-af1e-0cbd69e0b8c6",
   "metadata": {},
   "outputs": [
    {
     "data": {
      "text/plain": [
       "<Axes: ylabel='Frequency'>"
      ]
     },
     "execution_count": 66,
     "metadata": {},
     "output_type": "execute_result"
    },
    {
     "data": {
      "image/png": "[encoded data removed]",
      "text/plain": [
       "<Figure size 640x480 with 1 Axes>"
      ]
     },
     "metadata": {},
     "output_type": "display_data"
    }
   ],
   "source": [
    "student.plot(kind = 'hist')"
   ]
  },
  {
   "cell_type": "code",
   "execution_count": 69,
   "id": "055371a8-2209-43a2-8f4c-f6f10963cb20",
   "metadata": {},
   "outputs": [
    {
     "data": {
      "text/plain": [
       "<Axes: xlabel='Age', ylabel='Class'>"
      ]
     },
     "execution_count": 69,
     "metadata": {},
     "output_type": "execute_result"
    },
    {
     "data": {
      "image/png": "[encoded data removed]",
      "text/plain": [
       "<Figure size 640x480 with 1 Axes>"
      ]
     },
     "metadata": {},
     "output_type": "display_data"
    }
   ],
   "source": [
    "student.plot(kind = 'scatter',x = 'Age',y = 'Class')"
   ]
  },
  {
   "cell_type": "code",
   "execution_count": 70,
   "id": "b8366d78-5e96-4cef-b1d0-06cf740ac401",
   "metadata": {},
   "outputs": [
    {
     "data": {
      "text/plain": [
       "<Axes: >"
      ]
     },
     "execution_count": 70,
     "metadata": {},
     "output_type": "execute_result"
    },
    {
     "data": {
      "image/png": "[encoded data removed]",
      "text/plain": [
       "<Figure size 640x480 with 1 Axes>"
      ]
     },
     "metadata": {},
     "output_type": "display_data"
    }
   ],
   "source": [
    "student.plot(kind = 'box')"
   ]
  },
  {
   "cell_type": "code",
   "execution_count": 71,
   "id": "60efdb1d-557c-4336-b237-3158c0ea80a0",
   "metadata": {},
   "outputs": [],
   "source": [
    " # Task 5: Create a DataFrame for customer data and show the results in correlation heatmaps.\n",
    "import seaborn as sns"
   ]
  },
  {
   "cell_type": "code",
   "execution_count": 85,
   "id": "be1c42e3-3312-48e5-9066-06e421900f1c",
   "metadata": {},
   "outputs": [],
   "source": [
    "customer = pd.DataFrame({'acno':[122,12893,1264,125],'id':[1,2,3,4],'money':[126777,364,56,788]})\n",
    "df = customer.corr()"
   ]
  },
  {
   "cell_type": "code",
   "execution_count": 86,
   "id": "59cf4276-c440-44d4-a581-e5e0d523315f",
   "metadata": {},
   "outputs": [
    {
     "data": {
      "text/plain": [
       "<Axes: >"
      ]
     },
     "execution_count": 86,
     "metadata": {},
     "output_type": "execute_result"
    },
    {
     "data": {
      "image/png": "[encoded data removed]",
      "text/plain": [
       "<Figure size 640x480 with 2 Axes>"
      ]
     },
     "metadata": {},
     "output_type": "display_data"
    }
   ],
   "source": [
    "sns.heatmap(df,annot = True)"
   ]
  },
  {
   "cell_type": "code",
   "execution_count": 91,
   "id": "5ed3b27a-17b1-40a7-8948-0b26a2e2a2a6",
   "metadata": {},
   "outputs": [],
   "source": [
    "# Task 6: Checking the missing values and replacing them, duplicates, count the columns, find \n",
    "# relation between variables, show pairplot of the government data.\n",
    "customer = pd.DataFrame({'acno':[122,12893,1264,125],'id':[1,2,3,3],'money':[126777,364,56,788]})"
   ]
  },
  {
   "cell_type": "code",
   "execution_count": 92,
   "id": "4abaf372-2b02-4559-bb8f-2ff7226e88ba",
   "metadata": {},
   "outputs": [],
   "source": [
    "missing = customer.isnull().sum()"
   ]
  },
  {
   "cell_type": "code",
   "execution_count": 93,
   "id": "beaace69-7ce8-4f79-9471-5b1caceb8a3f",
   "metadata": {},
   "outputs": [
    {
     "data": {
      "text/plain": [
       "acno     0\n",
       "id       0\n",
       "money    0\n",
       "dtype: int64"
      ]
     },
     "execution_count": 93,
     "metadata": {},
     "output_type": "execute_result"
    }
   ],
   "source": [
    "missing"
   ]
  },
  {
   "cell_type": "code",
   "execution_count": 94,
   "id": "d80d8cf2-209c-4321-a309-5d14e0513533",
   "metadata": {},
   "outputs": [],
   "source": [
    "duplicates = customer.duplicated().sum()"
   ]
  },
  {
   "cell_type": "code",
   "execution_count": 95,
   "id": "ad4006a0-7986-4437-9ed9-d658c62488e6",
   "metadata": {},
   "outputs": [
    {
     "data": {
      "text/plain": [
       "0"
      ]
     },
     "execution_count": 95,
     "metadata": {},
     "output_type": "execute_result"
    }
   ],
   "source": [
    "duplicates"
   ]
  },
  {
   "cell_type": "code",
   "execution_count": 118,
   "id": "157e28de-cf88-4cd2-833b-4e907ddbd45f",
   "metadata": {},
   "outputs": [],
   "source": [
    "df = pd.read_csv(\"height-weight.csv\")"
   ]
  },
  {
   "cell_type": "code",
   "execution_count": 110,
   "id": "f46bb434-9cc9-4056-9485-5a23887d25b5",
   "metadata": {},
   "outputs": [],
   "source": [
    "missing = df.isnull().sum()"
   ]
  },
  {
   "cell_type": "code",
   "execution_count": 111,
   "id": "0e3bf4fb-b0c0-40cb-94d7-119a3966839c",
   "metadata": {},
   "outputs": [
    {
     "data": {
      "text/plain": [
       "Unnamed: 0      0\n",
       "user            0\n",
       "timline_url    30\n",
       "dtype: int64"
      ]
     },
     "execution_count": 111,
     "metadata": {},
     "output_type": "execute_result"
    }
   ],
   "source": [
    "missing"
   ]
  },
  {
   "cell_type": "code",
   "execution_count": 112,
   "id": "605e4570-0186-4abf-adaf-f5b905257ed4",
   "metadata": {},
   "outputs": [
    {
     "ename": "TypeError",
     "evalue": "Could not convert [\"{'login': 'mroeschke', 'id': 10647082, 'node_id': 'MDQ6VXNlcjEwNjQ3MDgy', 'avatar_url': 'https://avatars.githubusercontent.com/u/10647082?v=4', 'gravatar_id': '', 'url': 'https://api.github.com/users/mroeschke', 'html_url': 'https://github.com/mroeschke', 'followers_url': 'https://api.github.com/users/mroeschke/followers', 'following_url': 'https://api.github.com/users/mroeschke/following{/other_user}', 'gists_url': 'https://api.github.com/users/mroeschke/gists{/gist_id}', 'starred_url': 'https://api.github.com/users/mroeschke/starred{/owner}{/repo}', 'subscriptions_url': 'https://api.github.com/users/mroeschke/subscriptions', 'organizations_url': 'https://api.github.com/users/mroeschke/orgs', 'repos_url': 'https://api.github.com/users/mroeschke/repos', 'events_url': 'https://api.github.com/users/mroeschke/events{/privacy}', 'received_events_url': 'https://api.github.com/users/mroeschke/received_events', 'type': 'User', 'site_admin': False}{'login': 'jordan-d-murphy', 'id': 35613487, 'node_id': 'MDQ6VXNlcjM1NjEzNDg3', 'avatar_url': 'https://avatars.githubusercontent.com/u/35613487?v=4', 'gravatar_id': '', 'url': 'https://api.github.com/users/jordan-d-murphy', 'html_url': 'https://github.com/jordan-d-murphy', 'followers_url': 'https://api.github.com/users/jordan-d-murphy/followers', 'following_url': 'https://api.github.com/users/jordan-d-murphy/following{/other_user}', 'gists_url': 'https://api.github.com/users/jordan-d-murphy/gists{/gist_id}', 'starred_url': 'https://api.github.com/users/jordan-d-murphy/starred{/owner}{/repo}', 'subscriptions_url': 'https://api.github.com/users/jordan-d-murphy/subscriptions', 'organizations_url': 'https://api.github.com/users/jordan-d-murphy/orgs', 'repos_url': 'https://api.github.com/users/jordan-d-murphy/repos', 'events_url': 'https://api.github.com/users/jordan-d-murphy/events{/privacy}', 'received_events_url': 'https://api.github.com/users/jordan-d-murphy/received_events', 'type': 'User', 'site_admin': False}{'login': 'noah-asing', 'id': 7989798, 'node_id': 'MDQ6VXNlcjc5ODk3OTg=', 'avatar_url': 'https://avatars.githubusercontent.com/u/7989798?v=4', 'gravatar_id': '', 'url': 'https://api.github.com/users/noah-asing', 'html_url': 'https://github.com/noah-asing', 'followers_url': 'https://api.github.com/users/noah-asing/followers', 'following_url': 'https://api.github.com/users/noah-asing/following{/other_user}', 'gists_url': 'https://api.github.com/users/noah-asing/gists{/gist_id}', 'starred_url': 'https://api.github.com/users/noah-asing/starred{/owner}{/repo}', 'subscriptions_url': 'https://api.github.com/users/noah-asing/subscriptions', 'organizations_url': 'https://api.github.com/users/noah-asing/orgs', 'repos_url': 'https://api.github.com/users/noah-asing/repos', 'events_url': 'https://api.github.com/users/noah-asing/events{/privacy}', 'received_events_url': 'https://api.github.com/users/noah-asing/received_events', 'type': 'User', 'site_admin': False}{'login': 'jrmylow', 'id': 33999325, 'node_id': 'MDQ6VXNlcjMzOTk5MzI1', 'avatar_url': 'https://avatars.githubusercontent.com/u/33999325?v=4', 'gravatar_id': '', 'url': 'https://api.github.com/users/jrmylow', 'html_url': 'https://github.com/jrmylow', 'followers_url': 'https://api.github.com/users/jrmylow/followers', 'following_url': 'https://api.github.com/users/jrmylow/following{/other_user}', 'gists_url': 'https://api.github.com/users/jrmylow/gists{/gist_id}', 'starred_url': 'https://api.github.com/users/jrmylow/starred{/owner}{/repo}', 'subscriptions_url': 'https://api.github.com/users/jrmylow/subscriptions', 'organizations_url': 'https://api.github.com/users/jrmylow/orgs', 'repos_url': 'https://api.github.com/users/jrmylow/repos', 'events_url': 'https://api.github.com/users/jrmylow/events{/privacy}', 'received_events_url': 'https://api.github.com/users/jrmylow/received_events', 'type': 'User', 'site_admin': False}{'login': 'phofl', 'id': 61934744, 'node_id': 'MDQ6VXNlcjYxOTM0NzQ0', 'avatar_url': 'https://avatars.githubusercontent.com/u/61934744?v=4', 'gravatar_id': '', 'url': 'https://api.github.com/users/phofl', 'html_url': 'https://github.com/phofl', 'followers_url': 'https://api.github.com/users/phofl/followers', 'following_url': 'https://api.github.com/users/phofl/following{/other_user}', 'gists_url': 'https://api.github.com/users/phofl/gists{/gist_id}', 'starred_url': 'https://api.github.com/users/phofl/starred{/owner}{/repo}', 'subscriptions_url': 'https://api.github.com/users/phofl/subscriptions', 'organizations_url': 'https://api.github.com/users/phofl/orgs', 'repos_url': 'https://api.github.com/users/phofl/repos', 'events_url': 'https://api.github.com/users/phofl/events{/privacy}', 'received_events_url': 'https://api.github.com/users/phofl/received_events', 'type': 'User', 'site_admin': False}{'login': 'mroeschke', 'id': 10647082, 'node_id': 'MDQ6VXNlcjEwNjQ3MDgy', 'avatar_url': 'https://avatars.githubusercontent.com/u/10647082?v=4', 'gravatar_id': '', 'url': 'https://api.github.com/users/mroeschke', 'html_url': 'https://github.com/mroeschke', 'followers_url': 'https://api.github.com/users/mroeschke/followers', 'following_url': 'https://api.github.com/users/mroeschke/following{/other_user}', 'gists_url': 'https://api.github.com/users/mroeschke/gists{/gist_id}', 'starred_url': 'https://api.github.com/users/mroeschke/starred{/owner}{/repo}', 'subscriptions_url': 'https://api.github.com/users/mroeschke/subscriptions', 'organizations_url': 'https://api.github.com/users/mroeschke/orgs', 'repos_url': 'https://api.github.com/users/mroeschke/repos', 'events_url': 'https://api.github.com/users/mroeschke/events{/privacy}', 'received_events_url': 'https://api.github.com/users/mroeschke/received_events', 'type': 'User', 'site_admin': False}{'login': 'koushik-rout-samsung', 'id': 146946876, 'node_id': 'U_kgDOCMI7PA', 'avatar_url': 'https://avatars.githubusercontent.com/u/146946876?v=4', 'gravatar_id': '', 'url': 'https://api.github.com/users/koushik-rout-samsung', 'html_url': 'https://github.com/koushik-rout-samsung', 'followers_url': 'https://api.github.com/users/koushik-rout-samsung/followers', 'following_url': 'https://api.github.com/users/koushik-rout-samsung/following{/other_user}', 'gists_url': 'https://api.github.com/users/koushik-rout-samsung/gists{/gist_id}', 'starred_url': 'https://api.github.com/users/koushik-rout-samsung/starred{/owner}{/repo}', 'subscriptions_url': 'https://api.github.com/users/koushik-rout-samsung/subscriptions', 'organizations_url': 'https://api.github.com/users/koushik-rout-samsung/orgs', 'repos_url': 'https://api.github.com/users/koushik-rout-samsung/repos', 'events_url': 'https://api.github.com/users/koushik-rout-samsung/events{/privacy}', 'received_events_url': 'https://api.github.com/users/koushik-rout-samsung/received_events', 'type': 'User', 'site_admin': False}{'login': 'LakshmanKishore', 'id': 61258323, 'node_id': 'MDQ6VXNlcjYxMjU4MzIz', 'avatar_url': 'https://avatars.githubusercontent.com/u/61258323?v=4', 'gravatar_id': '', 'url': 'https://api.github.com/users/LakshmanKishore', 'html_url': 'https://github.com/LakshmanKishore', 'followers_url': 'https://api.github.com/users/LakshmanKishore/followers', 'following_url': 'https://api.github.com/users/LakshmanKishore/following{/other_user}', 'gists_url': 'https://api.github.com/users/LakshmanKishore/gists{/gist_id}', 'starred_url': 'https://api.github.com/users/LakshmanKishore/starred{/owner}{/repo}', 'subscriptions_url': 'https://api.github.com/users/LakshmanKishore/subscriptions', 'organizations_url': 'https://api.github.com/users/LakshmanKishore/orgs', 'repos_url': 'https://api.github.com/users/LakshmanKishore/repos', 'events_url': 'https://api.github.com/users/LakshmanKishore/events{/privacy}', 'received_events_url': 'https://api.github.com/users/LakshmanKishore/received_events', 'type': 'User', 'site_admin': False}{'login': 'Jorewin', 'id': 56088851, 'node_id': 'MDQ6VXNlcjU2MDg4ODUx', 'avatar_url': 'https://avatars.githubusercontent.com/u/56088851?v=4', 'gravatar_id': '', 'url': 'https://api.github.com/users/Jorewin', 'html_url': 'https://github.com/Jorewin', 'followers_url': 'https://api.github.com/users/Jorewin/followers', 'following_url': 'https://api.github.com/users/Jorewin/following{/other_user}', 'gists_url': 'https://api.github.com/users/Jorewin/gists{/gist_id}', 'starred_url': 'https://api.github.com/users/Jorewin/starred{/owner}{/repo}', 'subscriptions_url': 'https://api.github.com/users/Jorewin/subscriptions', 'organizations_url': 'https://api.github.com/users/Jorewin/orgs', 'repos_url': 'https://api.github.com/users/Jorewin/repos', 'events_url': 'https://api.github.com/users/Jorewin/events{/privacy}', 'received_events_url': 'https://api.github.com/users/Jorewin/received_events', 'type': 'User', 'site_admin': False}{'login': 'gsehrlich', 'id': 11000354, 'node_id': 'MDQ6VXNlcjExMDAwMzU0', 'avatar_url': 'https://avatars.githubusercontent.com/u/11000354?v=4', 'gravatar_id': '', 'url': 'https://api.github.com/users/gsehrlich', 'html_url': 'https://github.com/gsehrlich', 'followers_url': 'https://api.github.com/users/gsehrlich/followers', 'following_url': 'https://api.github.com/users/gsehrlich/following{/other_user}', 'gists_url': 'https://api.github.com/users/gsehrlich/gists{/gist_id}', 'starred_url': 'https://api.github.com/users/gsehrlich/starred{/owner}{/repo}', 'subscriptions_url': 'https://api.github.com/users/gsehrlich/subscriptions', 'organizations_url': 'https://api.github.com/users/gsehrlich/orgs', 'repos_url': 'https://api.github.com/users/gsehrlich/repos', 'events_url': 'https://api.github.com/users/gsehrlich/events{/privacy}', 'received_events_url': 'https://api.github.com/users/gsehrlich/received_events', 'type': 'User', 'site_admin': False}{'login': 'khider', 'id': 11758571, 'node_id': 'MDQ6VXNlcjExNzU4NTcx', 'avatar_url': 'https://avatars.githubusercontent.com/u/11758571?v=4', 'gravatar_id': '', 'url': 'https://api.github.com/users/khider', 'html_url': 'https://github.com/khider', 'followers_url': 'https://api.github.com/users/khider/followers', 'following_url': 'https://api.github.com/users/khider/following{/other_user}', 'gists_url': 'https://api.github.com/users/khider/gists{/gist_id}', 'starred_url': 'https://api.github.com/users/khider/starred{/owner}{/repo}', 'subscriptions_url': 'https://api.github.com/users/khider/subscriptions', 'organizations_url': 'https://api.github.com/users/khider/orgs', 'repos_url': 'https://api.github.com/users/khider/repos', 'events_url': 'https://api.github.com/users/khider/events{/privacy}', 'received_events_url': 'https://api.github.com/users/khider/received_events', 'type': 'User', 'site_admin': False}{'login': 'michaelquinn32', 'id': 3473921, 'node_id': 'MDQ6VXNlcjM0NzM5MjE=', 'avatar_url': 'https://avatars.githubusercontent.com/u/3473921?v=4', 'gravatar_id': '', 'url': 'https://api.github.com/users/michaelquinn32', 'html_url': 'https://github.com/michaelquinn32', 'followers_url': 'https://api.github.com/users/michaelquinn32/followers', 'following_url': 'https://api.github.com/users/michaelquinn32/following{/other_user}', 'gists_url': 'https://api.github.com/users/michaelquinn32/gists{/gist_id}', 'starred_url': 'https://api.github.com/users/michaelquinn32/starred{/owner}{/repo}', 'subscriptions_url': 'https://api.github.com/users/michaelquinn32/subscriptions', 'organizations_url': 'https://api.github.com/users/michaelquinn32/orgs', 'repos_url': 'https://api.github.com/users/michaelquinn32/repos', 'events_url': 'https://api.github.com/users/michaelquinn32/events{/privacy}', 'received_events_url': 'https://api.github.com/users/michaelquinn32/received_events', 'type': 'User', 'site_admin': False}{'login': 'sfc-gh-aalam', 'id': 107440467, 'node_id': 'U_kgDOBmdpUw', 'avatar_url': 'https://avatars.githubusercontent.com/u/107440467?v=4', 'gravatar_id': '', 'url': 'https://api.github.com/users/sfc-gh-aalam', 'html_url': 'https://github.com/sfc-gh-aalam', 'followers_url': 'https://api.github.com/users/sfc-gh-aalam/followers', 'following_url': 'https://api.github.com/users/sfc-gh-aalam/following{/other_user}', 'gists_url': 'https://api.github.com/users/sfc-gh-aalam/gists{/gist_id}', 'starred_url': 'https://api.github.com/users/sfc-gh-aalam/starred{/owner}{/repo}', 'subscriptions_url': 'https://api.github.com/users/sfc-gh-aalam/subscriptions', 'organizations_url': 'https://api.github.com/users/sfc-gh-aalam/orgs', 'repos_url': 'https://api.github.com/users/sfc-gh-aalam/repos', 'events_url': 'https://api.github.com/users/sfc-gh-aalam/events{/privacy}', 'received_events_url': 'https://api.github.com/users/sfc-gh-aalam/received_events', 'type': 'User', 'site_admin': False}{'login': 'phofl', 'id': 61934744, 'node_id': 'MDQ6VXNlcjYxOTM0NzQ0', 'avatar_url': 'https://avatars.githubusercontent.com/u/61934744?v=4', 'gravatar_id': '', 'url': 'https://api.github.com/users/phofl', 'html_url': 'https://github.com/phofl', 'followers_url': 'https://api.github.com/users/phofl/followers', 'following_url': 'https://api.github.com/users/phofl/following{/other_user}', 'gists_url': 'https://api.github.com/users/phofl/gists{/gist_id}', 'starred_url': 'https://api.github.com/users/phofl/starred{/owner}{/repo}', 'subscriptions_url': 'https://api.github.com/users/phofl/subscriptions', 'organizations_url': 'https://api.github.com/users/phofl/orgs', 'repos_url': 'https://api.github.com/users/phofl/repos', 'events_url': 'https://api.github.com/users/phofl/events{/privacy}', 'received_events_url': 'https://api.github.com/users/phofl/received_events', 'type': 'User', 'site_admin': False}{'login': 'mroeschke', 'id': 10647082, 'node_id': 'MDQ6VXNlcjEwNjQ3MDgy', 'avatar_url': 'https://avatars.githubusercontent.com/u/10647082?v=4', 'gravatar_id': '', 'url': 'https://api.github.com/users/mroeschke', 'html_url': 'https://github.com/mroeschke', 'followers_url': 'https://api.github.com/users/mroeschke/followers', 'following_url': 'https://api.github.com/users/mroeschke/following{/other_user}', 'gists_url': 'https://api.github.com/users/mroeschke/gists{/gist_id}', 'starred_url': 'https://api.github.com/users/mroeschke/starred{/owner}{/repo}', 'subscriptions_url': 'https://api.github.com/users/mroeschke/subscriptions', 'organizations_url': 'https://api.github.com/users/mroeschke/orgs', 'repos_url': 'https://api.github.com/users/mroeschke/repos', 'events_url': 'https://api.github.com/users/mroeschke/events{/privacy}', 'received_events_url': 'https://api.github.com/users/mroeschke/received_events', 'type': 'User', 'site_admin': False}{'login': 'steppi', 'id': 1953382, 'node_id': 'MDQ6VXNlcjE5NTMzODI=', 'avatar_url': 'https://avatars.githubusercontent.com/u/1953382?v=4', 'gravatar_id': '', 'url': 'https://api.github.com/users/steppi', 'html_url': 'https://github.com/steppi', 'followers_url': 'https://api.github.com/users/steppi/followers', 'following_url': 'https://api.github.com/users/steppi/following{/other_user}', 'gists_url': 'https://api.github.com/users/steppi/gists{/gist_id}', 'starred_url': 'https://api.github.com/users/steppi/starred{/owner}{/repo}', 'subscriptions_url': 'https://api.github.com/users/steppi/subscriptions', 'organizations_url': 'https://api.github.com/users/steppi/orgs', 'repos_url': 'https://api.github.com/users/steppi/repos', 'events_url': 'https://api.github.com/users/steppi/events{/privacy}', 'received_events_url': 'https://api.github.com/users/steppi/received_events', 'type': 'User', 'site_admin': False}{'login': 'celestinoxp', 'id': 41735311, 'node_id': 'MDQ6VXNlcjQxNzM1MzEx', 'avatar_url': 'https://avatars.githubusercontent.com/u/41735311?v=4', 'gravatar_id': '', 'url': 'https://api.github.com/users/celestinoxp', 'html_url': 'https://github.com/celestinoxp', 'followers_url': 'https://api.github.com/users/celestinoxp/followers', 'following_url': 'https://api.github.com/users/celestinoxp/following{/other_user}', 'gists_url': 'https://api.github.com/users/celestinoxp/gists{/gist_id}', 'starred_url': 'https://api.github.com/users/celestinoxp/starred{/owner}{/repo}', 'subscriptions_url': 'https://api.github.com/users/celestinoxp/subscriptions', 'organizations_url': 'https://api.github.com/users/celestinoxp/orgs', 'repos_url': 'https://api.github.com/users/celestinoxp/repos', 'events_url': 'https://api.github.com/users/celestinoxp/events{/privacy}', 'received_events_url': 'https://api.github.com/users/celestinoxp/received_events', 'type': 'User', 'site_admin': False}{'login': 'damianr13', 'id': 7912289, 'node_id': 'MDQ6VXNlcjc5MTIyODk=', 'avatar_url': 'https://avatars.githubusercontent.com/u/7912289?v=4', 'gravatar_id': '', 'url': 'https://api.github.com/users/damianr13', 'html_url': 'https://github.com/damianr13', 'followers_url': 'https://api.github.com/users/damianr13/followers', 'following_url': 'https://api.github.com/users/damianr13/following{/other_user}', 'gists_url': 'https://api.github.com/users/damianr13/gists{/gist_id}', 'starred_url': 'https://api.github.com/users/damianr13/starred{/owner}{/repo}', 'subscriptions_url': 'https://api.github.com/users/damianr13/subscriptions', 'organizations_url': 'https://api.github.com/users/damianr13/orgs', 'repos_url': 'https://api.github.com/users/damianr13/repos', 'events_url': 'https://api.github.com/users/damianr13/events{/privacy}', 'received_events_url': 'https://api.github.com/users/damianr13/received_events', 'type': 'User', 'site_admin': False}{'login': 'yuanx749', 'id': 47032563, 'node_id': 'MDQ6VXNlcjQ3MDMyNTYz', 'avatar_url': 'https://avatars.githubusercontent.com/u/47032563?v=4', 'gravatar_id': '', 'url': 'https://api.github.com/users/yuanx749', 'html_url': 'https://github.com/yuanx749', 'followers_url': 'https://api.github.com/users/yuanx749/followers', 'following_url': 'https://api.github.com/users/yuanx749/following{/other_user}', 'gists_url': 'https://api.github.com/users/yuanx749/gists{/gist_id}', 'starred_url': 'https://api.github.com/users/yuanx749/starred{/owner}{/repo}', 'subscriptions_url': 'https://api.github.com/users/yuanx749/subscriptions', 'organizations_url': 'https://api.github.com/users/yuanx749/orgs', 'repos_url': 'https://api.github.com/users/yuanx749/repos', 'events_url': 'https://api.github.com/users/yuanx749/events{/privacy}', 'received_events_url': 'https://api.github.com/users/yuanx749/received_events', 'type': 'User', 'site_admin': False}{'login': 'maread99', 'id': 56914820, 'node_id': 'MDQ6VXNlcjU2OTE0ODIw', 'avatar_url': 'https://avatars.githubusercontent.com/u/56914820?v=4', 'gravatar_id': '', 'url': 'https://api.github.com/users/maread99', 'html_url': 'https://github.com/maread99', 'followers_url': 'https://api.github.com/users/maread99/followers', 'following_url': 'https://api.github.com/users/maread99/following{/other_user}', 'gists_url': 'https://api.github.com/users/maread99/gists{/gist_id}', 'starred_url': 'https://api.github.com/users/maread99/starred{/owner}{/repo}', 'subscriptions_url': 'https://api.github.com/users/maread99/subscriptions', 'organizations_url': 'https://api.github.com/users/maread99/orgs', 'repos_url': 'https://api.github.com/users/maread99/repos', 'events_url': 'https://api.github.com/users/maread99/events{/privacy}', 'received_events_url': 'https://api.github.com/users/maread99/received_events', 'type': 'User', 'site_admin': False}{'login': 'PaleNeutron', 'id': 8296331, 'node_id': 'MDQ6VXNlcjgyOTYzMzE=', 'avatar_url': 'https://avatars.githubusercontent.com/u/8296331?v=4', 'gravatar_id': '', 'url': 'https://api.github.com/users/PaleNeutron', 'html_url': 'https://github.com/PaleNeutron', 'followers_url': 'https://api.github.com/users/PaleNeutron/followers', 'following_url': 'https://api.github.com/users/PaleNeutron/following{/other_user}', 'gists_url': 'https://api.github.com/users/PaleNeutron/gists{/gist_id}', 'starred_url': 'https://api.github.com/users/PaleNeutron/starred{/owner}{/repo}', 'subscriptions_url': 'https://api.github.com/users/PaleNeutron/subscriptions', 'organizations_url': 'https://api.github.com/users/PaleNeutron/orgs', 'repos_url': 'https://api.github.com/users/PaleNeutron/repos', 'events_url': 'https://api.github.com/users/PaleNeutron/events{/privacy}', 'received_events_url': 'https://api.github.com/users/PaleNeutron/received_events', 'type': 'User', 'site_admin': False}{'login': 'weltenseglr', 'id': 19477864, 'node_id': 'MDQ6VXNlcjE5NDc3ODY0', 'avatar_url': 'https://avatars.githubusercontent.com/u/19477864?v=4', 'gravatar_id': '', 'url': 'https://api.github.com/users/weltenseglr', 'html_url': 'https://github.com/weltenseglr', 'followers_url': 'https://api.github.com/users/weltenseglr/followers', 'following_url': 'https://api.github.com/users/weltenseglr/following{/other_user}', 'gists_url': 'https://api.github.com/users/weltenseglr/gists{/gist_id}', 'starred_url': 'https://api.github.com/users/weltenseglr/starred{/owner}{/repo}', 'subscriptions_url': 'https://api.github.com/users/weltenseglr/subscriptions', 'organizations_url': 'https://api.github.com/users/weltenseglr/orgs', 'repos_url': 'https://api.github.com/users/weltenseglr/repos', 'events_url': 'https://api.github.com/users/weltenseglr/events{/privacy}', 'received_events_url': 'https://api.github.com/users/weltenseglr/received_events', 'type': 'User', 'site_admin': False}{'login': 'wjandrea', 'id': 22385371, 'node_id': 'MDQ6VXNlcjIyMzg1Mzcx', 'avatar_url': 'https://avatars.githubusercontent.com/u/22385371?v=4', 'gravatar_id': '', 'url': 'https://api.github.com/users/wjandrea', 'html_url': 'https://github.com/wjandrea', 'followers_url': 'https://api.github.com/users/wjandrea/followers', 'following_url': 'https://api.github.com/users/wjandrea/following{/other_user}', 'gists_url': 'https://api.github.com/users/wjandrea/gists{/gist_id}', 'starred_url': 'https://api.github.com/users/wjandrea/starred{/owner}{/repo}', 'subscriptions_url': 'https://api.github.com/users/wjandrea/subscriptions', 'organizations_url': 'https://api.github.com/users/wjandrea/orgs', 'repos_url': 'https://api.github.com/users/wjandrea/repos', 'events_url': 'https://api.github.com/users/wjandrea/events{/privacy}', 'received_events_url': 'https://api.github.com/users/wjandrea/received_events', 'type': 'User', 'site_admin': False}{'login': 'tqa236', 'id': 25203655, 'node_id': 'MDQ6VXNlcjI1MjAzNjU1', 'avatar_url': 'https://avatars.githubusercontent.com/u/25203655?v=4', 'gravatar_id': '', 'url': 'https://api.github.com/users/tqa236', 'html_url': 'https://github.com/tqa236', 'followers_url': 'https://api.github.com/users/tqa236/followers', 'following_url': 'https://api.github.com/users/tqa236/following{/other_user}', 'gists_url': 'https://api.github.com/users/tqa236/gists{/gist_id}', 'starred_url': 'https://api.github.com/users/tqa236/starred{/owner}{/repo}', 'subscriptions_url': 'https://api.github.com/users/tqa236/subscriptions', 'organizations_url': 'https://api.github.com/users/tqa236/orgs', 'repos_url': 'https://api.github.com/users/tqa236/repos', 'events_url': 'https://api.github.com/users/tqa236/events{/privacy}', 'received_events_url': 'https://api.github.com/users/tqa236/received_events', 'type': 'User', 'site_admin': False}{'login': 'tqa236', 'id': 25203655, 'node_id': 'MDQ6VXNlcjI1MjAzNjU1', 'avatar_url': 'https://avatars.githubusercontent.com/u/25203655?v=4', 'gravatar_id': '', 'url': 'https://api.github.com/users/tqa236', 'html_url': 'https://github.com/tqa236', 'followers_url': 'https://api.github.com/users/tqa236/followers', 'following_url': 'https://api.github.com/users/tqa236/following{/other_user}', 'gists_url': 'https://api.github.com/users/tqa236/gists{/gist_id}', 'starred_url': 'https://api.github.com/users/tqa236/starred{/owner}{/repo}', 'subscriptions_url': 'https://api.github.com/users/tqa236/subscriptions', 'organizations_url': 'https://api.github.com/users/tqa236/orgs', 'repos_url': 'https://api.github.com/users/tqa236/repos', 'events_url': 'https://api.github.com/users/tqa236/events{/privacy}', 'received_events_url': 'https://api.github.com/users/tqa236/received_events', 'type': 'User', 'site_admin': False}{'login': 'bebach', 'id': 145982645, 'node_id': 'U_kgDOCLOEtQ', 'avatar_url': 'https://avatars.githubusercontent.com/u/145982645?v=4', 'gravatar_id': '', 'url': 'https://api.github.com/users/bebach', 'html_url': 'https://github.com/bebach', 'followers_url': 'https://api.github.com/users/bebach/followers', 'following_url': 'https://api.github.com/users/bebach/following{/other_user}', 'gists_url': 'https://api.github.com/users/bebach/gists{/gist_id}', 'starred_url': 'https://api.github.com/users/bebach/starred{/owner}{/repo}', 'subscriptions_url': 'https://api.github.com/users/bebach/subscriptions', 'organizations_url': 'https://api.github.com/users/bebach/orgs', 'repos_url': 'https://api.github.com/users/bebach/repos', 'events_url': 'https://api.github.com/users/bebach/events{/privacy}', 'received_events_url': 'https://api.github.com/users/bebach/received_events', 'type': 'User', 'site_admin': False}{'login': 'enryH', 'id': 2833836, 'node_id': 'MDQ6VXNlcjI4MzM4MzY=', 'avatar_url': 'https://avatars.githubusercontent.com/u/2833836?v=4', 'gravatar_id': '', 'url': 'https://api.github.com/users/enryH', 'html_url': 'https://github.com/enryH', 'followers_url': 'https://api.github.com/users/enryH/followers', 'following_url': 'https://api.github.com/users/enryH/following{/other_user}', 'gists_url': 'https://api.github.com/users/enryH/gists{/gist_id}', 'starred_url': 'https://api.github.com/users/enryH/starred{/owner}{/repo}', 'subscriptions_url': 'https://api.github.com/users/enryH/subscriptions', 'organizations_url': 'https://api.github.com/users/enryH/orgs', 'repos_url': 'https://api.github.com/users/enryH/repos', 'events_url': 'https://api.github.com/users/enryH/events{/privacy}', 'received_events_url': 'https://api.github.com/users/enryH/received_events', 'type': 'User', 'site_admin': False}{'login': 'mtsokol', 'id': 8431159, 'node_id': 'MDQ6VXNlcjg0MzExNTk=', 'avatar_url': 'https://avatars.githubusercontent.com/u/8431159?v=4', 'gravatar_id': '', 'url': 'https://api.github.com/users/mtsokol', 'html_url': 'https://github.com/mtsokol', 'followers_url': 'https://api.github.com/users/mtsokol/followers', 'following_url': 'https://api.github.com/users/mtsokol/following{/other_user}', 'gists_url': 'https://api.github.com/users/mtsokol/gists{/gist_id}', 'starred_url': 'https://api.github.com/users/mtsokol/starred{/owner}{/repo}', 'subscriptions_url': 'https://api.github.com/users/mtsokol/subscriptions', 'organizations_url': 'https://api.github.com/users/mtsokol/orgs', 'repos_url': 'https://api.github.com/users/mtsokol/repos', 'events_url': 'https://api.github.com/users/mtsokol/events{/privacy}', 'received_events_url': 'https://api.github.com/users/mtsokol/received_events', 'type': 'User', 'site_admin': False}{'login': 'MarcoGorelli', 'id': 33491632, 'node_id': 'MDQ6VXNlcjMzNDkxNjMy', 'avatar_url': 'https://avatars.githubusercontent.com/u/33491632?v=4', 'gravatar_id': '', 'url': 'https://api.github.com/users/MarcoGorelli', 'html_url': 'https://github.com/MarcoGorelli', 'followers_url': 'https://api.github.com/users/MarcoGorelli/followers', 'following_url': 'https://api.github.com/users/MarcoGorelli/following{/other_user}', 'gists_url': 'https://api.github.com/users/MarcoGorelli/gists{/gist_id}', 'starred_url': 'https://api.github.com/users/MarcoGorelli/starred{/owner}{/repo}', 'subscriptions_url': 'https://api.github.com/users/MarcoGorelli/subscriptions', 'organizations_url': 'https://api.github.com/users/MarcoGorelli/orgs', 'repos_url': 'https://api.github.com/users/MarcoGorelli/repos', 'events_url': 'https://api.github.com/users/MarcoGorelli/events{/privacy}', 'received_events_url': 'https://api.github.com/users/MarcoGorelli/received_events', 'type': 'User', 'site_admin': False}{'login': 'lukemanley', 'id': 8519523, 'node_id': 'MDQ6VXNlcjg1MTk1MjM=', 'avatar_url': 'https://avatars.githubusercontent.com/u/8519523?v=4', 'gravatar_id': '', 'url': 'https://api.github.com/users/lukemanley', 'html_url': 'https://github.com/lukemanley', 'followers_url': 'https://api.github.com/users/lukemanley/followers', 'following_url': 'https://api.github.com/users/lukemanley/following{/other_user}', 'gists_url': 'https://api.github.com/users/lukemanley/gists{/gist_id}', 'starred_url': 'https://api.github.com/users/lukemanley/starred{/owner}{/repo}', 'subscriptions_url': 'https://api.github.com/users/lukemanley/subscriptions', 'organizations_url': 'https://api.github.com/users/lukemanley/orgs', 'repos_url': 'https://api.github.com/users/lukemanley/repos', 'events_url': 'https://api.github.com/users/lukemanley/events{/privacy}', 'received_events_url': 'https://api.github.com/users/lukemanley/received_events', 'type': 'User', 'site_admin': False}\"] to numeric",
     "output_type": "error",
     "traceback": [
      "\u001b[1;31m---------------------------------------------------------------------------\u001b[0m",
      "\u001b[1;31mTypeError\u001b[0m                                 Traceback (most recent call last)",
      "Cell \u001b[1;32mIn[112], line 1\u001b[0m\n\u001b[1;32m----> 1\u001b[0m df\u001b[38;5;241m.\u001b[39mfillna(\u001b[43mdf\u001b[49m\u001b[38;5;241;43m.\u001b[39;49m\u001b[43mmean\u001b[49m\u001b[43m(\u001b[49m\u001b[43m)\u001b[49m,inplace\u001b[38;5;241m=\u001b[39m\u001b[38;5;28;01mTrue\u001b[39;00m)\n",
      "File \u001b[1;32m~\\AppData\\Local\\Programs\\Python\\Python312\\Lib\\site-packages\\pandas\\core\\frame.py:11666\u001b[0m, in \u001b[0;36mDataFrame.mean\u001b[1;34m(self, axis, skipna, numeric_only, **kwargs)\u001b[0m\n\u001b[0;32m  11658\u001b[0m \u001b[38;5;129m@doc\u001b[39m(make_doc(\u001b[38;5;124m\"\u001b[39m\u001b[38;5;124mmean\u001b[39m\u001b[38;5;124m\"\u001b[39m, ndim\u001b[38;5;241m=\u001b[39m\u001b[38;5;241m2\u001b[39m))\n\u001b[0;32m  11659\u001b[0m \u001b[38;5;28;01mdef\u001b[39;00m \u001b[38;5;21mmean\u001b[39m(\n\u001b[0;32m  11660\u001b[0m     \u001b[38;5;28mself\u001b[39m,\n\u001b[1;32m   (...)\u001b[0m\n\u001b[0;32m  11664\u001b[0m     \u001b[38;5;241m*\u001b[39m\u001b[38;5;241m*\u001b[39mkwargs,\n\u001b[0;32m  11665\u001b[0m ):\n\u001b[1;32m> 11666\u001b[0m     result \u001b[38;5;241m=\u001b[39m \u001b[38;5;28;43msuper\u001b[39;49m\u001b[43m(\u001b[49m\u001b[43m)\u001b[49m\u001b[38;5;241;43m.\u001b[39;49m\u001b[43mmean\u001b[49m\u001b[43m(\u001b[49m\u001b[43maxis\u001b[49m\u001b[43m,\u001b[49m\u001b[43m \u001b[49m\u001b[43mskipna\u001b[49m\u001b[43m,\u001b[49m\u001b[43m \u001b[49m\u001b[43mnumeric_only\u001b[49m\u001b[43m,\u001b[49m\u001b[43m \u001b[49m\u001b[38;5;241;43m*\u001b[39;49m\u001b[38;5;241;43m*\u001b[39;49m\u001b[43mkwargs\u001b[49m\u001b[43m)\u001b[49m\n\u001b[0;32m  11667\u001b[0m     \u001b[38;5;28;01mif\u001b[39;00m \u001b[38;5;28misinstance\u001b[39m(result, Series):\n\u001b[0;32m  11668\u001b[0m         result \u001b[38;5;241m=\u001b[39m result\u001b[38;5;241m.\u001b[39m__finalize__(\u001b[38;5;28mself\u001b[39m, method\u001b[38;5;241m=\u001b[39m\u001b[38;5;124m\"\u001b[39m\u001b[38;5;124mmean\u001b[39m\u001b[38;5;124m\"\u001b[39m)\n",
      "File \u001b[1;32m~\\AppData\\Local\\Programs\\Python\\Python312\\Lib\\site-packages\\pandas\\core\\generic.py:12413\u001b[0m, in \u001b[0;36mNDFrame.mean\u001b[1;34m(self, axis, skipna, numeric_only, **kwargs)\u001b[0m\n\u001b[0;32m  12406\u001b[0m \u001b[38;5;28;01mdef\u001b[39;00m \u001b[38;5;21mmean\u001b[39m(\n\u001b[0;32m  12407\u001b[0m     \u001b[38;5;28mself\u001b[39m,\n\u001b[0;32m  12408\u001b[0m     axis: Axis \u001b[38;5;241m|\u001b[39m \u001b[38;5;28;01mNone\u001b[39;00m \u001b[38;5;241m=\u001b[39m \u001b[38;5;241m0\u001b[39m,\n\u001b[1;32m   (...)\u001b[0m\n\u001b[0;32m  12411\u001b[0m     \u001b[38;5;241m*\u001b[39m\u001b[38;5;241m*\u001b[39mkwargs,\n\u001b[0;32m  12412\u001b[0m ) \u001b[38;5;241m-\u001b[39m\u001b[38;5;241m>\u001b[39m Series \u001b[38;5;241m|\u001b[39m \u001b[38;5;28mfloat\u001b[39m:\n\u001b[1;32m> 12413\u001b[0m     \u001b[38;5;28;01mreturn\u001b[39;00m \u001b[38;5;28;43mself\u001b[39;49m\u001b[38;5;241;43m.\u001b[39;49m\u001b[43m_stat_function\u001b[49m\u001b[43m(\u001b[49m\n\u001b[0;32m  12414\u001b[0m \u001b[43m        \u001b[49m\u001b[38;5;124;43m\"\u001b[39;49m\u001b[38;5;124;43mmean\u001b[39;49m\u001b[38;5;124;43m\"\u001b[39;49m\u001b[43m,\u001b[49m\u001b[43m \u001b[49m\u001b[43mnanops\u001b[49m\u001b[38;5;241;43m.\u001b[39;49m\u001b[43mnanmean\u001b[49m\u001b[43m,\u001b[49m\u001b[43m \u001b[49m\u001b[43maxis\u001b[49m\u001b[43m,\u001b[49m\u001b[43m \u001b[49m\u001b[43mskipna\u001b[49m\u001b[43m,\u001b[49m\u001b[43m \u001b[49m\u001b[43mnumeric_only\u001b[49m\u001b[43m,\u001b[49m\u001b[43m \u001b[49m\u001b[38;5;241;43m*\u001b[39;49m\u001b[38;5;241;43m*\u001b[39;49m\u001b[43mkwargs\u001b[49m\n\u001b[0;32m  12415\u001b[0m \u001b[43m    \u001b[49m\u001b[43m)\u001b[49m\n",
      "File \u001b[1;32m~\\AppData\\Local\\Programs\\Python\\Python312\\Lib\\site-packages\\pandas\\core\\generic.py:12370\u001b[0m, in \u001b[0;36mNDFrame._stat_function\u001b[1;34m(self, name, func, axis, skipna, numeric_only, **kwargs)\u001b[0m\n\u001b[0;32m  12366\u001b[0m nv\u001b[38;5;241m.\u001b[39mvalidate_func(name, (), kwargs)\n\u001b[0;32m  12368\u001b[0m validate_bool_kwarg(skipna, \u001b[38;5;124m\"\u001b[39m\u001b[38;5;124mskipna\u001b[39m\u001b[38;5;124m\"\u001b[39m, none_allowed\u001b[38;5;241m=\u001b[39m\u001b[38;5;28;01mFalse\u001b[39;00m)\n\u001b[1;32m> 12370\u001b[0m \u001b[38;5;28;01mreturn\u001b[39;00m \u001b[38;5;28;43mself\u001b[39;49m\u001b[38;5;241;43m.\u001b[39;49m\u001b[43m_reduce\u001b[49m\u001b[43m(\u001b[49m\n\u001b[0;32m  12371\u001b[0m \u001b[43m    \u001b[49m\u001b[43mfunc\u001b[49m\u001b[43m,\u001b[49m\u001b[43m \u001b[49m\u001b[43mname\u001b[49m\u001b[38;5;241;43m=\u001b[39;49m\u001b[43mname\u001b[49m\u001b[43m,\u001b[49m\u001b[43m \u001b[49m\u001b[43maxis\u001b[49m\u001b[38;5;241;43m=\u001b[39;49m\u001b[43maxis\u001b[49m\u001b[43m,\u001b[49m\u001b[43m \u001b[49m\u001b[43mskipna\u001b[49m\u001b[38;5;241;43m=\u001b[39;49m\u001b[43mskipna\u001b[49m\u001b[43m,\u001b[49m\u001b[43m \u001b[49m\u001b[43mnumeric_only\u001b[49m\u001b[38;5;241;43m=\u001b[39;49m\u001b[43mnumeric_only\u001b[49m\n\u001b[0;32m  12372\u001b[0m \u001b[43m\u001b[49m\u001b[43m)\u001b[49m\n",
      "File \u001b[1;32m~\\AppData\\Local\\Programs\\Python\\Python312\\Lib\\site-packages\\pandas\\core\\frame.py:11535\u001b[0m, in \u001b[0;36mDataFrame._reduce\u001b[1;34m(self, op, name, axis, skipna, numeric_only, filter_type, **kwds)\u001b[0m\n\u001b[0;32m  11531\u001b[0m     df \u001b[38;5;241m=\u001b[39m df\u001b[38;5;241m.\u001b[39mT\n\u001b[0;32m  11533\u001b[0m \u001b[38;5;66;03m# After possibly _get_data and transposing, we are now in the\u001b[39;00m\n\u001b[0;32m  11534\u001b[0m \u001b[38;5;66;03m#  simple case where we can use BlockManager.reduce\u001b[39;00m\n\u001b[1;32m> 11535\u001b[0m res \u001b[38;5;241m=\u001b[39m \u001b[43mdf\u001b[49m\u001b[38;5;241;43m.\u001b[39;49m\u001b[43m_mgr\u001b[49m\u001b[38;5;241;43m.\u001b[39;49m\u001b[43mreduce\u001b[49m\u001b[43m(\u001b[49m\u001b[43mblk_func\u001b[49m\u001b[43m)\u001b[49m\n\u001b[0;32m  11536\u001b[0m out \u001b[38;5;241m=\u001b[39m df\u001b[38;5;241m.\u001b[39m_constructor_from_mgr(res, axes\u001b[38;5;241m=\u001b[39mres\u001b[38;5;241m.\u001b[39maxes)\u001b[38;5;241m.\u001b[39miloc[\u001b[38;5;241m0\u001b[39m]\n\u001b[0;32m  11537\u001b[0m \u001b[38;5;28;01mif\u001b[39;00m out_dtype \u001b[38;5;129;01mis\u001b[39;00m \u001b[38;5;129;01mnot\u001b[39;00m \u001b[38;5;28;01mNone\u001b[39;00m \u001b[38;5;129;01mand\u001b[39;00m out\u001b[38;5;241m.\u001b[39mdtype \u001b[38;5;241m!=\u001b[39m \u001b[38;5;124m\"\u001b[39m\u001b[38;5;124mboolean\u001b[39m\u001b[38;5;124m\"\u001b[39m:\n",
      "File \u001b[1;32m~\\AppData\\Local\\Programs\\Python\\Python312\\Lib\\site-packages\\pandas\\core\\internals\\managers.py:1501\u001b[0m, in \u001b[0;36mBlockManager.reduce\u001b[1;34m(self, func)\u001b[0m\n\u001b[0;32m   1499\u001b[0m res_blocks: \u001b[38;5;28mlist\u001b[39m[Block] \u001b[38;5;241m=\u001b[39m []\n\u001b[0;32m   1500\u001b[0m \u001b[38;5;28;01mfor\u001b[39;00m blk \u001b[38;5;129;01min\u001b[39;00m \u001b[38;5;28mself\u001b[39m\u001b[38;5;241m.\u001b[39mblocks:\n\u001b[1;32m-> 1501\u001b[0m     nbs \u001b[38;5;241m=\u001b[39m \u001b[43mblk\u001b[49m\u001b[38;5;241;43m.\u001b[39;49m\u001b[43mreduce\u001b[49m\u001b[43m(\u001b[49m\u001b[43mfunc\u001b[49m\u001b[43m)\u001b[49m\n\u001b[0;32m   1502\u001b[0m     res_blocks\u001b[38;5;241m.\u001b[39mextend(nbs)\n\u001b[0;32m   1504\u001b[0m index \u001b[38;5;241m=\u001b[39m Index([\u001b[38;5;28;01mNone\u001b[39;00m])  \u001b[38;5;66;03m# placeholder\u001b[39;00m\n",
      "File \u001b[1;32m~\\AppData\\Local\\Programs\\Python\\Python312\\Lib\\site-packages\\pandas\\core\\internals\\blocks.py:404\u001b[0m, in \u001b[0;36mBlock.reduce\u001b[1;34m(self, func)\u001b[0m\n\u001b[0;32m    398\u001b[0m \u001b[38;5;129m@final\u001b[39m\n\u001b[0;32m    399\u001b[0m \u001b[38;5;28;01mdef\u001b[39;00m \u001b[38;5;21mreduce\u001b[39m(\u001b[38;5;28mself\u001b[39m, func) \u001b[38;5;241m-\u001b[39m\u001b[38;5;241m>\u001b[39m \u001b[38;5;28mlist\u001b[39m[Block]:\n\u001b[0;32m    400\u001b[0m     \u001b[38;5;66;03m# We will apply the function and reshape the result into a single-row\u001b[39;00m\n\u001b[0;32m    401\u001b[0m     \u001b[38;5;66;03m#  Block with the same mgr_locs; squeezing will be done at a higher level\u001b[39;00m\n\u001b[0;32m    402\u001b[0m     \u001b[38;5;28;01massert\u001b[39;00m \u001b[38;5;28mself\u001b[39m\u001b[38;5;241m.\u001b[39mndim \u001b[38;5;241m==\u001b[39m \u001b[38;5;241m2\u001b[39m\n\u001b[1;32m--> 404\u001b[0m     result \u001b[38;5;241m=\u001b[39m \u001b[43mfunc\u001b[49m\u001b[43m(\u001b[49m\u001b[38;5;28;43mself\u001b[39;49m\u001b[38;5;241;43m.\u001b[39;49m\u001b[43mvalues\u001b[49m\u001b[43m)\u001b[49m\n\u001b[0;32m    406\u001b[0m     \u001b[38;5;28;01mif\u001b[39;00m \u001b[38;5;28mself\u001b[39m\u001b[38;5;241m.\u001b[39mvalues\u001b[38;5;241m.\u001b[39mndim \u001b[38;5;241m==\u001b[39m \u001b[38;5;241m1\u001b[39m:\n\u001b[0;32m    407\u001b[0m         res_values \u001b[38;5;241m=\u001b[39m result\n",
      "File \u001b[1;32m~\\AppData\\Local\\Programs\\Python\\Python312\\Lib\\site-packages\\pandas\\core\\frame.py:11454\u001b[0m, in \u001b[0;36mDataFrame._reduce.<locals>.blk_func\u001b[1;34m(values, axis)\u001b[0m\n\u001b[0;32m  11452\u001b[0m         \u001b[38;5;28;01mreturn\u001b[39;00m np\u001b[38;5;241m.\u001b[39marray([result])\n\u001b[0;32m  11453\u001b[0m \u001b[38;5;28;01melse\u001b[39;00m:\n\u001b[1;32m> 11454\u001b[0m     \u001b[38;5;28;01mreturn\u001b[39;00m \u001b[43mop\u001b[49m\u001b[43m(\u001b[49m\u001b[43mvalues\u001b[49m\u001b[43m,\u001b[49m\u001b[43m \u001b[49m\u001b[43maxis\u001b[49m\u001b[38;5;241;43m=\u001b[39;49m\u001b[43maxis\u001b[49m\u001b[43m,\u001b[49m\u001b[43m \u001b[49m\u001b[43mskipna\u001b[49m\u001b[38;5;241;43m=\u001b[39;49m\u001b[43mskipna\u001b[49m\u001b[43m,\u001b[49m\u001b[43m \u001b[49m\u001b[38;5;241;43m*\u001b[39;49m\u001b[38;5;241;43m*\u001b[39;49m\u001b[43mkwds\u001b[49m\u001b[43m)\u001b[49m\n",
      "File \u001b[1;32m~\\AppData\\Local\\Programs\\Python\\Python312\\Lib\\site-packages\\pandas\\core\\nanops.py:147\u001b[0m, in \u001b[0;36mbottleneck_switch.__call__.<locals>.f\u001b[1;34m(values, axis, skipna, **kwds)\u001b[0m\n\u001b[0;32m    145\u001b[0m         result \u001b[38;5;241m=\u001b[39m alt(values, axis\u001b[38;5;241m=\u001b[39maxis, skipna\u001b[38;5;241m=\u001b[39mskipna, \u001b[38;5;241m*\u001b[39m\u001b[38;5;241m*\u001b[39mkwds)\n\u001b[0;32m    146\u001b[0m \u001b[38;5;28;01melse\u001b[39;00m:\n\u001b[1;32m--> 147\u001b[0m     result \u001b[38;5;241m=\u001b[39m \u001b[43malt\u001b[49m\u001b[43m(\u001b[49m\u001b[43mvalues\u001b[49m\u001b[43m,\u001b[49m\u001b[43m \u001b[49m\u001b[43maxis\u001b[49m\u001b[38;5;241;43m=\u001b[39;49m\u001b[43maxis\u001b[49m\u001b[43m,\u001b[49m\u001b[43m \u001b[49m\u001b[43mskipna\u001b[49m\u001b[38;5;241;43m=\u001b[39;49m\u001b[43mskipna\u001b[49m\u001b[43m,\u001b[49m\u001b[43m \u001b[49m\u001b[38;5;241;43m*\u001b[39;49m\u001b[38;5;241;43m*\u001b[39;49m\u001b[43mkwds\u001b[49m\u001b[43m)\u001b[49m\n\u001b[0;32m    149\u001b[0m \u001b[38;5;28;01mreturn\u001b[39;00m result\n",
      "File \u001b[1;32m~\\AppData\\Local\\Programs\\Python\\Python312\\Lib\\site-packages\\pandas\\core\\nanops.py:404\u001b[0m, in \u001b[0;36m_datetimelike_compat.<locals>.new_func\u001b[1;34m(values, axis, skipna, mask, **kwargs)\u001b[0m\n\u001b[0;32m    401\u001b[0m \u001b[38;5;28;01mif\u001b[39;00m datetimelike \u001b[38;5;129;01mand\u001b[39;00m mask \u001b[38;5;129;01mis\u001b[39;00m \u001b[38;5;28;01mNone\u001b[39;00m:\n\u001b[0;32m    402\u001b[0m     mask \u001b[38;5;241m=\u001b[39m isna(values)\n\u001b[1;32m--> 404\u001b[0m result \u001b[38;5;241m=\u001b[39m \u001b[43mfunc\u001b[49m\u001b[43m(\u001b[49m\u001b[43mvalues\u001b[49m\u001b[43m,\u001b[49m\u001b[43m \u001b[49m\u001b[43maxis\u001b[49m\u001b[38;5;241;43m=\u001b[39;49m\u001b[43maxis\u001b[49m\u001b[43m,\u001b[49m\u001b[43m \u001b[49m\u001b[43mskipna\u001b[49m\u001b[38;5;241;43m=\u001b[39;49m\u001b[43mskipna\u001b[49m\u001b[43m,\u001b[49m\u001b[43m \u001b[49m\u001b[43mmask\u001b[49m\u001b[38;5;241;43m=\u001b[39;49m\u001b[43mmask\u001b[49m\u001b[43m,\u001b[49m\u001b[43m \u001b[49m\u001b[38;5;241;43m*\u001b[39;49m\u001b[38;5;241;43m*\u001b[39;49m\u001b[43mkwargs\u001b[49m\u001b[43m)\u001b[49m\n\u001b[0;32m    406\u001b[0m \u001b[38;5;28;01mif\u001b[39;00m datetimelike:\n\u001b[0;32m    407\u001b[0m     result \u001b[38;5;241m=\u001b[39m _wrap_results(result, orig_values\u001b[38;5;241m.\u001b[39mdtype, fill_value\u001b[38;5;241m=\u001b[39miNaT)\n",
      "File \u001b[1;32m~\\AppData\\Local\\Programs\\Python\\Python312\\Lib\\site-packages\\pandas\\core\\nanops.py:720\u001b[0m, in \u001b[0;36mnanmean\u001b[1;34m(values, axis, skipna, mask)\u001b[0m\n\u001b[0;32m    718\u001b[0m count \u001b[38;5;241m=\u001b[39m _get_counts(values\u001b[38;5;241m.\u001b[39mshape, mask, axis, dtype\u001b[38;5;241m=\u001b[39mdtype_count)\n\u001b[0;32m    719\u001b[0m the_sum \u001b[38;5;241m=\u001b[39m values\u001b[38;5;241m.\u001b[39msum(axis, dtype\u001b[38;5;241m=\u001b[39mdtype_sum)\n\u001b[1;32m--> 720\u001b[0m the_sum \u001b[38;5;241m=\u001b[39m \u001b[43m_ensure_numeric\u001b[49m\u001b[43m(\u001b[49m\u001b[43mthe_sum\u001b[49m\u001b[43m)\u001b[49m\n\u001b[0;32m    722\u001b[0m \u001b[38;5;28;01mif\u001b[39;00m axis \u001b[38;5;129;01mis\u001b[39;00m \u001b[38;5;129;01mnot\u001b[39;00m \u001b[38;5;28;01mNone\u001b[39;00m \u001b[38;5;129;01mand\u001b[39;00m \u001b[38;5;28mgetattr\u001b[39m(the_sum, \u001b[38;5;124m\"\u001b[39m\u001b[38;5;124mndim\u001b[39m\u001b[38;5;124m\"\u001b[39m, \u001b[38;5;28;01mFalse\u001b[39;00m):\n\u001b[0;32m    723\u001b[0m     count \u001b[38;5;241m=\u001b[39m cast(np\u001b[38;5;241m.\u001b[39mndarray, count)\n",
      "File \u001b[1;32m~\\AppData\\Local\\Programs\\Python\\Python312\\Lib\\site-packages\\pandas\\core\\nanops.py:1686\u001b[0m, in \u001b[0;36m_ensure_numeric\u001b[1;34m(x)\u001b[0m\n\u001b[0;32m   1683\u001b[0m inferred \u001b[38;5;241m=\u001b[39m lib\u001b[38;5;241m.\u001b[39minfer_dtype(x)\n\u001b[0;32m   1684\u001b[0m \u001b[38;5;28;01mif\u001b[39;00m inferred \u001b[38;5;129;01min\u001b[39;00m [\u001b[38;5;124m\"\u001b[39m\u001b[38;5;124mstring\u001b[39m\u001b[38;5;124m\"\u001b[39m, \u001b[38;5;124m\"\u001b[39m\u001b[38;5;124mmixed\u001b[39m\u001b[38;5;124m\"\u001b[39m]:\n\u001b[0;32m   1685\u001b[0m     \u001b[38;5;66;03m# GH#44008, GH#36703 avoid casting e.g. strings to numeric\u001b[39;00m\n\u001b[1;32m-> 1686\u001b[0m     \u001b[38;5;28;01mraise\u001b[39;00m \u001b[38;5;167;01mTypeError\u001b[39;00m(\u001b[38;5;124mf\u001b[39m\u001b[38;5;124m\"\u001b[39m\u001b[38;5;124mCould not convert \u001b[39m\u001b[38;5;132;01m{\u001b[39;00mx\u001b[38;5;132;01m}\u001b[39;00m\u001b[38;5;124m to numeric\u001b[39m\u001b[38;5;124m\"\u001b[39m)\n\u001b[0;32m   1687\u001b[0m \u001b[38;5;28;01mtry\u001b[39;00m:\n\u001b[0;32m   1688\u001b[0m     x \u001b[38;5;241m=\u001b[39m x\u001b[38;5;241m.\u001b[39mastype(np\u001b[38;5;241m.\u001b[39mcomplex128)\n",
      "\u001b[1;31mTypeError\u001b[0m: Could not convert [\"{'login': 'mroeschke', 'id': 10647082, 'node_id': 'MDQ6VXNlcjEwNjQ3MDgy', 'avatar_url': 'https://avatars.githubusercontent.com/u/10647082?v=4', 'gravatar_id': '', 'url': 'https://api.github.com/users/mroeschke', 'html_url': 'https://github.com/mroeschke', 'followers_url': 'https://api.github.com/users/mroeschke/followers', 'following_url': 'https://api.github.com/users/mroeschke/following{/other_user}', 'gists_url': 'https://api.github.com/users/mroeschke/gists{/gist_id}', 'starred_url': 'https://api.github.com/users/mroeschke/starred{/owner}{/repo}', 'subscriptions_url': 'https://api.github.com/users/mroeschke/subscriptions', 'organizations_url': 'https://api.github.com/users/mroeschke/orgs', 'repos_url': 'https://api.github.com/users/mroeschke/repos', 'events_url': 'https://api.github.com/users/mroeschke/events{/privacy}', 'received_events_url': 'https://api.github.com/users/mroeschke/received_events', 'type': 'User', 'site_admin': False}{'login': 'jordan-d-murphy', 'id': 35613487, 'node_id': 'MDQ6VXNlcjM1NjEzNDg3', 'avatar_url': 'https://avatars.githubusercontent.com/u/35613487?v=4', 'gravatar_id': '', 'url': 'https://api.github.com/users/jordan-d-murphy', 'html_url': 'https://github.com/jordan-d-murphy', 'followers_url': 'https://api.github.com/users/jordan-d-murphy/followers', 'following_url': 'https://api.github.com/users/jordan-d-murphy/following{/other_user}', 'gists_url': 'https://api.github.com/users/jordan-d-murphy/gists{/gist_id}', 'starred_url': 'https://api.github.com/users/jordan-d-murphy/starred{/owner}{/repo}', 'subscriptions_url': 'https://api.github.com/users/jordan-d-murphy/subscriptions', 'organizations_url': 'https://api.github.com/users/jordan-d-murphy/orgs', 'repos_url': 'https://api.github.com/users/jordan-d-murphy/repos', 'events_url': 'https://api.github.com/users/jordan-d-murphy/events{/privacy}', 'received_events_url': 'https://api.github.com/users/jordan-d-murphy/received_events', 'type': 'User', 'site_admin': False}{'login': 'noah-asing', 'id': 7989798, 'node_id': 'MDQ6VXNlcjc5ODk3OTg=', 'avatar_url': 'https://avatars.githubusercontent.com/u/7989798?v=4', 'gravatar_id': '', 'url': 'https://api.github.com/users/noah-asing', 'html_url': 'https://github.com/noah-asing', 'followers_url': 'https://api.github.com/users/noah-asing/followers', 'following_url': 'https://api.github.com/users/noah-asing/following{/other_user}', 'gists_url': 'https://api.github.com/users/noah-asing/gists{/gist_id}', 'starred_url': 'https://api.github.com/users/noah-asing/starred{/owner}{/repo}', 'subscriptions_url': 'https://api.github.com/users/noah-asing/subscriptions', 'organizations_url': 'https://api.github.com/users/noah-asing/orgs', 'repos_url': 'https://api.github.com/users/noah-asing/repos', 'events_url': 'https://api.github.com/users/noah-asing/events{/privacy}', 'received_events_url': 'https://api.github.com/users/noah-asing/received_events', 'type': 'User', 'site_admin': False}{'login': 'jrmylow', 'id': 33999325, 'node_id': 'MDQ6VXNlcjMzOTk5MzI1', 'avatar_url': 'https://avatars.githubusercontent.com/u/33999325?v=4', 'gravatar_id': '', 'url': 'https://api.github.com/users/jrmylow', 'html_url': 'https://github.com/jrmylow', 'followers_url': 'https://api.github.com/users/jrmylow/followers', 'following_url': 'https://api.github.com/users/jrmylow/following{/other_user}', 'gists_url': 'https://api.github.com/users/jrmylow/gists{/gist_id}', 'starred_url': 'https://api.github.com/users/jrmylow/starred{/owner}{/repo}', 'subscriptions_url': 'https://api.github.com/users/jrmylow/subscriptions', 'organizations_url': 'https://api.github.com/users/jrmylow/orgs', 'repos_url': 'https://api.github.com/users/jrmylow/repos', 'events_url': 'https://api.github.com/users/jrmylow/events{/privacy}', 'received_events_url': 'https://api.github.com/users/jrmylow/received_events', 'type': 'User', 'site_admin': False}{'login': 'phofl', 'id': 61934744, 'node_id': 'MDQ6VXNlcjYxOTM0NzQ0', 'avatar_url': 'https://avatars.githubusercontent.com/u/61934744?v=4', 'gravatar_id': '', 'url': 'https://api.github.com/users/phofl', 'html_url': 'https://github.com/phofl', 'followers_url': 'https://api.github.com/users/phofl/followers', 'following_url': 'https://api.github.com/users/phofl/following{/other_user}', 'gists_url': 'https://api.github.com/users/phofl/gists{/gist_id}', 'starred_url': 'https://api.github.com/users/phofl/starred{/owner}{/repo}', 'subscriptions_url': 'https://api.github.com/users/phofl/subscriptions', 'organizations_url': 'https://api.github.com/users/phofl/orgs', 'repos_url': 'https://api.github.com/users/phofl/repos', 'events_url': 'https://api.github.com/users/phofl/events{/privacy}', 'received_events_url': 'https://api.github.com/users/phofl/received_events', 'type': 'User', 'site_admin': False}{'login': 'mroeschke', 'id': 10647082, 'node_id': 'MDQ6VXNlcjEwNjQ3MDgy', 'avatar_url': 'https://avatars.githubusercontent.com/u/10647082?v=4', 'gravatar_id': '', 'url': 'https://api.github.com/users/mroeschke', 'html_url': 'https://github.com/mroeschke', 'followers_url': 'https://api.github.com/users/mroeschke/followers', 'following_url': 'https://api.github.com/users/mroeschke/following{/other_user}', 'gists_url': 'https://api.github.com/users/mroeschke/gists{/gist_id}', 'starred_url': 'https://api.github.com/users/mroeschke/starred{/owner}{/repo}', 'subscriptions_url': 'https://api.github.com/users/mroeschke/subscriptions', 'organizations_url': 'https://api.github.com/users/mroeschke/orgs', 'repos_url': 'https://api.github.com/users/mroeschke/repos', 'events_url': 'https://api.github.com/users/mroeschke/events{/privacy}', 'received_events_url': 'https://api.github.com/users/mroeschke/received_events', 'type': 'User', 'site_admin': False}{'login': 'koushik-rout-samsung', 'id': 146946876, 'node_id': 'U_kgDOCMI7PA', 'avatar_url': 'https://avatars.githubusercontent.com/u/146946876?v=4', 'gravatar_id': '', 'url': 'https://api.github.com/users/koushik-rout-samsung', 'html_url': 'https://github.com/koushik-rout-samsung', 'followers_url': 'https://api.github.com/users/koushik-rout-samsung/followers', 'following_url': 'https://api.github.com/users/koushik-rout-samsung/following{/other_user}', 'gists_url': 'https://api.github.com/users/koushik-rout-samsung/gists{/gist_id}', 'starred_url': 'https://api.github.com/users/koushik-rout-samsung/starred{/owner}{/repo}', 'subscriptions_url': 'https://api.github.com/users/koushik-rout-samsung/subscriptions', 'organizations_url': 'https://api.github.com/users/koushik-rout-samsung/orgs', 'repos_url': 'https://api.github.com/users/koushik-rout-samsung/repos', 'events_url': 'https://api.github.com/users/koushik-rout-samsung/events{/privacy}', 'received_events_url': 'https://api.github.com/users/koushik-rout-samsung/received_events', 'type': 'User', 'site_admin': False}{'login': 'LakshmanKishore', 'id': 61258323, 'node_id': 'MDQ6VXNlcjYxMjU4MzIz', 'avatar_url': 'https://avatars.githubusercontent.com/u/61258323?v=4', 'gravatar_id': '', 'url': 'https://api.github.com/users/LakshmanKishore', 'html_url': 'https://github.com/LakshmanKishore', 'followers_url': 'https://api.github.com/users/LakshmanKishore/followers', 'following_url': 'https://api.github.com/users/LakshmanKishore/following{/other_user}', 'gists_url': 'https://api.github.com/users/LakshmanKishore/gists{/gist_id}', 'starred_url': 'https://api.github.com/users/LakshmanKishore/starred{/owner}{/repo}', 'subscriptions_url': 'https://api.github.com/users/LakshmanKishore/subscriptions', 'organizations_url': 'https://api.github.com/users/LakshmanKishore/orgs', 'repos_url': 'https://api.github.com/users/LakshmanKishore/repos', 'events_url': 'https://api.github.com/users/LakshmanKishore/events{/privacy}', 'received_events_url': 'https://api.github.com/users/LakshmanKishore/received_events', 'type': 'User', 'site_admin': False}{'login': 'Jorewin', 'id': 56088851, 'node_id': 'MDQ6VXNlcjU2MDg4ODUx', 'avatar_url': 'https://avatars.githubusercontent.com/u/56088851?v=4', 'gravatar_id': '', 'url': 'https://api.github.com/users/Jorewin', 'html_url': 'https://github.com/Jorewin', 'followers_url': 'https://api.github.com/users/Jorewin/followers', 'following_url': 'https://api.github.com/users/Jorewin/following{/other_user}', 'gists_url': 'https://api.github.com/users/Jorewin/gists{/gist_id}', 'starred_url': 'https://api.github.com/users/Jorewin/starred{/owner}{/repo}', 'subscriptions_url': 'https://api.github.com/users/Jorewin/subscriptions', 'organizations_url': 'https://api.github.com/users/Jorewin/orgs', 'repos_url': 'https://api.github.com/users/Jorewin/repos', 'events_url': 'https://api.github.com/users/Jorewin/events{/privacy}', 'received_events_url': 'https://api.github.com/users/Jorewin/received_events', 'type': 'User', 'site_admin': False}{'login': 'gsehrlich', 'id': 11000354, 'node_id': 'MDQ6VXNlcjExMDAwMzU0', 'avatar_url': 'https://avatars.githubusercontent.com/u/11000354?v=4', 'gravatar_id': '', 'url': 'https://api.github.com/users/gsehrlich', 'html_url': 'https://github.com/gsehrlich', 'followers_url': 'https://api.github.com/users/gsehrlich/followers', 'following_url': 'https://api.github.com/users/gsehrlich/following{/other_user}', 'gists_url': 'https://api.github.com/users/gsehrlich/gists{/gist_id}', 'starred_url': 'https://api.github.com/users/gsehrlich/starred{/owner}{/repo}', 'subscriptions_url': 'https://api.github.com/users/gsehrlich/subscriptions', 'organizations_url': 'https://api.github.com/users/gsehrlich/orgs', 'repos_url': 'https://api.github.com/users/gsehrlich/repos', 'events_url': 'https://api.github.com/users/gsehrlich/events{/privacy}', 'received_events_url': 'https://api.github.com/users/gsehrlich/received_events', 'type': 'User', 'site_admin': False}{'login': 'khider', 'id': 11758571, 'node_id': 'MDQ6VXNlcjExNzU4NTcx', 'avatar_url': 'https://avatars.githubusercontent.com/u/11758571?v=4', 'gravatar_id': '', 'url': 'https://api.github.com/users/khider', 'html_url': 'https://github.com/khider', 'followers_url': 'https://api.github.com/users/khider/followers', 'following_url': 'https://api.github.com/users/khider/following{/other_user}', 'gists_url': 'https://api.github.com/users/khider/gists{/gist_id}', 'starred_url': 'https://api.github.com/users/khider/starred{/owner}{/repo}', 'subscriptions_url': 'https://api.github.com/users/khider/subscriptions', 'organizations_url': 'https://api.github.com/users/khider/orgs', 'repos_url': 'https://api.github.com/users/khider/repos', 'events_url': 'https://api.github.com/users/khider/events{/privacy}', 'received_events_url': 'https://api.github.com/users/khider/received_events', 'type': 'User', 'site_admin': False}{'login': 'michaelquinn32', 'id': 3473921, 'node_id': 'MDQ6VXNlcjM0NzM5MjE=', 'avatar_url': 'https://avatars.githubusercontent.com/u/3473921?v=4', 'gravatar_id': '', 'url': 'https://api.github.com/users/michaelquinn32', 'html_url': 'https://github.com/michaelquinn32', 'followers_url': 'https://api.github.com/users/michaelquinn32/followers', 'following_url': 'https://api.github.com/users/michaelquinn32/following{/other_user}', 'gists_url': 'https://api.github.com/users/michaelquinn32/gists{/gist_id}', 'starred_url': 'https://api.github.com/users/michaelquinn32/starred{/owner}{/repo}', 'subscriptions_url': 'https://api.github.com/users/michaelquinn32/subscriptions', 'organizations_url': 'https://api.github.com/users/michaelquinn32/orgs', 'repos_url': 'https://api.github.com/users/michaelquinn32/repos', 'events_url': 'https://api.github.com/users/michaelquinn32/events{/privacy}', 'received_events_url': 'https://api.github.com/users/michaelquinn32/received_events', 'type': 'User', 'site_admin': False}{'login': 'sfc-gh-aalam', 'id': 107440467, 'node_id': 'U_kgDOBmdpUw', 'avatar_url': 'https://avatars.githubusercontent.com/u/107440467?v=4', 'gravatar_id': '', 'url': 'https://api.github.com/users/sfc-gh-aalam', 'html_url': 'https://github.com/sfc-gh-aalam', 'followers_url': 'https://api.github.com/users/sfc-gh-aalam/followers', 'following_url': 'https://api.github.com/users/sfc-gh-aalam/following{/other_user}', 'gists_url': 'https://api.github.com/users/sfc-gh-aalam/gists{/gist_id}', 'starred_url': 'https://api.github.com/users/sfc-gh-aalam/starred{/owner}{/repo}', 'subscriptions_url': 'https://api.github.com/users/sfc-gh-aalam/subscriptions', 'organizations_url': 'https://api.github.com/users/sfc-gh-aalam/orgs', 'repos_url': 'https://api.github.com/users/sfc-gh-aalam/repos', 'events_url': 'https://api.github.com/users/sfc-gh-aalam/events{/privacy}', 'received_events_url': 'https://api.github.com/users/sfc-gh-aalam/received_events', 'type': 'User', 'site_admin': False}{'login': 'phofl', 'id': 61934744, 'node_id': 'MDQ6VXNlcjYxOTM0NzQ0', 'avatar_url': 'https://avatars.githubusercontent.com/u/61934744?v=4', 'gravatar_id': '', 'url': 'https://api.github.com/users/phofl', 'html_url': 'https://github.com/phofl', 'followers_url': 'https://api.github.com/users/phofl/followers', 'following_url': 'https://api.github.com/users/phofl/following{/other_user}', 'gists_url': 'https://api.github.com/users/phofl/gists{/gist_id}', 'starred_url': 'https://api.github.com/users/phofl/starred{/owner}{/repo}', 'subscriptions_url': 'https://api.github.com/users/phofl/subscriptions', 'organizations_url': 'https://api.github.com/users/phofl/orgs', 'repos_url': 'https://api.github.com/users/phofl/repos', 'events_url': 'https://api.github.com/users/phofl/events{/privacy}', 'received_events_url': 'https://api.github.com/users/phofl/received_events', 'type': 'User', 'site_admin': False}{'login': 'mroeschke', 'id': 10647082, 'node_id': 'MDQ6VXNlcjEwNjQ3MDgy', 'avatar_url': 'https://avatars.githubusercontent.com/u/10647082?v=4', 'gravatar_id': '', 'url': 'https://api.github.com/users/mroeschke', 'html_url': 'https://github.com/mroeschke', 'followers_url': 'https://api.github.com/users/mroeschke/followers', 'following_url': 'https://api.github.com/users/mroeschke/following{/other_user}', 'gists_url': 'https://api.github.com/users/mroeschke/gists{/gist_id}', 'starred_url': 'https://api.github.com/users/mroeschke/starred{/owner}{/repo}', 'subscriptions_url': 'https://api.github.com/users/mroeschke/subscriptions', 'organizations_url': 'https://api.github.com/users/mroeschke/orgs', 'repos_url': 'https://api.github.com/users/mroeschke/repos', 'events_url': 'https://api.github.com/users/mroeschke/events{/privacy}', 'received_events_url': 'https://api.github.com/users/mroeschke/received_events', 'type': 'User', 'site_admin': False}{'login': 'steppi', 'id': 1953382, 'node_id': 'MDQ6VXNlcjE5NTMzODI=', 'avatar_url': 'https://avatars.githubusercontent.com/u/1953382?v=4', 'gravatar_id': '', 'url': 'https://api.github.com/users/steppi', 'html_url': 'https://github.com/steppi', 'followers_url': 'https://api.github.com/users/steppi/followers', 'following_url': 'https://api.github.com/users/steppi/following{/other_user}', 'gists_url': 'https://api.github.com/users/steppi/gists{/gist_id}', 'starred_url': 'https://api.github.com/users/steppi/starred{/owner}{/repo}', 'subscriptions_url': 'https://api.github.com/users/steppi/subscriptions', 'organizations_url': 'https://api.github.com/users/steppi/orgs', 'repos_url': 'https://api.github.com/users/steppi/repos', 'events_url': 'https://api.github.com/users/steppi/events{/privacy}', 'received_events_url': 'https://api.github.com/users/steppi/received_events', 'type': 'User', 'site_admin': False}{'login': 'celestinoxp', 'id': 41735311, 'node_id': 'MDQ6VXNlcjQxNzM1MzEx', 'avatar_url': 'https://avatars.githubusercontent.com/u/41735311?v=4', 'gravatar_id': '', 'url': 'https://api.github.com/users/celestinoxp', 'html_url': 'https://github.com/celestinoxp', 'followers_url': 'https://api.github.com/users/celestinoxp/followers', 'following_url': 'https://api.github.com/users/celestinoxp/following{/other_user}', 'gists_url': 'https://api.github.com/users/celestinoxp/gists{/gist_id}', 'starred_url': 'https://api.github.com/users/celestinoxp/starred{/owner}{/repo}', 'subscriptions_url': 'https://api.github.com/users/celestinoxp/subscriptions', 'organizations_url': 'https://api.github.com/users/celestinoxp/orgs', 'repos_url': 'https://api.github.com/users/celestinoxp/repos', 'events_url': 'https://api.github.com/users/celestinoxp/events{/privacy}', 'received_events_url': 'https://api.github.com/users/celestinoxp/received_events', 'type': 'User', 'site_admin': False}{'login': 'damianr13', 'id': 7912289, 'node_id': 'MDQ6VXNlcjc5MTIyODk=', 'avatar_url': 'https://avatars.githubusercontent.com/u/7912289?v=4', 'gravatar_id': '', 'url': 'https://api.github.com/users/damianr13', 'html_url': 'https://github.com/damianr13', 'followers_url': 'https://api.github.com/users/damianr13/followers', 'following_url': 'https://api.github.com/users/damianr13/following{/other_user}', 'gists_url': 'https://api.github.com/users/damianr13/gists{/gist_id}', 'starred_url': 'https://api.github.com/users/damianr13/starred{/owner}{/repo}', 'subscriptions_url': 'https://api.github.com/users/damianr13/subscriptions', 'organizations_url': 'https://api.github.com/users/damianr13/orgs', 'repos_url': 'https://api.github.com/users/damianr13/repos', 'events_url': 'https://api.github.com/users/damianr13/events{/privacy}', 'received_events_url': 'https://api.github.com/users/damianr13/received_events', 'type': 'User', 'site_admin': False}{'login': 'yuanx749', 'id': 47032563, 'node_id': 'MDQ6VXNlcjQ3MDMyNTYz', 'avatar_url': 'https://avatars.githubusercontent.com/u/47032563?v=4', 'gravatar_id': '', 'url': 'https://api.github.com/users/yuanx749', 'html_url': 'https://github.com/yuanx749', 'followers_url': 'https://api.github.com/users/yuanx749/followers', 'following_url': 'https://api.github.com/users/yuanx749/following{/other_user}', 'gists_url': 'https://api.github.com/users/yuanx749/gists{/gist_id}', 'starred_url': 'https://api.github.com/users/yuanx749/starred{/owner}{/repo}', 'subscriptions_url': 'https://api.github.com/users/yuanx749/subscriptions', 'organizations_url': 'https://api.github.com/users/yuanx749/orgs', 'repos_url': 'https://api.github.com/users/yuanx749/repos', 'events_url': 'https://api.github.com/users/yuanx749/events{/privacy}', 'received_events_url': 'https://api.github.com/users/yuanx749/received_events', 'type': 'User', 'site_admin': False}{'login': 'maread99', 'id': 56914820, 'node_id': 'MDQ6VXNlcjU2OTE0ODIw', 'avatar_url': 'https://avatars.githubusercontent.com/u/56914820?v=4', 'gravatar_id': '', 'url': 'https://api.github.com/users/maread99', 'html_url': 'https://github.com/maread99', 'followers_url': 'https://api.github.com/users/maread99/followers', 'following_url': 'https://api.github.com/users/maread99/following{/other_user}', 'gists_url': 'https://api.github.com/users/maread99/gists{/gist_id}', 'starred_url': 'https://api.github.com/users/maread99/starred{/owner}{/repo}', 'subscriptions_url': 'https://api.github.com/users/maread99/subscriptions', 'organizations_url': 'https://api.github.com/users/maread99/orgs', 'repos_url': 'https://api.github.com/users/maread99/repos', 'events_url': 'https://api.github.com/users/maread99/events{/privacy}', 'received_events_url': 'https://api.github.com/users/maread99/received_events', 'type': 'User', 'site_admin': False}{'login': 'PaleNeutron', 'id': 8296331, 'node_id': 'MDQ6VXNlcjgyOTYzMzE=', 'avatar_url': 'https://avatars.githubusercontent.com/u/8296331?v=4', 'gravatar_id': '', 'url': 'https://api.github.com/users/PaleNeutron', 'html_url': 'https://github.com/PaleNeutron', 'followers_url': 'https://api.github.com/users/PaleNeutron/followers', 'following_url': 'https://api.github.com/users/PaleNeutron/following{/other_user}', 'gists_url': 'https://api.github.com/users/PaleNeutron/gists{/gist_id}', 'starred_url': 'https://api.github.com/users/PaleNeutron/starred{/owner}{/repo}', 'subscriptions_url': 'https://api.github.com/users/PaleNeutron/subscriptions', 'organizations_url': 'https://api.github.com/users/PaleNeutron/orgs', 'repos_url': 'https://api.github.com/users/PaleNeutron/repos', 'events_url': 'https://api.github.com/users/PaleNeutron/events{/privacy}', 'received_events_url': 'https://api.github.com/users/PaleNeutron/received_events', 'type': 'User', 'site_admin': False}{'login': 'weltenseglr', 'id': 19477864, 'node_id': 'MDQ6VXNlcjE5NDc3ODY0', 'avatar_url': 'https://avatars.githubusercontent.com/u/19477864?v=4', 'gravatar_id': '', 'url': 'https://api.github.com/users/weltenseglr', 'html_url': 'https://github.com/weltenseglr', 'followers_url': 'https://api.github.com/users/weltenseglr/followers', 'following_url': 'https://api.github.com/users/weltenseglr/following{/other_user}', 'gists_url': 'https://api.github.com/users/weltenseglr/gists{/gist_id}', 'starred_url': 'https://api.github.com/users/weltenseglr/starred{/owner}{/repo}', 'subscriptions_url': 'https://api.github.com/users/weltenseglr/subscriptions', 'organizations_url': 'https://api.github.com/users/weltenseglr/orgs', 'repos_url': 'https://api.github.com/users/weltenseglr/repos', 'events_url': 'https://api.github.com/users/weltenseglr/events{/privacy}', 'received_events_url': 'https://api.github.com/users/weltenseglr/received_events', 'type': 'User', 'site_admin': False}{'login': 'wjandrea', 'id': 22385371, 'node_id': 'MDQ6VXNlcjIyMzg1Mzcx', 'avatar_url': 'https://avatars.githubusercontent.com/u/22385371?v=4', 'gravatar_id': '', 'url': 'https://api.github.com/users/wjandrea', 'html_url': 'https://github.com/wjandrea', 'followers_url': 'https://api.github.com/users/wjandrea/followers', 'following_url': 'https://api.github.com/users/wjandrea/following{/other_user}', 'gists_url': 'https://api.github.com/users/wjandrea/gists{/gist_id}', 'starred_url': 'https://api.github.com/users/wjandrea/starred{/owner}{/repo}', 'subscriptions_url': 'https://api.github.com/users/wjandrea/subscriptions', 'organizations_url': 'https://api.github.com/users/wjandrea/orgs', 'repos_url': 'https://api.github.com/users/wjandrea/repos', 'events_url': 'https://api.github.com/users/wjandrea/events{/privacy}', 'received_events_url': 'https://api.github.com/users/wjandrea/received_events', 'type': 'User', 'site_admin': False}{'login': 'tqa236', 'id': 25203655, 'node_id': 'MDQ6VXNlcjI1MjAzNjU1', 'avatar_url': 'https://avatars.githubusercontent.com/u/25203655?v=4', 'gravatar_id': '', 'url': 'https://api.github.com/users/tqa236', 'html_url': 'https://github.com/tqa236', 'followers_url': 'https://api.github.com/users/tqa236/followers', 'following_url': 'https://api.github.com/users/tqa236/following{/other_user}', 'gists_url': 'https://api.github.com/users/tqa236/gists{/gist_id}', 'starred_url': 'https://api.github.com/users/tqa236/starred{/owner}{/repo}', 'subscriptions_url': 'https://api.github.com/users/tqa236/subscriptions', 'organizations_url': 'https://api.github.com/users/tqa236/orgs', 'repos_url': 'https://api.github.com/users/tqa236/repos', 'events_url': 'https://api.github.com/users/tqa236/events{/privacy}', 'received_events_url': 'https://api.github.com/users/tqa236/received_events', 'type': 'User', 'site_admin': False}{'login': 'tqa236', 'id': 25203655, 'node_id': 'MDQ6VXNlcjI1MjAzNjU1', 'avatar_url': 'https://avatars.githubusercontent.com/u/25203655?v=4', 'gravatar_id': '', 'url': 'https://api.github.com/users/tqa236', 'html_url': 'https://github.com/tqa236', 'followers_url': 'https://api.github.com/users/tqa236/followers', 'following_url': 'https://api.github.com/users/tqa236/following{/other_user}', 'gists_url': 'https://api.github.com/users/tqa236/gists{/gist_id}', 'starred_url': 'https://api.github.com/users/tqa236/starred{/owner}{/repo}', 'subscriptions_url': 'https://api.github.com/users/tqa236/subscriptions', 'organizations_url': 'https://api.github.com/users/tqa236/orgs', 'repos_url': 'https://api.github.com/users/tqa236/repos', 'events_url': 'https://api.github.com/users/tqa236/events{/privacy}', 'received_events_url': 'https://api.github.com/users/tqa236/received_events', 'type': 'User', 'site_admin': False}{'login': 'bebach', 'id': 145982645, 'node_id': 'U_kgDOCLOEtQ', 'avatar_url': 'https://avatars.githubusercontent.com/u/145982645?v=4', 'gravatar_id': '', 'url': 'https://api.github.com/users/bebach', 'html_url': 'https://github.com/bebach', 'followers_url': 'https://api.github.com/users/bebach/followers', 'following_url': 'https://api.github.com/users/bebach/following{/other_user}', 'gists_url': 'https://api.github.com/users/bebach/gists{/gist_id}', 'starred_url': 'https://api.github.com/users/bebach/starred{/owner}{/repo}', 'subscriptions_url': 'https://api.github.com/users/bebach/subscriptions', 'organizations_url': 'https://api.github.com/users/bebach/orgs', 'repos_url': 'https://api.github.com/users/bebach/repos', 'events_url': 'https://api.github.com/users/bebach/events{/privacy}', 'received_events_url': 'https://api.github.com/users/bebach/received_events', 'type': 'User', 'site_admin': False}{'login': 'enryH', 'id': 2833836, 'node_id': 'MDQ6VXNlcjI4MzM4MzY=', 'avatar_url': 'https://avatars.githubusercontent.com/u/2833836?v=4', 'gravatar_id': '', 'url': 'https://api.github.com/users/enryH', 'html_url': 'https://github.com/enryH', 'followers_url': 'https://api.github.com/users/enryH/followers', 'following_url': 'https://api.github.com/users/enryH/following{/other_user}', 'gists_url': 'https://api.github.com/users/enryH/gists{/gist_id}', 'starred_url': 'https://api.github.com/users/enryH/starred{/owner}{/repo}', 'subscriptions_url': 'https://api.github.com/users/enryH/subscriptions', 'organizations_url': 'https://api.github.com/users/enryH/orgs', 'repos_url': 'https://api.github.com/users/enryH/repos', 'events_url': 'https://api.github.com/users/enryH/events{/privacy}', 'received_events_url': 'https://api.github.com/users/enryH/received_events', 'type': 'User', 'site_admin': False}{'login': 'mtsokol', 'id': 8431159, 'node_id': 'MDQ6VXNlcjg0MzExNTk=', 'avatar_url': 'https://avatars.githubusercontent.com/u/8431159?v=4', 'gravatar_id': '', 'url': 'https://api.github.com/users/mtsokol', 'html_url': 'https://github.com/mtsokol', 'followers_url': 'https://api.github.com/users/mtsokol/followers', 'following_url': 'https://api.github.com/users/mtsokol/following{/other_user}', 'gists_url': 'https://api.github.com/users/mtsokol/gists{/gist_id}', 'starred_url': 'https://api.github.com/users/mtsokol/starred{/owner}{/repo}', 'subscriptions_url': 'https://api.github.com/users/mtsokol/subscriptions', 'organizations_url': 'https://api.github.com/users/mtsokol/orgs', 'repos_url': 'https://api.github.com/users/mtsokol/repos', 'events_url': 'https://api.github.com/users/mtsokol/events{/privacy}', 'received_events_url': 'https://api.github.com/users/mtsokol/received_events', 'type': 'User', 'site_admin': False}{'login': 'MarcoGorelli', 'id': 33491632, 'node_id': 'MDQ6VXNlcjMzNDkxNjMy', 'avatar_url': 'https://avatars.githubusercontent.com/u/33491632?v=4', 'gravatar_id': '', 'url': 'https://api.github.com/users/MarcoGorelli', 'html_url': 'https://github.com/MarcoGorelli', 'followers_url': 'https://api.github.com/users/MarcoGorelli/followers', 'following_url': 'https://api.github.com/users/MarcoGorelli/following{/other_user}', 'gists_url': 'https://api.github.com/users/MarcoGorelli/gists{/gist_id}', 'starred_url': 'https://api.github.com/users/MarcoGorelli/starred{/owner}{/repo}', 'subscriptions_url': 'https://api.github.com/users/MarcoGorelli/subscriptions', 'organizations_url': 'https://api.github.com/users/MarcoGorelli/orgs', 'repos_url': 'https://api.github.com/users/MarcoGorelli/repos', 'events_url': 'https://api.github.com/users/MarcoGorelli/events{/privacy}', 'received_events_url': 'https://api.github.com/users/MarcoGorelli/received_events', 'type': 'User', 'site_admin': False}{'login': 'lukemanley', 'id': 8519523, 'node_id': 'MDQ6VXNlcjg1MTk1MjM=', 'avatar_url': 'https://avatars.githubusercontent.com/u/8519523?v=4', 'gravatar_id': '', 'url': 'https://api.github.com/users/lukemanley', 'html_url': 'https://github.com/lukemanley', 'followers_url': 'https://api.github.com/users/lukemanley/followers', 'following_url': 'https://api.github.com/users/lukemanley/following{/other_user}', 'gists_url': 'https://api.github.com/users/lukemanley/gists{/gist_id}', 'starred_url': 'https://api.github.com/users/lukemanley/starred{/owner}{/repo}', 'subscriptions_url': 'https://api.github.com/users/lukemanley/subscriptions', 'organizations_url': 'https://api.github.com/users/lukemanley/orgs', 'repos_url': 'https://api.github.com/users/lukemanley/repos', 'events_url': 'https://api.github.com/users/lukemanley/events{/privacy}', 'received_events_url': 'https://api.github.com/users/lukemanley/received_events', 'type': 'User', 'site_admin': False}\"] to numeric"
     ]
    }
   ],
   "source": [
    "# df.fillna(df.mean(),inplace=True)"
   ]
  },
  {
   "cell_type": "code",
   "execution_count": 113,
   "id": "c4e4fe67-7503-477b-ad94-4fb0c480be12",
   "metadata": {},
   "outputs": [
    {
     "data": {
      "text/plain": [
       "Unnamed: 0      0\n",
       "user            0\n",
       "timline_url    30\n",
       "dtype: int64"
      ]
     },
     "execution_count": 113,
     "metadata": {},
     "output_type": "execute_result"
    }
   ],
   "source": [
    "missing"
   ]
  },
  {
   "cell_type": "code",
   "execution_count": 114,
   "id": "da337ddf-728a-4b50-88a5-e377641e699e",
   "metadata": {},
   "outputs": [
    {
     "data": {
      "text/plain": [
       "0"
      ]
     },
     "execution_count": 114,
     "metadata": {},
     "output_type": "execute_result"
    }
   ],
   "source": [
    "df.duplicated().sum()"
   ]
  },
  {
   "cell_type": "code",
   "execution_count": 115,
   "id": "9be5225b-0558-4540-8b00-11ca2642dd6e",
   "metadata": {},
   "outputs": [],
   "source": [
    "column_count = df.shape[1]"
   ]
  },
  {
   "cell_type": "code",
   "execution_count": 116,
   "id": "93ae023e-6b72-4c3a-8a0e-2390fb90c00c",
   "metadata": {},
   "outputs": [
    {
     "data": {
      "text/plain": [
       "3"
      ]
     },
     "execution_count": 116,
     "metadata": {},
     "output_type": "execute_result"
    }
   ],
   "source": [
    "\n",
    "column_count"
   ]
  },
  {
   "cell_type": "code",
   "execution_count": 119,
   "id": "a4fd1310-544b-4472-80c7-ba38de297796",
   "metadata": {},
   "outputs": [],
   "source": [
    "correlation = df.corr()"
   ]
  },
  {
   "cell_type": "code",
   "execution_count": 120,
   "id": "2811d52e-e6eb-4b93-9595-e589c75bccfc",
   "metadata": {},
   "outputs": [
    {
     "data": {
      "text/plain": [
       "<seaborn.axisgrid.PairGrid at 0x12dd5a295b0>"
      ]
     },
     "execution_count": 120,
     "metadata": {},
     "output_type": "execute_result"
    },
    {
     "data": {
      "image/png": "[encoded data removed]",
      "text/plain": [
       "<Figure size 500x500 with 6 Axes>"
      ]
     },
     "metadata": {},
     "output_type": "display_data"
    }
   ],
   "source": [
    "sns.pairplot(correlation)"
   ]
  },
  {
   "cell_type": "code",
   "execution_count": 121,
   "id": "585b9420-c650-44c3-95fb-f4ab1fe9a3c5",
   "metadata": {},
   "outputs": [],
   "source": [
    "# Task 7: Create data of your choice and display correlation: heat maps, outliers.\n",
    "df = pd.DataFrame( {\n",
    " 'Feature1': [1, 2, 3, 4, 5],\n",
    " 'Feature2': [2, 3, 4, 5, 6],\n",
    " 'Feature3': [5, 6, 7, 8, 9]\n",
    "})"
   ]
  },
  {
   "cell_type": "code",
   "execution_count": 122,
   "id": "ad34321e-3839-4f21-85eb-64cb1846b3e1",
   "metadata": {},
   "outputs": [],
   "source": [
    "corr = df.corr()"
   ]
  },
  {
   "cell_type": "code",
   "execution_count": 125,
   "id": "622e21b5-e5c4-48b5-a5fe-7fa3fac6d99a",
   "metadata": {},
   "outputs": [
    {
     "data": {
      "text/plain": [
       "<Axes: >"
      ]
     },
     "execution_count": 125,
     "metadata": {},
     "output_type": "execute_result"
    },
    {
     "data": {
      "image/png": "[encoded data removed]",
      "text/plain": [
       "<Figure size 640x480 with 2 Axes>"
      ]
     },
     "metadata": {},
     "output_type": "display_data"
    }
   ],
   "source": [
    "sns.heatmap(corr,annot = True)"
   ]
  },
  {
   "cell_type": "code",
   "execution_count": 127,
   "id": "3fa4868e-840c-4ac1-9980-362b172361e1",
   "metadata": {},
   "outputs": [
    {
     "data": {
      "text/plain": [
       "<Axes: >"
      ]
     },
     "execution_count": 127,
     "metadata": {},
     "output_type": "execute_result"
    },
    {
     "data": {
      "image/png": "[encoded data removed]",
      "text/plain": [
       "<Figure size 640x480 with 1 Axes>"
      ]
     },
     "metadata": {},
     "output_type": "display_data"
    }
   ],
   "source": [
    "df.plot(kind = 'box')"
   ]
  },
  {
   "cell_type": "code",
   "execution_count": 128,
   "id": "370ece77-053b-48b5-a0f3-0696370724a4",
   "metadata": {},
   "outputs": [],
   "source": [
    "# Show different methods for factor analysis on social media data."
   ]
  },
  {
   "cell_type": "code",
   "execution_count": 129,
   "id": "70d52229-0193-4249-ad6c-bffa99b803dc",
   "metadata": {},
   "outputs": [],
   "source": [
    "from sklearn.decomposition import FactorAnalysis\n",
    "social_media_data = {\n",
    " 'Likes': [10, 20, 30, 40, 50],\n",
    " 'Shares': [5, 10, 15, 20, 25],\n",
    " 'Comments': [2, 4, 6, 8, 10]\n",
    "}\n",
    "df = pd.DataFrame(social_media_data)\n",
    "                 "
   ]
  },
  {
   "cell_type": "code",
   "execution_count": 130,
   "id": "f6c320f0-dd97-4ad0-a26f-38fbaea9a89f",
   "metadata": {},
   "outputs": [
    {
     "data": {
      "text/html": [
       "<div>\n",
       "<style scoped>\n",
       "    .dataframe tbody tr th:only-of-type {\n",
       "        vertical-align: middle;\n",
       "    }\n",
       "\n",
       "    .dataframe tbody tr th {\n",
       "        vertical-align: top;\n",
       "    }\n",
       "\n",
       "    .dataframe thead th {\n",
       "        text-align: right;\n",
       "    }\n",
       "</style>\n",
       "<table border=\"1\" class=\"dataframe\">\n",
       "  <thead>\n",
       "    <tr style=\"text-align: right;\">\n",
       "      <th></th>\n",
       "      <th>Likes</th>\n",
       "      <th>Shares</th>\n",
       "      <th>Comments</th>\n",
       "    </tr>\n",
       "  </thead>\n",
       "  <tbody>\n",
       "    <tr>\n",
       "      <th>0</th>\n",
       "      <td>10</td>\n",
       "      <td>5</td>\n",
       "      <td>2</td>\n",
       "    </tr>\n",
       "    <tr>\n",
       "      <th>1</th>\n",
       "      <td>20</td>\n",
       "      <td>10</td>\n",
       "      <td>4</td>\n",
       "    </tr>\n",
       "    <tr>\n",
       "      <th>2</th>\n",
       "      <td>30</td>\n",
       "      <td>15</td>\n",
       "      <td>6</td>\n",
       "    </tr>\n",
       "    <tr>\n",
       "      <th>3</th>\n",
       "      <td>40</td>\n",
       "      <td>20</td>\n",
       "      <td>8</td>\n",
       "    </tr>\n",
       "    <tr>\n",
       "      <th>4</th>\n",
       "      <td>50</td>\n",
       "      <td>25</td>\n",
       "      <td>10</td>\n",
       "    </tr>\n",
       "  </tbody>\n",
       "</table>\n",
       "</div>"
      ],
      "text/plain": [
       "   Likes  Shares  Comments\n",
       "0     10       5         2\n",
       "1     20      10         4\n",
       "2     30      15         6\n",
       "3     40      20         8\n",
       "4     50      25        10"
      ]
     },
     "execution_count": 130,
     "metadata": {},
     "output_type": "execute_result"
    }
   ],
   "source": [
    "df"
   ]
  },
  {
   "cell_type": "code",
   "execution_count": 131,
   "id": "805fc2e1-ca33-4a02-93d9-f51f813f040a",
   "metadata": {},
   "outputs": [],
   "source": [
    "fa = FactorAnalysis(n_components=2)"
   ]
  },
  {
   "cell_type": "code",
   "execution_count": 132,
   "id": "c259246a-9f02-4b76-a174-9dd16799a1ee",
   "metadata": {},
   "outputs": [
    {
     "data": {
      "text/html": [
       "<style>#sk-container-id-1 {\n",
       "  /* Definition of color scheme common for light and dark mode */\n",
       "  --sklearn-color-text: black;\n",
       "  --sklearn-color-line: gray;\n",
       "  /* Definition of color scheme for unfitted estimators */\n",
       "  --sklearn-color-unfitted-level-0: #fff5e6;\n",
       "  --sklearn-color-unfitted-level-1: #f6e4d2;\n",
       "  --sklearn-color-unfitted-level-2: #ffe0b3;\n",
       "  --sklearn-color-unfitted-level-3: chocolate;\n",
       "  /* Definition of color scheme for fitted estimators */\n",
       "  --sklearn-color-fitted-level-0: #f0f8ff;\n",
       "  --sklearn-color-fitted-level-1: #d4ebff;\n",
       "  --sklearn-color-fitted-level-2: #b3dbfd;\n",
       "  --sklearn-color-fitted-level-3: cornflowerblue;\n",
       "\n",
       "  /* Specific color for light theme */\n",
       "  --sklearn-color-text-on-default-background: var(--sg-text-color, var(--theme-code-foreground, var(--jp-content-font-color1, black)));\n",
       "  --sklearn-color-background: var(--sg-background-color, var(--theme-background, var(--jp-layout-color0, white)));\n",
       "  --sklearn-color-border-box: var(--sg-text-color, var(--theme-code-foreground, var(--jp-content-font-color1, black)));\n",
       "  --sklearn-color-icon: #696969;\n",
       "\n",
       "  @media (prefers-color-scheme: dark) {\n",
       "    /* Redefinition of color scheme for dark theme */\n",
       "    --sklearn-color-text-on-default-background: var(--sg-text-color, var(--theme-code-foreground, var(--jp-content-font-color1, white)));\n",
       "    --sklearn-color-background: var(--sg-background-color, var(--theme-background, var(--jp-layout-color0, #111)));\n",
       "    --sklearn-color-border-box: var(--sg-text-color, var(--theme-code-foreground, var(--jp-content-font-color1, white)));\n",
       "    --sklearn-color-icon: #878787;\n",
       "  }\n",
       "}\n",
       "\n",
       "#sk-container-id-1 {\n",
       "  color: var(--sklearn-color-text);\n",
       "}\n",
       "\n",
       "#sk-container-id-1 pre {\n",
       "  padding: 0;\n",
       "}\n",
       "\n",
       "#sk-container-id-1 input.sk-hidden--visually {\n",
       "  border: 0;\n",
       "  clip: rect(1px 1px 1px 1px);\n",
       "  clip: rect(1px, 1px, 1px, 1px);\n",
       "  height: 1px;\n",
       "  margin: -1px;\n",
       "  overflow: hidden;\n",
       "  padding: 0;\n",
       "  position: absolute;\n",
       "  width: 1px;\n",
       "}\n",
       "\n",
       "#sk-container-id-1 div.sk-dashed-wrapped {\n",
       "  border: 1px dashed var(--sklearn-color-line);\n",
       "  margin: 0 0.4em 0.5em 0.4em;\n",
       "  box-sizing: border-box;\n",
       "  padding-bottom: 0.4em;\n",
       "  background-color: var(--sklearn-color-background);\n",
       "}\n",
       "\n",
       "#sk-container-id-1 div.sk-container {\n",
       "  /* jupyter's `normalize.less` sets `[hidden] { display: none; }`\n",
       "     but bootstrap.min.css set `[hidden] { display: none !important; }`\n",
       "     so we also need the `!important` here to be able to override the\n",
       "     default hidden behavior on the sphinx rendered scikit-learn.org.\n",
       "     See: https://github.com/scikit-learn/scikit-learn/issues/21755 */\n",
       "  display: inline-block !important;\n",
       "  position: relative;\n",
       "}\n",
       "\n",
       "#sk-container-id-1 div.sk-text-repr-fallback {\n",
       "  display: none;\n",
       "}\n",
       "\n",
       "div.sk-parallel-item,\n",
       "div.sk-serial,\n",
       "div.sk-item {\n",
       "  /* draw centered vertical line to link estimators */\n",
       "  background-image: linear-gradient(var(--sklearn-color-text-on-default-background), var(--sklearn-color-text-on-default-background));\n",
       "  background-size: 2px 100%;\n",
       "  background-repeat: no-repeat;\n",
       "  background-position: center center;\n",
       "}\n",
       "\n",
       "/* Parallel-specific style estimator block */\n",
       "\n",
       "#sk-container-id-1 div.sk-parallel-item::after {\n",
       "  content: \"\";\n",
       "  width: 100%;\n",
       "  border-bottom: 2px solid var(--sklearn-color-text-on-default-background);\n",
       "  flex-grow: 1;\n",
       "}\n",
       "\n",
       "#sk-container-id-1 div.sk-parallel {\n",
       "  display: flex;\n",
       "  align-items: stretch;\n",
       "  justify-content: center;\n",
       "  background-color: var(--sklearn-color-background);\n",
       "  position: relative;\n",
       "}\n",
       "\n",
       "#sk-container-id-1 div.sk-parallel-item {\n",
       "  display: flex;\n",
       "  flex-direction: column;\n",
       "}\n",
       "\n",
       "#sk-container-id-1 div.sk-parallel-item:first-child::after {\n",
       "  align-self: flex-end;\n",
       "  width: 50%;\n",
       "}\n",
       "\n",
       "#sk-container-id-1 div.sk-parallel-item:last-child::after {\n",
       "  align-self: flex-start;\n",
       "  width: 50%;\n",
       "}\n",
       "\n",
       "#sk-container-id-1 div.sk-parallel-item:only-child::after {\n",
       "  width: 0;\n",
       "}\n",
       "\n",
       "/* Serial-specific style estimator block */\n",
       "\n",
       "#sk-container-id-1 div.sk-serial {\n",
       "  display: flex;\n",
       "  flex-direction: column;\n",
       "  align-items: center;\n",
       "  background-color: var(--sklearn-color-background);\n",
       "  padding-right: 1em;\n",
       "  padding-left: 1em;\n",
       "}\n",
       "\n",
       "\n",
       "/* Toggleable style: style used for estimator/Pipeline/ColumnTransformer box that is\n",
       "clickable and can be expanded/collapsed.\n",
       "- Pipeline and ColumnTransformer use this feature and define the default style\n",
       "- Estimators will overwrite some part of the style using the `sk-estimator` class\n",
       "*/\n",
       "\n",
       "/* Pipeline and ColumnTransformer style (default) */\n",
       "\n",
       "#sk-container-id-1 div.sk-toggleable {\n",
       "  /* Default theme specific background. It is overwritten whether we have a\n",
       "  specific estimator or a Pipeline/ColumnTransformer */\n",
       "  background-color: var(--sklearn-color-background);\n",
       "}\n",
       "\n",
       "/* Toggleable label */\n",
       "#sk-container-id-1 label.sk-toggleable__label {\n",
       "  cursor: pointer;\n",
       "  display: block;\n",
       "  width: 100%;\n",
       "  margin-bottom: 0;\n",
       "  padding: 0.5em;\n",
       "  box-sizing: border-box;\n",
       "  text-align: center;\n",
       "}\n",
       "\n",
       "#sk-container-id-1 label.sk-toggleable__label-arrow:before {\n",
       "  /* Arrow on the left of the label */\n",
       "  content: \"▸\";\n",
       "  float: left;\n",
       "  margin-right: 0.25em;\n",
       "  color: var(--sklearn-color-icon);\n",
       "}\n",
       "\n",
       "#sk-container-id-1 label.sk-toggleable__label-arrow:hover:before {\n",
       "  color: var(--sklearn-color-text);\n",
       "}\n",
       "\n",
       "/* Toggleable content - dropdown */\n",
       "\n",
       "#sk-container-id-1 div.sk-toggleable__content {\n",
       "  max-height: 0;\n",
       "  max-width: 0;\n",
       "  overflow: hidden;\n",
       "  text-align: left;\n",
       "  /* unfitted */\n",
       "  background-color: var(--sklearn-color-unfitted-level-0);\n",
       "}\n",
       "\n",
       "#sk-container-id-1 div.sk-toggleable__content.fitted {\n",
       "  /* fitted */\n",
       "  background-color: var(--sklearn-color-fitted-level-0);\n",
       "}\n",
       "\n",
       "#sk-container-id-1 div.sk-toggleable__content pre {\n",
       "  margin: 0.2em;\n",
       "  border-radius: 0.25em;\n",
       "  color: var(--sklearn-color-text);\n",
       "  /* unfitted */\n",
       "  background-color: var(--sklearn-color-unfitted-level-0);\n",
       "}\n",
       "\n",
       "#sk-container-id-1 div.sk-toggleable__content.fitted pre {\n",
       "  /* unfitted */\n",
       "  background-color: var(--sklearn-color-fitted-level-0);\n",
       "}\n",
       "\n",
       "#sk-container-id-1 input.sk-toggleable__control:checked~div.sk-toggleable__content {\n",
       "  /* Expand drop-down */\n",
       "  max-height: 200px;\n",
       "  max-width: 100%;\n",
       "  overflow: auto;\n",
       "}\n",
       "\n",
       "#sk-container-id-1 input.sk-toggleable__control:checked~label.sk-toggleable__label-arrow:before {\n",
       "  content: \"▾\";\n",
       "}\n",
       "\n",
       "/* Pipeline/ColumnTransformer-specific style */\n",
       "\n",
       "#sk-container-id-1 div.sk-label input.sk-toggleable__control:checked~label.sk-toggleable__label {\n",
       "  color: var(--sklearn-color-text);\n",
       "  background-color: var(--sklearn-color-unfitted-level-2);\n",
       "}\n",
       "\n",
       "#sk-container-id-1 div.sk-label.fitted input.sk-toggleable__control:checked~label.sk-toggleable__label {\n",
       "  background-color: var(--sklearn-color-fitted-level-2);\n",
       "}\n",
       "\n",
       "/* Estimator-specific style */\n",
       "\n",
       "/* Colorize estimator box */\n",
       "#sk-container-id-1 div.sk-estimator input.sk-toggleable__control:checked~label.sk-toggleable__label {\n",
       "  /* unfitted */\n",
       "  background-color: var(--sklearn-color-unfitted-level-2);\n",
       "}\n",
       "\n",
       "#sk-container-id-1 div.sk-estimator.fitted input.sk-toggleable__control:checked~label.sk-toggleable__label {\n",
       "  /* fitted */\n",
       "  background-color: var(--sklearn-color-fitted-level-2);\n",
       "}\n",
       "\n",
       "#sk-container-id-1 div.sk-label label.sk-toggleable__label,\n",
       "#sk-container-id-1 div.sk-label label {\n",
       "  /* The background is the default theme color */\n",
       "  color: var(--sklearn-color-text-on-default-background);\n",
       "}\n",
       "\n",
       "/* On hover, darken the color of the background */\n",
       "#sk-container-id-1 div.sk-label:hover label.sk-toggleable__label {\n",
       "  color: var(--sklearn-color-text);\n",
       "  background-color: var(--sklearn-color-unfitted-level-2);\n",
       "}\n",
       "\n",
       "/* Label box, darken color on hover, fitted */\n",
       "#sk-container-id-1 div.sk-label.fitted:hover label.sk-toggleable__label.fitted {\n",
       "  color: var(--sklearn-color-text);\n",
       "  background-color: var(--sklearn-color-fitted-level-2);\n",
       "}\n",
       "\n",
       "/* Estimator label */\n",
       "\n",
       "#sk-container-id-1 div.sk-label label {\n",
       "  font-family: monospace;\n",
       "  font-weight: bold;\n",
       "  display: inline-block;\n",
       "  line-height: 1.2em;\n",
       "}\n",
       "\n",
       "#sk-container-id-1 div.sk-label-container {\n",
       "  text-align: center;\n",
       "}\n",
       "\n",
       "/* Estimator-specific */\n",
       "#sk-container-id-1 div.sk-estimator {\n",
       "  font-family: monospace;\n",
       "  border: 1px dotted var(--sklearn-color-border-box);\n",
       "  border-radius: 0.25em;\n",
       "  box-sizing: border-box;\n",
       "  margin-bottom: 0.5em;\n",
       "  /* unfitted */\n",
       "  background-color: var(--sklearn-color-unfitted-level-0);\n",
       "}\n",
       "\n",
       "#sk-container-id-1 div.sk-estimator.fitted {\n",
       "  /* fitted */\n",
       "  background-color: var(--sklearn-color-fitted-level-0);\n",
       "}\n",
       "\n",
       "/* on hover */\n",
       "#sk-container-id-1 div.sk-estimator:hover {\n",
       "  /* unfitted */\n",
       "  background-color: var(--sklearn-color-unfitted-level-2);\n",
       "}\n",
       "\n",
       "#sk-container-id-1 div.sk-estimator.fitted:hover {\n",
       "  /* fitted */\n",
       "  background-color: var(--sklearn-color-fitted-level-2);\n",
       "}\n",
       "\n",
       "/* Specification for estimator info (e.g. \"i\" and \"?\") */\n",
       "\n",
       "/* Common style for \"i\" and \"?\" */\n",
       "\n",
       ".sk-estimator-doc-link,\n",
       "a:link.sk-estimator-doc-link,\n",
       "a:visited.sk-estimator-doc-link {\n",
       "  float: right;\n",
       "  font-size: smaller;\n",
       "  line-height: 1em;\n",
       "  font-family: monospace;\n",
       "  background-color: var(--sklearn-color-background);\n",
       "  border-radius: 1em;\n",
       "  height: 1em;\n",
       "  width: 1em;\n",
       "  text-decoration: none !important;\n",
       "  margin-left: 1ex;\n",
       "  /* unfitted */\n",
       "  border: var(--sklearn-color-unfitted-level-1) 1pt solid;\n",
       "  color: var(--sklearn-color-unfitted-level-1);\n",
       "}\n",
       "\n",
       ".sk-estimator-doc-link.fitted,\n",
       "a:link.sk-estimator-doc-link.fitted,\n",
       "a:visited.sk-estimator-doc-link.fitted {\n",
       "  /* fitted */\n",
       "  border: var(--sklearn-color-fitted-level-1) 1pt solid;\n",
       "  color: var(--sklearn-color-fitted-level-1);\n",
       "}\n",
       "\n",
       "/* On hover */\n",
       "div.sk-estimator:hover .sk-estimator-doc-link:hover,\n",
       ".sk-estimator-doc-link:hover,\n",
       "div.sk-label-container:hover .sk-estimator-doc-link:hover,\n",
       ".sk-estimator-doc-link:hover {\n",
       "  /* unfitted */\n",
       "  background-color: var(--sklearn-color-unfitted-level-3);\n",
       "  color: var(--sklearn-color-background);\n",
       "  text-decoration: none;\n",
       "}\n",
       "\n",
       "div.sk-estimator.fitted:hover .sk-estimator-doc-link.fitted:hover,\n",
       ".sk-estimator-doc-link.fitted:hover,\n",
       "div.sk-label-container:hover .sk-estimator-doc-link.fitted:hover,\n",
       ".sk-estimator-doc-link.fitted:hover {\n",
       "  /* fitted */\n",
       "  background-color: var(--sklearn-color-fitted-level-3);\n",
       "  color: var(--sklearn-color-background);\n",
       "  text-decoration: none;\n",
       "}\n",
       "\n",
       "/* Span, style for the box shown on hovering the info icon */\n",
       ".sk-estimator-doc-link span {\n",
       "  display: none;\n",
       "  z-index: 9999;\n",
       "  position: relative;\n",
       "  font-weight: normal;\n",
       "  right: .2ex;\n",
       "  padding: .5ex;\n",
       "  margin: .5ex;\n",
       "  width: min-content;\n",
       "  min-width: 20ex;\n",
       "  max-width: 50ex;\n",
       "  color: var(--sklearn-color-text);\n",
       "  box-shadow: 2pt 2pt 4pt #999;\n",
       "  /* unfitted */\n",
       "  background: var(--sklearn-color-unfitted-level-0);\n",
       "  border: .5pt solid var(--sklearn-color-unfitted-level-3);\n",
       "}\n",
       "\n",
       ".sk-estimator-doc-link.fitted span {\n",
       "  /* fitted */\n",
       "  background: var(--sklearn-color-fitted-level-0);\n",
       "  border: var(--sklearn-color-fitted-level-3);\n",
       "}\n",
       "\n",
       ".sk-estimator-doc-link:hover span {\n",
       "  display: block;\n",
       "}\n",
       "\n",
       "/* \"?\"-specific style due to the `<a>` HTML tag */\n",
       "\n",
       "#sk-container-id-1 a.estimator_doc_link {\n",
       "  float: right;\n",
       "  font-size: 1rem;\n",
       "  line-height: 1em;\n",
       "  font-family: monospace;\n",
       "  background-color: var(--sklearn-color-background);\n",
       "  border-radius: 1rem;\n",
       "  height: 1rem;\n",
       "  width: 1rem;\n",
       "  text-decoration: none;\n",
       "  /* unfitted */\n",
       "  color: var(--sklearn-color-unfitted-level-1);\n",
       "  border: var(--sklearn-color-unfitted-level-1) 1pt solid;\n",
       "}\n",
       "\n",
       "#sk-container-id-1 a.estimator_doc_link.fitted {\n",
       "  /* fitted */\n",
       "  border: var(--sklearn-color-fitted-level-1) 1pt solid;\n",
       "  color: var(--sklearn-color-fitted-level-1);\n",
       "}\n",
       "\n",
       "/* On hover */\n",
       "#sk-container-id-1 a.estimator_doc_link:hover {\n",
       "  /* unfitted */\n",
       "  background-color: var(--sklearn-color-unfitted-level-3);\n",
       "  color: var(--sklearn-color-background);\n",
       "  text-decoration: none;\n",
       "}\n",
       "\n",
       "#sk-container-id-1 a.estimator_doc_link.fitted:hover {\n",
       "  /* fitted */\n",
       "  background-color: var(--sklearn-color-fitted-level-3);\n",
       "}\n",
       "</style><div id=\"sk-container-id-1\" class=\"sk-top-container\"><div class=\"sk-text-repr-fallback\"><pre>FactorAnalysis(n_components=2)</pre><b>In a Jupyter environment, please rerun this cell to show the HTML representation or trust the notebook. <br />On GitHub, the HTML representation is unable to render, please try loading this page with nbviewer.org.</b></div><div class=\"sk-container\" hidden><div class=\"sk-item\"><div class=\"sk-estimator fitted sk-toggleable\"><input class=\"sk-toggleable__control sk-hidden--visually\" id=\"sk-estimator-id-1\" type=\"checkbox\" checked><label for=\"sk-estimator-id-1\" class=\"sk-toggleable__label fitted sk-toggleable__label-arrow fitted\">&nbsp;&nbsp;FactorAnalysis<a class=\"sk-estimator-doc-link fitted\" rel=\"noreferrer\" target=\"_blank\" href=\"https://scikit-learn.org/1.5/modules/generated/sklearn.decomposition.FactorAnalysis.html\">?<span>Documentation for FactorAnalysis</span></a><span class=\"sk-estimator-doc-link fitted\">i<span>Fitted</span></span></label><div class=\"sk-toggleable__content fitted\"><pre>FactorAnalysis(n_components=2)</pre></div> </div></div></div></div>"
      ],
      "text/plain": [
       "FactorAnalysis(n_components=2)"
      ]
     },
     "execution_count": 132,
     "metadata": {},
     "output_type": "execute_result"
    }
   ],
   "source": [
    "fa.fit(df)"
   ]
  },
  {
   "cell_type": "code",
   "execution_count": 133,
   "id": "e97671d2-03ab-4dd8-b345-1780082891e9",
   "metadata": {},
   "outputs": [],
   "source": [
    "fa_loading = fa.components_"
   ]
  },
  {
   "cell_type": "code",
   "execution_count": 134,
   "id": "ac74c321-0443-45d2-9fbf-c418e4ff62fd",
   "metadata": {},
   "outputs": [
    {
     "name": "stdout",
     "output_type": "stream",
     "text": [
      "[[-14.13909005  -7.06954502  -2.82781801]\n",
      " [  0.           0.          -0.        ]]\n"
     ]
    }
   ],
   "source": [
    "print(fa_loading)"
   ]
  },
  {
   "cell_type": "code",
   "execution_count": 135,
   "id": "f26b2933-c7e0-43db-8de1-e4754fe65a60",
   "metadata": {},
   "outputs": [],
   "source": [
    "# Task 9: Stock data analysis and data visualization with R or Python or Power BI."
   ]
  },
  {
   "cell_type": "code",
   "execution_count": 138,
   "id": "9ce06597-cf2e-4048-87c3-f084dc90a6ef",
   "metadata": {},
   "outputs": [],
   "source": [
    "import yfinance as yf"
   ]
  },
  {
   "cell_type": "code",
   "execution_count": 139,
   "id": "4bb8d209-7231-49ae-93ad-68ec3031a92a",
   "metadata": {},
   "outputs": [
    {
     "name": "stderr",
     "output_type": "stream",
     "text": [
      "[*********************100%%**********************]  1 of 1 completed\n"
     ]
    }
   ],
   "source": [
    "stock_data = yf.download('AAPL', start=\"2022-01-01\",end=\"2022-12-31\")"
   ]
  },
  {
   "cell_type": "code",
   "execution_count": 143,
   "id": "4a25f974-03c4-4de7-9775-d57e8278ff20",
   "metadata": {},
   "outputs": [
    {
     "data": {
      "text/plain": [
       "<Axes: xlabel='Date'>"
      ]
     },
     "execution_count": 143,
     "metadata": {},
     "output_type": "execute_result"
    },
    {
     "data": {
      "image/png": "[encoded data removed]",
      "text/plain": [
       "<Figure size 640x480 with 1 Axes>"
      ]
     },
     "metadata": {},
     "output_type": "display_data"
    }
   ],
   "source": [
    "stock_data['Close'].plot()"
   ]
  },
  {
   "cell_type": "code",
   "execution_count": 144,
   "id": "6ac5e815-712b-40bf-8602-b69241c94078",
   "metadata": {},
   "outputs": [],
   "source": [
    "# Task 10: Multidimensional data analysis on animal data.\n",
    "animal_data = {\n",
    " 'Animal': ['Cat', 'Dog', 'Bird', 'Fish', 'Horse'],\n",
    " 'Height': [25, 60, 15, 10, 150],\n",
    " 'Weight': [5, 20, 0.5, 0.2, 500],\n",
    " 'Lifespan': [15, 13, 5, 2, 25]\n",
    "}\n",
    "df = pd.DataFrame(animal_data)"
   ]
  },
  {
   "cell_type": "code",
   "execution_count": 145,
   "id": "f1d8498f-974a-4782-aa34-59c8312bb7fb",
   "metadata": {},
   "outputs": [],
   "source": [
    "from sklearn.preprocessing import StandardScaler"
   ]
  },
  {
   "cell_type": "code",
   "execution_count": 146,
   "id": "f3a12469-8aa4-4bb6-a216-a08cfbfb4699",
   "metadata": {},
   "outputs": [],
   "source": [
    "from sklearn.manifold import MDS"
   ]
  },
  {
   "cell_type": "code",
   "execution_count": 147,
   "id": "b1a09f12-0bbb-4806-bc90-722200e7419a",
   "metadata": {},
   "outputs": [],
   "source": [
    "scaler = StandardScaler()"
   ]
  },
  {
   "cell_type": "code",
   "execution_count": 149,
   "id": "5a26230f-57de-419a-9162-cb9d9110c6ac",
   "metadata": {},
   "outputs": [],
   "source": [
    "Scaled_data = scaler.fit_transform(df[['Height','Weight','Lifespan']])"
   ]
  },
  {
   "cell_type": "code",
   "execution_count": 150,
   "id": "4d261b35-9de9-460d-86d6-9fe011c373ad",
   "metadata": {},
   "outputs": [],
   "source": [
    "mds = MDS(n_components=2)"
   ]
  },
  {
   "cell_type": "code",
   "execution_count": 152,
   "id": "a0c0461a-3206-4491-be24-5492f92a7563",
   "metadata": {},
   "outputs": [],
   "source": [
    "mds_data = mds.fit_transform(Scaled_data)"
   ]
  },
  {
   "cell_type": "code",
   "execution_count": 153,
   "id": "747335a9-3cb2-40ce-b428-58eda0a8fe2e",
   "metadata": {},
   "outputs": [],
   "source": [
    "mds_df = pd.DataFrame(mds_data,columns=['Dim1','Dim2'])"
   ]
  },
  {
   "cell_type": "code",
   "execution_count": 154,
   "id": "41c58bec-7414-4b80-9bce-58f043b81e57",
   "metadata": {},
   "outputs": [],
   "source": [
    "mds_df['Animal'] = df['Animal']"
   ]
  },
  {
   "cell_type": "code",
   "execution_count": 157,
   "id": "4fa81855-24c9-4e16-a9ef-a777b16fd1be",
   "metadata": {},
   "outputs": [
    {
     "data": {
      "image/png": "[encoded data removed]",
      "text/plain": [
       "<Figure size 640x480 with 1 Axes>"
      ]
     },
     "metadata": {},
     "output_type": "display_data"
    }
   ],
   "source": [
    "sns.scatterplot(data=mds_df,x='Dim1',y='Dim2',hue = 'Animal')\n",
    "plt.title('Multidimensional Scaling of Animal Data')\n",
    "plt.show()"
   ]
  },
  {
   "cell_type": "code",
   "execution_count": 158,
   "id": "f624970d-efb4-4287-a6f7-eff0ae24c811",
   "metadata": {},
   "outputs": [],
   "source": [
    "# Task 11: IPL data analysis using Python."
   ]
  },
  {
   "cell_type": "code",
   "execution_count": 160,
   "id": "66f00718-a187-4cb2-89b8-47310137402a",
   "metadata": {},
   "outputs": [],
   "source": [
    "ipl_data = pd.read_csv('data.csv')"
   ]
  },
  {
   "cell_type": "code",
   "execution_count": 165,
   "id": "20679e93-dbc2-4500-9883-0b736a8b597e",
   "metadata": {},
   "outputs": [
    {
     "data": {
      "text/html": [
       "<div>\n",
       "<style scoped>\n",
       "    .dataframe tbody tr th:only-of-type {\n",
       "        vertical-align: middle;\n",
       "    }\n",
       "\n",
       "    .dataframe tbody tr th {\n",
       "        vertical-align: top;\n",
       "    }\n",
       "\n",
       "    .dataframe thead th {\n",
       "        text-align: right;\n",
       "    }\n",
       "</style>\n",
       "<table border=\"1\" class=\"dataframe\">\n",
       "  <thead>\n",
       "    <tr style=\"text-align: right;\">\n",
       "      <th></th>\n",
       "      <th>id</th>\n",
       "      <th>season</th>\n",
       "      <th>city</th>\n",
       "      <th>date</th>\n",
       "      <th>team1</th>\n",
       "      <th>team2</th>\n",
       "      <th>toss_winner</th>\n",
       "      <th>toss_decision</th>\n",
       "      <th>result</th>\n",
       "      <th>dl_applied</th>\n",
       "      <th>winner</th>\n",
       "      <th>win_by_runs</th>\n",
       "      <th>win_by_wickets</th>\n",
       "      <th>player_of_match</th>\n",
       "      <th>venue</th>\n",
       "      <th>umpire1</th>\n",
       "      <th>umpire2</th>\n",
       "      <th>umpire3</th>\n",
       "    </tr>\n",
       "  </thead>\n",
       "  <tbody>\n",
       "    <tr>\n",
       "      <th>0</th>\n",
       "      <td>1</td>\n",
       "      <td>2008</td>\n",
       "      <td>Bangalore</td>\n",
       "      <td>2008-04-18</td>\n",
       "      <td>Kolkata Knight Riders</td>\n",
       "      <td>Royal Challengers Bangalore</td>\n",
       "      <td>Royal Challengers Bangalore</td>\n",
       "      <td>field</td>\n",
       "      <td>normal</td>\n",
       "      <td>0</td>\n",
       "      <td>Kolkata Knight Riders</td>\n",
       "      <td>140</td>\n",
       "      <td>0</td>\n",
       "      <td>BB McCullum</td>\n",
       "      <td>M Chinnaswamy Stadium</td>\n",
       "      <td>Asad Rauf</td>\n",
       "      <td>RE Koertzen</td>\n",
       "      <td>NaN</td>\n",
       "    </tr>\n",
       "    <tr>\n",
       "      <th>1</th>\n",
       "      <td>2</td>\n",
       "      <td>2008</td>\n",
       "      <td>Chandigarh</td>\n",
       "      <td>2008-04-19</td>\n",
       "      <td>Chennai Super Kings</td>\n",
       "      <td>Kings XI Punjab</td>\n",
       "      <td>Chennai Super Kings</td>\n",
       "      <td>bat</td>\n",
       "      <td>normal</td>\n",
       "      <td>0</td>\n",
       "      <td>Chennai Super Kings</td>\n",
       "      <td>33</td>\n",
       "      <td>0</td>\n",
       "      <td>MEK Hussey</td>\n",
       "      <td>Punjab Cricket Association Stadium, Mohali</td>\n",
       "      <td>MR Benson</td>\n",
       "      <td>SL Shastri</td>\n",
       "      <td>NaN</td>\n",
       "    </tr>\n",
       "    <tr>\n",
       "      <th>2</th>\n",
       "      <td>3</td>\n",
       "      <td>2008</td>\n",
       "      <td>Delhi</td>\n",
       "      <td>2008-04-19</td>\n",
       "      <td>Rajasthan Royals</td>\n",
       "      <td>Delhi Daredevils</td>\n",
       "      <td>Rajasthan Royals</td>\n",
       "      <td>bat</td>\n",
       "      <td>normal</td>\n",
       "      <td>0</td>\n",
       "      <td>Delhi Daredevils</td>\n",
       "      <td>0</td>\n",
       "      <td>9</td>\n",
       "      <td>MF Maharoof</td>\n",
       "      <td>Feroz Shah Kotla</td>\n",
       "      <td>Aleem Dar</td>\n",
       "      <td>GA Pratapkumar</td>\n",
       "      <td>NaN</td>\n",
       "    </tr>\n",
       "    <tr>\n",
       "      <th>3</th>\n",
       "      <td>4</td>\n",
       "      <td>2008</td>\n",
       "      <td>Mumbai</td>\n",
       "      <td>2008-04-20</td>\n",
       "      <td>Mumbai Indians</td>\n",
       "      <td>Royal Challengers Bangalore</td>\n",
       "      <td>Mumbai Indians</td>\n",
       "      <td>bat</td>\n",
       "      <td>normal</td>\n",
       "      <td>0</td>\n",
       "      <td>Royal Challengers Bangalore</td>\n",
       "      <td>0</td>\n",
       "      <td>5</td>\n",
       "      <td>MV Boucher</td>\n",
       "      <td>Wankhede Stadium</td>\n",
       "      <td>SJ Davis</td>\n",
       "      <td>DJ Harper</td>\n",
       "      <td>NaN</td>\n",
       "    </tr>\n",
       "    <tr>\n",
       "      <th>4</th>\n",
       "      <td>5</td>\n",
       "      <td>2008</td>\n",
       "      <td>Kolkata</td>\n",
       "      <td>2008-04-20</td>\n",
       "      <td>Deccan Chargers</td>\n",
       "      <td>Kolkata Knight Riders</td>\n",
       "      <td>Deccan Chargers</td>\n",
       "      <td>bat</td>\n",
       "      <td>normal</td>\n",
       "      <td>0</td>\n",
       "      <td>Kolkata Knight Riders</td>\n",
       "      <td>0</td>\n",
       "      <td>5</td>\n",
       "      <td>DJ Hussey</td>\n",
       "      <td>Eden Gardens</td>\n",
       "      <td>BF Bowden</td>\n",
       "      <td>K Hariharan</td>\n",
       "      <td>NaN</td>\n",
       "    </tr>\n",
       "    <tr>\n",
       "      <th>...</th>\n",
       "      <td>...</td>\n",
       "      <td>...</td>\n",
       "      <td>...</td>\n",
       "      <td>...</td>\n",
       "      <td>...</td>\n",
       "      <td>...</td>\n",
       "      <td>...</td>\n",
       "      <td>...</td>\n",
       "      <td>...</td>\n",
       "      <td>...</td>\n",
       "      <td>...</td>\n",
       "      <td>...</td>\n",
       "      <td>...</td>\n",
       "      <td>...</td>\n",
       "      <td>...</td>\n",
       "      <td>...</td>\n",
       "      <td>...</td>\n",
       "      <td>...</td>\n",
       "    </tr>\n",
       "    <tr>\n",
       "      <th>572</th>\n",
       "      <td>573</td>\n",
       "      <td>2016</td>\n",
       "      <td>Raipur</td>\n",
       "      <td>2016-05-22</td>\n",
       "      <td>Delhi Daredevils</td>\n",
       "      <td>Royal Challengers Bangalore</td>\n",
       "      <td>Royal Challengers Bangalore</td>\n",
       "      <td>field</td>\n",
       "      <td>normal</td>\n",
       "      <td>0</td>\n",
       "      <td>Royal Challengers Bangalore</td>\n",
       "      <td>0</td>\n",
       "      <td>6</td>\n",
       "      <td>V Kohli</td>\n",
       "      <td>Shaheed Veer Narayan Singh International Stadium</td>\n",
       "      <td>A Nand Kishore</td>\n",
       "      <td>BNJ Oxenford</td>\n",
       "      <td>NaN</td>\n",
       "    </tr>\n",
       "    <tr>\n",
       "      <th>573</th>\n",
       "      <td>574</td>\n",
       "      <td>2016</td>\n",
       "      <td>Bangalore</td>\n",
       "      <td>2016-05-24</td>\n",
       "      <td>Gujarat Lions</td>\n",
       "      <td>Royal Challengers Bangalore</td>\n",
       "      <td>Royal Challengers Bangalore</td>\n",
       "      <td>field</td>\n",
       "      <td>normal</td>\n",
       "      <td>0</td>\n",
       "      <td>Royal Challengers Bangalore</td>\n",
       "      <td>0</td>\n",
       "      <td>4</td>\n",
       "      <td>AB de Villiers</td>\n",
       "      <td>M Chinnaswamy Stadium</td>\n",
       "      <td>AK Chaudhary</td>\n",
       "      <td>HDPK Dharmasena</td>\n",
       "      <td>NaN</td>\n",
       "    </tr>\n",
       "    <tr>\n",
       "      <th>574</th>\n",
       "      <td>575</td>\n",
       "      <td>2016</td>\n",
       "      <td>Delhi</td>\n",
       "      <td>2016-05-25</td>\n",
       "      <td>Sunrisers Hyderabad</td>\n",
       "      <td>Kolkata Knight Riders</td>\n",
       "      <td>Kolkata Knight Riders</td>\n",
       "      <td>field</td>\n",
       "      <td>normal</td>\n",
       "      <td>0</td>\n",
       "      <td>Sunrisers Hyderabad</td>\n",
       "      <td>22</td>\n",
       "      <td>0</td>\n",
       "      <td>MC Henriques</td>\n",
       "      <td>Feroz Shah Kotla</td>\n",
       "      <td>M Erasmus</td>\n",
       "      <td>C Shamshuddin</td>\n",
       "      <td>NaN</td>\n",
       "    </tr>\n",
       "    <tr>\n",
       "      <th>575</th>\n",
       "      <td>576</td>\n",
       "      <td>2016</td>\n",
       "      <td>Delhi</td>\n",
       "      <td>2016-05-27</td>\n",
       "      <td>Gujarat Lions</td>\n",
       "      <td>Sunrisers Hyderabad</td>\n",
       "      <td>Sunrisers Hyderabad</td>\n",
       "      <td>field</td>\n",
       "      <td>normal</td>\n",
       "      <td>0</td>\n",
       "      <td>Sunrisers Hyderabad</td>\n",
       "      <td>0</td>\n",
       "      <td>4</td>\n",
       "      <td>DA Warner</td>\n",
       "      <td>Feroz Shah Kotla</td>\n",
       "      <td>M Erasmus</td>\n",
       "      <td>CK Nandan</td>\n",
       "      <td>NaN</td>\n",
       "    </tr>\n",
       "    <tr>\n",
       "      <th>576</th>\n",
       "      <td>577</td>\n",
       "      <td>2016</td>\n",
       "      <td>Bangalore</td>\n",
       "      <td>2016-05-29</td>\n",
       "      <td>Sunrisers Hyderabad</td>\n",
       "      <td>Royal Challengers Bangalore</td>\n",
       "      <td>Sunrisers Hyderabad</td>\n",
       "      <td>bat</td>\n",
       "      <td>normal</td>\n",
       "      <td>0</td>\n",
       "      <td>Sunrisers Hyderabad</td>\n",
       "      <td>8</td>\n",
       "      <td>0</td>\n",
       "      <td>BCJ Cutting</td>\n",
       "      <td>M Chinnaswamy Stadium</td>\n",
       "      <td>HDPK Dharmasena</td>\n",
       "      <td>BNJ Oxenford</td>\n",
       "      <td>NaN</td>\n",
       "    </tr>\n",
       "  </tbody>\n",
       "</table>\n",
       "<p>577 rows × 18 columns</p>\n",
       "</div>"
      ],
      "text/plain": [
       "      id  season        city        date                  team1  \\\n",
       "0      1    2008   Bangalore  2008-04-18  Kolkata Knight Riders   \n",
       "1      2    2008  Chandigarh  2008-04-19    Chennai Super Kings   \n",
       "2      3    2008       Delhi  2008-04-19       Rajasthan Royals   \n",
       "3      4    2008      Mumbai  2008-04-20         Mumbai Indians   \n",
       "4      5    2008     Kolkata  2008-04-20        Deccan Chargers   \n",
       "..   ...     ...         ...         ...                    ...   \n",
       "572  573    2016      Raipur  2016-05-22       Delhi Daredevils   \n",
       "573  574    2016   Bangalore  2016-05-24          Gujarat Lions   \n",
       "574  575    2016       Delhi  2016-05-25    Sunrisers Hyderabad   \n",
       "575  576    2016       Delhi  2016-05-27          Gujarat Lions   \n",
       "576  577    2016   Bangalore  2016-05-29    Sunrisers Hyderabad   \n",
       "\n",
       "                           team2                  toss_winner toss_decision  \\\n",
       "0    Royal Challengers Bangalore  Royal Challengers Bangalore         field   \n",
       "1                Kings XI Punjab          Chennai Super Kings           bat   \n",
       "2               Delhi Daredevils             Rajasthan Royals           bat   \n",
       "3    Royal Challengers Bangalore               Mumbai Indians           bat   \n",
       "4          Kolkata Knight Riders              Deccan Chargers           bat   \n",
       "..                           ...                          ...           ...   \n",
       "572  Royal Challengers Bangalore  Royal Challengers Bangalore         field   \n",
       "573  Royal Challengers Bangalore  Royal Challengers Bangalore         field   \n",
       "574        Kolkata Knight Riders        Kolkata Knight Riders         field   \n",
       "575          Sunrisers Hyderabad          Sunrisers Hyderabad         field   \n",
       "576  Royal Challengers Bangalore          Sunrisers Hyderabad           bat   \n",
       "\n",
       "     result  dl_applied                       winner  win_by_runs  \\\n",
       "0    normal           0        Kolkata Knight Riders          140   \n",
       "1    normal           0          Chennai Super Kings           33   \n",
       "2    normal           0             Delhi Daredevils            0   \n",
       "3    normal           0  Royal Challengers Bangalore            0   \n",
       "4    normal           0        Kolkata Knight Riders            0   \n",
       "..      ...         ...                          ...          ...   \n",
       "572  normal           0  Royal Challengers Bangalore            0   \n",
       "573  normal           0  Royal Challengers Bangalore            0   \n",
       "574  normal           0          Sunrisers Hyderabad           22   \n",
       "575  normal           0          Sunrisers Hyderabad            0   \n",
       "576  normal           0          Sunrisers Hyderabad            8   \n",
       "\n",
       "     win_by_wickets player_of_match  \\\n",
       "0                 0     BB McCullum   \n",
       "1                 0      MEK Hussey   \n",
       "2                 9     MF Maharoof   \n",
       "3                 5      MV Boucher   \n",
       "4                 5       DJ Hussey   \n",
       "..              ...             ...   \n",
       "572               6         V Kohli   \n",
       "573               4  AB de Villiers   \n",
       "574               0    MC Henriques   \n",
       "575               4       DA Warner   \n",
       "576               0     BCJ Cutting   \n",
       "\n",
       "                                                venue          umpire1  \\\n",
       "0                               M Chinnaswamy Stadium        Asad Rauf   \n",
       "1          Punjab Cricket Association Stadium, Mohali        MR Benson   \n",
       "2                                    Feroz Shah Kotla        Aleem Dar   \n",
       "3                                    Wankhede Stadium         SJ Davis   \n",
       "4                                        Eden Gardens        BF Bowden   \n",
       "..                                                ...              ...   \n",
       "572  Shaheed Veer Narayan Singh International Stadium   A Nand Kishore   \n",
       "573                             M Chinnaswamy Stadium     AK Chaudhary   \n",
       "574                                  Feroz Shah Kotla        M Erasmus   \n",
       "575                                  Feroz Shah Kotla        M Erasmus   \n",
       "576                             M Chinnaswamy Stadium  HDPK Dharmasena   \n",
       "\n",
       "             umpire2  umpire3  \n",
       "0        RE Koertzen      NaN  \n",
       "1         SL Shastri      NaN  \n",
       "2     GA Pratapkumar      NaN  \n",
       "3          DJ Harper      NaN  \n",
       "4        K Hariharan      NaN  \n",
       "..               ...      ...  \n",
       "572     BNJ Oxenford      NaN  \n",
       "573  HDPK Dharmasena      NaN  \n",
       "574    C Shamshuddin      NaN  \n",
       "575        CK Nandan      NaN  \n",
       "576     BNJ Oxenford      NaN  \n",
       "\n",
       "[577 rows x 18 columns]"
      ]
     },
     "execution_count": 165,
     "metadata": {},
     "output_type": "execute_result"
    }
   ],
   "source": [
    "ipl_data"
   ]
  },
  {
   "cell_type": "code",
   "execution_count": 162,
   "id": "aa62674e-f485-4195-ba9c-d741ccfd0470",
   "metadata": {},
   "outputs": [],
   "source": [
    "df = ipl_data.groupby('player_of_match')['win_by_wickets'].sum().sort_values().head(10)"
   ]
  },
  {
   "cell_type": "code",
   "execution_count": 163,
   "id": "beb102a0-20bc-4c66-93dc-9930d493d8c5",
   "metadata": {},
   "outputs": [
    {
     "data": {
      "text/plain": [
       "player_of_match\n",
       "A Chandila        0\n",
       "CA Lynn           0\n",
       "S Anirudha        0\n",
       "JA Morkel         0\n",
       "CL White          0\n",
       "CR Brathwaite     0\n",
       "R Dravid          0\n",
       "R Bhatia          0\n",
       "PP Ojha           0\n",
       "PD Collingwood    0\n",
       "Name: win_by_wickets, dtype: int64"
      ]
     },
     "execution_count": 163,
     "metadata": {},
     "output_type": "execute_result"
    }
   ],
   "source": [
    "df"
   ]
  },
  {
   "cell_type": "code",
   "execution_count": 164,
   "id": "a7d1e7f3-9cbc-4a20-9cc8-58b7e07e8616",
   "metadata": {},
   "outputs": [
    {
     "data": {
      "text/plain": [
       "<Axes: xlabel='player_of_match'>"
      ]
     },
     "execution_count": 164,
     "metadata": {},
     "output_type": "execute_result"
    },
    {
     "data": {
      "image/png": "[encoded data removed]",
      "text/plain": [
       "<Figure size 640x480 with 1 Axes>"
      ]
     },
     "metadata": {},
     "output_type": "display_data"
    }
   ],
   "source": [
    "df.plot(kind= 'bar')"
   ]
  },
  {
   "cell_type": "code",
   "execution_count": null,
   "id": "1abbe7bd-08af-4e79-bc44-752fad92db70",
   "metadata": {},
   "outputs": [],
   "source": []
  }
 ],
 "metadata": {
  "kernelspec": {
   "display_name": "Python 3 (ipykernel)",
   "language": "python",
   "name": "python3"
  },
  "language_info": {
   "codemirror_mode": {
    "name": "ipython",
    "version": 3
   },
   "file_extension": ".py",
   "mimetype": "text/x-python",
   "name": "python",
   "nbconvert_exporter": "python",
   "pygments_lexer": "ipython3",
   "version": "3.12.1"
  }
 },
 "nbformat": 4,
 "nbformat_minor": 5
}
