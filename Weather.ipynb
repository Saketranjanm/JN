{
 "cells": [
  {
   "cell_type": "code",
   "execution_count": 10,
   "id": "1aac93ff-9d6f-4332-9667-d6881f4a2efd",
   "metadata": {},
   "outputs": [],
   "source": [
    "apikey = 'f65c840cd823e89deb0efd0d5fccb24d'\n",
    "url = \"https://api.openweathermap.org/data/2.5/weather\""
   ]
  },
  {
   "cell_type": "code",
   "execution_count": 2,
   "id": "acb5351c-da4a-4eb9-b429-81793bf68652",
   "metadata": {},
   "outputs": [],
   "source": [
    "params = {  'q' : \"delhi\",\n",
    "          'appid' : apikey,\n",
    "          'units' : 'metrics'\n",
    "}"
   ]
  },
  {
   "cell_type": "code",
   "execution_count": 3,
   "id": "9292a7d9-1e4c-44b4-9b90-8848b6f0e108",
   "metadata": {},
   "outputs": [],
   "source": [
    "import requests"
   ]
  },
  {
   "cell_type": "code",
   "execution_count": 5,
   "id": "f0b8c4f9-049b-4913-a374-204174a4c652",
   "metadata": {},
   "outputs": [],
   "source": [
    "data = requests.get(url,params=params)"
   ]
  },
  {
   "cell_type": "code",
   "execution_count": 7,
   "id": "3c863ea9-0cec-469d-bc4d-46f567db3e9d",
   "metadata": {},
   "outputs": [
    {
     "data": {
      "text/plain": [
       "{'coord': {'lon': 77.2167, 'lat': 28.6667},\n",
       " 'weather': [{'id': 701,\n",
       "   'main': 'Mist',\n",
       "   'description': 'mist',\n",
       "   'icon': '50d'}],\n",
       " 'base': 'stations',\n",
       " 'main': {'temp': 288.2,\n",
       "  'feels_like': 287.77,\n",
       "  'temp_min': 288.2,\n",
       "  'temp_max': 288.2,\n",
       "  'pressure': 1018,\n",
       "  'humidity': 77},\n",
       " 'visibility': 1100,\n",
       " 'wind': {'speed': 2.06, 'deg': 260},\n",
       " 'clouds': {'all': 0},\n",
       " 'dt': 1706089245,\n",
       " 'sys': {'type': 1,\n",
       "  'id': 9165,\n",
       "  'country': 'IN',\n",
       "  'sunrise': 1706060588,\n",
       "  'sunset': 1706098953},\n",
       " 'timezone': 19800,\n",
       " 'id': 1273294,\n",
       " 'name': 'Delhi',\n",
       " 'cod': 200}"
      ]
     },
     "execution_count": 7,
     "metadata": {},
     "output_type": "execute_result"
    }
   ],
   "source": [
    "data.json()"
   ]
  },
  {
   "cell_type": "code",
   "execution_count": null,
   "id": "a7a87c44-5963-4fcc-9520-0456c655fe11",
   "metadata": {},
   "outputs": [],
   "source": []
  }
 ],
 "metadata": {
  "kernelspec": {
   "display_name": "Python 3 (ipykernel)",
   "language": "python",
   "name": "python3"
  },
  "language_info": {
   "codemirror_mode": {
    "name": "ipython",
    "version": 3
   },
   "file_extension": ".py",
   "mimetype": "text/x-python",
   "name": "python",
   "nbconvert_exporter": "python",
   "pygments_lexer": "ipython3",
   "version": "3.12.1"
  }
 },
 "nbformat": 4,
 "nbformat_minor": 5
}
