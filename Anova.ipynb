{
 "cells": [
  {
   "cell_type": "code",
   "execution_count": 1,
   "id": "9a9a780f-21c6-4b70-8fc6-2d62f6d3e5dc",
   "metadata": {},
   "outputs": [
    {
     "name": "stderr",
     "output_type": "stream",
     "text": [
      "C:\\Users\\Saket Ranjan\\AppData\\Local\\Temp\\ipykernel_3060\\3310144743.py:1: DeprecationWarning: \n",
      "Pyarrow will become a required dependency of pandas in the next major release of pandas (pandas 3.0),\n",
      "(to allow more performant data types, such as the Arrow string type, and better interoperability with other libraries)\n",
      "but was not found to be installed on your system.\n",
      "If this would cause problems for you,\n",
      "please provide us feedback at https://github.com/pandas-dev/pandas/issues/54466\n",
      "        \n",
      "  import pandas as pd\n"
     ]
    },
    {
     "ename": "ModuleNotFoundError",
     "evalue": "No module named 'scipy'",
     "output_type": "error",
     "traceback": [
      "\u001b[1;31m---------------------------------------------------------------------------\u001b[0m",
      "\u001b[1;31mModuleNotFoundError\u001b[0m                       Traceback (most recent call last)",
      "Cell \u001b[1;32mIn[1], line 3\u001b[0m\n\u001b[0;32m      1\u001b[0m \u001b[38;5;28;01mimport\u001b[39;00m \u001b[38;5;21;01mpandas\u001b[39;00m \u001b[38;5;28;01mas\u001b[39;00m \u001b[38;5;21;01mpd\u001b[39;00m\n\u001b[0;32m      2\u001b[0m \u001b[38;5;28;01mimport\u001b[39;00m \u001b[38;5;21;01mnumpy\u001b[39;00m \u001b[38;5;28;01mas\u001b[39;00m \u001b[38;5;21;01mnp\u001b[39;00m\n\u001b[1;32m----> 3\u001b[0m \u001b[38;5;28;01mfrom\u001b[39;00m \u001b[38;5;21;01mscipy\u001b[39;00m\u001b[38;5;21;01m.\u001b[39;00m\u001b[38;5;21;01mstats\u001b[39;00m \u001b[38;5;28;01mimport\u001b[39;00m f_oneway\n\u001b[0;32m      5\u001b[0m \u001b[38;5;66;03m# Load Titanic dataset\u001b[39;00m\n\u001b[0;32m      6\u001b[0m titanic_df \u001b[38;5;241m=\u001b[39m pd\u001b[38;5;241m.\u001b[39mread_csv(\u001b[38;5;124m'\u001b[39m\u001b[38;5;124mtitanic.csv\u001b[39m\u001b[38;5;124m'\u001b[39m)\n",
      "\u001b[1;31mModuleNotFoundError\u001b[0m: No module named 'scipy'"
     ]
    }
   ],
   "source": [
    "import pandas as pd\n",
    "import numpy as np\n",
    "from scipy.stats import f_oneway\n",
    "\n",
    "# Load Titanic dataset\n",
    "titanic_df = pd.read_csv('titanic.csv')\n",
    "\n",
    "# Filter out missing values in the Fare and Pclass columns\n",
    "filtered_titanic_df = titanic_df.dropna(subset=['Fare', 'Pclass'])\n",
    "\n",
    "# Group fares by passenger class\n",
    "grouped_fares = [filtered_titanic_df[filtered_titanic_df['Pclass'] == i]['Fare'] for i in [1, 2, 3]]\n",
    "\n",
    "# Perform one-way ANOVA\n",
    "f_statistic, p_value = f_oneway(*grouped_fares)\n",
    "\n",
    "print(\"F-statistic:\", f_statistic)\n",
    "print(\"P-value:\", p_value)\n",
    "\n"
   ]
  },
  {
   "cell_type": "code",
   "execution_count": 2,
   "id": "85e1a288-757c-4673-8321-e260f8338458",
   "metadata": {},
   "outputs": [
    {
     "name": "stdout",
     "output_type": "stream",
     "text": [
      "Collecting scipy\n",
      "  Downloading scipy-1.12.0-cp312-cp312-win_amd64.whl.metadata (60 kB)\n",
      "     ---------------------------------------- 0.0/60.4 kB ? eta -:--:--\n",
      "     ------ --------------------------------- 10.2/60.4 kB ? eta -:--:--\n",
      "     -------------------------------------- 60.4/60.4 kB 809.7 kB/s eta 0:00:00\n",
      "Requirement already satisfied: numpy<1.29.0,>=1.22.4 in c:\\users\\saket ranjan\\appdata\\local\\programs\\python\\python312\\lib\\site-packages (from scipy) (1.26.3)\n",
      "Downloading scipy-1.12.0-cp312-cp312-win_amd64.whl (45.8 MB)\n",
      "   ---------------------------------------- 0.0/45.8 MB ? eta -:--:--\n",
      "   ---------------------------------------- 0.2/45.8 MB 4.6 MB/s eta 0:00:10\n",
      "    --------------------------------------- 0.7/45.8 MB 7.1 MB/s eta 0:00:07\n",
      "   - -------------------------------------- 1.2/45.8 MB 8.3 MB/s eta 0:00:06\n",
      "   - -------------------------------------- 1.7/45.8 MB 8.3 MB/s eta 0:00:06\n",
      "   - -------------------------------------- 2.0/45.8 MB 8.7 MB/s eta 0:00:06\n",
      "   -- ------------------------------------- 2.4/45.8 MB 9.0 MB/s eta 0:00:05\n",
      "   -- ------------------------------------- 2.7/45.8 MB 8.7 MB/s eta 0:00:05\n",
      "   -- ------------------------------------- 2.8/45.8 MB 8.8 MB/s eta 0:00:05\n",
      "   -- ------------------------------------- 2.9/45.8 MB 7.5 MB/s eta 0:00:06\n",
      "   --- ------------------------------------ 3.7/45.8 MB 8.6 MB/s eta 0:00:05\n",
      "   --- ------------------------------------ 4.1/45.8 MB 8.4 MB/s eta 0:00:05\n",
      "   --- ------------------------------------ 4.4/45.8 MB 8.5 MB/s eta 0:00:05\n",
      "   ---- ----------------------------------- 4.8/45.8 MB 8.5 MB/s eta 0:00:05\n",
      "   ---- ----------------------------------- 5.3/45.8 MB 8.4 MB/s eta 0:00:05\n",
      "   ---- ----------------------------------- 5.6/45.8 MB 8.3 MB/s eta 0:00:05\n",
      "   ----- ---------------------------------- 5.7/45.8 MB 8.3 MB/s eta 0:00:05\n",
      "   ----- ---------------------------------- 6.5/45.8 MB 8.6 MB/s eta 0:00:05\n",
      "   ----- ---------------------------------- 6.9/45.8 MB 8.6 MB/s eta 0:00:05\n",
      "   ------ --------------------------------- 7.2/45.8 MB 8.7 MB/s eta 0:00:05\n",
      "   ------ --------------------------------- 7.6/45.8 MB 8.6 MB/s eta 0:00:05\n",
      "   ------ --------------------------------- 8.0/45.8 MB 8.7 MB/s eta 0:00:05\n",
      "   ------- -------------------------------- 8.7/45.8 MB 9.1 MB/s eta 0:00:05\n",
      "   ------- -------------------------------- 9.1/45.8 MB 9.1 MB/s eta 0:00:05\n",
      "   -------- ------------------------------- 9.7/45.8 MB 9.2 MB/s eta 0:00:04\n",
      "   -------- ------------------------------- 10.3/45.8 MB 9.5 MB/s eta 0:00:04\n",
      "   --------- ------------------------------ 10.8/45.8 MB 9.6 MB/s eta 0:00:04\n",
      "   --------- ------------------------------ 11.2/45.8 MB 9.6 MB/s eta 0:00:04\n",
      "   ---------- ----------------------------- 11.7/45.8 MB 9.8 MB/s eta 0:00:04\n",
      "   ---------- ----------------------------- 12.2/45.8 MB 9.9 MB/s eta 0:00:04\n",
      "   ----------- ---------------------------- 12.7/45.8 MB 9.9 MB/s eta 0:00:04\n",
      "   ----------- ---------------------------- 13.4/45.8 MB 10.7 MB/s eta 0:00:04\n",
      "   ------------ --------------------------- 13.9/45.8 MB 10.6 MB/s eta 0:00:04\n",
      "   ------------ --------------------------- 14.4/45.8 MB 10.6 MB/s eta 0:00:03\n",
      "   ------------ --------------------------- 14.8/45.8 MB 10.9 MB/s eta 0:00:03\n",
      "   ------------- -------------------------- 15.3/45.8 MB 10.9 MB/s eta 0:00:03\n",
      "   ------------- -------------------------- 15.9/45.8 MB 11.3 MB/s eta 0:00:03\n",
      "   -------------- ------------------------- 16.4/45.8 MB 11.7 MB/s eta 0:00:03\n",
      "   -------------- ------------------------- 16.9/45.8 MB 11.5 MB/s eta 0:00:03\n",
      "   --------------- ------------------------ 17.4/45.8 MB 11.7 MB/s eta 0:00:03\n",
      "   --------------- ------------------------ 17.8/45.8 MB 12.1 MB/s eta 0:00:03\n",
      "   ---------------- ----------------------- 18.3/45.8 MB 11.9 MB/s eta 0:00:03\n",
      "   ---------------- ----------------------- 18.8/45.8 MB 11.5 MB/s eta 0:00:03\n",
      "   ---------------- ----------------------- 19.3/45.8 MB 11.9 MB/s eta 0:00:03\n",
      "   ----------------- ---------------------- 19.8/45.8 MB 11.5 MB/s eta 0:00:03\n",
      "   ----------------- ---------------------- 20.5/45.8 MB 11.7 MB/s eta 0:00:03\n",
      "   ------------------ --------------------- 20.9/45.8 MB 11.9 MB/s eta 0:00:03\n",
      "   ------------------ --------------------- 21.6/45.8 MB 12.1 MB/s eta 0:00:02\n",
      "   ------------------- -------------------- 22.1/45.8 MB 11.7 MB/s eta 0:00:03\n",
      "   ------------------- -------------------- 22.5/45.8 MB 11.7 MB/s eta 0:00:02\n",
      "   -------------------- ------------------- 23.0/45.8 MB 11.7 MB/s eta 0:00:02\n",
      "   -------------------- ------------------- 23.5/45.8 MB 11.7 MB/s eta 0:00:02\n",
      "   --------------------- ------------------ 24.1/45.8 MB 11.9 MB/s eta 0:00:02\n",
      "   --------------------- ------------------ 24.6/45.8 MB 11.9 MB/s eta 0:00:02\n",
      "   --------------------- ------------------ 25.0/45.8 MB 11.7 MB/s eta 0:00:02\n",
      "   ---------------------- ----------------- 25.5/45.8 MB 11.9 MB/s eta 0:00:02\n",
      "   ---------------------- ----------------- 26.1/45.8 MB 11.9 MB/s eta 0:00:02\n",
      "   ----------------------- ---------------- 26.7/45.8 MB 11.7 MB/s eta 0:00:02\n",
      "   ----------------------- ---------------- 27.3/45.8 MB 11.7 MB/s eta 0:00:02\n",
      "   ------------------------ --------------- 27.9/45.8 MB 11.7 MB/s eta 0:00:02\n",
      "   ------------------------ --------------- 28.5/45.8 MB 11.9 MB/s eta 0:00:02\n",
      "   ------------------------- -------------- 29.0/45.8 MB 11.9 MB/s eta 0:00:02\n",
      "   ------------------------- -------------- 29.5/45.8 MB 11.7 MB/s eta 0:00:02\n",
      "   -------------------------- ------------- 30.0/45.8 MB 11.7 MB/s eta 0:00:02\n",
      "   -------------------------- ------------- 30.4/45.8 MB 11.7 MB/s eta 0:00:02\n",
      "   -------------------------- ------------- 30.9/45.8 MB 11.9 MB/s eta 0:00:02\n",
      "   --------------------------- ------------ 31.4/45.8 MB 11.9 MB/s eta 0:00:02\n",
      "   --------------------------- ------------ 31.8/45.8 MB 11.7 MB/s eta 0:00:02\n",
      "   ---------------------------- ----------- 32.3/45.8 MB 11.9 MB/s eta 0:00:02\n",
      "   ---------------------------- ----------- 32.8/45.8 MB 11.9 MB/s eta 0:00:02\n",
      "   ----------------------------- ---------- 33.3/45.8 MB 11.9 MB/s eta 0:00:02\n",
      "   ----------------------------- ---------- 33.9/45.8 MB 11.7 MB/s eta 0:00:02\n",
      "   ------------------------------ --------- 34.4/45.8 MB 11.7 MB/s eta 0:00:01\n",
      "   ------------------------------ --------- 34.9/45.8 MB 11.7 MB/s eta 0:00:01\n",
      "   ------------------------------- -------- 35.5/45.8 MB 11.7 MB/s eta 0:00:01\n",
      "   ------------------------------- -------- 36.1/45.8 MB 11.9 MB/s eta 0:00:01\n",
      "   -------------------------------- ------- 36.7/45.8 MB 11.7 MB/s eta 0:00:01\n",
      "   -------------------------------- ------- 37.3/45.8 MB 11.9 MB/s eta 0:00:01\n",
      "   --------------------------------- ------ 37.9/45.8 MB 11.9 MB/s eta 0:00:01\n",
      "   --------------------------------- ------ 38.5/45.8 MB 11.9 MB/s eta 0:00:01\n",
      "   ---------------------------------- ----- 39.0/45.8 MB 11.9 MB/s eta 0:00:01\n",
      "   ---------------------------------- ----- 39.5/45.8 MB 11.7 MB/s eta 0:00:01\n",
      "   ---------------------------------- ----- 40.1/45.8 MB 11.7 MB/s eta 0:00:01\n",
      "   ----------------------------------- ---- 40.7/45.8 MB 11.7 MB/s eta 0:00:01\n",
      "   ------------------------------------ --- 41.3/45.8 MB 11.9 MB/s eta 0:00:01\n",
      "   ------------------------------------ --- 41.8/45.8 MB 11.7 MB/s eta 0:00:01\n",
      "   ------------------------------------ --- 42.3/45.8 MB 11.9 MB/s eta 0:00:01\n",
      "   ------------------------------------- -- 42.9/45.8 MB 11.7 MB/s eta 0:00:01\n",
      "   ------------------------------------- -- 43.5/45.8 MB 11.7 MB/s eta 0:00:01\n",
      "   -------------------------------------- - 44.0/45.8 MB 11.9 MB/s eta 0:00:01\n",
      "   -------------------------------------- - 44.5/45.8 MB 11.9 MB/s eta 0:00:01\n",
      "   ---------------------------------------  45.0/45.8 MB 11.7 MB/s eta 0:00:01\n",
      "   ---------------------------------------  45.6/45.8 MB 11.7 MB/s eta 0:00:01\n",
      "   ---------------------------------------  45.8/45.8 MB 11.7 MB/s eta 0:00:01\n",
      "   ---------------------------------------  45.8/45.8 MB 11.7 MB/s eta 0:00:01\n",
      "   ---------------------------------------  45.8/45.8 MB 11.7 MB/s eta 0:00:01\n",
      "   ---------------------------------------  45.8/45.8 MB 11.7 MB/s eta 0:00:01\n",
      "   ---------------------------------------- 45.8/45.8 MB 9.6 MB/s eta 0:00:00\n",
      "Installing collected packages: scipy\n",
      "Successfully installed scipy-1.12.0\n",
      "Note: you may need to restart the kernel to use updated packages.\n"
     ]
    }
   ],
   "source": [
    "pip install scipy\n"
   ]
  },
  {
   "cell_type": "code",
   "execution_count": 3,
   "id": "5da0201e-a105-4a77-9bcd-46fc2cb8ebc5",
   "metadata": {},
   "outputs": [
    {
     "name": "stdout",
     "output_type": "stream",
     "text": [
      "F-statistic: 242.34415651744814\n",
      "P-value: 1.0313763209141171e-84\n"
     ]
    }
   ],
   "source": [
    "\n",
    "import pandas as pd\n",
    "import numpy as np\n",
    "from scipy.stats import f_oneway\n",
    "\n",
    "# Load Titanic dataset\n",
    "titanic_df = pd.read_csv(\"https://raw.githubusercontent.com/datasciencedojo/datasets/master/titanic.csv\")\n",
    "\n",
    "# Filter out missing values in the Fare and Pclass columns\n",
    "filtered_titanic_df = titanic_df.dropna(subset=['Fare', 'Pclass'])\n",
    "\n",
    "# Group fares by passenger class\n",
    "grouped_fares = [filtered_titanic_df[filtered_titanic_df['Pclass'] == i]['Fare'] for i in [1, 2, 3]]\n",
    "\n",
    "# Perform one-way ANOVA\n",
    "f_statistic, p_value = f_oneway(*grouped_fares)\n",
    "\n",
    "print(\"F-statistic:\", f_statistic)\n",
    "print(\"P-value:\", p_value)\n"
   ]
  },
  {
   "cell_type": "code",
   "execution_count": 4,
   "id": "335d36c5-e9b1-4ac8-a7e5-7bd05742110f",
   "metadata": {},
   "outputs": [
    {
     "ename": "ModuleNotFoundError",
     "evalue": "No module named 'statsmodels'",
     "output_type": "error",
     "traceback": [
      "\u001b[1;31m---------------------------------------------------------------------------\u001b[0m",
      "\u001b[1;31mModuleNotFoundError\u001b[0m                       Traceback (most recent call last)",
      "Cell \u001b[1;32mIn[4], line 2\u001b[0m\n\u001b[0;32m      1\u001b[0m \u001b[38;5;28;01mimport\u001b[39;00m \u001b[38;5;21;01mpandas\u001b[39;00m \u001b[38;5;28;01mas\u001b[39;00m \u001b[38;5;21;01mpd\u001b[39;00m\n\u001b[1;32m----> 2\u001b[0m \u001b[38;5;28;01mimport\u001b[39;00m \u001b[38;5;21;01mstatsmodels\u001b[39;00m\u001b[38;5;21;01m.\u001b[39;00m\u001b[38;5;21;01mapi\u001b[39;00m \u001b[38;5;28;01mas\u001b[39;00m \u001b[38;5;21;01msm\u001b[39;00m\n\u001b[0;32m      3\u001b[0m \u001b[38;5;28;01mfrom\u001b[39;00m \u001b[38;5;21;01mstatsmodels\u001b[39;00m\u001b[38;5;21;01m.\u001b[39;00m\u001b[38;5;21;01mformula\u001b[39;00m\u001b[38;5;21;01m.\u001b[39;00m\u001b[38;5;21;01mapi\u001b[39;00m \u001b[38;5;28;01mimport\u001b[39;00m ols\n\u001b[0;32m      5\u001b[0m \u001b[38;5;66;03m# Load Titanic dataset\u001b[39;00m\n",
      "\u001b[1;31mModuleNotFoundError\u001b[0m: No module named 'statsmodels'"
     ]
    }
   ],
   "source": [
    "import pandas as pd\n",
    "import statsmodels.api as sm\n",
    "from statsmodels.formula.api import ols\n",
    "\n",
    "# Load Titanic dataset\n",
    "titanic_df = pd.read_csv('titanic.csv')\n",
    "\n",
    "# Filter out missing values in the Fare, Pclass, and Survived columns\n",
    "filtered_titanic_df = titanic_df.dropna(subset=['Fare', 'Pclass', 'Survived'])\n",
    "\n",
    "# Fit the ANOVA model\n",
    "model = ols('Fare ~ C(Pclass) + C(Survived) + C(Pclass):C(Survived)', data=filtered_titanic_df).fit()\n",
    "anova_table = sm.stats.anova_lm(model, typ=2)\n",
    "\n",
    "print(anova_table)\n"
   ]
  },
  {
   "cell_type": "code",
   "execution_count": 6,
   "id": "34da9c8c-97f7-4b3d-aa2e-15a962430777",
   "metadata": {},
   "outputs": [
    {
     "name": "stdout",
     "output_type": "stream",
     "text": [
      "Collecting statsmodels\n",
      "  Downloading statsmodels-0.14.1-cp312-cp312-win_amd64.whl.metadata (9.8 kB)\n",
      "Requirement already satisfied: numpy<2,>=1.18 in c:\\users\\saket ranjan\\appdata\\local\\programs\\python\\python312\\lib\\site-packages (from statsmodels) (1.26.3)\n",
      "Requirement already satisfied: scipy!=1.9.2,>=1.4 in c:\\users\\saket ranjan\\appdata\\local\\programs\\python\\python312\\lib\\site-packages (from statsmodels) (1.12.0)\n",
      "Requirement already satisfied: pandas!=2.1.0,>=1.0 in c:\\users\\saket ranjan\\appdata\\local\\programs\\python\\python312\\lib\\site-packages (from statsmodels) (2.2.0)\n",
      "Collecting patsy>=0.5.4 (from statsmodels)\n",
      "  Downloading patsy-0.5.6-py2.py3-none-any.whl.metadata (3.5 kB)\n",
      "Requirement already satisfied: packaging>=21.3 in c:\\users\\saket ranjan\\appdata\\local\\programs\\python\\python312\\lib\\site-packages (from statsmodels) (23.2)\n",
      "Requirement already satisfied: python-dateutil>=2.8.2 in c:\\users\\saket ranjan\\appdata\\local\\programs\\python\\python312\\lib\\site-packages (from pandas!=2.1.0,>=1.0->statsmodels) (2.8.2)\n",
      "Requirement already satisfied: pytz>=2020.1 in c:\\users\\saket ranjan\\appdata\\local\\programs\\python\\python312\\lib\\site-packages (from pandas!=2.1.0,>=1.0->statsmodels) (2024.1)\n",
      "Requirement already satisfied: tzdata>=2022.7 in c:\\users\\saket ranjan\\appdata\\local\\programs\\python\\python312\\lib\\site-packages (from pandas!=2.1.0,>=1.0->statsmodels) (2023.4)\n",
      "Requirement already satisfied: six in c:\\users\\saket ranjan\\appdata\\local\\programs\\python\\python312\\lib\\site-packages (from patsy>=0.5.4->statsmodels) (1.16.0)\n",
      "Downloading statsmodels-0.14.1-cp312-cp312-win_amd64.whl (9.8 MB)\n",
      "   ---------------------------------------- 0.0/9.8 MB ? eta -:--:--\n",
      "   ---------------------------------------- 0.0/9.8 MB ? eta -:--:--\n",
      "   ---------------------------------------- 0.0/9.8 MB 393.8 kB/s eta 0:00:25\n",
      "    --------------------------------------- 0.2/9.8 MB 1.7 MB/s eta 0:00:06\n",
      "   -- ------------------------------------- 0.7/9.8 MB 3.7 MB/s eta 0:00:03\n",
      "   ---- ----------------------------------- 1.2/9.8 MB 5.4 MB/s eta 0:00:02\n",
      "   ------ --------------------------------- 1.7/9.8 MB 6.6 MB/s eta 0:00:02\n",
      "   -------- ------------------------------- 2.1/9.8 MB 7.1 MB/s eta 0:00:02\n",
      "   ---------- ----------------------------- 2.6/9.8 MB 7.5 MB/s eta 0:00:01\n",
      "   ------------ --------------------------- 3.1/9.8 MB 8.0 MB/s eta 0:00:01\n",
      "   -------------- ------------------------- 3.5/9.8 MB 8.3 MB/s eta 0:00:01\n",
      "   -------------- ------------------------- 3.7/9.8 MB 7.5 MB/s eta 0:00:01\n",
      "   ------------------- -------------------- 4.7/9.8 MB 9.1 MB/s eta 0:00:01\n",
      "   -------------------- ------------------- 5.1/9.8 MB 9.4 MB/s eta 0:00:01\n",
      "   ----------------------- ---------------- 5.7/9.8 MB 9.5 MB/s eta 0:00:01\n",
      "   ------------------------- -------------- 6.1/9.8 MB 9.6 MB/s eta 0:00:01\n",
      "   -------------------------- ------------- 6.6/9.8 MB 9.8 MB/s eta 0:00:01\n",
      "   ---------------------------- ----------- 7.1/9.8 MB 9.9 MB/s eta 0:00:01\n",
      "   ----------------------------- ---------- 7.2/9.8 MB 9.8 MB/s eta 0:00:01\n",
      "   ------------------------------- -------- 7.8/9.8 MB 9.8 MB/s eta 0:00:01\n",
      "   ---------------------------------- ----- 8.5/9.8 MB 10.1 MB/s eta 0:00:01\n",
      "   ------------------------------------ --- 8.9/9.8 MB 10.2 MB/s eta 0:00:01\n",
      "   -------------------------------------- - 9.4/9.8 MB 10.1 MB/s eta 0:00:01\n",
      "   ---------------------------------------  9.8/9.8 MB 10.3 MB/s eta 0:00:01\n",
      "   ---------------------------------------  9.8/9.8 MB 10.3 MB/s eta 0:00:01\n",
      "   ---------------------------------------  9.8/9.8 MB 10.3 MB/s eta 0:00:01\n",
      "   ---------------------------------------  9.8/9.8 MB 10.3 MB/s eta 0:00:01\n",
      "   ---------------------------------------- 9.8/9.8 MB 9.0 MB/s eta 0:00:00\n",
      "Downloading patsy-0.5.6-py2.py3-none-any.whl (233 kB)\n",
      "   ---------------------------------------- 0.0/233.9 kB ? eta -:--:--\n",
      "   ------------------------------------- - 225.3/233.9 kB 13.4 MB/s eta 0:00:01\n",
      "   ---------------------------------------- 233.9/233.9 kB 4.8 MB/s eta 0:00:00\n",
      "Installing collected packages: patsy, statsmodels\n",
      "Successfully installed patsy-0.5.6 statsmodels-0.14.1\n",
      "Note: you may need to restart the kernel to use updated packages.\n"
     ]
    },
    {
     "name": "stderr",
     "output_type": "stream",
     "text": [
      "\n",
      "[notice] A new release of pip is available: 23.3.2 -> 24.0\n",
      "[notice] To update, run: python.exe -m pip install --upgrade pip\n"
     ]
    }
   ],
   "source": [
    "pip install statsmodels\n"
   ]
  },
  {
   "cell_type": "code",
   "execution_count": 8,
   "id": "b4cfd2fd-8a6e-492c-8fbe-9a679518b4a1",
   "metadata": {},
   "outputs": [
    {
     "name": "stdout",
     "output_type": "stream",
     "text": [
      "                             sum_sq     df           F        PR(>F)\n",
      "C(Pclass)              6.456848e+05    2.0  208.053483  8.687480e-75\n",
      "C(Survived)            1.516366e+04    1.0    9.772110  1.829623e-03\n",
      "C(Pclass):C(Survived)  3.332581e+04    2.0   10.738290  2.466646e-05\n",
      "Residual               1.373279e+06  885.0         NaN           NaN\n"
     ]
    }
   ],
   "source": [
    "import pandas as pd\n",
    "import statsmodels.api as sm\n",
    "from statsmodels.formula.api import ols\n",
    "\n",
    "# Load Titanic dataset\n",
    "titanic_df = pd.read_csv(\"https://raw.githubusercontent.com/datasciencedojo/datasets/master/titanic.csv\")\n",
    "\n",
    "# Filter out missing values in the Fare, Pclass, and Survived columns\n",
    "filtered_titanic_df = titanic_df.dropna(subset=['Fare', 'Pclass', 'Survived'])\n",
    "\n",
    "# Fit the ANOVA model\n",
    "model = ols('Fare ~ C(Pclass) + C(Survived) + C(Pclass):C(Survived)', data=filtered_titanic_df).fit()\n",
    "anova_table = sm.stats.anova_lm(model, typ=2)\n",
    "\n",
    "print(anova_table)"
   ]
  },
  {
   "cell_type": "code",
   "execution_count": 11,
   "id": "dafc8df1-8c1b-4520-b47f-e3565758fb00",
   "metadata": {},
   "outputs": [],
   "source": [
    "#In this code:two way anova\n",
    "\n",
    "#We load the Titanic dataset using Pandas.\n",
    "#We filter out any missing values in the 'Fare', 'Pclass', and 'Survived' columns.\n",
    "#We fit an ANOVA model using the ols function from statsmodels. The formula Fare ~ C(Pclass) + C(Survived) + C(Pclass):C(Survived) specifies that we're interested in the effects of both Pclass and Survived, as well as their interaction.\n",
    "#We use sm.stats.anova_lm to compute the ANOVA table.\n",
    "#Finally, we print out the ANOVA table, which includes the sum of squares, degrees of freedom, mean squares, F-statistic, and p-value for each factor and interaction.\n",
    "#This ANOVA will help us determine if there are significant differences in fares between passenger classes, survival status, and if the interaction between these two factors has a significant effect on fares.\n",
    "\n",
    "#In this code:\n",
    "\n",
    "#We load the Titanic dataset using Pandas.\n",
    "#We filter out any missing values in the 'Fare' and 'Pclass' columns.\n",
    "#We group the fares by passenger class (1st, 2nd, and 3rd).\n",
    "#We use the f_oneway function from SciPy to perform the one-way ANOVA on the grouped fares.\n",
    "#Finally, we print out the F-statistic and the p-value.\n",
    "#The null hypothesis (H0) in the context of this ANOVA would be that there is no significant difference in the mean fares between the different passenger classes. If the p-value is less than a chosen significance level (e.g., 0.05), we reject the null hypothesis, indicating that there is significant evidence to suggest that at least one pair of means is significantly different."
   ]
  },
  {
   "cell_type": "code",
   "execution_count": null,
   "id": "c033f4e9-5064-45a9-bb76-9cf9aa885377",
   "metadata": {},
   "outputs": [],
   "source": []
  }
 ],
 "metadata": {
  "kernelspec": {
   "display_name": "Python 3 (ipykernel)",
   "language": "python",
   "name": "python3"
  },
  "language_info": {
   "codemirror_mode": {
    "name": "ipython",
    "version": 3
   },
   "file_extension": ".py",
   "mimetype": "text/x-python",
   "name": "python",
   "nbconvert_exporter": "python",
   "pygments_lexer": "ipython3",
   "version": "3.12.1"
  }
 },
 "nbformat": 4,
 "nbformat_minor": 5
}
