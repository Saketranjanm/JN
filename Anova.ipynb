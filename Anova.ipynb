{
 "cells": [
  {
   "cell_type": "code",
   "execution_count": 9,
   "id": "9a9a780f-21c6-4b70-8fc6-2d62f6d3e5dc",
   "metadata": {},
   "outputs": [
    {
     "name": "stdout",
     "output_type": "stream",
     "text": [
      "     PassengerId  Survived  Pclass  \\\n",
      "0              1         0       3   \n",
      "1              2         1       1   \n",
      "2              3         1       3   \n",
      "3              4         1       1   \n",
      "4              5         0       3   \n",
      "..           ...       ...     ...   \n",
      "886          887         0       2   \n",
      "887          888         1       1   \n",
      "888          889         0       3   \n",
      "889          890         1       1   \n",
      "890          891         0       3   \n",
      "\n",
      "                                                  Name     Sex   Age  SibSp  \\\n",
      "0                              Braund, Mr. Owen Harris    male  22.0      1   \n",
      "1    Cumings, Mrs. John Bradley (Florence Briggs Th...  female  38.0      1   \n",
      "2                               Heikkinen, Miss. Laina  female  26.0      0   \n",
      "3         Futrelle, Mrs. Jacques Heath (Lily May Peel)  female  35.0      1   \n",
      "4                             Allen, Mr. William Henry    male  35.0      0   \n",
      "..                                                 ...     ...   ...    ...   \n",
      "886                              Montvila, Rev. Juozas    male  27.0      0   \n",
      "887                       Graham, Miss. Margaret Edith  female  19.0      0   \n",
      "888           Johnston, Miss. Catherine Helen \"Carrie\"  female   NaN      1   \n",
      "889                              Behr, Mr. Karl Howell    male  26.0      0   \n",
      "890                                Dooley, Mr. Patrick    male  32.0      0   \n",
      "\n",
      "     Parch            Ticket     Fare Cabin Embarked  \n",
      "0        0         A/5 21171   7.2500   NaN        S  \n",
      "1        0          PC 17599  71.2833   C85        C  \n",
      "2        0  STON/O2. 3101282   7.9250   NaN        S  \n",
      "3        0            113803  53.1000  C123        S  \n",
      "4        0            373450   8.0500   NaN        S  \n",
      "..     ...               ...      ...   ...      ...  \n",
      "886      0            211536  13.0000   NaN        S  \n",
      "887      0            112053  30.0000   B42        S  \n",
      "888      2        W./C. 6607  23.4500   NaN        S  \n",
      "889      0            111369  30.0000  C148        C  \n",
      "890      0            370376   7.7500   NaN        Q  \n",
      "\n",
      "[891 rows x 12 columns]\n"
     ]
    }
   ],
   "source": [
    "import pandas as pd\n",
    "import numpy as np\n",
    "from scipy.stats import f_oneway\n",
    "\n",
    "# Load Titanic dataset\n",
    "titanic_df = pd.read_csv(\"https://raw.githubusercontent.com/datasciencedojo/datasets/master/titanic.csv\")\n",
    "\n",
    "# Filter out missing values in the Fare and Pclass columns\n",
    "filtered_titanic_df = titanic_df.dropna(subset=['Fare', 'Pclass'])\n",
    "print(filtered_titanic_df)\n",
    "\n",
    "\n",
    "#Filtering the Titanic dataset using filtered_titanic_df is done to remove any rows with missing values in the columns we are interested \n",
    "#in, namely 'Fare' and 'Pclass'. This step ensures that we have complete data for the analysis, as missing values could potentially affect\n",
    "#the accuracy of our results."
   ]
  },
  {
   "cell_type": "code",
   "execution_count": 10,
   "id": "85e1a288-757c-4673-8321-e260f8338458",
   "metadata": {},
   "outputs": [
    {
     "name": "stdout",
     "output_type": "stream",
     "text": [
      "[1      71.2833\n",
      "3      53.1000\n",
      "6      51.8625\n",
      "11     26.5500\n",
      "23     35.5000\n",
      "        ...   \n",
      "871    52.5542\n",
      "872     5.0000\n",
      "879    83.1583\n",
      "887    30.0000\n",
      "889    30.0000\n",
      "Name: Fare, Length: 216, dtype: float64, 9      30.0708\n",
      "15     16.0000\n",
      "17     13.0000\n",
      "20     26.0000\n",
      "21     13.0000\n",
      "        ...   \n",
      "866    13.8583\n",
      "874    24.0000\n",
      "880    26.0000\n",
      "883    10.5000\n",
      "886    13.0000\n",
      "Name: Fare, Length: 184, dtype: float64, 0       7.2500\n",
      "2       7.9250\n",
      "4       8.0500\n",
      "5       8.4583\n",
      "7      21.0750\n",
      "        ...   \n",
      "882    10.5167\n",
      "884     7.0500\n",
      "885    29.1250\n",
      "888    23.4500\n",
      "890     7.7500\n",
      "Name: Fare, Length: 491, dtype: float64]\n"
     ]
    }
   ],
   "source": [
    "# Group fares by passenger class\n",
    "grouped_fares = [filtered_titanic_df[filtered_titanic_df['Pclass'] == i]['Fare'] for i in [1, 2, 3]]\n",
    "print(grouped_fares)\n",
    "\n",
    "#The grouped_fares variable is created to organize the fares from the Titanic dataset into groups based\n",
    "#on the passengers' classes. This grouping is necessary for conducting a one-way ANOVA analysis, which \n",
    "#compares the means of a continuous variable (in this case, fare prices) across different groups (in this case, passenger classes)."
   ]
  },
  {
   "cell_type": "code",
   "execution_count": 11,
   "id": "5da0201e-a105-4a77-9bcd-46fc2cb8ebc5",
   "metadata": {},
   "outputs": [
    {
     "name": "stdout",
     "output_type": "stream",
     "text": [
      "F-statistic: 242.34415651744814\n",
      "P-value: 1.0313763209141171e-84\n"
     ]
    }
   ],
   "source": [
    "# Perform one-way ANOVA\n",
    "f_statistic, p_value = f_oneway(*grouped_fares)\n",
    "\n",
    "print(\"F-statistic:\", f_statistic)\n",
    "print(\"P-value:\", p_value)\n",
    "#F-statistic: This value represents the ratio of the variance between groups to the variance within groups. \n",
    "#A larger F-statistic indicates a greater difference between the means of the groups relative to the variation within the groups.\n",
    "#P-value: This value represents the probability of observing the given F-statistic or a more extreme value\n",
    "#if the null hypothesis (that all group means are equal) were true. A small p-value (typically less than 0.05) \n",
    "#suggests that there is sufficient evidence to reject the null hypothesis and conclude that there are significant differences\n",
    "#between at least two of the groups.\n"
   ]
  },
  {
   "cell_type": "code",
   "execution_count": 4,
   "id": "335d36c5-e9b1-4ac8-a7e5-7bd05742110f",
   "metadata": {},
   "outputs": [
    {
     "ename": "ModuleNotFoundError",
     "evalue": "No module named 'statsmodels'",
     "output_type": "error",
     "traceback": [
      "\u001b[1;31m---------------------------------------------------------------------------\u001b[0m",
      "\u001b[1;31mModuleNotFoundError\u001b[0m                       Traceback (most recent call last)",
      "Cell \u001b[1;32mIn[4], line 2\u001b[0m\n\u001b[0;32m      1\u001b[0m \u001b[38;5;28;01mimport\u001b[39;00m \u001b[38;5;21;01mpandas\u001b[39;00m \u001b[38;5;28;01mas\u001b[39;00m \u001b[38;5;21;01mpd\u001b[39;00m\n\u001b[1;32m----> 2\u001b[0m \u001b[38;5;28;01mimport\u001b[39;00m \u001b[38;5;21;01mstatsmodels\u001b[39;00m\u001b[38;5;21;01m.\u001b[39;00m\u001b[38;5;21;01mapi\u001b[39;00m \u001b[38;5;28;01mas\u001b[39;00m \u001b[38;5;21;01msm\u001b[39;00m\n\u001b[0;32m      3\u001b[0m \u001b[38;5;28;01mfrom\u001b[39;00m \u001b[38;5;21;01mstatsmodels\u001b[39;00m\u001b[38;5;21;01m.\u001b[39;00m\u001b[38;5;21;01mformula\u001b[39;00m\u001b[38;5;21;01m.\u001b[39;00m\u001b[38;5;21;01mapi\u001b[39;00m \u001b[38;5;28;01mimport\u001b[39;00m ols\n\u001b[0;32m      5\u001b[0m \u001b[38;5;66;03m# Load Titanic dataset\u001b[39;00m\n",
      "\u001b[1;31mModuleNotFoundError\u001b[0m: No module named 'statsmodels'"
     ]
    }
   ],
   "source": [
    "import pandas as pd\n",
    "import statsmodels.api as sm\n",
    "from statsmodels.formula.api import ols\n",
    "\n",
    "# Load Titanic dataset\n",
    "titanic_df = pd.read_csv('titanic.csv')\n",
    "\n",
    "# Filter out missing values in the Fare, Pclass, and Survived columns\n",
    "filtered_titanic_df = titanic_df.dropna(subset=['Fare', 'Pclass', 'Survived'])\n",
    "\n",
    "# Fit the ANOVA model\n",
    "model = ols('Fare ~ C(Pclass) + C(Survived) + C(Pclass):C(Survived)', data=filtered_titanic_df).fit()\n",
    "anova_table = sm.stats.anova_lm(model, typ=2)\n",
    "\n",
    "print(anova_table)\n"
   ]
  },
  {
   "cell_type": "code",
   "execution_count": 6,
   "id": "34da9c8c-97f7-4b3d-aa2e-15a962430777",
   "metadata": {},
   "outputs": [
    {
     "name": "stdout",
     "output_type": "stream",
     "text": [
      "Collecting statsmodels\n",
      "  Downloading statsmodels-0.14.1-cp312-cp312-win_amd64.whl.metadata (9.8 kB)\n",
      "Requirement already satisfied: numpy<2,>=1.18 in c:\\users\\saket ranjan\\appdata\\local\\programs\\python\\python312\\lib\\site-packages (from statsmodels) (1.26.3)\n",
      "Requirement already satisfied: scipy!=1.9.2,>=1.4 in c:\\users\\saket ranjan\\appdata\\local\\programs\\python\\python312\\lib\\site-packages (from statsmodels) (1.12.0)\n",
      "Requirement already satisfied: pandas!=2.1.0,>=1.0 in c:\\users\\saket ranjan\\appdata\\local\\programs\\python\\python312\\lib\\site-packages (from statsmodels) (2.2.0)\n",
      "Collecting patsy>=0.5.4 (from statsmodels)\n",
      "  Downloading patsy-0.5.6-py2.py3-none-any.whl.metadata (3.5 kB)\n",
      "Requirement already satisfied: packaging>=21.3 in c:\\users\\saket ranjan\\appdata\\local\\programs\\python\\python312\\lib\\site-packages (from statsmodels) (23.2)\n",
      "Requirement already satisfied: python-dateutil>=2.8.2 in c:\\users\\saket ranjan\\appdata\\local\\programs\\python\\python312\\lib\\site-packages (from pandas!=2.1.0,>=1.0->statsmodels) (2.8.2)\n",
      "Requirement already satisfied: pytz>=2020.1 in c:\\users\\saket ranjan\\appdata\\local\\programs\\python\\python312\\lib\\site-packages (from pandas!=2.1.0,>=1.0->statsmodels) (2024.1)\n",
      "Requirement already satisfied: tzdata>=2022.7 in c:\\users\\saket ranjan\\appdata\\local\\programs\\python\\python312\\lib\\site-packages (from pandas!=2.1.0,>=1.0->statsmodels) (2023.4)\n",
      "Requirement already satisfied: six in c:\\users\\saket ranjan\\appdata\\local\\programs\\python\\python312\\lib\\site-packages (from patsy>=0.5.4->statsmodels) (1.16.0)\n",
      "Downloading statsmodels-0.14.1-cp312-cp312-win_amd64.whl (9.8 MB)\n",
      "   ---------------------------------------- 0.0/9.8 MB ? eta -:--:--\n",
      "   ---------------------------------------- 0.0/9.8 MB ? eta -:--:--\n",
      "   ---------------------------------------- 0.0/9.8 MB 393.8 kB/s eta 0:00:25\n",
      "    --------------------------------------- 0.2/9.8 MB 1.7 MB/s eta 0:00:06\n",
      "   -- ------------------------------------- 0.7/9.8 MB 3.7 MB/s eta 0:00:03\n",
      "   ---- ----------------------------------- 1.2/9.8 MB 5.4 MB/s eta 0:00:02\n",
      "   ------ --------------------------------- 1.7/9.8 MB 6.6 MB/s eta 0:00:02\n",
      "   -------- ------------------------------- 2.1/9.8 MB 7.1 MB/s eta 0:00:02\n",
      "   ---------- ----------------------------- 2.6/9.8 MB 7.5 MB/s eta 0:00:01\n",
      "   ------------ --------------------------- 3.1/9.8 MB 8.0 MB/s eta 0:00:01\n",
      "   -------------- ------------------------- 3.5/9.8 MB 8.3 MB/s eta 0:00:01\n",
      "   -------------- ------------------------- 3.7/9.8 MB 7.5 MB/s eta 0:00:01\n",
      "   ------------------- -------------------- 4.7/9.8 MB 9.1 MB/s eta 0:00:01\n",
      "   -------------------- ------------------- 5.1/9.8 MB 9.4 MB/s eta 0:00:01\n",
      "   ----------------------- ---------------- 5.7/9.8 MB 9.5 MB/s eta 0:00:01\n",
      "   ------------------------- -------------- 6.1/9.8 MB 9.6 MB/s eta 0:00:01\n",
      "   -------------------------- ------------- 6.6/9.8 MB 9.8 MB/s eta 0:00:01\n",
      "   ---------------------------- ----------- 7.1/9.8 MB 9.9 MB/s eta 0:00:01\n",
      "   ----------------------------- ---------- 7.2/9.8 MB 9.8 MB/s eta 0:00:01\n",
      "   ------------------------------- -------- 7.8/9.8 MB 9.8 MB/s eta 0:00:01\n",
      "   ---------------------------------- ----- 8.5/9.8 MB 10.1 MB/s eta 0:00:01\n",
      "   ------------------------------------ --- 8.9/9.8 MB 10.2 MB/s eta 0:00:01\n",
      "   -------------------------------------- - 9.4/9.8 MB 10.1 MB/s eta 0:00:01\n",
      "   ---------------------------------------  9.8/9.8 MB 10.3 MB/s eta 0:00:01\n",
      "   ---------------------------------------  9.8/9.8 MB 10.3 MB/s eta 0:00:01\n",
      "   ---------------------------------------  9.8/9.8 MB 10.3 MB/s eta 0:00:01\n",
      "   ---------------------------------------  9.8/9.8 MB 10.3 MB/s eta 0:00:01\n",
      "   ---------------------------------------- 9.8/9.8 MB 9.0 MB/s eta 0:00:00\n",
      "Downloading patsy-0.5.6-py2.py3-none-any.whl (233 kB)\n",
      "   ---------------------------------------- 0.0/233.9 kB ? eta -:--:--\n",
      "   ------------------------------------- - 225.3/233.9 kB 13.4 MB/s eta 0:00:01\n",
      "   ---------------------------------------- 233.9/233.9 kB 4.8 MB/s eta 0:00:00\n",
      "Installing collected packages: patsy, statsmodels\n",
      "Successfully installed patsy-0.5.6 statsmodels-0.14.1\n",
      "Note: you may need to restart the kernel to use updated packages.\n"
     ]
    },
    {
     "name": "stderr",
     "output_type": "stream",
     "text": [
      "\n",
      "[notice] A new release of pip is available: 23.3.2 -> 24.0\n",
      "[notice] To update, run: python.exe -m pip install --upgrade pip\n"
     ]
    }
   ],
   "source": [
    "pip install statsmodels\n"
   ]
  },
  {
   "cell_type": "code",
   "execution_count": 8,
   "id": "b4cfd2fd-8a6e-492c-8fbe-9a679518b4a1",
   "metadata": {},
   "outputs": [
    {
     "name": "stdout",
     "output_type": "stream",
     "text": [
      "                             sum_sq     df           F        PR(>F)\n",
      "C(Pclass)              6.456848e+05    2.0  208.053483  8.687480e-75\n",
      "C(Survived)            1.516366e+04    1.0    9.772110  1.829623e-03\n",
      "C(Pclass):C(Survived)  3.332581e+04    2.0   10.738290  2.466646e-05\n",
      "Residual               1.373279e+06  885.0         NaN           NaN\n"
     ]
    }
   ],
   "source": [
    "import pandas as pd\n",
    "import statsmodels.api as sm\n",
    "from statsmodels.formula.api import ols\n",
    "\n",
    "# Load Titanic dataset\n",
    "titanic_df = pd.read_csv(\"https://raw.githubusercontent.com/datasciencedojo/datasets/master/titanic.csv\")\n",
    "\n",
    "# Filter out missing values in the Fare, Pclass, and Survived columns\n",
    "filtered_titanic_df = titanic_df.dropna(subset=['Fare', 'Pclass', 'Survived'])\n",
    "\n",
    "# Fit the ANOVA model\n",
    "model = ols('Fare ~ C(Pclass) + C(Survived) + C(Pclass):C(Survived)', data=filtered_titanic_df).fit()\n",
    "anova_table = sm.stats.anova_lm(model, typ=2)\n",
    "\n",
    "print(anova_table)"
   ]
  },
  {
   "cell_type": "code",
   "execution_count": 11,
   "id": "dafc8df1-8c1b-4520-b47f-e3565758fb00",
   "metadata": {},
   "outputs": [],
   "source": [
    "#In this code:two way anova\n",
    "\n",
    "#We load the Titanic dataset using Pandas.\n",
    "#We filter out any missing values in the 'Fare', 'Pclass', and 'Survived' columns.\n",
    "#We fit an ANOVA model using the ols function from statsmodels. The formula Fare ~ C(Pclass) + C(Survived) + C(Pclass):C(Survived) specifies that we're interested in the effects of both Pclass and Survived, as well as their interaction.\n",
    "#We use sm.stats.anova_lm to compute the ANOVA table.\n",
    "#Finally, we print out the ANOVA table, which includes the sum of squares, degrees of freedom, mean squares, F-statistic, and p-value for each factor and interaction.\n",
    "#This ANOVA will help us determine if there are significant differences in fares between passenger classes, survival status, and if the interaction between these two factors has a significant effect on fares.\n",
    "\n",
    "#In this code:\n",
    "\n",
    "#We load the Titanic dataset using Pandas.\n",
    "#We filter out any missing values in the 'Fare' and 'Pclass' columns.\n",
    "#We group the fares by passenger class (1st, 2nd, and 3rd).\n",
    "#We use the f_oneway function from SciPy to perform the one-way ANOVA on the grouped fares.\n",
    "#Finally, we print out the F-statistic and the p-value.\n",
    "#The null hypothesis (H0) in the context of this ANOVA would be that there is no significant difference in the mean fares between the different passenger classes. If the p-value is less than a chosen significance level (e.g., 0.05), we reject the null hypothesis, indicating that there is significant evidence to suggest that at least one pair of means is significantly different."
   ]
  },
  {
   "cell_type": "code",
   "execution_count": 2,
   "id": "c033f4e9-5064-45a9-bb76-9cf9aa885377",
   "metadata": {},
   "outputs": [
    {
     "name": "stdout",
     "output_type": "stream",
     "text": [
      "    Age  Ratio_to_Trend\n",
      "0  22.0        0.740763\n",
      "1  38.0        1.279499\n",
      "2  26.0        0.875447\n",
      "3  35.0        1.178486\n",
      "4  35.0        1.178486\n"
     ]
    }
   ],
   "source": [
    "import pandas as pd\n",
    "\n",
    "# Load the Titanic dataset (assuming it's in a CSV file named 'titanic.csv')\n",
    "titanic_df = pd.read_csv('https://raw.githubusercontent.com/datasciencedojo/datasets/master/titanic.csv')\n",
    "\n",
    "# Assuming you want to find the trend value based on a specific feature, such as age or fare\n",
    "trend_value = titanic_df['Age'].mean()  # You can replace 'Age' with any other feature\n",
    "\n",
    "# Calculate the ratio of each data point to the trend value\n",
    "titanic_df['Ratio_to_Trend'] = titanic_df['Age'] / trend_value\n",
    "\n",
    "# Display the first few rows of the dataset with the calculated ratio\n",
    "print(titanic_df[['Age', 'Ratio_to_Trend']].head())\n"
   ]
  },
  {
   "cell_type": "code",
   "execution_count": 12,
   "id": "6b2bb1bc-a150-45d4-abfa-aef106e00b99",
   "metadata": {},
   "outputs": [],
   "source": [
    "import pandas as pd\n",
    "import statsmodels.api as sm\n",
    "from statsmodels.formula.api import ols"
   ]
  },
  {
   "cell_type": "code",
   "execution_count": 20,
   "id": "ab48d84e-aefc-4a24-bf55-67a280972063",
   "metadata": {},
   "outputs": [],
   "source": [
    "df =  pd.read_csv(\"titanic.csv\")"
   ]
  },
  {
   "cell_type": "code",
   "execution_count": 21,
   "id": "d3db3ea4-0b4a-4b4c-baf9-de8745c51732",
   "metadata": {},
   "outputs": [
    {
     "data": {
      "text/html": [
       "<div>\n",
       "<style scoped>\n",
       "    .dataframe tbody tr th:only-of-type {\n",
       "        vertical-align: middle;\n",
       "    }\n",
       "\n",
       "    .dataframe tbody tr th {\n",
       "        vertical-align: top;\n",
       "    }\n",
       "\n",
       "    .dataframe thead th {\n",
       "        text-align: right;\n",
       "    }\n",
       "</style>\n",
       "<table border=\"1\" class=\"dataframe\">\n",
       "  <thead>\n",
       "    <tr style=\"text-align: right;\">\n",
       "      <th></th>\n",
       "      <th>PassengerId</th>\n",
       "      <th>Survived</th>\n",
       "      <th>Pclass</th>\n",
       "      <th>Name</th>\n",
       "      <th>Sex</th>\n",
       "      <th>Age</th>\n",
       "      <th>SibSp</th>\n",
       "      <th>Parch</th>\n",
       "      <th>Ticket</th>\n",
       "      <th>Fare</th>\n",
       "      <th>Cabin</th>\n",
       "      <th>Embarked</th>\n",
       "    </tr>\n",
       "  </thead>\n",
       "  <tbody>\n",
       "    <tr>\n",
       "      <th>0</th>\n",
       "      <td>1</td>\n",
       "      <td>0</td>\n",
       "      <td>3</td>\n",
       "      <td>Braund, Mr. Owen Harris</td>\n",
       "      <td>male</td>\n",
       "      <td>22.0</td>\n",
       "      <td>1</td>\n",
       "      <td>0</td>\n",
       "      <td>A/5 21171</td>\n",
       "      <td>7.2500</td>\n",
       "      <td>NaN</td>\n",
       "      <td>S</td>\n",
       "    </tr>\n",
       "    <tr>\n",
       "      <th>1</th>\n",
       "      <td>2</td>\n",
       "      <td>1</td>\n",
       "      <td>1</td>\n",
       "      <td>Cumings, Mrs. John Bradley (Florence Briggs Th...</td>\n",
       "      <td>female</td>\n",
       "      <td>38.0</td>\n",
       "      <td>1</td>\n",
       "      <td>0</td>\n",
       "      <td>PC 17599</td>\n",
       "      <td>71.2833</td>\n",
       "      <td>C85</td>\n",
       "      <td>C</td>\n",
       "    </tr>\n",
       "    <tr>\n",
       "      <th>2</th>\n",
       "      <td>3</td>\n",
       "      <td>1</td>\n",
       "      <td>3</td>\n",
       "      <td>Heikkinen, Miss. Laina</td>\n",
       "      <td>female</td>\n",
       "      <td>26.0</td>\n",
       "      <td>0</td>\n",
       "      <td>0</td>\n",
       "      <td>STON/O2. 3101282</td>\n",
       "      <td>7.9250</td>\n",
       "      <td>NaN</td>\n",
       "      <td>S</td>\n",
       "    </tr>\n",
       "    <tr>\n",
       "      <th>3</th>\n",
       "      <td>4</td>\n",
       "      <td>1</td>\n",
       "      <td>1</td>\n",
       "      <td>Futrelle, Mrs. Jacques Heath (Lily May Peel)</td>\n",
       "      <td>female</td>\n",
       "      <td>35.0</td>\n",
       "      <td>1</td>\n",
       "      <td>0</td>\n",
       "      <td>113803</td>\n",
       "      <td>53.1000</td>\n",
       "      <td>C123</td>\n",
       "      <td>S</td>\n",
       "    </tr>\n",
       "    <tr>\n",
       "      <th>4</th>\n",
       "      <td>5</td>\n",
       "      <td>0</td>\n",
       "      <td>3</td>\n",
       "      <td>Allen, Mr. William Henry</td>\n",
       "      <td>male</td>\n",
       "      <td>35.0</td>\n",
       "      <td>0</td>\n",
       "      <td>0</td>\n",
       "      <td>373450</td>\n",
       "      <td>8.0500</td>\n",
       "      <td>NaN</td>\n",
       "      <td>S</td>\n",
       "    </tr>\n",
       "    <tr>\n",
       "      <th>...</th>\n",
       "      <td>...</td>\n",
       "      <td>...</td>\n",
       "      <td>...</td>\n",
       "      <td>...</td>\n",
       "      <td>...</td>\n",
       "      <td>...</td>\n",
       "      <td>...</td>\n",
       "      <td>...</td>\n",
       "      <td>...</td>\n",
       "      <td>...</td>\n",
       "      <td>...</td>\n",
       "      <td>...</td>\n",
       "    </tr>\n",
       "    <tr>\n",
       "      <th>886</th>\n",
       "      <td>887</td>\n",
       "      <td>0</td>\n",
       "      <td>2</td>\n",
       "      <td>Montvila, Rev. Juozas</td>\n",
       "      <td>male</td>\n",
       "      <td>27.0</td>\n",
       "      <td>0</td>\n",
       "      <td>0</td>\n",
       "      <td>211536</td>\n",
       "      <td>13.0000</td>\n",
       "      <td>NaN</td>\n",
       "      <td>S</td>\n",
       "    </tr>\n",
       "    <tr>\n",
       "      <th>887</th>\n",
       "      <td>888</td>\n",
       "      <td>1</td>\n",
       "      <td>1</td>\n",
       "      <td>Graham, Miss. Margaret Edith</td>\n",
       "      <td>female</td>\n",
       "      <td>19.0</td>\n",
       "      <td>0</td>\n",
       "      <td>0</td>\n",
       "      <td>112053</td>\n",
       "      <td>30.0000</td>\n",
       "      <td>B42</td>\n",
       "      <td>S</td>\n",
       "    </tr>\n",
       "    <tr>\n",
       "      <th>888</th>\n",
       "      <td>889</td>\n",
       "      <td>0</td>\n",
       "      <td>3</td>\n",
       "      <td>Johnston, Miss. Catherine Helen \"Carrie\"</td>\n",
       "      <td>female</td>\n",
       "      <td>NaN</td>\n",
       "      <td>1</td>\n",
       "      <td>2</td>\n",
       "      <td>W./C. 6607</td>\n",
       "      <td>23.4500</td>\n",
       "      <td>NaN</td>\n",
       "      <td>S</td>\n",
       "    </tr>\n",
       "    <tr>\n",
       "      <th>889</th>\n",
       "      <td>890</td>\n",
       "      <td>1</td>\n",
       "      <td>1</td>\n",
       "      <td>Behr, Mr. Karl Howell</td>\n",
       "      <td>male</td>\n",
       "      <td>26.0</td>\n",
       "      <td>0</td>\n",
       "      <td>0</td>\n",
       "      <td>111369</td>\n",
       "      <td>30.0000</td>\n",
       "      <td>C148</td>\n",
       "      <td>C</td>\n",
       "    </tr>\n",
       "    <tr>\n",
       "      <th>890</th>\n",
       "      <td>891</td>\n",
       "      <td>0</td>\n",
       "      <td>3</td>\n",
       "      <td>Dooley, Mr. Patrick</td>\n",
       "      <td>male</td>\n",
       "      <td>32.0</td>\n",
       "      <td>0</td>\n",
       "      <td>0</td>\n",
       "      <td>370376</td>\n",
       "      <td>7.7500</td>\n",
       "      <td>NaN</td>\n",
       "      <td>Q</td>\n",
       "    </tr>\n",
       "  </tbody>\n",
       "</table>\n",
       "<p>891 rows × 12 columns</p>\n",
       "</div>"
      ],
      "text/plain": [
       "     PassengerId  Survived  Pclass  \\\n",
       "0              1         0       3   \n",
       "1              2         1       1   \n",
       "2              3         1       3   \n",
       "3              4         1       1   \n",
       "4              5         0       3   \n",
       "..           ...       ...     ...   \n",
       "886          887         0       2   \n",
       "887          888         1       1   \n",
       "888          889         0       3   \n",
       "889          890         1       1   \n",
       "890          891         0       3   \n",
       "\n",
       "                                                  Name     Sex   Age  SibSp  \\\n",
       "0                              Braund, Mr. Owen Harris    male  22.0      1   \n",
       "1    Cumings, Mrs. John Bradley (Florence Briggs Th...  female  38.0      1   \n",
       "2                               Heikkinen, Miss. Laina  female  26.0      0   \n",
       "3         Futrelle, Mrs. Jacques Heath (Lily May Peel)  female  35.0      1   \n",
       "4                             Allen, Mr. William Henry    male  35.0      0   \n",
       "..                                                 ...     ...   ...    ...   \n",
       "886                              Montvila, Rev. Juozas    male  27.0      0   \n",
       "887                       Graham, Miss. Margaret Edith  female  19.0      0   \n",
       "888           Johnston, Miss. Catherine Helen \"Carrie\"  female   NaN      1   \n",
       "889                              Behr, Mr. Karl Howell    male  26.0      0   \n",
       "890                                Dooley, Mr. Patrick    male  32.0      0   \n",
       "\n",
       "     Parch            Ticket     Fare Cabin Embarked  \n",
       "0        0         A/5 21171   7.2500   NaN        S  \n",
       "1        0          PC 17599  71.2833   C85        C  \n",
       "2        0  STON/O2. 3101282   7.9250   NaN        S  \n",
       "3        0            113803  53.1000  C123        S  \n",
       "4        0            373450   8.0500   NaN        S  \n",
       "..     ...               ...      ...   ...      ...  \n",
       "886      0            211536  13.0000   NaN        S  \n",
       "887      0            112053  30.0000   B42        S  \n",
       "888      2        W./C. 6607  23.4500   NaN        S  \n",
       "889      0            111369  30.0000  C148        C  \n",
       "890      0            370376   7.7500   NaN        Q  \n",
       "\n",
       "[891 rows x 12 columns]"
      ]
     },
     "execution_count": 21,
     "metadata": {},
     "output_type": "execute_result"
    }
   ],
   "source": [
    "df"
   ]
  },
  {
   "cell_type": "code",
   "execution_count": 37,
   "id": "6833070a-f049-45f2-ae06-d6a1f8cb3e36",
   "metadata": {},
   "outputs": [],
   "source": [
    "#H0 = THERE IS NO SIGNIFACANT DIFFERENCE IN FARE ACROSS DIFFERENT PASSENGER CLASSES\n",
    "#H1 = THERE IS SIGNIFICANT DIFFERENCE IN ATLEAST ONE CLASS\n",
    "mod = ols('Pclass~Fare',data = df).fit()"
   ]
  },
  {
   "cell_type": "code",
   "execution_count": 38,
   "id": "ecc911fd-9d3d-4a65-8127-aba7cbcf3309",
   "metadata": {},
   "outputs": [
    {
     "name": "stdout",
     "output_type": "stream",
     "text": [
      "             df      sum_sq     mean_sq           F        PR(>F)\n",
      "Fare        1.0  187.850073  187.850073  384.547434  1.967386e-71\n",
      "Residual  889.0  434.273383    0.488496         NaN           NaN\n"
     ]
    }
   ],
   "source": [
    "aov_table = sm.stats.anova_lm(mod, type =2)\n",
    "print(aov_table)"
   ]
  },
  {
   "cell_type": "code",
   "execution_count": 45,
   "id": "844f25fe-3c12-40fb-b0b8-64c86fc6cb5f",
   "metadata": {},
   "outputs": [
    {
     "data": {
      "text/plain": [
       "<Axes: title={'center': 'Fare'}, xlabel='Pclass'>"
      ]
     },
     "execution_count": 45,
     "metadata": {},
     "output_type": "execute_result"
    },
    {
     "data": {
      "image/png": "[encoded data removed]",
      "text/plain": [
       "<Figure size 640x480 with 1 Axes>"
      ]
     },
     "metadata": {},
     "output_type": "display_data"
    }
   ],
   "source": [
    "\n",
    "%matplotlib inline\n",
    "df.boxplot('Fare', by = 'Pclass')"
   ]
  },
  {
   "cell_type": "code",
   "execution_count": 46,
   "id": "b547554d-13c1-4aab-be0d-2a282407cc43",
   "metadata": {},
   "outputs": [],
   "source": [
    "new = ols('Fare ~ Pclass' , data = df).fit()\n",
    "an = sm.stats.anova_lm(new,typ = 2)"
   ]
  },
  {
   "cell_type": "code",
   "execution_count": 47,
   "id": "7eec0204-bb70-47ed-84d3-ed60fdcec993",
   "metadata": {},
   "outputs": [
    {
     "data": {
      "text/html": [
       "<div>\n",
       "<style scoped>\n",
       "    .dataframe tbody tr th:only-of-type {\n",
       "        vertical-align: middle;\n",
       "    }\n",
       "\n",
       "    .dataframe tbody tr th {\n",
       "        vertical-align: top;\n",
       "    }\n",
       "\n",
       "    .dataframe thead th {\n",
       "        text-align: right;\n",
       "    }\n",
       "</style>\n",
       "<table border=\"1\" class=\"dataframe\">\n",
       "  <thead>\n",
       "    <tr style=\"text-align: right;\">\n",
       "      <th></th>\n",
       "      <th>sum_sq</th>\n",
       "      <th>df</th>\n",
       "      <th>F</th>\n",
       "      <th>PR(&gt;F)</th>\n",
       "    </tr>\n",
       "  </thead>\n",
       "  <tbody>\n",
       "    <tr>\n",
       "      <th>Pclass</th>\n",
       "      <td>6.636250e+05</td>\n",
       "      <td>1.0</td>\n",
       "      <td>384.547434</td>\n",
       "      <td>1.967386e-71</td>\n",
       "    </tr>\n",
       "    <tr>\n",
       "      <th>Residual</th>\n",
       "      <td>1.534174e+06</td>\n",
       "      <td>889.0</td>\n",
       "      <td>NaN</td>\n",
       "      <td>NaN</td>\n",
       "    </tr>\n",
       "  </tbody>\n",
       "</table>\n",
       "</div>"
      ],
      "text/plain": [
       "                sum_sq     df           F        PR(>F)\n",
       "Pclass    6.636250e+05    1.0  384.547434  1.967386e-71\n",
       "Residual  1.534174e+06  889.0         NaN           NaN"
      ]
     },
     "execution_count": 47,
     "metadata": {},
     "output_type": "execute_result"
    }
   ],
   "source": [
    "an"
   ]
  },
  {
   "cell_type": "code",
   "execution_count": 48,
   "id": "92511481-fddd-480c-92aa-88bbe20622b6",
   "metadata": {},
   "outputs": [
    {
     "name": "stdout",
     "output_type": "stream",
     "text": [
      "F-statistic: 242.34415651744814\n",
      "P-value: 1.0313763209141171e-84\n"
     ]
    }
   ],
   "source": [
    "import pandas as pd\n",
    "import numpy as np\n",
    "from scipy.stats import f_oneway\n",
    "\n",
    "# Load Titanic dataset\n",
    "titanic_df = pd.read_csv(\"https://raw.githubusercontent.com/datasciencedojo/datasets/master/titanic.csv\")\n",
    "\n",
    "# Filter out missing values in the Fare and Pclass columns\n",
    "filtered_titanic_df = titanic_df.dropna(subset=['Fare', 'Pclass'])\n",
    "\n",
    "# Group fares by passenger class\n",
    "grouped_fares = [filtered_titanic_df[filtered_titanic_df['Pclass'] == i]['Fare'] for i in [1, 2, 3]]\n",
    "\n",
    "# Perform one-way ANOVA\n",
    "f_statistic, p_value = f_oneway(*grouped_fares)\n",
    "\n",
    "print(\"F-statistic:\", f_statistic)\n",
    "print(\"P-value:\", p_value)"
   ]
  },
  {
   "cell_type": "code",
   "execution_count": 49,
   "id": "b345ed1c-3023-4c48-9bf5-db21c332a392",
   "metadata": {},
   "outputs": [
    {
     "name": "stdout",
     "output_type": "stream",
     "text": [
      "                             sum_sq     df           F        PR(>F)\n",
      "C(Pclass)              6.456848e+05    2.0  208.053483  8.687480e-75\n",
      "C(Survived)            1.516366e+04    1.0    9.772110  1.829623e-03\n",
      "C(Pclass):C(Survived)  3.332581e+04    2.0   10.738290  2.466646e-05\n",
      "Residual               1.373279e+06  885.0         NaN           NaN\n"
     ]
    }
   ],
   "source": [
    "import pandas as pd\n",
    "import statsmodels.api as sm\n",
    "from statsmodels.formula.api import ols\n",
    "\n",
    "# Load Titanic dataset\n",
    "titanic_df = pd.read_csv('titanic.csv')\n",
    "\n",
    "# Drop rows with missing values in relevant columns\n",
    "titanic_df.dropna(subset=['Fare', 'Pclass', 'Survived'], inplace=True)\n",
    "\n",
    "# Fit the ANOVA model\n",
    "formula = 'Fare ~ C(Pclass) + C(Survived) + C(Pclass):C(Survived)'\n",
    "model = ols(formula, data=titanic_df).fit()\n",
    "\n",
    "# Perform ANOVA\n",
    "anova_table = sm.stats.anova_lm(model, typ=2)\n",
    "print(anova_table)\n"
   ]
  },
  {
   "cell_type": "code",
   "execution_count": null,
   "id": "da1862dd-0db8-4db8-b281-d465b4e671ea",
   "metadata": {},
   "outputs": [],
   "source": []
  }
 ],
 "metadata": {
  "kernelspec": {
   "display_name": "Python 3 (ipykernel)",
   "language": "python",
   "name": "python3"
  },
  "language_info": {
   "codemirror_mode": {
    "name": "ipython",
    "version": 3
   },
   "file_extension": ".py",
   "mimetype": "text/x-python",
   "name": "python",
   "nbconvert_exporter": "python",
   "pygments_lexer": "ipython3",
   "version": "3.12.1"
  }
 },
 "nbformat": 4,
 "nbformat_minor": 5
}
