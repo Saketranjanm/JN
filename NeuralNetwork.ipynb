{
 "cells": [
  {
   "cell_type": "code",
   "execution_count": 1,
   "id": "4bb3ee60-4336-4582-9009-9444b6baa5d8",
   "metadata": {},
   "outputs": [
    {
     "name": "stdout",
     "output_type": "stream",
     "text": [
      "2.3\n"
     ]
    }
   ],
   "source": [
    "input = [1,2,3]\n",
    "weights = [0.2,0.8,-0.5]\n",
    "bias = 2\n",
    "output = input[0]*weights[0]+input[1]*weights[1]+input[2]*weights[2] + bias\n",
    "print(output)"
   ]
  },
  {
   "cell_type": "code",
   "execution_count": 2,
   "id": "afa9a705-2390-44a6-81c4-65cf39c45302",
   "metadata": {},
   "outputs": [],
   "source": [
    "#Working of Perceptron and error functions using suitable datasets\n",
    "import sys\n",
    "import numpy as np"
   ]
  },
  {
   "cell_type": "code",
   "execution_count": 3,
   "id": "6173f11b-7c68-4711-9426-a1a7e6c06331",
   "metadata": {},
   "outputs": [],
   "source": [
    "def threshold_activation_function(x,threshold=0):\n",
    "    return 1 if x> threshold else 0\n",
    "    "
   ]
  },
  {
   "cell_type": "code",
   "execution_count": 4,
   "id": "c8f7b367-eb9b-4ada-8469-a489d343747f",
   "metadata": {},
   "outputs": [],
   "source": [
    "def predict(inputs,weights,bias):\n",
    "    weighted_sum = np.dot(inputs,weights)+bias\n",
    "    return threshold_activation_function(weighted_sum)"
   ]
  },
  {
   "cell_type": "code",
   "execution_count": 5,
   "id": "0db8ee5a-8021-4697-a0a2-8f2ada93193a",
   "metadata": {},
   "outputs": [],
   "source": [
    "def calculate_error(prediction,label):\n",
    "    return label - prediction"
   ]
  },
  {
   "cell_type": "code",
   "execution_count": 6,
   "id": "20dbfa13-86de-48d1-87f4-cbeb3e24d2b9",
   "metadata": {},
   "outputs": [],
   "source": [
    "def train_perceptron(training_inputs,labels,learning_rate=0.01,num_epochs = 100):\n",
    "    num_inputs = len(training_inputs[0])\n",
    "    weights=np.random.rand(num_inputs)\n",
    "    bias = np.random.rand()\n",
    "    for epoch in range(num_epochs):\n",
    "        for inputs,label in zip(training_inputs,labels):\n",
    "            prediction = predict(inputs,weights,bias)\n",
    "            error =calculate_error(prediction,label)\n",
    "            weights = weights + learning_rate *error*inputs\n",
    "            bias = bias + learning_rate*error\n",
    "    return weights,bias\n",
    "    "
   ]
  },
  {
   "cell_type": "code",
   "execution_count": 7,
   "id": "f9bb2dcd-280e-469c-8665-702e99127677",
   "metadata": {},
   "outputs": [],
   "source": [
    "def calculate_accuracy(predictions,labels):\n",
    "    return np.mean(predictions == labels)"
   ]
  },
  {
   "cell_type": "code",
   "execution_count": 8,
   "id": "9336f104-50c1-4729-b52b-f8b325c75fd0",
   "metadata": {},
   "outputs": [
    {
     "name": "stdout",
     "output_type": "stream",
     "text": [
      "input: [0 0],predicted output:0\n",
      "input: [0 1],predicted output:0\n",
      "input: [1 0],predicted output:0\n",
      "input: [1 1],predicted output:1\n",
      "Accuracy: 1.0\n"
     ]
    }
   ],
   "source": [
    "if __name__ == \"__main__\":\n",
    "    training_inputs = np.array([[0,0],[0,1],[1,0],[1,1]])\n",
    "    labels = np.array([0,0,0,1])\n",
    "    weights,bias =train_perceptron(training_inputs,labels)\n",
    "    test_inputs =  np.array([[0,0],[0,1],[1,0],[1,1]])\n",
    "    predictions = [predict(inputs,weights,bias) for inputs in test_inputs]\n",
    "    for inputs,prediction in zip(test_inputs,predictions):\n",
    "        print(f\"input: {inputs},predicted output:{prediction}\")\n",
    "    accuracy = calculate_accuracy(predictions,labels)\n",
    "    print(\"Accuracy:\", accuracy)"
   ]
  },
  {
   "cell_type": "code",
   "execution_count": 9,
   "id": "3631553c-de60-4235-9a93-08610b49efa4",
   "metadata": {},
   "outputs": [],
   "source": [
    "#AND gate using perceptron"
   ]
  },
  {
   "cell_type": "code",
   "execution_count": 10,
   "id": "30471a42-9fd1-4308-8b63-5b5100ac19c4",
   "metadata": {},
   "outputs": [],
   "source": [
    "def activation_func(out,threshold):\n",
    "    if out>=threshold:\n",
    "        return 1\n",
    "    else:\n",
    "        return 0"
   ]
  },
  {
   "cell_type": "code",
   "execution_count": 11,
   "id": "5a31af74-36da-450f-8f06-2cfdbf12be30",
   "metadata": {},
   "outputs": [
    {
     "name": "stdout",
     "output_type": "stream",
     "text": [
      "perceptron training\n",
      "summation : 0.0threshold:1\n",
      "actual output:0predicted output:0\n",
      "summation : 1.5threshold:1\n",
      "actual output:0predicted output:1\n",
      "updated weights: 1.5,1.4\n",
      "updating weights again\n",
      "summation : 0.0threshold:1\n",
      "actual output:0predicted output:0\n",
      "summation : 1.4threshold:1\n",
      "actual output:0predicted output:1\n",
      "updated weights: 1.4,1.2999999999999998\n",
      "updating weights again\n",
      "summation : 0.0threshold:1\n",
      "actual output:0predicted output:0\n",
      "summation : 1.2999999999999998threshold:1\n",
      "actual output:0predicted output:1\n",
      "updated weights: 1.2999999999999998,1.1999999999999997\n",
      "updating weights again\n",
      "summation : 0.0threshold:1\n",
      "actual output:0predicted output:0\n",
      "summation : 1.1999999999999997threshold:1\n",
      "actual output:0predicted output:1\n",
      "updated weights: 1.1999999999999997,1.0999999999999996\n",
      "updating weights again\n",
      "summation : 0.0threshold:1\n",
      "actual output:0predicted output:0\n",
      "summation : 1.0999999999999996threshold:1\n",
      "actual output:0predicted output:1\n",
      "updated weights: 1.0999999999999996,0.9999999999999997\n",
      "updating weights again\n",
      "summation : 0.0threshold:1\n",
      "actual output:0predicted output:0\n",
      "summation : 0.9999999999999997threshold:1\n",
      "actual output:0predicted output:0\n",
      "summation : 1.0999999999999996threshold:1\n",
      "actual output:0predicted output:1\n",
      "updated weights: 0.8999999999999997,0.9999999999999997\n",
      "updating weights again\n",
      "summation : 0.0threshold:1\n",
      "actual output:0predicted output:0\n",
      "summation : 0.9999999999999997threshold:1\n",
      "actual output:0predicted output:0\n",
      "summation : 0.8999999999999997threshold:1\n",
      "actual output:0predicted output:0\n",
      "summation : 1.8999999999999995threshold:1\n",
      "actual output:1predicted output:1\n",
      "AND gate output for : [1, 1]:1\n"
     ]
    }
   ],
   "source": [
    "def perceptron(and_input):\n",
    "    a = [0,0,1,1]\n",
    "    b = [0,1,0,1]\n",
    "    y = [0,0,0,1]\n",
    "    w = [1.4,1.5]\n",
    "    threshold = 1\n",
    "    learning_rate = 0.1\n",
    "    i=0\n",
    "    print(\"perceptron training\")\n",
    "    while i <4:\n",
    "        summation = a[i]*w[0]+b[i]*w[1]\n",
    "        o = activation_func(summation,threshold)\n",
    "        print(\"summation : \" +str(summation)+\"threshold:\"+str(threshold))\n",
    "        print(\"actual output:\" +str(y[i]) + \"predicted output:\"+str(o))\n",
    "        if(o!=y[i]):\n",
    "            w[0]= w[o]+learning_rate*(y[i]-o)*a[i]\n",
    "            w[1] = w[1]+learning_rate*(y[i] - o)* b[i]\n",
    "            print(\"updated weights: \" +str(w[0]) +\",\" +str(w[1]))\n",
    "            i = -1\n",
    "            print(\"updating weights again\")\n",
    "        i = i + 1\n",
    "    summation = and_input[0]*w[0] + and_input[1]*w[1]\n",
    "    return activation_func(summation,threshold)\n",
    "and_input = [1,1]\n",
    "print(\"AND gate output for : \" +str(and_input)+\":\"+str(perceptron(and_input)))"
   ]
  },
  {
   "cell_type": "code",
   "execution_count": 12,
   "id": "43532a41-85f8-475a-9b1f-ecc356fd3b0b",
   "metadata": {},
   "outputs": [],
   "source": [
    "#OR gate\n"
   ]
  },
  {
   "cell_type": "code",
   "execution_count": 13,
   "id": "70e05f69-d8a6-4d97-8714-33110fb181f4",
   "metadata": {},
   "outputs": [
    {
     "name": "stdout",
     "output_type": "stream",
     "text": [
      "perceptron training\n",
      "summation : 0.0threshold:0.4\n",
      "actual output:0predicted output:0\n",
      "summation : 0.3threshold:0.4\n",
      "actual output:1predicted output:0\n",
      "updated weights: 0.0,0.8\n",
      "updating weights again\n",
      "summation : 0.0threshold:0.4\n",
      "actual output:0predicted output:0\n",
      "summation : 0.8threshold:0.4\n",
      "actual output:1predicted output:1\n",
      "summation : 0.0threshold:0.4\n",
      "actual output:1predicted output:0\n",
      "updated weights: 0.5,0.8\n",
      "updating weights again\n",
      "summation : 0.0threshold:0.4\n",
      "actual output:0predicted output:0\n",
      "summation : 0.8threshold:0.4\n",
      "actual output:1predicted output:1\n",
      "summation : 0.5threshold:0.4\n",
      "actual output:1predicted output:1\n",
      "summation : 1.3threshold:0.4\n",
      "actual output:1predicted output:1\n",
      "or gate output for : [0, 0]:0\n"
     ]
    }
   ],
   "source": [
    "def perceptron(and_input):\n",
    "    a = [0,0,1,1]\n",
    "    b = [0,1,0,1]\n",
    "    y = [0,1,1,1]\n",
    "    w = [0.0,0.3]\n",
    "    threshold = 0.4\n",
    "    learning_rate = 0.5\n",
    "    i=0\n",
    "    print(\"perceptron training\")\n",
    "    while i <4:\n",
    "        summation = a[i]*w[0]+b[i]*w[1]\n",
    "        o = activation_func(summation,threshold)\n",
    "        print(\"summation : \" +str(summation)+\"threshold:\"+str(threshold))\n",
    "        print(\"actual output:\" +str(y[i]) + \"predicted output:\"+str(o))\n",
    "        \n",
    "        if(o!=y[i]):\n",
    "            w[0]= w[o]+learning_rate*(y[i]-o)*a[i]\n",
    "            w[1] = w[1]+learning_rate*(y[i] - o)* b[i]\n",
    "            print(\"updated weights: \" +str(w[0]) +\",\" +str(w[1]))\n",
    "            i = -1\n",
    "            print(\"updating weights again\")\n",
    "        i = i + 1\n",
    "        \n",
    "    summation = and_input[0]*w[0] + and_input[1]*w[1]\n",
    "    return activation_func(summation,threshold)\n",
    "and_input = [0,0]\n",
    "print(\"or gate output for : \" +str(and_input)+\":\"+str(perceptron(and_input)))"
   ]
  },
  {
   "cell_type": "code",
   "execution_count": null,
   "id": "21c35348-d12d-4fa6-b267-6c4a27d60543",
   "metadata": {},
   "outputs": [],
   "source": []
  }
 ],
 "metadata": {
  "kernelspec": {
   "display_name": "Python 3 (ipykernel)",
   "language": "python",
   "name": "python3"
  },
  "language_info": {
   "codemirror_mode": {
    "name": "ipython",
    "version": 3
   },
   "file_extension": ".py",
   "mimetype": "text/x-python",
   "name": "python",
   "nbconvert_exporter": "python",
   "pygments_lexer": "ipython3",
   "version": "3.12.4"
  }
 },
 "nbformat": 4,
 "nbformat_minor": 5
}
