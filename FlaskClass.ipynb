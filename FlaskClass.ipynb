{
 "cells": [
  {
   "cell_type": "code",
   "execution_count": 1,
   "id": "c3dbb471-d733-4922-bd7d-8682b2823294",
   "metadata": {},
   "outputs": [],
   "source": [
    "import requests\n",
    "from bs4 import BeautifulSoup\n",
    "from urllib.request import urlopen as uReq\n",
    "import os"
   ]
  },
  {
   "cell_type": "code",
   "execution_count": 2,
   "id": "2b4ec607-a808-49e3-8cbc-c51f61b2fa05",
   "metadata": {},
   "outputs": [
    {
     "name": "stdout",
     "output_type": "stream",
     "text": [
      "Requirement already satisfied: requests in c:\\users\\saket ranjan\\appdata\\local\\programs\\python\\python312\\lib\\site-packages (2.31.0)\n",
      "Requirement already satisfied: charset-normalizer<4,>=2 in c:\\users\\saket ranjan\\appdata\\local\\programs\\python\\python312\\lib\\site-packages (from requests) (3.3.2)\n",
      "Requirement already satisfied: idna<4,>=2.5 in c:\\users\\saket ranjan\\appdata\\local\\programs\\python\\python312\\lib\\site-packages (from requests) (3.6)\n",
      "Requirement already satisfied: urllib3<3,>=1.21.1 in c:\\users\\saket ranjan\\appdata\\local\\programs\\python\\python312\\lib\\site-packages (from requests) (2.1.0)\n",
      "Requirement already satisfied: certifi>=2017.4.17 in c:\\users\\saket ranjan\\appdata\\local\\programs\\python\\python312\\lib\\site-packages (from requests) (2023.11.17)\n",
      "Note: you may need to restart the kernel to use updated packages.\n"
     ]
    }
   ],
   "source": [
    "pip install requests"
   ]
  },
  {
   "cell_type": "code",
   "execution_count": 3,
   "id": "f01cc52b-2fd2-4f58-996c-046e1d50d5cf",
   "metadata": {},
   "outputs": [],
   "source": [
    "save_dir = \"images/\"\n",
    "if not os.path.exists(save_dir):\n",
    "    os.makedirs(save_dir)"
   ]
  },
  {
   "cell_type": "code",
   "execution_count": 22,
   "id": "8f25fda1-a7cc-495f-a684-c54721ecd12b",
   "metadata": {},
   "outputs": [],
   "source": [
    "query = \"elon musk\"\n",
    "response = requests.get(f\"https://www.google.com/search?q={query}&tbm=isch&ved=2ahUKEwiw4avfj_SDAxV3wqACHUZZBuUQ2-cCegQIABAA&oq=sudhansu+kumar+ineuron&gs_lcp=CgNpbWcQAzoNCAAQgAQQigUQQxCxAzoICAAQgAQQsQM6DggAEIAEEIoFELEDEIMBOgUIABCABDoKCAAQgAQQigUQQzoQCAAQgAQQigUQQxCxAxCDAToJCAAQgAQQGBAKOgsIABCABBCxAxCDAToGCAAQCBAeOgcIABCABBAYOgQIABAeUNMUWIJ3YPx6aANwAHgAgAG-BIgB-TWSAQswLjcuOS44LjEuMZgBAKABAaoBC2d3cy13aXotaW1nwAEB&sclient=img&ei=IwOwZfDDOPeEg8UPxrKZqA4&bih=972&biw=1280&h1=en\")"
   ]
  },
  {
   "cell_type": "code",
   "execution_count": 5,
   "id": "c2753db0-d526-4f15-b497-662d4390abf8",
   "metadata": {},
   "outputs": [
    {
     "ename": "SyntaxError",
     "evalue": "invalid decimal literal (1380663992.py, line 1)",
     "output_type": "error",
     "traceback": [
      "\u001b[1;36m  Cell \u001b[1;32mIn[5], line 1\u001b[1;36m\u001b[0m\n\u001b[1;33m    https://www.google.com/search?q=sudhansu+kumar+ineuron&tbm=isch&ved=2ahUKEwjDpaW0kPSDAxUjmGMGHVfTA0MQ2-cCegQIABAA&oq=su&gs_lcp=CgNpbWcQARgAMgQIIxAnMgoIABCABBCKBRBDMgoIABCABBCKBRBDMg0IABCABBCKBRBDELEDMgoIABCABBCKBRBDMgoIABCABBCKBRBDMgoIABCABBCKBRBDMhAIABCABBCKBRBDELEDEIMBMgoIABCABBCKBRBDMhAIABCABBCKBRBDELEDEIMBOggIABCABBCxAzoOCAAQgAQQigUQsQMQgwE6BQgAEIAEUMgIWJILYMUXaABwAHgAgAG2BYgBhAqSAQkyLTEuMS4wLjGYAQCgAQGqAQtnd3Mtd2l6LWltZ8ABAQ&sclient=img&ei=1gOwZcPiBKOwjuMP16aPmAQ&bih=972&biw=1280&hl=en\u001b[0m\n\u001b[1;37m                                                                        ^\u001b[0m\n\u001b[1;31mSyntaxError\u001b[0m\u001b[1;31m:\u001b[0m invalid decimal literal\n"
     ]
    }
   ],
   "source": [
    "https://www.google.com/search?q=sudhansu+kumar+ineuron&tbm=isch&ved=2ahUKEwjDpaW0kPSDAxUjmGMGHVfTA0MQ2-cCegQIABAA&oq=su&gs_lcp=CgNpbWcQARgAMgQIIxAnMgoIABCABBCKBRBDMgoIABCABBCKBRBDMg0IABCABBCKBRBDELEDMgoIABCABBCKBRBDMgoIABCABBCKBRBDMgoIABCABBCKBRBDMhAIABCABBCKBRBDELEDEIMBMgoIABCABBCKBRBDMhAIABCABBCKBRBDELEDEIMBOggIABCABBCxAzoOCAAQgAQQigUQsQMQgwE6BQgAEIAEUMgIWJILYMUXaABwAHgAgAG2BYgBhAqSAQkyLTEuMS4wLjGYAQCgAQGqAQtnd3Mtd2l6LWltZ8ABAQ&sclient=img&ei=1gOwZcPiBKOwjuMP16aPmAQ&bih=972&biw=1280&hl=en"
   ]
  },
  {
   "cell_type": "code",
   "execution_count": 23,
   "id": "e5b079a9-80e5-464e-846d-dd95e963c2b9",
   "metadata": {},
   "outputs": [
    {
     "data": {
      "text/plain": [
       "<Response [200]>"
      ]
     },
     "execution_count": 23,
     "metadata": {},
     "output_type": "execute_result"
    }
   ],
   "source": [
    "response"
   ]
  },
  {
   "cell_type": "code",
   "execution_count": 24,
   "id": "11eb737b-283a-4128-aa40-8a4b820bd70b",
   "metadata": {},
   "outputs": [],
   "source": [
    "soup= BeautifulSoup(response.content,'html.parser')"
   ]
  },
  {
   "cell_type": "code",
   "execution_count": 25,
   "id": "56cf312e-e032-473c-832f-ac80d9e449b8",
   "metadata": {},
   "outputs": [
    {
     "data": {
      "text/plain": [
       "<!DOCTYPE html PUBLIC \"-//WAPFORUM//DTD XHTML Mobile 1.0//EN\" \"http://www.wapforum.org/DTD/xhtml-mobile10.dtd\">\n",
       "<html lang=\"en-IN\" xmlns=\"http://www.w3.org/1999/xhtml\"><head><meta content=\"application/xhtml+xml; charset=utf-8\" http-equiv=\"Content-Type\"/><meta content=\"no-cache\" name=\"Cache-Control\"/><title>elon musk - Google Search</title><style>a{text-decoration:none;color:inherit}a:hover{text-decoration:underline}a img{border:0}body{font-family:arial,sans-serif;padding:8px;margin:0 auto;max-width:700px;min-width:240px;}.FbhRzb{border-left:thin solid #dadce0;border-right:thin solid #dadce0;border-top:thin solid #dadce0;height:40px;overflow:hidden}.n692Zd{margin-bottom:10px}.cvifge{height:40px;border-spacing:0}.QvGUP{height:40px;padding:0 8px 0 8px;vertical-align:top}.O4cRJf{height:40px;width:100%;padding:0;padding-right:16px}.O1ePr{height:40px;padding:0;vertical-align:top}.kgJEQe{height:36px;width:98px;vertical-align:top;margin-top:4px}.lXLRf{vertical-align:top}.MhzMZd{border:0;vertical-align:middle;font-size:14px;height:40px;padding:0;width:100%;padding-left:16px}.xB0fq{height:40px;border:none;font-size:14px;background-color:#1a73e8;color:#fff;padding:0 16px;margin:0;vertical-align:top;cursor:pointer}.xB0fq:focus{border:1px solid #1a73e8}.M7pB2{border:thin solid #dadce0;margin:0 0 3px 0;font-size:13px;font-weight:500;height:40px}.euZec{width:100%;height:40px;text-align:center;border-spacing:0}table.euZec td{padding:0;width:25%}.QIqI7{display:inline-block;padding-top:4px;font-weight:bold;color:#4285f4}.EY24We{border-bottom:2px solid #4285f4}.CsQyDc{display:inline-block;color:#70757a}.TuS8Ad{font-size:14px}.HddGcc{padding:8px;color:#70757a}.dzp8ae{font-weight:bold;color:#3c4043}.rEM8G{color:#70757a}.bookcf{table-layout:fixed;width:100%;border-spacing:0}.InWNIe{text-align:center}.uZgmoc{border:thin solid #dadce0;color:#70757a;font-size:14px;text-align:center;table-layout:fixed;width:100%}.frGj1b{display:block;padding:12px 0 12px 0;width:100%}.BnJWBc{text-align:center;padding:6px 0 13px 0;height:35px}.e3goi{vertical-align:top;padding:0;height:180px}.GpQGbf{margin:auto;border-collapse:collapse;border-spacing:0;width:100%}</style></head><body><style>.X6ZCif{color:#202124;font-size:11px;line-height:16px;display:inline-block;padding-top:2px;overflow:hidden;padding-bottom:4px;width:100%}.TwVfHd{border-radius:16px;border:thin solid #dadce0;display:inline-block;padding:8px 8px;margin-right:8px;margin-bottom:4px}.yekiAe{background-color:#dadce0}.jjVJ4e{width:100%}.ezO2md{border:thin solid #dadce0;padding:12px 16px 12px 16px;margin-bottom:10px;font-family:arial,sans-serif}.lIMUZd{font-family:arial,sans-serif}.RntSmf{border-spacing:0}.lgD2Tc{width:100%}.SpelHe{text-align:center}.SpelHe{position:relative}.deHqpb{bottom:0;left:0;margin:auto;position:absolute;right:0;top:0}.kCmkOe{position:relative}.ID6Z3b{background-image:url(https://www.gstatic.com/search_trustx/visibility_off_icon_p0-7d897bf44bafe5436baa9009e8716337.png);background-repeat:no-repeat;background-position:center;background-size:20px}.kCmkOe{width:162px;height:140px;line-height:140px;overflow:'hidden';text-align:center}.DS1iW{text-align:center;margin:auto;vertical-align:middle;max-width:162px;max-height:140px}.AlD19d{padding-top:2px;padding-bottom:8px;}.fYyStc{word-break:break-word}.ynsChf{display:block;white-space:nowrap;overflow:hidden;text-overflow:ellipsis}.Fj3V3b{color:#1967d2;font-size:14px;line-height:20px}.FrIlee{color:#202124;font-size:11px;line-height:16px}.F9iS2e{color:#70757a;font-size:11px;line-height:16px}.WMQ2Le{color:#70757a;font-size:12px;line-height:16px}.x3G5ab{color:#202124;font-size:12px;line-height:16px}.fuLhoc{color:#1967d2;font-size:16px;line-height:20px}.epoveb{font-size:24px;line-height:28px;font-weight:400;color:#202124}.dXDvrc{color:#0d652d;font-size:14px;line-height:20px;word-wrap:break-word}.dloBPe{font-weight:bold}.YVIcad{color:#70757a}.JkVVdd{color:#ea4335}.oXZRFd{color:#ea4335}.MQHtg{color:#fbbc04}.pyMRrb{color:#1e8e3e}.EtTZid{color:#1e8e3e}.M3vVJe{color:#1967d2}.qXLe6d{display:block}.NHQNef{font-style:italic}.Cb8Z7c{white-space:pre}a.ZWRArf{text-decoration:none}a .CVA68e:hover{text-decoration:underline}</style><div class=\"n692Zd\"><div class=\"BnJWBc\"><a class=\"lXLRf\" href=\"/?sca_esv=601002590&amp;bih=972&amp;biw=1280&amp;output=images&amp;ie=UTF-8&amp;tbm=isch&amp;sa=X&amp;ved=0ahUKEwjn-9iyu_WDAxVG6jgGHQL_DVMQPAgC\"><img alt=\"Google\" class=\"kgJEQe\" src=\"/images/branding/searchlogo/1x/googlelogo_desk_heirloom_color_150x55dp.gif\"/></a></div><div class=\"FbhRzb\"><form action=\"/search\"><input name=\"sca_esv\" type=\"hidden\" value=\"601002590\"/><input name=\"bih\" type=\"hidden\" value=\"972\"/><input name=\"biw\" type=\"hidden\" value=\"1280\"/><input name=\"ie\" type=\"hidden\" value=\"ISO-8859-1\"/><input name=\"tbm\" type=\"hidden\" value=\"isch\"/><input name=\"oq\" type=\"hidden\"/><input name=\"aqs\" type=\"hidden\"/><table class=\"cvifge\"><tr><td class=\"O4cRJf\"><input class=\"MhzMZd\" name=\"q\" type=\"text\" value=\"elon musk\"/></td><td class=\"O1ePr\"><input class=\"xB0fq\" type=\"submit\" value=\"Search\"/></td></tr></table></form></div><div class=\"M7pB2\"><table class=\"euZec\"><tbody><tr><td><a class=\"CsQyDc\" href=\"/search?q=elon+musk&amp;sca_esv=601002590&amp;bih=972&amp;biw=1280&amp;ie=UTF-8&amp;source=lnms&amp;sa=X&amp;ved=0ahUKEwjn-9iyu_WDAxVG6jgGHQL_DVMQ_AUIBCgA\">ALL</a></td><td><a class=\"CsQyDc\" href=\"/search?q=elon+musk&amp;sca_esv=601002590&amp;bih=972&amp;biw=1280&amp;ie=UTF-8&amp;tbm=nws&amp;source=lnms&amp;sa=X&amp;ved=0ahUKEwjn-9iyu_WDAxVG6jgGHQL_DVMQ_AUIBSgB\">NEWS</a></td><td class=\"EY24We\"><span class=\"QIqI7\">IMAGES</span></td><td><a class=\"CsQyDc\" href=\"/search?q=elon+musk&amp;sca_esv=601002590&amp;bih=972&amp;biw=1280&amp;ie=UTF-8&amp;tbm=vid&amp;source=lnms&amp;sa=X&amp;ved=0ahUKEwjn-9iyu_WDAxVG6jgGHQL_DVMQ_AUIBygD\">VIDEOS</a></td></tr></tbody></table></div></div><div class=\"X6ZCif\"><a class=\"TwVfHd\" href=\"/search?sca_esv=601002590&amp;bih=972&amp;biw=1280&amp;ie=UTF-8&amp;tbm=isch&amp;q=elon+musk&amp;chips=q:elon+musk,g_1:tesla&amp;sa=X&amp;ved=0ahUKEwjn-9iyu_WDAxVG6jgGHQL_DVMQ4lYICygA\">tesla</a><a class=\"TwVfHd\" href=\"/search?sca_esv=601002590&amp;bih=972&amp;biw=1280&amp;ie=UTF-8&amp;tbm=isch&amp;q=elon+musk&amp;chips=q:elon+musk,g_1:spacex&amp;sa=X&amp;ved=0ahUKEwjn-9iyu_WDAxVG6jgGHQL_DVMQ4lYIDCgB\">spacex</a><a class=\"TwVfHd\" href=\"/search?sca_esv=601002590&amp;bih=972&amp;biw=1280&amp;ie=UTF-8&amp;tbm=isch&amp;q=elon+musk&amp;chips=q:elon+musk,g_1:rocket&amp;sa=X&amp;ved=0ahUKEwjn-9iyu_WDAxVG6jgGHQL_DVMQ4lYIDSgC\">rocket</a><a class=\"TwVfHd\" href=\"/search?sca_esv=601002590&amp;bih=972&amp;biw=1280&amp;ie=UTF-8&amp;tbm=isch&amp;q=elon+musk&amp;chips=q:elon+musk,g_1:wallpaper&amp;sa=X&amp;ved=0ahUKEwjn-9iyu_WDAxVG6jgGHQL_DVMQ4lYIDigD\">wallpaper</a><a class=\"TwVfHd\" href=\"/search?sca_esv=601002590&amp;bih=972&amp;biw=1280&amp;ie=UTF-8&amp;tbm=isch&amp;q=elon+musk&amp;chips=q:elon+musk,g_1:car&amp;sa=X&amp;ved=0ahUKEwjn-9iyu_WDAxVG6jgGHQL_DVMQ4lYIDygE\">car</a><a class=\"TwVfHd\" href=\"/search?sca_esv=601002590&amp;bih=972&amp;biw=1280&amp;ie=UTF-8&amp;tbm=isch&amp;q=elon+musk&amp;chips=q:elon+musk,g_1:grimes&amp;sa=X&amp;ved=0ahUKEwjn-9iyu_WDAxVG6jgGHQL_DVMQ4lYIECgF\">grimes</a><a class=\"TwVfHd\" href=\"/search?sca_esv=601002590&amp;bih=972&amp;biw=1280&amp;ie=UTF-8&amp;tbm=isch&amp;q=elon+musk&amp;chips=q:elon+musk,g_1:paypal&amp;sa=X&amp;ved=0ahUKEwjn-9iyu_WDAxVG6jgGHQL_DVMQ4lYIESgG\">paypal</a><a class=\"TwVfHd\" href=\"/search?sca_esv=601002590&amp;bih=972&amp;biw=1280&amp;ie=UTF-8&amp;tbm=isch&amp;q=elon+musk&amp;chips=q:elon+musk,g_1:early&amp;sa=X&amp;ved=0ahUKEwjn-9iyu_WDAxVG6jgGHQL_DVMQ4lYIEigH\">early</a><a class=\"TwVfHd\" href=\"/search?sca_esv=601002590&amp;bih=972&amp;biw=1280&amp;ie=UTF-8&amp;tbm=isch&amp;q=elon+musk&amp;chips=q:elon+musk,g_1:old&amp;sa=X&amp;ved=0ahUKEwjn-9iyu_WDAxVG6jgGHQL_DVMQ4lYIEygI\">old</a><a class=\"TwVfHd\" href=\"/search?sca_esv=601002590&amp;bih=972&amp;biw=1280&amp;ie=UTF-8&amp;tbm=isch&amp;q=elon+musk&amp;chips=q:elon+musk,g_1:roadster&amp;sa=X&amp;ved=0ahUKEwjn-9iyu_WDAxVG6jgGHQL_DVMQ4lYIFCgJ\">roadster</a></div><div><table class=\"GpQGbf\"><tr><td align=\"center\" class=\"e3goi\"><div class=\"jjVJ4e\"> <div> <div class=\"lIMUZd\"><div><table class=\"RntSmf\"><tr><td><a href=\"/url?q=https://en.wikipedia.org/wiki/Elon_Musk&amp;sa=U&amp;ved=2ahUKEwjn-9iyu_WDAxVG6jgGHQL_DVMQqoUBegQIARAB&amp;usg=AOvVaw072d-n6siiJvtTS7sd7WYK\"><div class=\"kCmkOe\"><img alt=\"\" class=\"DS1iW\" src=\"https://encrypted-tbn0.gstatic.com/images?q=tbn:ANd9GcSsksZmP_XTINDzPrOHKHR-fXCXDCXJctG2CPYNFjaVIxpN4gGIcQCd1n6N7-Y&amp;s\"/></div></a></td></tr><tr><td><a href=\"/url?q=https://en.wikipedia.org/wiki/Elon_Musk&amp;sa=U&amp;ved=2ahUKEwjn-9iyu_WDAxVG6jgGHQL_DVMQr4kDegQIARAC&amp;usg=AOvVaw0_5QgSzzByyIGq0ZjpL7Zc\"><div class=\"AlD19d\"> <span class=\"qXLe6d x3G5ab\"> <span class=\"fYyStc\">Elon Musk - Wikipedia</span> </span> <span class=\"qXLe6d F9iS2e\"> <span class=\"fYyStc\">en.wikipedia.org</span> </span> </div></a></td></tr></table></div></div> </div> </div></td><td align=\"center\" class=\"e3goi\"><div class=\"jjVJ4e\"> <div> <div class=\"lIMUZd\"><div><table class=\"RntSmf\"><tr><td><a href=\"/url?q=https://www.businesstoday.in/latest/world/story/absurd-says-elon-musk-on-indias-exclusion-from-unsc-demands-rejig-414487-2024-01-23&amp;sa=U&amp;ved=2ahUKEwjn-9iyu_WDAxVG6jgGHQL_DVMQqoUBegQIExAB&amp;usg=AOvVaw3dW2QabQYNglue6iFnX0fn\"><div class=\"kCmkOe\"><img alt=\"\" class=\"DS1iW\" src=\"https://encrypted-tbn0.gstatic.com/images?q=tbn:ANd9GcRFMv8TMIt-O6UFzHE_xyuUcBQd4mz8257n1pXBuGYM_RxRWQAwbWYo3A-NnPo&amp;s\"/></div></a></td></tr><tr><td><a href=\"/url?q=https://www.businesstoday.in/latest/world/story/absurd-says-elon-musk-on-indias-exclusion-from-unsc-demands-rejig-414487-2024-01-23&amp;sa=U&amp;ved=2ahUKEwjn-9iyu_WDAxVG6jgGHQL_DVMQr4kDegQIExAC&amp;usg=AOvVaw3Ov45EgxF0dkaEWf6XIYML\"><div class=\"AlD19d\"> <span class=\"qXLe6d x3G5ab\"> <span class=\"fYyStc\">Absurd, says Elon Musk on...</span> </span> <span class=\"qXLe6d F9iS2e\"> <span class=\"fYyStc\">www.businesstoday.in</span> </span> </div></a></td></tr></table></div></div> </div> </div></td><td align=\"center\" class=\"e3goi\"><div class=\"jjVJ4e\"> <div> <div class=\"lIMUZd\"><div><table class=\"RntSmf\"><tr><td><a href=\"/url?q=https://www.thehindu.com/business/Industry/elon-musk-borrowed-1-billion-from-spacex-in-same-month-of-twitter-buyout-wsj/article67275960.ece&amp;sa=U&amp;ved=2ahUKEwjn-9iyu_WDAxVG6jgGHQL_DVMQqoUBegQIEhAB&amp;usg=AOvVaw3i6rbN33joAY0aRmUtD3qU\"><div class=\"kCmkOe\"><img alt=\"\" class=\"DS1iW\" src=\"https://encrypted-tbn0.gstatic.com/images?q=tbn:ANd9GcT8USRafEDsJskFBsXuekeVU0wF4Tv3QI-ttuO5tq6ngEwFzxb17Zdvuzq_EjI&amp;s\"/></div></a></td></tr><tr><td><a href=\"/url?q=https://www.thehindu.com/business/Industry/elon-musk-borrowed-1-billion-from-spacex-in-same-month-of-twitter-buyout-wsj/article67275960.ece&amp;sa=U&amp;ved=2ahUKEwjn-9iyu_WDAxVG6jgGHQL_DVMQr4kDegQIEhAC&amp;usg=AOvVaw1799UWTshkD4J27AwYTUOp\"><div class=\"AlD19d\"> <span class=\"qXLe6d x3G5ab\"> <span class=\"fYyStc\">Elon Musk borrowed $1...</span> </span> <span class=\"qXLe6d F9iS2e\"> <span class=\"fYyStc\">www.thehindu.com</span> </span> </div></a></td></tr></table></div></div> </div> </div></td><td align=\"center\" class=\"e3goi\"><div class=\"jjVJ4e\"> <div> <div class=\"lIMUZd\"><div><table class=\"RntSmf\"><tr><td><a href=\"/url?q=https://www.britannica.com/biography/Elon-Musk&amp;sa=U&amp;ved=2ahUKEwjn-9iyu_WDAxVG6jgGHQL_DVMQqoUBegQIDxAB&amp;usg=AOvVaw0popk3oV_J95RsrA9oiX7Z\"><div class=\"kCmkOe\"><img alt=\"\" class=\"DS1iW\" src=\"https://encrypted-tbn0.gstatic.com/images?q=tbn:ANd9GcS6mPr1g683xgMlTnJfswzPyIjixDUJCLKR_GUOYd43dGj0LB8Uum64r_cOjl4&amp;s\"/></div></a></td></tr><tr><td><a href=\"/url?q=https://www.britannica.com/biography/Elon-Musk&amp;sa=U&amp;ved=2ahUKEwjn-9iyu_WDAxVG6jgGHQL_DVMQr4kDegQIDxAC&amp;usg=AOvVaw2nw3HH8Zp-wXKm5Z-FKWWM\"><div class=\"AlD19d\"> <span class=\"qXLe6d x3G5ab\"> <span class=\"fYyStc\">Elon Musk | Biography,...</span> </span> <span class=\"qXLe6d F9iS2e\"> <span class=\"fYyStc\">www.britannica.com</span> </span> </div></a></td></tr></table></div></div> </div> </div></td></tr><tr><td align=\"center\" class=\"e3goi\"><div class=\"jjVJ4e\"> <div> <div class=\"lIMUZd\"><div><table class=\"RntSmf\"><tr><td><a href=\"/url?q=https://www.ndtv.com/india-news/india-not-having-permanent-seat-on-un-security-council-is-absurd-elon-musk-4914869&amp;sa=U&amp;ved=2ahUKEwjn-9iyu_WDAxVG6jgGHQL_DVMQqoUBegQIDhAB&amp;usg=AOvVaw0CxmfzXBXe2DfEH3gmF4zD\"><div class=\"kCmkOe\"><img alt=\"\" class=\"DS1iW\" src=\"https://encrypted-tbn0.gstatic.com/images?q=tbn:ANd9GcRDYD-5L3HtwkQ_4TPtu76WKm6j0f-Md6ziSgHgMNyw-bkIRVlphyuAoKZBVds&amp;s\"/></div></a></td></tr><tr><td><a href=\"/url?q=https://www.ndtv.com/india-news/india-not-having-permanent-seat-on-un-security-council-is-absurd-elon-musk-4914869&amp;sa=U&amp;ved=2ahUKEwjn-9iyu_WDAxVG6jgGHQL_DVMQr4kDegQIDhAC&amp;usg=AOvVaw0_gL-kA-CGk7U0bt5MRm6T\"><div class=\"AlD19d\"> <span class=\"qXLe6d x3G5ab\"> <span class=\"fYyStc\">Elon Musk Calls For UNSC...</span> </span> <span class=\"qXLe6d F9iS2e\"> <span class=\"fYyStc\">www.ndtv.com</span> </span> </div></a></td></tr></table></div></div> </div> </div></td><td align=\"center\" class=\"e3goi\"><div class=\"jjVJ4e\"> <div> <div class=\"lIMUZd\"><div><table class=\"RntSmf\"><tr><td><a href=\"/url?q=https://www.britannica.com/biography/Elon-Musk&amp;sa=U&amp;ved=2ahUKEwjn-9iyu_WDAxVG6jgGHQL_DVMQqoUBegQIChAB&amp;usg=AOvVaw2tdyOTVrSlAEt89Tjg1ZhM\"><div class=\"kCmkOe\"><img alt=\"\" class=\"DS1iW\" src=\"https://encrypted-tbn0.gstatic.com/images?q=tbn:ANd9GcQY_R5NSNoZkSlMo3hf86COGJ4fCv0s6Nx4k8uCGkWc6YGOn_m4-rIOQ3GhOhg&amp;s\"/></div></a></td></tr><tr><td><a href=\"/url?q=https://www.britannica.com/biography/Elon-Musk&amp;sa=U&amp;ved=2ahUKEwjn-9iyu_WDAxVG6jgGHQL_DVMQr4kDegQIChAC&amp;usg=AOvVaw0k7JeDNUGrvxGeORMl7OKw\"><div class=\"AlD19d\"> <span class=\"qXLe6d x3G5ab\"> <span class=\"fYyStc\">Elon Musk | Biography,...</span> </span> <span class=\"qXLe6d F9iS2e\"> <span class=\"fYyStc\">www.britannica.com</span> </span> </div></a></td></tr></table></div></div> </div> </div></td><td align=\"center\" class=\"e3goi\"><div class=\"jjVJ4e\"> <div> <div class=\"lIMUZd\"><div><table class=\"RntSmf\"><tr><td><a href=\"/url?q=https://www.businessinsider.com/elon-musk-jewish-by-association-after-auschwitz-tour-2024-1&amp;sa=U&amp;ved=2ahUKEwjn-9iyu_WDAxVG6jgGHQL_DVMQqoUBegQIERAB&amp;usg=AOvVaw2NFk6gqItwOtbIdc4QiUQu\"><div class=\"kCmkOe\"><img alt=\"\" class=\"DS1iW\" src=\"https://encrypted-tbn0.gstatic.com/images?q=tbn:ANd9GcSqoNr7u5SUnjPTqqSQV3TzM46QwzLCf5YBLBSb3_SxlLedLDynQ6df_dIqkA&amp;s\"/></div></a></td></tr><tr><td><a href=\"/url?q=https://www.businessinsider.com/elon-musk-jewish-by-association-after-auschwitz-tour-2024-1&amp;sa=U&amp;ved=2ahUKEwjn-9iyu_WDAxVG6jgGHQL_DVMQr4kDegQIERAC&amp;usg=AOvVaw2cR674xxBeMOTXJAEYZ9kH\"><div class=\"AlD19d\"> <span class=\"qXLe6d x3G5ab\"> <span class=\"fYyStc\">Elon Musk Says He Is...</span> </span> <span class=\"qXLe6d F9iS2e\"> <span class=\"fYyStc\">www.businessinsider.com</span> </span> </div></a></td></tr></table></div></div> </div> </div></td><td align=\"center\" class=\"e3goi\"><div class=\"jjVJ4e\"> <div> <div class=\"lIMUZd\"><div><table class=\"RntSmf\"><tr><td><a href=\"/url?q=https://www.business-standard.com/world-news/india-not-having-permanent-seat-on-unsc-is-absurd-says-elon-musk-124012301094_1.html&amp;sa=U&amp;ved=2ahUKEwjn-9iyu_WDAxVG6jgGHQL_DVMQqoUBegQIDRAB&amp;usg=AOvVaw3Jj1gpGY7XA3bst2eOcRg0\"><div class=\"kCmkOe\"><img alt=\"\" class=\"DS1iW\" src=\"https://encrypted-tbn0.gstatic.com/images?q=tbn:ANd9GcT0S0F2HJX0O_9_d6o0WuXnxk1GjR4t40qAwtijz3EZCz32hDqauv0GfwtbVjg&amp;s\"/></div></a></td></tr><tr><td><a href=\"/url?q=https://www.business-standard.com/world-news/india-not-having-permanent-seat-on-unsc-is-absurd-says-elon-musk-124012301094_1.html&amp;sa=U&amp;ved=2ahUKEwjn-9iyu_WDAxVG6jgGHQL_DVMQr4kDegQIDRAC&amp;usg=AOvVaw3YGUJm8t2533iRyXVhQ0Ws\"><div class=\"AlD19d\"> <span class=\"qXLe6d x3G5ab\"> <span class=\"fYyStc\">India not having permanent...</span> </span> <span class=\"qXLe6d F9iS2e\"> <span class=\"fYyStc\">www.business-standard.com</span> </span> </div></a></td></tr></table></div></div> </div> </div></td></tr><tr><td align=\"center\" class=\"e3goi\"><div class=\"jjVJ4e\"> <div> <div class=\"lIMUZd\"><div><table class=\"RntSmf\"><tr><td><a href=\"/url?q=https://www.simonandschuster.com/books/Elon-Musk/Walter-Isaacson/9781982181284&amp;sa=U&amp;ved=2ahUKEwjn-9iyu_WDAxVG6jgGHQL_DVMQqoUBegQIDBAB&amp;usg=AOvVaw1nZqi_puMTu8hXrdgBubOV\"><div class=\"kCmkOe\"><img alt=\"\" class=\"DS1iW\" src=\"https://encrypted-tbn0.gstatic.com/images?q=tbn:ANd9GcS6PtbO3oSFgC1yh6BPlre0Sr5h3aca6UrEmg7ibGUrD1g40Xm5cZBGYl7G3PU&amp;s\"/></div></a></td></tr><tr><td><a href=\"/url?q=https://www.simonandschuster.com/books/Elon-Musk/Walter-Isaacson/9781982181284&amp;sa=U&amp;ved=2ahUKEwjn-9iyu_WDAxVG6jgGHQL_DVMQr4kDegQIDBAC&amp;usg=AOvVaw3O5zxkPQ2tic0YH3VYjVEW\"><div class=\"AlD19d\"> <span class=\"qXLe6d x3G5ab\"> <span class=\"fYyStc\">Elon Musk | Book by Walter...</span> </span> <span class=\"qXLe6d F9iS2e\"> <span class=\"fYyStc\">www.simonandschuster.com</span> </span> </div></a></td></tr></table></div></div> </div> </div></td><td align=\"center\" class=\"e3goi\"><div class=\"jjVJ4e\"> <div> <div class=\"lIMUZd\"><div><table class=\"RntSmf\"><tr><td><a href=\"/url?q=https://m.economictimes.com/tech/technology/elon-musk-to-address-anti-semitism-online-in-poland/articleshow/107050549.cms&amp;sa=U&amp;ved=2ahUKEwjn-9iyu_WDAxVG6jgGHQL_DVMQqoUBegQIEBAB&amp;usg=AOvVaw1ULHMHvZg7t0yw4tfhEwlm\"><div class=\"kCmkOe\"><img alt=\"\" class=\"DS1iW\" src=\"https://encrypted-tbn0.gstatic.com/images?q=tbn:ANd9GcQWfo-OP8WSskwHj3m1h7uoPy_gDggXtIM-b7MBh3t0cHSOjZ0BlrWLvWQtvQ&amp;s\"/></div></a></td></tr><tr><td><a href=\"/url?q=https://m.economictimes.com/tech/technology/elon-musk-to-address-anti-semitism-online-in-poland/articleshow/107050549.cms&amp;sa=U&amp;ved=2ahUKEwjn-9iyu_WDAxVG6jgGHQL_DVMQr4kDegQIEBAC&amp;usg=AOvVaw0XzaUjdOncjmQAR0agE6Dn\"><div class=\"AlD19d\"> <span class=\"qXLe6d x3G5ab\"> <span class=\"fYyStc\">elon musk: Elon Musk to...</span> </span> <span class=\"qXLe6d F9iS2e\"> <span class=\"fYyStc\">m.economictimes.com</span> </span> </div></a></td></tr></table></div></div> </div> </div></td><td align=\"center\" class=\"e3goi\"><div class=\"jjVJ4e\"> <div> <div class=\"lIMUZd\"><div><table class=\"RntSmf\"><tr><td><a href=\"/url?q=https://www.nytimes.com/2024/01/16/business/tesla-elon-musk-stock.html&amp;sa=U&amp;ved=2ahUKEwjn-9iyu_WDAxVG6jgGHQL_DVMQqoUBegQICxAB&amp;usg=AOvVaw3o9Er0Cp4STs1wXTd0TgT0\"><div class=\"kCmkOe\"><img alt=\"\" class=\"DS1iW\" src=\"https://encrypted-tbn0.gstatic.com/images?q=tbn:ANd9GcTzXndWXIJUSqc4MvjLZceCHvQYsg0PtgxPLAOqrISWccQDzPevvi3Vni_zRg&amp;s\"/></div></a></td></tr><tr><td><a href=\"/url?q=https://www.nytimes.com/2024/01/16/business/tesla-elon-musk-stock.html&amp;sa=U&amp;ved=2ahUKEwjn-9iyu_WDAxVG6jgGHQL_DVMQr4kDegQICxAC&amp;usg=AOvVaw2urnnHVx5DGD0LNlc3tQSr\"><div class=\"AlD19d\"> <span class=\"qXLe6d x3G5ab\"> <span class=\"fYyStc\">Musk Demands Bigger Stake...</span> </span> <span class=\"qXLe6d F9iS2e\"> <span class=\"fYyStc\">www.nytimes.com</span> </span> </div></a></td></tr></table></div></div> </div> </div></td><td align=\"center\" class=\"e3goi\"><div class=\"jjVJ4e\"> <div> <div class=\"lIMUZd\"><div><table class=\"RntSmf\"><tr><td><a href=\"/url?q=https://inc42.com/buzz/elon-musks-starlink-likely-to-get-nod-for-starting-india-operations-soon/&amp;sa=U&amp;ved=2ahUKEwjn-9iyu_WDAxVG6jgGHQL_DVMQqoUBegQICRAB&amp;usg=AOvVaw0DWghp0cxTNNWspZNYXk8l\"><div class=\"kCmkOe\"><img alt=\"\" class=\"DS1iW\" src=\"https://encrypted-tbn0.gstatic.com/images?q=tbn:ANd9GcSnAhjnXERgmKI30xOSpPtqzQ8XN8qjq-1Xp2p6_IsSJJwEyir5he4jZA14zKQ&amp;s\"/></div></a></td></tr><tr><td><a href=\"/url?q=https://inc42.com/buzz/elon-musks-starlink-likely-to-get-nod-for-starting-india-operations-soon/&amp;sa=U&amp;ved=2ahUKEwjn-9iyu_WDAxVG6jgGHQL_DVMQr4kDegQICRAC&amp;usg=AOvVaw03oNt3LgVCVme4GPV588pq\"><div class=\"AlD19d\"> <span class=\"qXLe6d x3G5ab\"> <span class=\"fYyStc\">Elon Musk's Starlink Likely...</span> </span> <span class=\"qXLe6d F9iS2e\"> <span class=\"fYyStc\">inc42.com</span> </span> </div></a></td></tr></table></div></div> </div> </div></td></tr><tr><td align=\"center\" class=\"e3goi\"><div class=\"jjVJ4e\"> <div> <div class=\"lIMUZd\"><div><table class=\"RntSmf\"><tr><td><a href=\"/url?q=https://www.biography.com/business-leaders/elon-musk&amp;sa=U&amp;ved=2ahUKEwjn-9iyu_WDAxVG6jgGHQL_DVMQqoUBegQIBhAB&amp;usg=AOvVaw2dSrN_svaibyS0dNWp_sZW\"><div class=\"kCmkOe\"><img alt=\"\" class=\"DS1iW\" src=\"https://encrypted-tbn0.gstatic.com/images?q=tbn:ANd9GcSWquD3V9PShopfxR5z4mBgB3IZnXGWVDSQM_48N0nbiI_0DYg43GVIktea3Uc&amp;s\"/></div></a></td></tr><tr><td><a href=\"/url?q=https://www.biography.com/business-leaders/elon-musk&amp;sa=U&amp;ved=2ahUKEwjn-9iyu_WDAxVG6jgGHQL_DVMQr4kDegQIBhAC&amp;usg=AOvVaw0aoVH8QQEPgWBCDHSFKoFU\"><div class=\"AlD19d\"> <span class=\"qXLe6d x3G5ab\"> <span class=\"fYyStc\">Elon Musk - Tesla, Age &amp;...</span> </span> <span class=\"qXLe6d F9iS2e\"> <span class=\"fYyStc\">www.biography.com</span> </span> </div></a></td></tr></table></div></div> </div> </div></td><td align=\"center\" class=\"e3goi\"><div class=\"jjVJ4e\"> <div> <div class=\"lIMUZd\"><div><table class=\"RntSmf\"><tr><td><a href=\"/url?q=https://www.telegraphindia.com/business/india-not-having-permanent-seat-on-un-security-council-is-absurd-says-elon-musk/cid/1995659&amp;sa=U&amp;ved=2ahUKEwjn-9iyu_WDAxVG6jgGHQL_DVMQqoUBegQIABAB&amp;usg=AOvVaw3_9C3_a2CWmnUoTbdYgiX9\"><div class=\"kCmkOe\"><img alt=\"\" class=\"DS1iW\" src=\"https://encrypted-tbn0.gstatic.com/images?q=tbn:ANd9GcQGm9Wa2NLsRRSmz38aD9IkxWFeK-We49beHJ-a3kz6FdAEzQ7amp78feEbAU0&amp;s\"/></div></a></td></tr><tr><td><a href=\"/url?q=https://www.telegraphindia.com/business/india-not-having-permanent-seat-on-un-security-council-is-absurd-says-elon-musk/cid/1995659&amp;sa=U&amp;ved=2ahUKEwjn-9iyu_WDAxVG6jgGHQL_DVMQr4kDegQIABAC&amp;usg=AOvVaw2aa4I6akxMnKsJk51SwTCf\"><div class=\"AlD19d\"> <span class=\"qXLe6d x3G5ab\"> <span class=\"fYyStc\">Elon Musk | India not...</span> </span> <span class=\"qXLe6d F9iS2e\"> <span class=\"fYyStc\">www.telegraphindia.com</span> </span> </div></a></td></tr></table></div></div> </div> </div></td><td align=\"center\" class=\"e3goi\"><div class=\"jjVJ4e\"> <div> <div class=\"lIMUZd\"><div><table class=\"RntSmf\"><tr><td><a href=\"/url?q=https://m.economictimes.com/tech/technology/elon-musk-seeks-25-voting-share-at-tesla/articleshow/106880922.cms&amp;sa=U&amp;ved=2ahUKEwjn-9iyu_WDAxVG6jgGHQL_DVMQqoUBegQICBAB&amp;usg=AOvVaw0KkygZ3K3BCgOUSlmiXCP_\"><div class=\"kCmkOe\"><img alt=\"\" class=\"DS1iW\" src=\"https://encrypted-tbn0.gstatic.com/images?q=tbn:ANd9GcQJoQvW3RFXw1F5lq-IjR-y1jI9lbiK6KFNmgYuBT0yQrEXzDM7EL8nnc49mQ&amp;s\"/></div></a></td></tr><tr><td><a href=\"/url?q=https://m.economictimes.com/tech/technology/elon-musk-seeks-25-voting-share-at-tesla/articleshow/106880922.cms&amp;sa=U&amp;ved=2ahUKEwjn-9iyu_WDAxVG6jgGHQL_DVMQr4kDegQICBAC&amp;usg=AOvVaw0-63CcD-QjmyTurztJ-6M8\"><div class=\"AlD19d\"> <span class=\"qXLe6d x3G5ab\"> <span class=\"fYyStc\">Elon Musk: Elon Musk seeks...</span> </span> <span class=\"qXLe6d F9iS2e\"> <span class=\"fYyStc\">m.economictimes.com</span> </span> </div></a></td></tr></table></div></div> </div> </div></td><td align=\"center\" class=\"e3goi\"><div class=\"jjVJ4e\"> <div> <div class=\"lIMUZd\"><div><table class=\"RntSmf\"><tr><td><a href=\"/url?q=https://www.foxbusiness.com/technology/elon-musk-says-expect-roughly-1-billion-humanoid-robots-in-2040s&amp;sa=U&amp;ved=2ahUKEwjn-9iyu_WDAxVG6jgGHQL_DVMQqoUBegQIBBAB&amp;usg=AOvVaw3oAOMuAjPevuo0JGv9jEiI\"><div class=\"kCmkOe\"><img alt=\"\" class=\"DS1iW\" src=\"https://encrypted-tbn0.gstatic.com/images?q=tbn:ANd9GcRuo3vZOpjU84a-ufBkosvKNvtl0O3f6DAupwOFhcWN_Zirpqb4N1ie1bcsrtU&amp;s\"/></div></a></td></tr><tr><td><a href=\"/url?q=https://www.foxbusiness.com/technology/elon-musk-says-expect-roughly-1-billion-humanoid-robots-in-2040s&amp;sa=U&amp;ved=2ahUKEwjn-9iyu_WDAxVG6jgGHQL_DVMQr4kDegQIBBAC&amp;usg=AOvVaw1NJ-jGZCoFuy-Scc17WnYF\"><div class=\"AlD19d\"> <span class=\"qXLe6d x3G5ab\"> <span class=\"fYyStc\">Elon Musk says to expect...</span> </span> <span class=\"qXLe6d F9iS2e\"> <span class=\"fYyStc\">www.foxbusiness.com</span> </span> </div></a></td></tr></table></div></div> </div> </div></td></tr><tr><td align=\"center\" class=\"e3goi\"><div class=\"jjVJ4e\"> <div> <div class=\"lIMUZd\"><div><table class=\"RntSmf\"><tr><td><a href=\"/url?q=https://www.rollingstone.com/politics/politics-news/elon-musk-auschwitz-social-media-could-have-saved-jewish-lives-1234951028/&amp;sa=U&amp;ved=2ahUKEwjn-9iyu_WDAxVG6jgGHQL_DVMQqoUBegQIBxAB&amp;usg=AOvVaw3Y2gpAy9OsH7kxptbzDEM5\"><div class=\"kCmkOe\"><img alt=\"\" class=\"DS1iW\" src=\"https://encrypted-tbn0.gstatic.com/images?q=tbn:ANd9GcSsnqEii-fNxS2Q9UdnhpIQJLIbfwEvXdjV7eglZCkWwGtpc6HL2QSVjnd84Sk&amp;s\"/></div></a></td></tr><tr><td><a href=\"/url?q=https://www.rollingstone.com/politics/politics-news/elon-musk-auschwitz-social-media-could-have-saved-jewish-lives-1234951028/&amp;sa=U&amp;ved=2ahUKEwjn-9iyu_WDAxVG6jgGHQL_DVMQr4kDegQIBxAC&amp;usg=AOvVaw2stHq7cEKwfNk8ICEqlPX1\"><div class=\"AlD19d\"> <span class=\"qXLe6d x3G5ab\"> <span class=\"fYyStc\">Elon Musk Claims Social...</span> </span> <span class=\"qXLe6d F9iS2e\"> <span class=\"fYyStc\">www.rollingstone.com</span> </span> </div></a></td></tr></table></div></div> </div> </div></td><td align=\"center\" class=\"e3goi\"><div class=\"jjVJ4e\"> <div> <div class=\"lIMUZd\"><div><table class=\"RntSmf\"><tr><td><a href=\"/url?q=https://www.foxbusiness.com/technology/elon-musk-audits-show-less-antisemitism-x-other-apps&amp;sa=U&amp;ved=2ahUKEwjn-9iyu_WDAxVG6jgGHQL_DVMQqoUBegQIBRAB&amp;usg=AOvVaw2XyloaiC3bnBej7_6a-c5g\"><div class=\"kCmkOe\"><img alt=\"\" class=\"DS1iW\" src=\"https://encrypted-tbn0.gstatic.com/images?q=tbn:ANd9GcQot9K0lJ9DjaHGTs4DNNecffsxZhlG72qeNq_X-YiU2LyFQDfIOWohhfkJKg&amp;s\"/></div></a></td></tr><tr><td><a href=\"/url?q=https://www.foxbusiness.com/technology/elon-musk-audits-show-less-antisemitism-x-other-apps&amp;sa=U&amp;ved=2ahUKEwjn-9iyu_WDAxVG6jgGHQL_DVMQr4kDegQIBRAC&amp;usg=AOvVaw03Ba8lb3Em1lYjQ6eQTA7T\"><div class=\"AlD19d\"> <span class=\"qXLe6d x3G5ab\"> <span class=\"fYyStc\">Elon Musk says audits show...</span> </span> <span class=\"qXLe6d F9iS2e\"> <span class=\"fYyStc\">www.foxbusiness.com</span> </span> </div></a></td></tr></table></div></div> </div> </div></td><td align=\"center\" class=\"e3goi\"><div class=\"jjVJ4e\"> <div> <div class=\"lIMUZd\"><div><table class=\"RntSmf\"><tr><td><a href=\"/url?q=https://newrepublic.com/post/178324/auschwitz-elon-musk-social-media-prevent-holocaust&amp;sa=U&amp;ved=2ahUKEwjn-9iyu_WDAxVG6jgGHQL_DVMQqoUBegQIAhAB&amp;usg=AOvVaw3TQQ_YKNAWinN3Oh2EKSj7\"><div class=\"kCmkOe\"><img alt=\"\" class=\"DS1iW\" src=\"https://encrypted-tbn0.gstatic.com/images?q=tbn:ANd9GcRxvwBQDYVuPy-AuZa6gWLpUy55ZWZawUB7zlZ7LYv2QnORedCGEDAT4rtBg78&amp;s\"/></div></a></td></tr><tr><td><a href=\"/url?q=https://newrepublic.com/post/178324/auschwitz-elon-musk-social-media-prevent-holocaust&amp;sa=U&amp;ved=2ahUKEwjn-9iyu_WDAxVG6jgGHQL_DVMQr4kDegQIAhAC&amp;usg=AOvVaw3A0QgtIriW-8kjjx3XI6Dt\"><div class=\"AlD19d\"> <span class=\"qXLe6d x3G5ab\"> <span class=\"fYyStc\">After Auschwitz, Elon Musk...</span> </span> <span class=\"qXLe6d F9iS2e\"> <span class=\"fYyStc\">newrepublic.com</span> </span> </div></a></td></tr></table></div></div> </div> </div></td><td align=\"center\" class=\"e3goi\"><div class=\"jjVJ4e\"> <div> <div class=\"lIMUZd\"><div><table class=\"RntSmf\"><tr><td><a href=\"/url?q=https://www.indiatoday.in/world/story/elon-musk-bats-for-india-united-nations-security-council-permanent-membership-revamp-china-veto-2492381-2024-01-23&amp;sa=U&amp;ved=2ahUKEwjn-9iyu_WDAxVG6jgGHQL_DVMQqoUBegQIAxAB&amp;usg=AOvVaw0GpxqA2_aiF2NmVeuA0zKq\"><div class=\"kCmkOe\"><img alt=\"\" class=\"DS1iW\" src=\"https://encrypted-tbn0.gstatic.com/images?q=tbn:ANd9GcQw4RDJGxLKwLBwmN7KgahekK0-l1Qjy466L7tGjf395ue_wVEx1njmqsOB6Ao&amp;s\"/></div></a></td></tr><tr><td><a href=\"/url?q=https://www.indiatoday.in/world/story/elon-musk-bats-for-india-united-nations-security-council-permanent-membership-revamp-china-veto-2492381-2024-01-23&amp;sa=U&amp;ved=2ahUKEwjn-9iyu_WDAxVG6jgGHQL_DVMQr4kDegQIAxAC&amp;usg=AOvVaw247gqX5Hqf6JrxmmqeUUoU\"><div class=\"AlD19d\"> <span class=\"qXLe6d x3G5ab\"> <span class=\"fYyStc\">Elon Musk says India not...</span> </span> <span class=\"qXLe6d F9iS2e\"> <span class=\"fYyStc\">www.indiatoday.in</span> </span> </div></a></td></tr></table></div></div> </div> </div></td></tr></table></div><table class=\"uZgmoc\"><tbody><td><a class=\"frGj1b\" href=\"/search?q=elon+musk&amp;sca_esv=601002590&amp;bih=972&amp;biw=1280&amp;ie=UTF-8&amp;tbm=isch&amp;ei=IbewZafnC8bU4-EPgv63mAU&amp;start=20&amp;sa=N\">Next &gt;</a></td></tbody></table><br/><div class=\"TuS8Ad\" data-ved=\"0ahUKEwjn-9iyu_WDAxVG6jgGHQL_DVMQpyoIUg\"><style>.VYM29{font-weight:bold}</style><div align=\"center\" class=\"HddGcc\"><span class=\"VYM29\">562157, Bengaluru, Karnataka</span><span> - </span><span>From your IP address</span><span> - </span><a href=\"/url?q=https://support.google.com/websearch%3Fp%3Dws_settings_location%26hl%3Den-IN&amp;opi=89978449&amp;sa=U&amp;ved=0ahUKEwjn-9iyu_WDAxVG6jgGHQL_DVMQty4IUw&amp;usg=AOvVaw1KldM8QKbCE4_V8RIDjOkF\">Learn more</a></div><div align=\"center\"><a class=\"rEM8G\" href=\"/url?q=https://accounts.google.com/ServiceLogin%3Fcontinue%3Dhttps://www.google.com/search%253Fq%253Delon%252Bmusk%2526tbm%253Disch%2526ved%253D2ahUKEwiw4avfj_SDAxV3wqACHUZZBuUQ2-cCegQIABAA%2526oq%253Dsudhansu%252Bkumar%252Bineuron%2526gs_lcp%253DCgNpbWcQAzoNCAAQgAQQigUQQxCxAzoICAAQgAQQsQM6DggAEIAEEIoFELEDEIMBOgUIABCABDoKCAAQgAQQigUQQzoQCAAQgAQQigUQQxCxAxCDAToJCAAQgAQQGBAKOgsIABCABBCxAxCDAToGCAAQCBAeOgcIABCABBAYOgQIABAeUNMUWIJ3YPx6aANwAHgAgAG-BIgB-TWSAQswLjcuOS44LjEuMZgBAKABAaoBC2d3cy13aXotaW1nwAEB%2526sclient%253Dimg%2526ei%253DIwOwZfDDOPeEg8UPxrKZqA4%2526bih%253D972%2526biw%253D1280%26hl%3Den&amp;opi=89978449&amp;sa=U&amp;ved=0ahUKEwjn-9iyu_WDAxVG6jgGHQL_DVMQxs8CCFQ&amp;usg=AOvVaw3PL7KVHY2e_U6R2njTDlFL\">Sign in</a></div><div><table class=\"bookcf\"><tbody class=\"InWNIe\"><tr><td><a class=\"rEM8G\" href=\"https://www.google.com/preferences?hl=en&amp;sa=X&amp;ved=0ahUKEwjn-9iyu_WDAxVG6jgGHQL_DVMQv5YECFU\">Settings</a></td><td><a class=\"rEM8G\" href=\"https://www.google.com/intl/en_in/policies/privacy/\">Privacy</a></td><td><a class=\"rEM8G\" href=\"https://www.google.com/intl/en_in/policies/terms/\">Terms</a></td></tr></tbody></table></div></div><div> </div></body></html>"
      ]
     },
     "execution_count": 25,
     "metadata": {},
     "output_type": "execute_result"
    }
   ],
   "source": [
    "soup"
   ]
  },
  {
   "cell_type": "code",
   "execution_count": 26,
   "id": "9017caeb-afae-48e6-bf62-297efce5cf70",
   "metadata": {},
   "outputs": [],
   "source": [
    "images_tags= soup.find_all(\"img\")"
   ]
  },
  {
   "cell_type": "code",
   "execution_count": 27,
   "id": "8602b18b-5d8c-4bbf-ba3f-b4210f26fe04",
   "metadata": {},
   "outputs": [
    {
     "data": {
      "text/plain": [
       "21"
      ]
     },
     "execution_count": 27,
     "metadata": {},
     "output_type": "execute_result"
    }
   ],
   "source": [
    "len(images_tags)"
   ]
  },
  {
   "cell_type": "code",
   "execution_count": 28,
   "id": "6de1ee45-9c89-42e2-a7b6-63b9547c285a",
   "metadata": {},
   "outputs": [
    {
     "data": {
      "text/plain": [
       "[<img alt=\"Google\" class=\"kgJEQe\" src=\"/images/branding/searchlogo/1x/googlelogo_desk_heirloom_color_150x55dp.gif\"/>,\n",
       " <img alt=\"\" class=\"DS1iW\" src=\"https://encrypted-tbn0.gstatic.com/images?q=tbn:ANd9GcSsksZmP_XTINDzPrOHKHR-fXCXDCXJctG2CPYNFjaVIxpN4gGIcQCd1n6N7-Y&amp;s\"/>,\n",
       " <img alt=\"\" class=\"DS1iW\" src=\"https://encrypted-tbn0.gstatic.com/images?q=tbn:ANd9GcRFMv8TMIt-O6UFzHE_xyuUcBQd4mz8257n1pXBuGYM_RxRWQAwbWYo3A-NnPo&amp;s\"/>,\n",
       " <img alt=\"\" class=\"DS1iW\" src=\"https://encrypted-tbn0.gstatic.com/images?q=tbn:ANd9GcT8USRafEDsJskFBsXuekeVU0wF4Tv3QI-ttuO5tq6ngEwFzxb17Zdvuzq_EjI&amp;s\"/>,\n",
       " <img alt=\"\" class=\"DS1iW\" src=\"https://encrypted-tbn0.gstatic.com/images?q=tbn:ANd9GcS6mPr1g683xgMlTnJfswzPyIjixDUJCLKR_GUOYd43dGj0LB8Uum64r_cOjl4&amp;s\"/>,\n",
       " <img alt=\"\" class=\"DS1iW\" src=\"https://encrypted-tbn0.gstatic.com/images?q=tbn:ANd9GcRDYD-5L3HtwkQ_4TPtu76WKm6j0f-Md6ziSgHgMNyw-bkIRVlphyuAoKZBVds&amp;s\"/>,\n",
       " <img alt=\"\" class=\"DS1iW\" src=\"https://encrypted-tbn0.gstatic.com/images?q=tbn:ANd9GcQY_R5NSNoZkSlMo3hf86COGJ4fCv0s6Nx4k8uCGkWc6YGOn_m4-rIOQ3GhOhg&amp;s\"/>,\n",
       " <img alt=\"\" class=\"DS1iW\" src=\"https://encrypted-tbn0.gstatic.com/images?q=tbn:ANd9GcSqoNr7u5SUnjPTqqSQV3TzM46QwzLCf5YBLBSb3_SxlLedLDynQ6df_dIqkA&amp;s\"/>,\n",
       " <img alt=\"\" class=\"DS1iW\" src=\"https://encrypted-tbn0.gstatic.com/images?q=tbn:ANd9GcT0S0F2HJX0O_9_d6o0WuXnxk1GjR4t40qAwtijz3EZCz32hDqauv0GfwtbVjg&amp;s\"/>,\n",
       " <img alt=\"\" class=\"DS1iW\" src=\"https://encrypted-tbn0.gstatic.com/images?q=tbn:ANd9GcS6PtbO3oSFgC1yh6BPlre0Sr5h3aca6UrEmg7ibGUrD1g40Xm5cZBGYl7G3PU&amp;s\"/>,\n",
       " <img alt=\"\" class=\"DS1iW\" src=\"https://encrypted-tbn0.gstatic.com/images?q=tbn:ANd9GcQWfo-OP8WSskwHj3m1h7uoPy_gDggXtIM-b7MBh3t0cHSOjZ0BlrWLvWQtvQ&amp;s\"/>,\n",
       " <img alt=\"\" class=\"DS1iW\" src=\"https://encrypted-tbn0.gstatic.com/images?q=tbn:ANd9GcTzXndWXIJUSqc4MvjLZceCHvQYsg0PtgxPLAOqrISWccQDzPevvi3Vni_zRg&amp;s\"/>,\n",
       " <img alt=\"\" class=\"DS1iW\" src=\"https://encrypted-tbn0.gstatic.com/images?q=tbn:ANd9GcSnAhjnXERgmKI30xOSpPtqzQ8XN8qjq-1Xp2p6_IsSJJwEyir5he4jZA14zKQ&amp;s\"/>,\n",
       " <img alt=\"\" class=\"DS1iW\" src=\"https://encrypted-tbn0.gstatic.com/images?q=tbn:ANd9GcSWquD3V9PShopfxR5z4mBgB3IZnXGWVDSQM_48N0nbiI_0DYg43GVIktea3Uc&amp;s\"/>,\n",
       " <img alt=\"\" class=\"DS1iW\" src=\"https://encrypted-tbn0.gstatic.com/images?q=tbn:ANd9GcQGm9Wa2NLsRRSmz38aD9IkxWFeK-We49beHJ-a3kz6FdAEzQ7amp78feEbAU0&amp;s\"/>,\n",
       " <img alt=\"\" class=\"DS1iW\" src=\"https://encrypted-tbn0.gstatic.com/images?q=tbn:ANd9GcQJoQvW3RFXw1F5lq-IjR-y1jI9lbiK6KFNmgYuBT0yQrEXzDM7EL8nnc49mQ&amp;s\"/>,\n",
       " <img alt=\"\" class=\"DS1iW\" src=\"https://encrypted-tbn0.gstatic.com/images?q=tbn:ANd9GcRuo3vZOpjU84a-ufBkosvKNvtl0O3f6DAupwOFhcWN_Zirpqb4N1ie1bcsrtU&amp;s\"/>,\n",
       " <img alt=\"\" class=\"DS1iW\" src=\"https://encrypted-tbn0.gstatic.com/images?q=tbn:ANd9GcSsnqEii-fNxS2Q9UdnhpIQJLIbfwEvXdjV7eglZCkWwGtpc6HL2QSVjnd84Sk&amp;s\"/>,\n",
       " <img alt=\"\" class=\"DS1iW\" src=\"https://encrypted-tbn0.gstatic.com/images?q=tbn:ANd9GcQot9K0lJ9DjaHGTs4DNNecffsxZhlG72qeNq_X-YiU2LyFQDfIOWohhfkJKg&amp;s\"/>,\n",
       " <img alt=\"\" class=\"DS1iW\" src=\"https://encrypted-tbn0.gstatic.com/images?q=tbn:ANd9GcRxvwBQDYVuPy-AuZa6gWLpUy55ZWZawUB7zlZ7LYv2QnORedCGEDAT4rtBg78&amp;s\"/>,\n",
       " <img alt=\"\" class=\"DS1iW\" src=\"https://encrypted-tbn0.gstatic.com/images?q=tbn:ANd9GcQw4RDJGxLKwLBwmN7KgahekK0-l1Qjy466L7tGjf395ue_wVEx1njmqsOB6Ao&amp;s\"/>]"
      ]
     },
     "execution_count": 28,
     "metadata": {},
     "output_type": "execute_result"
    }
   ],
   "source": [
    "images_tags"
   ]
  },
  {
   "cell_type": "code",
   "execution_count": 29,
   "id": "128e9d84-c2b1-4f37-8c10-df260aecb238",
   "metadata": {},
   "outputs": [],
   "source": [
    "del images_tags[0]"
   ]
  },
  {
   "cell_type": "code",
   "execution_count": 30,
   "id": "aad30096-5bdc-4965-b45a-656abf42ef99",
   "metadata": {},
   "outputs": [],
   "source": [
    "for i in images_tags:\n",
    "    images_url = i['src']\n",
    "    image_data= requests.get(images_url).content\n",
    "    with open(os.path.join(save_dir, f\"{query}_{images_tags.index(i)}.jpg\"), \"wb\") as f:   #wb -> write binary\n",
    "        f.write(image_data)\n",
    " \n"
   ]
  },
  {
   "cell_type": "code",
   "execution_count": 14,
   "id": "811f2a65-0ea3-4b01-86da-a9c48a545aca",
   "metadata": {},
   "outputs": [
    {
     "data": {
      "text/plain": [
       "b'\\xff\\xd8\\xff\\xe0\\x00\\x10JFIF\\x00\\x01\\x01\\x00\\x00\\x01\\x00\\x01\\x00\\x00\\xff\\xdb\\x00\\x84\\x00\\t\\x06\\x07\\x08\\x07\\x06\\t\\x08\\x07\\x08\\n\\n\\t\\x0b\\r\\x16\\x0f\\r\\x0c\\x0c\\r\\x1b\\x14\\x15\\x10\\x16 \\x1d\"\" \\x1d\\x1f\\x1f$(4,$&1\\'\\x1f\\x1f-=-157:::#+?D?8C49:7\\x01\\n\\n\\n\\r\\x0c\\r\\x1a\\x0f\\x0f\\x1a7%\\x1f%77777777777777777777777777777777777777777777777777\\xff\\xc0\\x00\\x11\\x08\\x00l\\x00\\xa2\\x03\\x01\"\\x00\\x02\\x11\\x01\\x03\\x11\\x01\\xff\\xc4\\x00\\x1c\\x00\\x00\\x01\\x05\\x01\\x01\\x01\\x00\\x00\\x00\\x00\\x00\\x00\\x00\\x00\\x00\\x00\\x00\\x02\\x03\\x04\\x05\\x06\\x07\\x01\\x08\\xff\\xc4\\x00A\\x10\\x00\\x01\\x03\\x02\\x03\\x04\\x07\\x05\\x02\\x0c\\x07\\x00\\x00\\x00\\x00\\x00\\x01\\x00\\x02\\x03\\x04\\x11\\x05\\x12!\\x061Aa\\x13\"2Qq\\x81\\x91\\x07\\x14\\xa1\\xb1\\xc1BR\\x15#$3Cr\\x82\\x92\\x93\\xa2\\xd2\\xe1\\x16\\x17S\\xb2\\xd1\\xf0\\xf1\\xff\\xc4\\x00\\x19\\x01\\x00\\x02\\x03\\x01\\x00\\x00\\x00\\x00\\x00\\x00\\x00\\x00\\x00\\x00\\x00\\x00\\x00\\x02\\x01\\x03\\x04\\x05\\xff\\xc4\\x00#\\x11\\x00\\x02\\x02\\x01\\x04\\x02\\x02\\x03\\x00\\x00\\x00\\x00\\x00\\x00\\x00\\x00\\x00\\x01\\x02\\x11\\x03\\x12!1A\\x042Qa\\x14\"3\\xff\\xda\\x00\\x0c\\x03\\x01\\x00\\x02\\x11\\x03\\x11\\x00?\\x00\\xc7!\\x08]\\x92\\xd0W[\\x1d\\x89\\xc1\\x83\\xe3\\xf0V\\xd5\\x12\"c^\\r\\xb9\\xb4\\x85J\\x91)\\xb3\\t\\n\\x1cu* \\xec\\x8d\\xf6\\x89\\x82}\\xf7\\xfe\\xe9^\\x9fh\\xb8\\'\\xfa\\xaf\\xfd\\xc2\\xb8\\xbcbI$k\\x19r\\xe7h\\x02y\\xf0\\xcb\\x1b\\xcb$k\\x83\\x81\\xdde\\x9f\\xf1!\\xf2\\xc8:\\x0e\\xde\\xedM\\x0e;\\xb3\\x12\\xc5B\\xf2]\\x1c\\xf1\\x97]\\xa4q\\\\\\xf4L#as\\xcd\\x9a7\\x9b\\xa9\\x90F?\\x02\\xd6\\x89A\\x04\\xc8\\xcc\\xbe+9\\x8bT\\x18\\x9a\\x03E\\xf2\\x8b\\xf7\\xd8\\xab)a\\x86\\xc4|\\x92\\xaa1Ib`\\x91\\x8cnK\\xf1\\xde\\x99v99\\xecF\\xc6\\ru-&\\xe9\\x96`\\xf8\\xcc\\x98[\\xab]I!\\x84\\x9d\\t\\x1b\\xc7!\\xdc\\xaba\\xa7\\xad\\xa9\\x93%5<\\x8e \\xd8\\x8bh\\xb1\\xfeD\\x9fci\\x9f\\xc1{O\\x8f\\x0c\\xf9g`\\xfdfn\\x1eJ\\xee)\\x98\\xf6\\x875\\xc0\\x87\\x0b\\x8dV\\x1a\\xb2\\x86\\xbe\\x8c\\x8fy\\x81\\xf1\\xf8\\xea\\x9f\\xc3\\xb1\\x07\\xd1\\x96\\xe69\\xacwrWa\\xf2i\\xd4\\x88\\xddrnC\\xd1\\x98\\xa8\\xb4\\xf2\\x89bd\\x8d\\xec\\xb8\\\\\\'n\\xe3\\xa2\\xe8tH\\xa7\\xbc\\x06\\x9e:,\\x9e2A\\xc4a\\xd3\\xec\\xfdV\\xa1\\xed\\xea\\x9dx,\\xae-\\xae\\'\\x0b{\\x9a>j\\xac\\xafa$[R\\xfd\\xa5!1L\\x08.O\\xa5\\x87\\x04\\xc3\\x80B\\x10\\x98pB\\x10\\x80\\x04!\\x08\\x00H\\x98^2\\x96\\x91/a\\x00\\x10=\\xd1J\\xc9#6su\\t\\xf9*\\'\\x96G=\\xf2\\xba\\xee76Q\\xdb\\xc19\\xc1HlKs\\x9epI\\x9cn\\x7f(`7\\xf0*\\x8a*s\\x88c\\x11P89\\xc2Y\\x1a\\xd6\\x81\\xf5W\\xcf\\x07\\xfc5)\\x1ckY\\xfe\\xd2\\x9b\\xd9\\n#>\\xd7\\xc3%\\xf2\\x86\\xd3H\\xf6\\x1f\\xba\\xfbe\\xbf\\xc5g\\xf2\\x7f\\x9d\\x91\\x05\\xaau\\xf6u\\xfa8\\xe9\\xa2\\xa1lr\\x86\\r\\x00\\xb1 rQe\\xa4\\xa2\\x82\\'\\xbf\\xa1\\x8a&\\xef\\xbb\\xac>+\\r\\x8ba\\x0es\\xa3.\\xa0|\\xb2\\xb5\\xc4g}C\\xc96\\xdcr\\x8d5S\\xb6\\x9b\\xa5\\x92\\x93\\x0f\\xa2t9\\xcb\\xd9\\xf8\\xc0\\xe7\\x1f\\xfd\\\\\\xcaGV:\\xb7d\\x1d\\xab\\x82\\x9e\\xb2\\x96V@\\xf8\\x9c\\xe2:\\xb6p+\\x92M\\x99\\x92\\xbe9\\x05\\x9c\\xd2A]\\x16\\xaf\\x04ts\\xe4\\xa3\\xa1\\x8a8\\xd8\\xef\\xce\\xc6\\xf7\\xde\\xdd\\xe6\\xff\\x00%\\x97\\xdaZ\\x12q\\x98\\xdb\\x0bs\\x19\\x1a3[\\x8e\\xb6\\xfa\\xa7\\x8a\\xe8\\xc7\\xe4\\xc5\\xcb\\xf6\\xa2\\xf3\\x03\\x887\\t\\xa6\\x12\\xbc5\\xd9/b\\x14\\xeb0~\\x99\\x9e\\x850\\xd8\\xde\\xc6\\x86\\xb67\\x00\\x05\\xac\\x02\\xf2\\xcf\\xe2\\xc7z.\\xe4U$\\xa8\\xc8>\\xf6\\xb0\\xb4\\xfe9\\x9b\\xb9\\xac\\xcdu;d\\xc4\\xcb\\xbaQ\\xd4\\x88;N:\\xab\\xee\\x8eW\\x9c\\xacc\\x89:\\r\\x16s\\x11l\\x90\\xe2\\xedd\\x80\\xb5\\xc06\\xe3\\xcc\\xa4\\xca\\xb6\\xba\\x16_E\\xb56\\xf7k\\xdc\\x9eLR\\xb8\\xbb5\\xf9\\'\\xd5q\\xe0hz\\x82\\x10\\x84\\xc3\\x82\\x10\\x84\\x00!\\x08@\\x02L\\x9d\\x8d\\x05\\xd2\\x93\\x15\\xaf\\x96:w:\\x01w\\x82,<\\xd0@\\xe3o\\xdd\\xf0^\\x93\\xc9V\\xb6\\xb7\\x11\\x1f\\xa3\\xbf\\x9a\\xf5\\xd5\\x95\\xe7|\\x1f\\x14j\\x17Q\\xa1\\x9b\\xab\\xb2\\x80\\xee\\xcd^\\x07\\xf2\\x14\\xf6\\xc7\\xf5q\\xeaw\\xf71\\xe3\\xe1\\xfd\\x94\\x07\\xd4=\\xfb#O\\xef\\r\\xc8N t\\xfd\\x82\\x93\\x82\\xe2l\\xa1\\xc4!\\x9f?Q\\xae\\xeb\\x81\\xf7x\\xa4\\xca\\xb5chlSJv\\xce\\xa9WZ\\xc6\\xf5a\\x8d\\xa4\\x86\\x92\\xe79\\xc0\\x13\\xc8,\\x8e\\xd1cp:\\xba!O\\x04\\xd9\\xe2fW\\x12\\xdb4\\x1f\\xaf\\x82\\xd0\\xfb\\xbd-{\\xd9.w\\xb4\\x86X\\x16\\xb8\\x0b\\xddUb4U\\x0f=\\x13\\xa2\\xb4A\\xd6\\x0f\\xf7\\xa7z\\xd8X.DR\\xec\\xebNO\\xa6\\x158\\xacU\\x98a{\\x18\\x03\\xc0\\xd7/z\\xc8>\\x07?\\x10\\xf7\\x92\\xee\\xccn\\x05\\xb6\\xde\\r\\x95\\xec\\x92RPS>\\x9a\\x9d\\x9dk\\xeb\\xad\\xee\\xb3\\xf2\\xd4g\\x95\\xc6\\xf6\\xb9\\xd1[\\x86\\x1a\\xa6\\x92(\\xcd\\x96\\xe3ls\\xa4w\\xdep\\xf3@\\x95\\xe3\\xed\\xbf\\xd4\\xa6\\x84\\x97\\xe2\\x17\\x99\\xd7os\\x9d\\xb3$\\xb6\\xaaFu\\x9a\\xf7\\\\\\x0e$\\xac\\xc5t\\xce\\xa8\\xc6\\xb3\\xc9\\xbc\\xe5\\xdc\\xaf\\x9e\\xf1\\x90\\xf8,\\xedE\\xbf\\n^\\xff\\x00uU\\x95\\xbd5\\xd0\\x8d+.\\xe9\\x85\\xb3im\\xc9\\xe5\\x12\\x85\\xd9\\x9c\\xff\\x00%-$Zka\\xe0\\xb6\\x04!\\t\\x87\\x04!\\x08\\x00B\\x10\\x80\\x05\\xe3\\x89h\\xb8\\xde\\xbd^<\\x12,\\x10@\\t\\x1f\\xc4\\x8fD\\xa7<\\xdb\\\\\\xbe\\x89\\xb0\\x08({\\xad\\xbd\\x0e\\xe8\\x82N%\\xae\\xcb\\xd1\\x02\\x00\\x06\\xb9\\xe7\\xf9J\\xa7\\x11\\xb0\\x8dl\\xad\\xb1)\\xa2v\\x03CN\\xd9\\x1aeeL\\x8fs\\x01\\xd4\\x0bX\\x15k\\xec\\xf2\\x82\\x92|JLS\\x17{b\\xc3p\\xc6\\x89ds\\xfb.\\x7f\\xd8\\x1f\\x02|\\x82\\xaeY\\x12E}\\x96\\xf8~\\x1b\\x89axE3k\\\\\\xe6\\xc9$fFGn\\xb4L\\xbe\\x97\\xff\\x00\\x8e\\n\\xb2\\xb7\\x11\\xaf~h\\x9bP\\xd2\\xdd\\xc4\\xea\\x17I\\xc5\\xea\\xa8\\xea\\xa3\\xa0\\xc4\\xe3\\xb9\\xa7\\x9c\\xb5\\x8ds\\x9aZr\\xb8ipE\\xc6\\xa0\\r{\\xd5]^\\xce\\xd3\\xd4J\\x1fk\\x0e\\xec\\xb7\\xfa\\xaed\\xe7RgK\\x145Ansa\\x04\\xae9s9\\xee;\\xdc\\x9a\\xc4\\xe8\\x8d.\\x1b\\xefn\\x16\\r\\x9d\\xb1\\x01\\xdfv\\xb8\\x9f\\x90\\xf5]-\\xbb9\\x01\\x91\\xb0R\\xb1\\xc6g\\x9br\\x1c\\xcf%\\x8d\\xf6\\x8a\\xd8ij\\xe1\\xc1\\xa9\\x1f\\x9a\\x1aA\\x9aW\\xdbY%wh\\xfd<\\x93\\xe0\\x94\\x9c\\xed\\x15y:a\\x1a\\xed\\x99\\xb8`t\\xa0:>\\xb0;\\x88K0\\xbd\\xbb\\xda~!C\\x86I\\x1b0l/ \\x81s\\xa6\\x97R\\xdbX\\xf3\\xf9\\xdb\\xdf\\x89i]X\\xe7]\\x98\\x15\\r\\xc8\\xe2\\xc0o\\x1b\\x88\\xe3\\xd6TU\\'>/\\x9a0\\xe6\\xb4\\x16\\xdc\\x13~\\x0bC<\\x8e\\xe8\\x9cD\\xba[\\xbdg\\xfaG\\xbb\\x11p/\\xbd\\xdc>J3\\xc9J$\\xd6\\xe5\\xce\\x1fl\\xd2[\\xb8)\\x8a\\x16\\x1e,\\xe9<\\x02\\x9a\\xaa\\xc5\\xea\\x8bc\\xc0!\\x08V\\x8c\\x08B\\x10\\x00\\x84!\\x00\\x0b\\xc7\\x1b\\x05\\xeaL\\x9d\\x94\\x10\\xc0\\xbb\\x99P_!\\x99\\xee{\\x8fP\\x1b4w\\xf3R&vF\\x92O\\r\\x130\\xc7r\\xc6\\x9d\\xcd\\x03Nj\\x8c\\x92ob\\xa9\\xba\\x08\\xe2s\\xb5-\\xbd\\xfb\\xd7D\\xf6i\\xb3g\\x1b\\x84\\x9cE\\xb9\\xb0\\xaaJ\\x8e\\x95\\xb1p\\x9a|\\xa0u\\xbb\\xc3E\\x8f\\x89X\\xc6G#\\xdc\\xc8\\xa1fi\\x1eC\\x18\\xd1\\xc5\\xc7@\\x17\\xd0\\x9b=\\x84\\xc5\\x81\\xe0\\xb4\\xb8|V=\\x13:\\xee\\x1fi\\xe7W\\x1fUFGJ\\x85\\x8e\\xe7\\x95\\xf8%\\x15e\\x08\\xa4tY#\\x0e\\x0e\\x01\\x9c\\x08\\xe2<\\xd4H\\xa9g2\\xba\\x97\\xa3\\xb1\\x8e\\xc0\\xbc\\x8b\\x02-\\xa1W\\x9b\\xf4^>0\\xd2n\\xf7\\x9f\\xdaY\\x9cm\\x9a!\\x9aPT\\x8a\\x81\\x1c\\xd4o\\xfc\\x96\\x98=\\xce6|\\xb2\\x1b_\\x90\\xb2\\xe0x\\xe5g\\xbe\\xe35\\x95=\\xa6\\xbeg\\x16\\xeb}/\\xa2\\xee\\x9bg\\x88\\x8c+f\\xf1\\n\\xc6\\x9c\\xaflF8\\xbf]\\xe7(\\xf9\\xfc\\x17\\xcf.wF\\xc2@\\xdd\\xb8|\\x96\\x8cIQFI\\xb9;b#.|\\xf2:\\xfdV\\x90\\xd1\\xdc{\\xcat\\xf7\\xa4F\\xde\\x8e0\\xdd\\xfc\\xfb\\xd2\\x8e\\x8a\\xd2\\xb3\\xc3\\xae\\x87\\xc5@\\xb8mK\\x1e\\xd6\\xb4\\x1b\\xeba\\xbdM\\'C\\xe0\\xa3>0\\xde\\xb5\\xb5QmpJ,(\\x9f\\x99\\xcf\\xd0\\x0b[pR\\x94\\x0c0\\xdc\\xcb\\xe0\\x14\\xf5~\\'q4C\\x80B\\x10\\xac\\x18\\x10\\x84 \\x01\\x08B\\x00\\x12d\\xec\\x14\\xa4\\x99;\\x05C\\x02\\xb3\\x13\\x97\\'D\\xc1\\xc5\\xd7*V\\x1eo+\\x89\\xd4\\xaaLRb\\xfa\\x97\\xeb\\xa3N_O\\xee\\xad\\xf0\\xb2\\\\nx0z\\xac\\xba\\xaeFy\\x1b\\x7fg\\x14\"\\xbflh\\xc3\\xc5\\xd9J\\xc7T;M.4\\x1f\\x12=\\x17r:\\x85\\xca}\\x8b\\xc2\\x1f\\x88b\\x95G{cdm\\xf37? \\xba\\xb1*\\x8c\\xae\\xe4Lx\\x06\\x0b\\x12\\x92\\xf1r\\xbdgf\\xeb\\xc1\\xbfUY\\'0\\xf6\\xd3\\x88\\xe4\\xa5\\xc3\\xf0\\xa8\\xddc#\\x8c\\xf2\\x0eCF\\xdf\\xcc\\x9fE\\xc9\\x9f\\xd6\\x91\\xad\\xe0:\\xc6\\xdf\\x0f\\xfb\\xc9j\\xfd\\xa5W\\xfe\\x10\\xdb\\x1a\\xe2\\r\\xe3\\xa7-\\x81\\x9f\\xb25\\xfeb\\xe5\\x91\\x8d\\xd7k\\xa4\\xd3\\xaen<8-PU\\x12\\xb7\\xc8\\xe1)\\x0e\\x7fU6\\xe9\\x06\\xed|\\x93/\\x98\\x0b\\ru6\\xdc\\x98\\t\\x0eu\\xc1\\xb7zK\\xb5\\x1c\\xd2Z\\xec\\xc0\\xd8ku\\xee\\x83y\\xb9P@\\xfe\\x15\\xdb\\x9b\\xc9X(Xwj_\\x00\\xa6\\xab\\xf1\\xfa\\x9aa\\xc0!\\x08V\\x0c\\x08B\\x10\\x00\\x84!\\x00\\t\\xb9\\xdc\\x19\\x0b\\x9cw\\x01t\\xe2\\x8f_\\xad$\\x8d\\xe0\\xee\\xa9\\xe4\\x96N\\x93!\\xf0eeq{\\x89;\\xc9Z<?N\\x97\\x95\\x82\\xab41f\\xde\\xff\\x00U1\\x92:\"Z\\xcbu\\x8e\\xa4\\x85\\x8a2\\xdc\\xa1\\x9dg\\xd8\\xe5Sb\\xf7\\xc8w\\xc9)\\xcdn\\xe0,>\\xab\\xa9\\xb9\\xc7-\\xbe\\xd1_5\\xec\\xee\\xd4\\xd7\\xec\\xdc\\xb2T\\xd0\\xb2\\x9d\\xefx\\xb1\\x130\\x907n\\xb1\\x1d\\xcbG\\xfem\\xed\\x1174\\xf8w\\xf0\\x9f\\xfdi\\'\\xbb\\x19\\x1d\\xd4h\\xc09(\\xd5\\x95L\\xa4\\xa4\\x9a\\xa6SfB\\xc7=\\xde\\x00]qS\\xed{h\\xf7{\\xbe\\x1b\\xfc\\x17\\xff\\x00Z\\x83\\x8a\\xfbM\\xc7q<:\\xa2\\x86xhY\\x15CLotq\\xb8;)\\xdfc\\x99\"@\\xcc\\xae/X\\xf9L\\xd3H\\xe3\\xd3T<\\x92y\\x93s\\xf5L\\xb7\\xf3`p\\xb2nv\\t\\xa4k\\x9eOWp\\xe0\\x12\\xf9-)\\x95\\x8d\\x9b\\x02\\xa3\\xc9\\xa4\\x97R\\xb2\\xdco)\\xb3\\x0b_\\xa9%\\x16I\\xed+\\xbf\\x16\\xeeo?D\\xe6n\\x02\\xd7\\xe1t\\x88\\xa2\\x0c\\x04\\x02m{\\xea\\x97|\\xa2\\xc3\\xd7\\x8a\\x84\\xc8\\xa2n\\x1f\\xda\\x90\\x17\\x02\\xeb\\x0b\\x8e\\xe55A\\xc3\\x18\\x19\\xd2\\xdb\\xcc\\xf7\\xa9\\xcbV?SD=A\\x08Bq\\x81\\x08B\\x00\\xff\\xd9'"
      ]
     },
     "execution_count": 14,
     "metadata": {},
     "output_type": "execute_result"
    }
   ],
   "source": [
    "requests.get(images_tags[1]['src']).content"
   ]
  },
  {
   "cell_type": "code",
   "execution_count": null,
   "id": "1af52baf-ebab-4509-aadc-22824318909f",
   "metadata": {},
   "outputs": [],
   "source": []
  }
 ],
 "metadata": {
  "kernelspec": {
   "display_name": "Python 3 (ipykernel)",
   "language": "python",
   "name": "python3"
  },
  "language_info": {
   "codemirror_mode": {
    "name": "ipython",
    "version": 3
   },
   "file_extension": ".py",
   "mimetype": "text/x-python",
   "name": "python",
   "nbconvert_exporter": "python",
   "pygments_lexer": "ipython3",
   "version": "3.12.1"
  }
 },
 "nbformat": 4,
 "nbformat_minor": 5
}
