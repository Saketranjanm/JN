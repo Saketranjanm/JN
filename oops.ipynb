{
 "cells": [
  {
   "cell_type": "code",
   "execution_count": 5,
   "id": "379bb8ea-e0a1-4204-857f-bdc6fb04d433",
   "metadata": {},
   "outputs": [],
   "source": [
    "class bankaccount :\n",
    "\n",
    "    def openaccount(self,name,email_id) :\n",
    "        print(\"open an account by taking name and mail id \")\n",
    "        return name+email_id\n",
    "\n",
    "    def deposit(self,amount):\n",
    "        print(\"i am trying to deposit an amount in my account\")\n",
    "\n",
    "    def withdraw(self,amt_with):\n",
    "        print(\"withdraw the details\")\n",
    "\n",
    "    def update_details(self,name_update,email_update):\n",
    "        print(\"this function will update my name and mail id for account\")\n",
    "\n",
    "\n",
    "\n",
    "    "
   ]
  },
  {
   "cell_type": "code",
   "execution_count": 6,
   "id": "e9ca4bee-287e-4717-a359-24ada6cf5448",
   "metadata": {},
   "outputs": [],
   "source": [
    "def openaccount(name,email_id) :\n",
    "        print(\"open an account by taking name and mail id \")\n",
    "        return name+email_id"
   ]
  },
  {
   "cell_type": "code",
   "execution_count": 7,
   "id": "6d59a7a9-1b51-4031-be39-710129e41bea",
   "metadata": {},
   "outputs": [
    {
     "name": "stdout",
     "output_type": "stream",
     "text": [
      "open an account by taking name and mail id \n"
     ]
    },
    {
     "data": {
      "text/plain": [
       "'saketsaket@gmail.com'"
      ]
     },
     "execution_count": 7,
     "metadata": {},
     "output_type": "execute_result"
    }
   ],
   "source": [
    "openaccount(\"saket\",\"saket@gmail.com\")"
   ]
  },
  {
   "cell_type": "code",
   "execution_count": 8,
   "id": "8ba065c5-1922-43c7-b3a4-48b09f13bf0a",
   "metadata": {},
   "outputs": [],
   "source": [
    "saket = bankaccount()"
   ]
  },
  {
   "cell_type": "code",
   "execution_count": 9,
   "id": "80508b0c-0fdd-4336-8e57-92503cc4666e",
   "metadata": {},
   "outputs": [
    {
     "name": "stdout",
     "output_type": "stream",
     "text": [
      "i am trying to deposit an amount in my account\n"
     ]
    }
   ],
   "source": [
    "saket.deposit(200)"
   ]
  },
  {
   "cell_type": "code",
   "execution_count": 10,
   "id": "810a1c37-429c-44d0-8ac1-7f05bec89792",
   "metadata": {},
   "outputs": [
    {
     "name": "stdout",
     "output_type": "stream",
     "text": [
      "open an account by taking name and mail id \n"
     ]
    },
    {
     "data": {
      "text/plain": [
       "'nikhilnikhil@gmail.com'"
      ]
     },
     "execution_count": 10,
     "metadata": {},
     "output_type": "execute_result"
    }
   ],
   "source": [
    "saket.openaccount(\"nikhil\",\"nikhil@gmail.com\")"
   ]
  },
  {
   "cell_type": "code",
   "execution_count": 11,
   "id": "75e4f937-9147-4631-b7f3-f5d005d0fa68",
   "metadata": {},
   "outputs": [
    {
     "name": "stdout",
     "output_type": "stream",
     "text": [
      "withdraw the details\n"
     ]
    }
   ],
   "source": [
    "saket.withdraw(100)"
   ]
  },
  {
   "cell_type": "code",
   "execution_count": 29,
   "id": "985c5aff-5e4d-4322-b23b-9e0851a24dd0",
   "metadata": {},
   "outputs": [],
   "source": [
    "class list_ops:\n",
    "\n",
    "    a = 10\n",
    "    l = [ 2,3,4,5,6,7,8,9,8,8]\n",
    "\n",
    "    def extractfromindex(self,l,index):\n",
    "        return l[index]\n",
    "\n",
    "    def extractrangedata(self,l,start,end):\n",
    "        return l[start:end]\n",
    "\n",
    "    def extracteven(self,l):\n",
    "        l1 = []\n",
    "        for i in l:\n",
    "            if i%2 == 0:\n",
    "                l1.append(i)\n",
    "        return l1       "
   ]
  },
  {
   "cell_type": "code",
   "execution_count": 30,
   "id": "09d8673a-6fc4-4e81-8280-4c93ea449115",
   "metadata": {},
   "outputs": [],
   "source": [
    "first_obj = list_ops()"
   ]
  },
  {
   "cell_type": "code",
   "execution_count": 22,
   "id": "1ff60beb-fc6c-4fb0-8745-074135a03e3b",
   "metadata": {},
   "outputs": [
    {
     "data": {
      "text/plain": [
       "5"
      ]
     },
     "execution_count": 22,
     "metadata": {},
     "output_type": "execute_result"
    }
   ],
   "source": [
    "first_obj.extractfromindex([1,2,3,4,5,6,7,8],4)"
   ]
  },
  {
   "cell_type": "code",
   "execution_count": 23,
   "id": "95ff1860-184f-4d5b-928c-3ff2f050d244",
   "metadata": {},
   "outputs": [
    {
     "data": {
      "text/plain": [
       "[2, 3, 4, 5]"
      ]
     },
     "execution_count": 23,
     "metadata": {},
     "output_type": "execute_result"
    }
   ],
   "source": [
    "first_obj.extractrangedata([1,2,3,4,5,6,7,8,9],1,5)"
   ]
  },
  {
   "cell_type": "code",
   "execution_count": 24,
   "id": "ed4a54ea-f418-447e-b318-d9a3bcc1d844",
   "metadata": {},
   "outputs": [
    {
     "data": {
      "text/plain": [
       "[2, 4, 6, 8]"
      ]
     },
     "execution_count": 24,
     "metadata": {},
     "output_type": "execute_result"
    }
   ],
   "source": [
    "first_obj.extracteven([1,2,3,4,5,6,7,8,9])"
   ]
  },
  {
   "cell_type": "code",
   "execution_count": 27,
   "id": "0d6de2fa-f75f-4bfd-9acf-6a3d486300e6",
   "metadata": {},
   "outputs": [
    {
     "data": {
      "text/plain": [
       "10"
      ]
     },
     "execution_count": 27,
     "metadata": {},
     "output_type": "execute_result"
    }
   ],
   "source": [
    "first_obj.a"
   ]
  },
  {
   "cell_type": "code",
   "execution_count": 31,
   "id": "7a3bd742-f3d3-4870-b89b-f8b5ec0db407",
   "metadata": {},
   "outputs": [
    {
     "data": {
      "text/plain": [
       "7"
      ]
     },
     "execution_count": 31,
     "metadata": {},
     "output_type": "execute_result"
    }
   ],
   "source": [
    "first_obj.extractfromindex(first_obj.l,5)"
   ]
  },
  {
   "cell_type": "code",
   "execution_count": 32,
   "id": "f0cc0c48-f3a2-4443-bb2e-79dbc87e87f9",
   "metadata": {},
   "outputs": [],
   "source": [
    "second_obj = list_ops()"
   ]
  },
  {
   "cell_type": "code",
   "execution_count": 33,
   "id": "a996ff9d-16dc-41fa-8d59-9d85c94e3d33",
   "metadata": {},
   "outputs": [
    {
     "data": {
      "text/plain": [
       "[2, 3, 4, 5, 6, 7, 8, 9, 8, 8]"
      ]
     },
     "execution_count": 33,
     "metadata": {},
     "output_type": "execute_result"
    }
   ],
   "source": [
    "second_obj.l"
   ]
  },
  {
   "cell_type": "code",
   "execution_count": 40,
   "id": "76f3d699-e1df-4a03-ad2c-4bd5c0c4dcb4",
   "metadata": {},
   "outputs": [],
   "source": [
    "class list_ops:\n",
    "\n",
    "   # a = 10\n",
    "    #l = [ 2,3,4,5,6,7,8,9,8,8]\n",
    "\n",
    "    def __init__(self,l):\n",
    "        self.l1 = l\n",
    "        self.l2 = 20\n",
    "        self.l3 = \"sudh\"\n",
    "        self.l4 = (1,2,3,4)\n",
    "        self.l5 = {\"key\":\"value\"}\n",
    "        \n",
    "    def extractfromindex(self,l,index):\n",
    "        return l[index]\n",
    "\n",
    "    def extractrangedata(self,l,start,end):\n",
    "        return l[start:end]\n",
    "\n",
    "    def extracteven(self,l):\n",
    "        l1 = []\n",
    "        for i in l:\n",
    "            if i%2 == 0:\n",
    "                l1.append(i)\n",
    "        return l1       "
   ]
  },
  {
   "cell_type": "code",
   "execution_count": 36,
   "id": "4d5c5b41-b215-49ca-afb1-4769783173d1",
   "metadata": {},
   "outputs": [
    {
     "ename": "TypeError",
     "evalue": "list_ops.__init__() missing 1 required positional argument: 'l'",
     "output_type": "error",
     "traceback": [
      "\u001b[1;31m---------------------------------------------------------------------------\u001b[0m",
      "\u001b[1;31mTypeError\u001b[0m                                 Traceback (most recent call last)",
      "Cell \u001b[1;32mIn[36], line 1\u001b[0m\n\u001b[1;32m----> 1\u001b[0m third_obj \u001b[38;5;241m=\u001b[39m \u001b[43mlist_ops\u001b[49m\u001b[43m(\u001b[49m\u001b[43m)\u001b[49m\n",
      "\u001b[1;31mTypeError\u001b[0m: list_ops.__init__() missing 1 required positional argument: 'l'"
     ]
    }
   ],
   "source": [
    "third_obj = list_ops()"
   ]
  },
  {
   "cell_type": "code",
   "execution_count": 37,
   "id": "e1fea72b-7b30-4fa3-b063-fab773cf1da8",
   "metadata": {},
   "outputs": [],
   "source": [
    "third_obj = list_ops([1,2,3,4,5,6,7,8])"
   ]
  },
  {
   "cell_type": "code",
   "execution_count": 39,
   "id": "721d5757-ff47-4a56-af3f-da25be599528",
   "metadata": {},
   "outputs": [
    {
     "ename": "TypeError",
     "evalue": "list_ops.extractfromindex() missing 1 required positional argument: 'index'",
     "output_type": "error",
     "traceback": [
      "\u001b[1;31m---------------------------------------------------------------------------\u001b[0m",
      "\u001b[1;31mTypeError\u001b[0m                                 Traceback (most recent call last)",
      "Cell \u001b[1;32mIn[39], line 1\u001b[0m\n\u001b[1;32m----> 1\u001b[0m \u001b[43mthird_obj\u001b[49m\u001b[38;5;241;43m.\u001b[39;49m\u001b[43mextractfromindex\u001b[49m\u001b[43m(\u001b[49m\u001b[38;5;241;43m5\u001b[39;49m\u001b[43m)\u001b[49m\n",
      "\u001b[1;31mTypeError\u001b[0m: list_ops.extractfromindex() missing 1 required positional argument: 'index'"
     ]
    }
   ],
   "source": [
    "third_obj.extractfromindex(5)"
   ]
  },
  {
   "cell_type": "code",
   "execution_count": 47,
   "id": "3b18bf95-43d9-4d3d-ae22-c8206a586ba7",
   "metadata": {},
   "outputs": [
    {
     "data": {
      "text/plain": [
       "{'key': 'value'}"
      ]
     },
     "execution_count": 47,
     "metadata": {},
     "output_type": "execute_result"
    }
   ],
   "source": [
    "fourth_obj = list_ops([1,2,3])\n",
    "fourth_obj.l5"
   ]
  },
  {
   "cell_type": "code",
   "execution_count": 53,
   "id": "e2429041-faf4-46c1-8d2c-c81d62780d48",
   "metadata": {},
   "outputs": [],
   "source": [
    "class book:\n",
    "\n",
    "    def __init__(self,name,title,pageno):\n",
    "        self.name_of_book = name\n",
    "        self.title_of_book = title\n",
    "        self.page_no = pageno\n",
    "        \n",
    "    def extract_details(self):\n",
    "        print(self.name_of_book,self.title_of_book)\n",
    "\n",
    "    def print_page_no(self):\n",
    "        print(self.page_no)"
   ]
  },
  {
   "cell_type": "code",
   "execution_count": 54,
   "id": "c14a8139-0029-4c40-9ccb-adbe01951328",
   "metadata": {},
   "outputs": [],
   "source": [
    "saket = book('dsa','practical',456)\n",
    "ronit = book('data_science','implementation_ds',789)\n",
    "subham = book ('story','stories123',233)"
   ]
  },
  {
   "cell_type": "code",
   "execution_count": 55,
   "id": "42b3a907-15e3-4869-b816-93866e40887a",
   "metadata": {},
   "outputs": [
    {
     "name": "stdout",
     "output_type": "stream",
     "text": [
      "dsa practical\n"
     ]
    }
   ],
   "source": [
    "saket.extract_details()"
   ]
  },
  {
   "cell_type": "code",
   "execution_count": 56,
   "id": "36dc21ed-f852-4271-91ef-1217e1d404b2",
   "metadata": {},
   "outputs": [
    {
     "name": "stdout",
     "output_type": "stream",
     "text": [
      "789\n"
     ]
    }
   ],
   "source": [
    "ronit.print_page_no()"
   ]
  },
  {
   "cell_type": "code",
   "execution_count": 57,
   "id": "e340844e-b3d5-440f-a3b3-ce0edce5eefe",
   "metadata": {},
   "outputs": [
    {
     "name": "stdout",
     "output_type": "stream",
     "text": [
      "story stories123\n"
     ]
    }
   ],
   "source": [
    "subham.extract_details()"
   ]
  },
  {
   "cell_type": "code",
   "execution_count": 60,
   "id": "a6fc7489-260f-4fba-96c6-4751d64d1244",
   "metadata": {},
   "outputs": [
    {
     "data": {
      "text/plain": [
       "'dsa'"
      ]
     },
     "execution_count": 60,
     "metadata": {},
     "output_type": "execute_result"
    }
   ],
   "source": [
    "saket.name_of_book"
   ]
  },
  {
   "cell_type": "code",
   "execution_count": 61,
   "id": "9e4c603d-742d-4c37-913f-b1e1d5167ed5",
   "metadata": {},
   "outputs": [
    {
     "data": {
      "text/plain": [
       "456"
      ]
     },
     "execution_count": 61,
     "metadata": {},
     "output_type": "execute_result"
    }
   ],
   "source": [
    "saket.page_no"
   ]
  },
  {
   "cell_type": "code",
   "execution_count": 66,
   "id": "0b3ecbbd-d360-4381-aa0d-4f9c915c2598",
   "metadata": {},
   "outputs": [],
   "source": [
    "class gmail_ops:\n",
    "    def __init__(self,userid,password):\n",
    "        self.userid = userid\n",
    "        self.password = password\n",
    "        self.url = \"https://mail.google.com/mail/u/0/\"\n",
    "\n",
    "    def login(self):\n",
    "        print(\" take userid \" + self.userid+ \" take password \" + self.password + \" hit url \" + self.url)\n",
    "        print(\"login\")\n",
    "\n",
    "    def read_mail(self):\n",
    "        print(\"read mail for\" + self.userid + \" \" + self.password)\n",
    "\n",
    "    def reply_mail(self):\n",
    "        print(\"reply mail for\" +self.userid + \"\" + self.password)"
   ]
  },
  {
   "cell_type": "code",
   "execution_count": 67,
   "id": "3b65e552-c1b7-4a2a-adf6-56d371b99873",
   "metadata": {},
   "outputs": [],
   "source": [
    "user1 = gmail_ops(\"user1\",\"pssw1\")"
   ]
  },
  {
   "cell_type": "code",
   "execution_count": 68,
   "id": "07e93c7a-e325-40a7-b140-300fcdda68d9",
   "metadata": {},
   "outputs": [
    {
     "name": "stdout",
     "output_type": "stream",
     "text": [
      " take userid user1 take password pssw1 hit url https://mail.google.com/mail/u/0/\n",
      "login\n"
     ]
    }
   ],
   "source": [
    "user1.login()"
   ]
  },
  {
   "cell_type": "code",
   "execution_count": 69,
   "id": "ea896312-618c-49c4-83ee-9c65253c4cca",
   "metadata": {},
   "outputs": [],
   "source": [
    "user2 = gmail_ops(\"user2\",\"pssw2\")"
   ]
  },
  {
   "cell_type": "code",
   "execution_count": 71,
   "id": "52c254db-7645-4705-b28f-1b0e3942ead6",
   "metadata": {},
   "outputs": [
    {
     "name": "stdout",
     "output_type": "stream",
     "text": [
      " take userid user2 take password pssw2 hit url https://mail.google.com/mail/u/0/\n",
      "login\n"
     ]
    }
   ],
   "source": [
    "user2.login()"
   ]
  },
  {
   "cell_type": "code",
   "execution_count": 80,
   "id": "5922b8b4-f05d-4806-8785-2bdb0babbf86",
   "metadata": {},
   "outputs": [],
   "source": [
    "from functools import reduce\n",
    "class calculator:\n",
    "    def __init__(self,username):\n",
    "        self.username = username\n",
    "    \n",
    "    def add(self,*args):\n",
    "        return  self.username , sum(args)\n",
    "    def sub(self,*args):\n",
    "        return   self.username ,reduce(lambda a,b :a-b , args)\n",
    "    def mul(self,*args):\n",
    "        return  self.username , reduce(lambda a,b :a*b , args) \n",
    "    def div(self,*args):\n",
    "        return   self.username ,reduce(lambda a,b :a/b , args)"
   ]
  },
  {
   "cell_type": "code",
   "execution_count": 82,
   "id": "13ee8ff0-adc4-4ed6-a821-e91895dcd687",
   "metadata": {},
   "outputs": [],
   "source": [
    "himanshu = calculator(\"himanshu\")"
   ]
  },
  {
   "cell_type": "code",
   "execution_count": 83,
   "id": "d0be1f6e-6b55-4437-b090-50f9d79fb08d",
   "metadata": {},
   "outputs": [
    {
     "data": {
      "text/plain": [
       "('himanshu', 20)"
      ]
     },
     "execution_count": 83,
     "metadata": {},
     "output_type": "execute_result"
    }
   ],
   "source": [
    "himanshu.add(1,2,3,4,5,5)"
   ]
  },
  {
   "cell_type": "code",
   "execution_count": 84,
   "id": "2852126c-f23b-4880-a8bc-ef4076faa9f2",
   "metadata": {},
   "outputs": [
    {
     "data": {
      "text/plain": [
       "('himanshu', -128)"
      ]
     },
     "execution_count": 84,
     "metadata": {},
     "output_type": "execute_result"
    }
   ],
   "source": [
    "himanshu.sub(1,2,3,45,23,56)"
   ]
  },
  {
   "cell_type": "code",
   "execution_count": 85,
   "id": "e2cc8a84-a413-49ef-a48a-4b5cca55c0f0",
   "metadata": {},
   "outputs": [],
   "source": [
    "karan = calculator(\"karan\")"
   ]
  },
  {
   "cell_type": "code",
   "execution_count": 86,
   "id": "17f7f45d-0601-4a4c-ae25-a3e32760fe44",
   "metadata": {},
   "outputs": [
    {
     "data": {
      "text/plain": [
       "('karan', 720)"
      ]
     },
     "execution_count": 86,
     "metadata": {},
     "output_type": "execute_result"
    }
   ],
   "source": [
    "karan.mul(1,2,3,4,5,6)"
   ]
  },
  {
   "cell_type": "code",
   "execution_count": 87,
   "id": "2459e6e1-b65f-4fb2-b7f0-8f0ce3d647a5",
   "metadata": {},
   "outputs": [],
   "source": [
    "#INHERITENCE"
   ]
  },
  {
   "cell_type": "code",
   "execution_count": 88,
   "id": "d7903d94-6e12-4276-95b6-f8cb5bfb56b1",
   "metadata": {},
   "outputs": [],
   "source": [
    "class a:\n",
    "    def test(self):\n",
    "        print(\"this test method is a part of class a\")"
   ]
  },
  {
   "cell_type": "code",
   "execution_count": 89,
   "id": "7a7b49c1-4f9c-46be-9a86-ba9b043a54e7",
   "metadata": {},
   "outputs": [],
   "source": [
    "a1 = a()"
   ]
  },
  {
   "cell_type": "code",
   "execution_count": 92,
   "id": "13614a2a-bfcb-47af-9f1e-0749230702bf",
   "metadata": {},
   "outputs": [
    {
     "name": "stdout",
     "output_type": "stream",
     "text": [
      "this test method is a part of class a\n"
     ]
    }
   ],
   "source": [
    "a1.test()"
   ]
  },
  {
   "cell_type": "code",
   "execution_count": 97,
   "id": "e40e55f7-241e-4ee4-b99f-b6bdf5c463d3",
   "metadata": {},
   "outputs": [],
   "source": [
    "class b(a):\n",
    "    def test1b(self):\n",
    "        print(\"this is part of class b\")"
   ]
  },
  {
   "cell_type": "code",
   "execution_count": 98,
   "id": "49f45a31-11d1-4c05-a9e4-b60752d7bb62",
   "metadata": {},
   "outputs": [],
   "source": [
    "b1 = b()"
   ]
  },
  {
   "cell_type": "code",
   "execution_count": 100,
   "id": "fde3866e-89b6-42f8-8262-a364d42b56dd",
   "metadata": {},
   "outputs": [
    {
     "name": "stdout",
     "output_type": "stream",
     "text": [
      "this test method is a part of class a\n"
     ]
    }
   ],
   "source": [
    "b1.test()"
   ]
  },
  {
   "cell_type": "code",
   "execution_count": 101,
   "id": "be04d0eb-c5f9-4b83-8582-61ba6f667ede",
   "metadata": {},
   "outputs": [
    {
     "name": "stdout",
     "output_type": "stream",
     "text": [
      "this is part of class b\n"
     ]
    }
   ],
   "source": [
    "b1.test1b()"
   ]
  },
  {
   "cell_type": "code",
   "execution_count": 104,
   "id": "e3a39e7a-924f-49c8-bb7d-7af2482ac1a2",
   "metadata": {},
   "outputs": [],
   "source": [
    "class lecture:\n",
    "    def topic(self):\n",
    "        print(\"todays class we are discussing about oops\")\n",
    "\n",
    "    def timing(self):\n",
    "        print(\"timing of the class is 9AM IST\")\n",
    "\n",
    "    def end_time(self):\n",
    "        print(\"today class end early\")"
   ]
  },
  {
   "cell_type": "code",
   "execution_count": 105,
   "id": "412305bc-a61b-4405-9b53-74a20bdf6ae1",
   "metadata": {},
   "outputs": [],
   "source": [
    "class student(lecture):\n",
    "    def student_details(self):\n",
    "        print(\"this class will give you a student details\")"
   ]
  },
  {
   "cell_type": "code",
   "execution_count": 106,
   "id": "f17c9f16-71c7-4c6f-b7b9-a6ed8372bb23",
   "metadata": {},
   "outputs": [],
   "source": [
    "naval = student()"
   ]
  },
  {
   "cell_type": "code",
   "execution_count": 107,
   "id": "b22c2459-31f0-4a9a-9147-ce62b48617b4",
   "metadata": {},
   "outputs": [
    {
     "name": "stdout",
     "output_type": "stream",
     "text": [
      "todays class we are discussing about oops\n"
     ]
    }
   ],
   "source": [
    "naval.topic()"
   ]
  },
  {
   "cell_type": "code",
   "execution_count": 108,
   "id": "7c20fe2d-7c39-4a8d-b0d9-62ad477d2e9c",
   "metadata": {},
   "outputs": [],
   "source": [
    "satish = student()"
   ]
  },
  {
   "cell_type": "code",
   "execution_count": 109,
   "id": "2b07d6a6-01f4-40ff-a315-858e4035905f",
   "metadata": {},
   "outputs": [
    {
     "name": "stdout",
     "output_type": "stream",
     "text": [
      "timing of the class is 9AM IST\n"
     ]
    }
   ],
   "source": [
    "satish.timing()"
   ]
  },
  {
   "cell_type": "code",
   "execution_count": 114,
   "id": "e2e474ee-22fa-4c8a-9985-8e6c04e86861",
   "metadata": {},
   "outputs": [],
   "source": [
    "#multilevel\n",
    "class teacher(student):\n",
    "    def details(self):\n",
    "        print(\"details about teacher\")"
   ]
  },
  {
   "cell_type": "code",
   "execution_count": 111,
   "id": "4a8c833b-cd4f-4621-b18e-e47b85502010",
   "metadata": {},
   "outputs": [],
   "source": [
    "teach1 = teacher()"
   ]
  },
  {
   "cell_type": "code",
   "execution_count": 113,
   "id": "537b9a31-adc2-41f2-b8c6-c98211fbbb25",
   "metadata": {},
   "outputs": [
    {
     "name": "stdout",
     "output_type": "stream",
     "text": [
      "this class will give you a student details\n"
     ]
    }
   ],
   "source": [
    "teach1.student_details()"
   ]
  },
  {
   "cell_type": "code",
   "execution_count": 118,
   "id": "ae8b677c-1de3-4658-a6f4-dd048fa51209",
   "metadata": {},
   "outputs": [],
   "source": [
    "#MULTIPLE\n",
    "class teacher(student,lecture):\n",
    "    def details(self):\n",
    "        print(\"details about teacher\")"
   ]
  },
  {
   "cell_type": "code",
   "execution_count": 116,
   "id": "4d2b37b1-d24a-4d3d-a58d-75db0e203678",
   "metadata": {},
   "outputs": [],
   "source": [
    "nikhil = teacher()"
   ]
  },
  {
   "cell_type": "code",
   "execution_count": 117,
   "id": "03304586-f2c9-4dc9-a22f-12b04fe1f2ab",
   "metadata": {},
   "outputs": [
    {
     "name": "stdout",
     "output_type": "stream",
     "text": [
      "this class will give you a student details\n"
     ]
    }
   ],
   "source": [
    "nikhil.student_details()"
   ]
  },
  {
   "cell_type": "code",
   "execution_count": 119,
   "id": "93549c5e-0d43-4ccd-96ac-c021178459b3",
   "metadata": {},
   "outputs": [
    {
     "name": "stdout",
     "output_type": "stream",
     "text": [
      "today class end early\n"
     ]
    }
   ],
   "source": [
    "nikhil.end_time()"
   ]
  },
  {
   "cell_type": "code",
   "execution_count": null,
   "id": "1ad6b69f-f694-41d1-8eec-8bf21de58269",
   "metadata": {},
   "outputs": [],
   "source": []
  }
 ],
 "metadata": {
  "kernelspec": {
   "display_name": "Python 3 (ipykernel)",
   "language": "python",
   "name": "python3"
  },
  "language_info": {
   "codemirror_mode": {
    "name": "ipython",
    "version": 3
   },
   "file_extension": ".py",
   "mimetype": "text/x-python",
   "name": "python",
   "nbconvert_exporter": "python",
   "pygments_lexer": "ipython3",
   "version": "3.12.1"
  }
 },
 "nbformat": 4,
 "nbformat_minor": 5
}
