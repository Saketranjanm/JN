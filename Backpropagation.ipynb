{
 "cells": [
  {
   "cell_type": "code",
   "execution_count": 1,
   "id": "658b91bc-5d53-456c-91ea-de6d96f5f484",
   "metadata": {},
   "outputs": [],
   "source": [
    "import numpy as np\n",
    "\n",
    "# Sigmoid activation function\n",
    "def sigmoid(x):\n",
    "    return 1 / (1 + np.exp(-x))\n",
    "\n",
    "# Derivative of sigmoid function\n",
    "def sigmoid_derivative(x):\n",
    "    return x * (1 - x)\n",
    "\n",
    "# Mean Squared Error loss function\n",
    "def mse_loss(y_true, y_pred):\n",
    "    return ((y_true - y_pred) ** 2).mean()\n",
    "\n",
    "# Initialize the weights and biases\n",
    "input_size = 2  # Number of input neurons\n",
    "hidden_size = 2  # Number of hidden neurons\n",
    "output_size = 1  # Number of output neurons\n",
    "\n",
    "# Random weights and biases initialization\n",
    "np.random.seed(42)\n",
    "weights_input_hidden = np.random.rand(input_size, hidden_size)\n",
    "weights_hidden_output = np.random.rand(hidden_size, output_size)\n",
    "bias_hidden = np.random.rand(hidden_size)\n",
    "bias_output = np.random.rand(output_size)\n",
    "\n",
    "# Learning rate\n",
    "learning_rate = 0.5\n"
   ]
  },
  {
   "cell_type": "code",
   "execution_count": 2,
   "id": "258a3d8d-44e5-458e-9f8a-795b7c920935",
   "metadata": {},
   "outputs": [],
   "source": [
    "def forward_pass(X):\n",
    "    # Input to hidden layer\n",
    "    hidden_input = np.dot(X, weights_input_hidden) + bias_hidden\n",
    "    hidden_output = sigmoid(hidden_input)\n",
    "    \n",
    "    # Hidden layer to output layer\n",
    "    final_input = np.dot(hidden_output, weights_hidden_output) + bias_output\n",
    "    final_output = sigmoid(final_input)\n",
    "    \n",
    "    return hidden_output, final_output\n"
   ]
  },
  {
   "cell_type": "code",
   "execution_count": 3,
   "id": "b3ec0244-2cfe-4cbc-8022-7a289a6c3eb0",
   "metadata": {},
   "outputs": [
    {
     "name": "stdout",
     "output_type": "stream",
     "text": [
      "Epoch 0, Loss: 0.287974821321425\n",
      "Epoch 1000, Loss: 0.0532952119154574\n",
      "Epoch 2000, Loss: 0.0033537142532437\n",
      "Epoch 3000, Loss: 0.0015572766528967903\n",
      "Epoch 4000, Loss: 0.0009962986277053843\n",
      "Epoch 5000, Loss: 0.0007273938450424308\n",
      "Epoch 6000, Loss: 0.0005707615583393447\n",
      "Epoch 7000, Loss: 0.0004686426519557369\n",
      "Epoch 8000, Loss: 0.0003969725823845209\n",
      "Epoch 9000, Loss: 0.0003439863670130609\n",
      "Predicted output:\n",
      "[[0.01920427]\n",
      " [0.98342876]\n",
      " [0.98341295]\n",
      " [0.01716186]]\n"
     ]
    }
   ],
   "source": [
    "def backward_pass(X, y, hidden_output, final_output):\n",
    "    global weights_input_hidden, weights_hidden_output, bias_hidden, bias_output\n",
    "    \n",
    "    # Calculate the error\n",
    "    error = y - final_output\n",
    "    d_error_output = error * sigmoid_derivative(final_output)\n",
    "    \n",
    "    # Error term for hidden layer\n",
    "    error_hidden = d_error_output.dot(weights_hidden_output.T)\n",
    "    d_error_hidden = error_hidden * sigmoid_derivative(hidden_output)\n",
    "    \n",
    "    # Update weights and biases\n",
    "    weights_hidden_output += hidden_output.T.dot(d_error_output) * learning_rate\n",
    "    bias_output += np.sum(d_error_output, axis=0) * learning_rate\n",
    "    weights_input_hidden += X.T.dot(d_error_hidden) * learning_rate\n",
    "    bias_hidden += np.sum(d_error_hidden, axis=0) * learning_rate\n",
    "\n",
    "# Training the neural network\n",
    "def train(X, y, epochs):\n",
    "    for epoch in range(epochs):\n",
    "        hidden_output, final_output = forward_pass(X)\n",
    "        backward_pass(X, y, hidden_output, final_output)\n",
    "        if epoch % 1000 == 0:\n",
    "            loss = mse_loss(y, final_output)\n",
    "            print(f'Epoch {epoch}, Loss: {loss}')\n",
    "\n",
    "# Example data\n",
    "X = np.array([[0, 0],\n",
    "              [0, 1],\n",
    "              [1, 0],\n",
    "              [1, 1]])\n",
    "y = np.array([[0], [1], [1], [0]])  # XOR gate\n",
    "\n",
    "# Train the network\n",
    "train(X, y, epochs=10000)\n",
    "\n",
    "# Testing the neural network\n",
    "_, output = forward_pass(X)\n",
    "print(\"Predicted output:\")\n",
    "print(output)\n"
   ]
  },
  {
   "cell_type": "code",
   "execution_count": null,
   "id": "7ec76084-d69f-431e-8bd2-5c7cb18ce4f6",
   "metadata": {},
   "outputs": [],
   "source": []
  }
 ],
 "metadata": {
  "kernelspec": {
   "display_name": "Python 3 (ipykernel)",
   "language": "python",
   "name": "python3"
  },
  "language_info": {
   "codemirror_mode": {
    "name": "ipython",
    "version": 3
   },
   "file_extension": ".py",
   "mimetype": "text/x-python",
   "name": "python",
   "nbconvert_exporter": "python",
   "pygments_lexer": "ipython3",
   "version": "3.12.1"
  }
 },
 "nbformat": 4,
 "nbformat_minor": 5
}
