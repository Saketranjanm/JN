{
 "cells": [
  {
   "cell_type": "code",
   "execution_count": 7,
   "id": "a3a85f69-4fc6-48de-b540-ad05dd922d40",
   "metadata": {},
   "outputs": [
    {
     "name": "stdout",
     "output_type": "stream",
     "text": [
      "the number of duplicate element in array is : 1\n"
     ]
    }
   ],
   "source": [
    "#1. Given an array, check if it contains any duplicates or not.\n",
    "#arr = [1, 2, 4, 2, 5, 9]\n",
    "def duplicate(arr):\n",
    "    n = len(arr)\n",
    "    set1 = set(arr)\n",
    "    n2 = len(set1)\n",
    "    result = n-n2\n",
    "    return result\n",
    "\n",
    "arr = [1,2,4,2,5,9]\n",
    "result = duplicate(arr)\n",
    "print(f\"the number of duplicate element in array is : {result}\")"
   ]
  },
  {
   "cell_type": "code",
   "execution_count": 27,
   "id": "c45b0e82-647f-4c99-810d-2d3623e8350f",
   "metadata": {},
   "outputs": [
    {
     "name": "stdout",
     "output_type": "stream",
     "text": [
      "Array after rotating by 3 steps: [5, 6, 7, 1, 2, 3, 4]\n"
     ]
    }
   ],
   "source": [
    "#2. Given an array and an integer k, rotate the array to the right by k steps.\n",
    "#arr = [1, 2, 3, 4, 5, 6, 7] k = 3\n",
    "def reverse(arr, start, end):\n",
    "    while start < end:\n",
    "        arr[start], arr[end] = arr[end], arr[start]\n",
    "        start += 1\n",
    "        end -= 1\n",
    "\n",
    "def rotate_array(arr, k):\n",
    "    n = len(arr)\n",
    "    k %= n  \n",
    "    reverse(arr, 0, n - 1) \n",
    "    reverse(arr, 0, k - 1)  \n",
    "    reverse(arr, k, n - 1)  \n",
    "\n",
    "arr = [1, 2, 3, 4, 5, 6, 7]\n",
    "k = 3\n",
    "rotate_array(arr, k)\n",
    "print(\"Array after rotating by\", k, \"steps:\", arr)\n"
   ]
  },
  {
   "cell_type": "code",
   "execution_count": 26,
   "id": "cb901ec3-3756-416a-a1e1-1f2b9194df60",
   "metadata": {},
   "outputs": [
    {
     "name": "stdout",
     "output_type": "stream",
     "text": [
      "Array after reverse: [12, 9, 7, 5, 4, 2]\n"
     ]
    }
   ],
   "source": [
    "#3. Reverse the given array in-place, means without using any extra data structure.\n",
    "#arr = [2, 4, 5, 7, 9, 12]\n",
    "def reverse(arr):\n",
    "    n = len(arr)\n",
    "    for i in range(n // 2): \n",
    "        arr[i], arr[n - i - 1] = arr[n - i - 1], arr[i]\n",
    "    return arr  \n",
    "\n",
    "arr = [2, 4, 5, 7, 9, 12]\n",
    "result = reverse(arr)\n",
    "print(f\"Array after reverse: {result}\")\n"
   ]
  },
  {
   "cell_type": "code",
   "execution_count": 8,
   "id": "56f7c70d-8778-454f-b2d9-df1023fd8f52",
   "metadata": {},
   "outputs": [
    {
     "name": "stdout",
     "output_type": "stream",
     "text": [
      "The maximum element in the given array is : 20\n"
     ]
    }
   ],
   "source": [
    "#4. Given an array of integers, find the maximum element in an array\n",
    "#arr = [10, 5, 20, 8, 15]\n",
    "def maxelement(arr):\n",
    "    max = arr[0]\n",
    "    for i in arr:\n",
    "        if i > max:\n",
    "            max = i\n",
    "    return max        \n",
    "\n",
    "arr = [10,5,20,8,15]\n",
    "result = maxelement(arr)\n",
    "print(f\"The maximum element in the given array is : {result}\")"
   ]
  },
  {
   "cell_type": "code",
   "execution_count": 15,
   "id": "a18ccf06-8cc0-474f-83d7-ff4b3e2943a8",
   "metadata": {},
   "outputs": [
    {
     "name": "stdout",
     "output_type": "stream",
     "text": [
      "After removing duplicates, array becomes: [1, 2, 3, 4, 5]\n"
     ]
    }
   ],
   "source": [
    "#5. Given a sorted array, remove the duplicate element without using any extra data structure.\n",
    "#arr = [1, 1, 2, 2, 2, 3, 3, 4, 4, 4, 5, 5]\n",
    "def removeduplicate(arr):\n",
    "    write_index = 0\n",
    "    for i in range(1, len(arr)):\n",
    "        if arr[i] != arr[write_index]:\n",
    "            write_index += 1\n",
    "            arr[write_index] = arr[i]\n",
    "    return write_index + 1\n",
    "      \n",
    "                \n",
    "\n",
    "arr = [1,1,2,2,2,3,3,4,4,4,5,5]\n",
    "result  = removeduplicate(arr)\n",
    "print(f\"After removing duplicates, array becomes: {arr[:result]}\")"
   ]
  },
  {
   "cell_type": "code",
   "execution_count": null,
   "id": "dbd90fc3-f07d-4261-bd29-8ae3f6eabebf",
   "metadata": {},
   "outputs": [],
   "source": []
  }
 ],
 "metadata": {
  "kernelspec": {
   "display_name": "Python 3 (ipykernel)",
   "language": "python",
   "name": "python3"
  },
  "language_info": {
   "codemirror_mode": {
    "name": "ipython",
    "version": 3
   },
   "file_extension": ".py",
   "mimetype": "text/x-python",
   "name": "python",
   "nbconvert_exporter": "python",
   "pygments_lexer": "ipython3",
   "version": "3.12.1"
  }
 },
 "nbformat": 4,
 "nbformat_minor": 5
}
