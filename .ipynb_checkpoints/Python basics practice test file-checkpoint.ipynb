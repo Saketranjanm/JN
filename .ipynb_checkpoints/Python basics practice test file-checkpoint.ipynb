{
 "cells": [
  {
   "cell_type": "code",
   "execution_count": 2,
   "id": "f3146563-e279-4e5c-a5bb-f4983e835ca0",
   "metadata": {},
   "outputs": [
    {
     "name": "stdout",
     "output_type": "stream",
     "text": [
      "tekas\n"
     ]
    }
   ],
   "source": [
    "#TOPIC: String Based Assignment Problem\n",
    "\n",
    "#1. Write a program to reverse a string\n",
    "a = 'saket'\n",
    "print(a[::-1])"
   ]
  },
  {
   "cell_type": "code",
   "execution_count": 8,
   "id": "3e59734c-9edd-40c7-b4dd-6444fab0d02e",
   "metadata": {},
   "outputs": [
    {
     "name": "stdout",
     "output_type": "stream",
     "text": [
      "palindrome\n"
     ]
    }
   ],
   "source": [
    "#2. Check if a string is a palindrome.\n",
    "c = 'madam'\n",
    "b = c[::-1]\n",
    "if(c==b):\n",
    "         print(\"palindrome\")\n",
    "else:\n",
    "    print(\"not palindrome\")"
   ]
  },
  {
   "cell_type": "code",
   "execution_count": 9,
   "id": "14c45c0b-deb9-4db9-8b5c-77861621627f",
   "metadata": {},
   "outputs": [
    {
     "name": "stdout",
     "output_type": "stream",
     "text": [
      "SAKET\n"
     ]
    }
   ],
   "source": [
    "#3. Convert a string to uppercase.\n",
    "print(a.upper())"
   ]
  },
  {
   "cell_type": "code",
   "execution_count": 10,
   "id": "2fd17a64-0145-415f-a88a-50fae46d651d",
   "metadata": {},
   "outputs": [
    {
     "name": "stdout",
     "output_type": "stream",
     "text": [
      "saket\n"
     ]
    }
   ],
   "source": [
    "#4. Convert a string to lowercase.\n",
    "x = 'SAKET'\n",
    "print(x.lower())"
   ]
  },
  {
   "cell_type": "code",
   "execution_count": 14,
   "id": "8b4eee13-16c6-4ab4-b666-7f8efeab2c13",
   "metadata": {},
   "outputs": [
    {
     "name": "stdout",
     "output_type": "stream",
     "text": [
      "2\n"
     ]
    }
   ],
   "source": [
    "#5. Count the number of vowels in a string.\n",
    "y = x.lower()\n",
    "count = 0\n",
    "for n in y:\n",
    "    if(n == 'a'or n =='e'or n =='i' or n == 'o' or n =='u'):\n",
    "        count= count+1;\n",
    "print(count)    "
   ]
  },
  {
   "cell_type": "code",
   "execution_count": 26,
   "id": "06d74486-cf3d-4642-9d1c-5aaec82c2801",
   "metadata": {},
   "outputs": [
    {
     "name": "stdout",
     "output_type": "stream",
     "text": [
      "number of consonant in string 'saket' is:  3\n"
     ]
    }
   ],
   "source": [
    "#6. Count the number of consonants in a string.\n",
    "z = len(y)\n",
    "result = z - count\n",
    "print(\"number of consonant in string 'saket' is: \" , result)"
   ]
  },
  {
   "cell_type": "code",
   "execution_count": 30,
   "id": "87803b2b-b81f-411f-acbd-584c714c83b6",
   "metadata": {},
   "outputs": [
    {
     "name": "stdout",
     "output_type": "stream",
     "text": [
      "hi!iamsaketranjan\n"
     ]
    }
   ],
   "source": [
    "#7. Remove all whitespaces from a string.\n",
    "example = 'hi! i am saket ranjan'\n",
    "res = example.replace(\" \",\"\")\n",
    "print(res)"
   ]
  },
  {
   "cell_type": "code",
   "execution_count": 33,
   "id": "94babbda-87a7-4590-8039-d3553df1381e",
   "metadata": {},
   "outputs": [
    {
     "name": "stdout",
     "output_type": "stream",
     "text": [
      "length of the string is : 17\n"
     ]
    }
   ],
   "source": [
    "#8. Find the length of a string without using the `len()` function.\n",
    "coun = 0;\n",
    "for n in res:\n",
    "    coun= coun+1;\n",
    "print(\"length of the string is :\", coun);    "
   ]
  },
  {
   "cell_type": "code",
   "execution_count": 40,
   "id": "9649c1ef-a4b7-42ef-b574-7dfcfc01b29f",
   "metadata": {},
   "outputs": [
    {
     "name": "stdout",
     "output_type": "stream",
     "text": [
      "found\n"
     ]
    }
   ],
   "source": [
    "#9. Check if a string contains a specific word.\n",
    "if example.find(\"saket\"):\n",
    "    print(\"found\")"
   ]
  },
  {
   "cell_type": "code",
   "execution_count": 42,
   "id": "f8ea7446-4be7-418a-acbc-119737950213",
   "metadata": {},
   "outputs": [
    {
     "name": "stdout",
     "output_type": "stream",
     "text": [
      "hi! i am nikhil ranjan\n"
     ]
    }
   ],
   "source": [
    "#10. Replace a word in a string with another word.\n",
    "ex= example.replace(\"saket\",\"nikhil\")\n",
    "print(ex)"
   ]
  },
  {
   "cell_type": "code",
   "execution_count": 43,
   "id": "a32032a2-01d8-4c44-b3fb-5bc434af252a",
   "metadata": {},
   "outputs": [
    {
     "name": "stdout",
     "output_type": "stream",
     "text": [
      "4\n"
     ]
    }
   ],
   "source": [
    "#11. Count the occurrences of a word in a string.\n",
    "ex1 = example.count(\"a\")\n",
    "print(ex1)"
   ]
  },
  {
   "cell_type": "code",
   "execution_count": 44,
   "id": "c5770c75-4a4e-4160-a7b0-469e1da7b3ee",
   "metadata": {},
   "outputs": [
    {
     "name": "stdout",
     "output_type": "stream",
     "text": [
      "6\n"
     ]
    }
   ],
   "source": [
    "#12. Find the first occurrence of a word in a string.\n",
    "ex2 = example.index(\"a\")\n",
    "print(ex2)"
   ]
  },
  {
   "cell_type": "code",
   "execution_count": 45,
   "id": "e88f570a-3d3f-447e-89ad-0310aa5792df",
   "metadata": {},
   "outputs": [
    {
     "name": "stdout",
     "output_type": "stream",
     "text": [
      "19\n"
     ]
    }
   ],
   "source": [
    "#13. Find the last occurrence of a word in a string.\n",
    "ex3 = example.rfind(\"a\")\n",
    "print(ex3)"
   ]
  },
  {
   "cell_type": "code",
   "execution_count": 46,
   "id": "865c3709-2a6f-4acf-8162-042b0d61cd92",
   "metadata": {},
   "outputs": [
    {
     "name": "stdout",
     "output_type": "stream",
     "text": [
      "['hi!', 'i', 'am', 'saket', 'ranjan']\n"
     ]
    }
   ],
   "source": [
    "#14. Split a string into a list of words\n",
    "ls = example.split(\" \")\n",
    "print(ls)"
   ]
  },
  {
   "cell_type": "code",
   "execution_count": 53,
   "id": "90ca9896-10d5-40d7-9ae7-8973a3c332fd",
   "metadata": {},
   "outputs": [
    {
     "name": "stdout",
     "output_type": "stream",
     "text": [
      "joined =  hi! i am saket ranjan, and i am from bihar\n"
     ]
    }
   ],
   "source": [
    "#15. Join a list of words into a string.\n",
    "sr = \", and i am from bihar\"\n",
    "print(\"joined = \",\"\".join([example,sr]))"
   ]
  },
  {
   "cell_type": "code",
   "execution_count": 54,
   "id": "717766a2-1aff-4359-8100-b81da25abbf3",
   "metadata": {},
   "outputs": [
    {
     "name": "stdout",
     "output_type": "stream",
     "text": [
      "hi!_i_am_saket_ranjan\n"
     ]
    }
   ],
   "source": [
    "#16. Convert a string where words are separated by spaces to one where words are separated by underscores.\n",
    "str = example.replace(\" \",\"_\")\n",
    "print(str)\n"
   ]
  },
  {
   "cell_type": "code",
   "execution_count": 55,
   "id": "0cf013f3-05fe-46fe-b160-dcc8f75c2925",
   "metadata": {},
   "outputs": [
    {
     "name": "stdout",
     "output_type": "stream",
     "text": [
      "True\n"
     ]
    }
   ],
   "source": [
    "#17. Check if a string starts with a specific word or phrase\n",
    "str1 = example.startswith(\"hi\")\n",
    "print(str1)"
   ]
  },
  {
   "cell_type": "code",
   "execution_count": 56,
   "id": "03a99df1-9604-4af5-925a-ec6cc22d9be1",
   "metadata": {},
   "outputs": [
    {
     "name": "stdout",
     "output_type": "stream",
     "text": [
      "True\n"
     ]
    }
   ],
   "source": [
    "#18. Check if a string ends with a specific word or phrase.\n",
    "str2 = example.endswith(\"ranjan\")\n",
    "print(str2)"
   ]
  },
  {
   "cell_type": "code",
   "execution_count": 57,
   "id": "d2cab5dd-1bac-44fe-af9b-fbceb76494b5",
   "metadata": {},
   "outputs": [
    {
     "name": "stdout",
     "output_type": "stream",
     "text": [
      "Hi! I Am Saket Ranjan\n"
     ]
    }
   ],
   "source": [
    "#19. Convert a string to title case (e.g., \"hello world\" to \"Hello World\").\n",
    "str3 = example.title()\n",
    "print(str3)"
   ]
  },
  {
   "cell_type": "code",
   "execution_count": 2,
   "id": "9c051eff-c013-4785-ad96-eaf39e511741",
   "metadata": {},
   "outputs": [
    {
     "name": "stdout",
     "output_type": "stream",
     "text": [
      "computer\n"
     ]
    }
   ],
   "source": [
    "#20. Find the longest word in a string.\n",
    "str = \"i am computer science student\"\n",
    "s = str.split(\" \")\n",
    "longest_word = max(s, key=len)\n",
    "print(longest_word)\n",
    "    \n"
   ]
  },
  {
   "cell_type": "code",
   "execution_count": 3,
   "id": "a3e6bb5c-9bc1-4801-8c74-f5ac8f20f891",
   "metadata": {},
   "outputs": [
    {
     "name": "stdout",
     "output_type": "stream",
     "text": [
      "i\n"
     ]
    }
   ],
   "source": [
    "#21. Find the shortest word in a string\n",
    "smallest_word =  min(s,key = len)\n",
    "print(smallest_word)"
   ]
  },
  {
   "cell_type": "code",
   "execution_count": 16,
   "id": "5f30f30d-69a0-4c1f-bf7e-3fd436075ae4",
   "metadata": {},
   "outputs": [
    {
     "name": "stdout",
     "output_type": "stream",
     "text": [
      "banglore from am i\n"
     ]
    }
   ],
   "source": [
    "#22. Reverse the order of words in a string.\n",
    "s = \"i am from banglore\"\n",
    "a = s.split()\n",
    "a.reverse()\n",
    "result = \" \".join(a)\n",
    "print(result)"
   ]
  },
  {
   "cell_type": "code",
   "execution_count": 19,
   "id": "30c1e81c-d760-4307-bf7d-d7a077389a96",
   "metadata": {},
   "outputs": [
    {
     "name": "stdout",
     "output_type": "stream",
     "text": [
      "True\n"
     ]
    }
   ],
   "source": [
    "#23. Check if a string is alphanumeric.\n",
    "s= \"saket123\"\n",
    "print(s.isalnum())"
   ]
  },
  {
   "cell_type": "code",
   "execution_count": 23,
   "id": "beebbbca-ff55-4b70-ab35-d0b86f1c7957",
   "metadata": {},
   "outputs": [
    {
     "name": "stdout",
     "output_type": "stream",
     "text": [
      "1\n",
      "2\n",
      "3\n"
     ]
    }
   ],
   "source": [
    "#24. Extract all digits from a string.\n",
    "s = \"saket123 Hello\"\n",
    "for n in s:\n",
    "    if(n.isdigit()):\n",
    "        print(n)\n",
    "  "
   ]
  },
  {
   "cell_type": "code",
   "execution_count": 25,
   "id": "f163aac6-ccdc-4a19-ae7a-1698999cf0a3",
   "metadata": {},
   "outputs": [
    {
     "name": "stdout",
     "output_type": "stream",
     "text": [
      "s\n",
      "a\n",
      "k\n",
      "e\n",
      "t\n",
      "H\n",
      "e\n",
      "l\n",
      "l\n",
      "o\n"
     ]
    }
   ],
   "source": [
    "#25. Extract all alphabets from a string.\n",
    "for n in s:\n",
    "    if(n.isalpha()):\n",
    "        print(n)"
   ]
  },
  {
   "cell_type": "code",
   "execution_count": 27,
   "id": "584f4962-c675-4af2-81eb-f7284464b98b",
   "metadata": {},
   "outputs": [
    {
     "name": "stdout",
     "output_type": "stream",
     "text": [
      "6\n"
     ]
    }
   ],
   "source": [
    "#26. Count the number of uppercase letters in a string.\n",
    "s = \"Hi, i am from INDIA\"\n",
    "count = 0\n",
    "for n in s:\n",
    "    if(n.isupper()):\n",
    "        count = count+1;\n",
    "print(count)"
   ]
  },
  {
   "cell_type": "code",
   "execution_count": 28,
   "id": "9b524ed6-9de4-4f3b-a8c8-16fcf9c24797",
   "metadata": {},
   "outputs": [
    {
     "name": "stdout",
     "output_type": "stream",
     "text": [
      "8\n"
     ]
    }
   ],
   "source": [
    "#27. Count the number of lowercase letters in a string.\n",
    "count = 0\n",
    "for n in s:\n",
    "    if(n.islower()):\n",
    "        count = count+1;\n",
    "print(count)"
   ]
  },
  {
   "cell_type": "code",
   "execution_count": 30,
   "id": "b3964702-3d4b-4422-9166-acc5f2c07477",
   "metadata": {},
   "outputs": [
    {
     "name": "stdout",
     "output_type": "stream",
     "text": [
      "hI, I AM FROM india\n"
     ]
    }
   ],
   "source": [
    "#28. Swap the case of each character in a string.\n",
    "s = \"Hi, i am from INDIA\"\n",
    "s1 = s.swapcase()\n",
    "print(s1)"
   ]
  },
  {
   "cell_type": "code",
   "execution_count": 32,
   "id": "09f3ff85-0d1b-486a-85b2-9ff3b2411c56",
   "metadata": {},
   "outputs": [
    {
     "name": "stdout",
     "output_type": "stream",
     "text": [
      "Hi, i am  INDIA\n"
     ]
    }
   ],
   "source": [
    "#29. Remove a specific word from a string.\n",
    "s1 = s.replace(\"from\",\"\")\n",
    "print(s1)"
   ]
  },
  {
   "cell_type": "code",
   "execution_count": null,
   "id": "53a7ae57-2e55-4817-b39e-ba044ad993f5",
   "metadata": {},
   "outputs": [],
   "source": [
    "#30. Check if a string is a valid email address.\n"
   ]
  }
 ],
 "metadata": {
  "kernelspec": {
   "display_name": "Python 3 (ipykernel)",
   "language": "python",
   "name": "python3"
  },
  "language_info": {
   "codemirror_mode": {
    "name": "ipython",
    "version": 3
   },
   "file_extension": ".py",
   "mimetype": "text/x-python",
   "name": "python",
   "nbconvert_exporter": "python",
   "pygments_lexer": "ipython3",
   "version": "3.12.1"
  }
 },
 "nbformat": 4,
 "nbformat_minor": 5
}
