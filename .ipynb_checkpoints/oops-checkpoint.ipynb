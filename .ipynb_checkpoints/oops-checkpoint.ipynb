{
 "cells": [
  {
   "cell_type": "code",
   "execution_count": 5,
   "id": "379bb8ea-e0a1-4204-857f-bdc6fb04d433",
   "metadata": {},
   "outputs": [],
   "source": [
    "class bankaccount :\n",
    "\n",
    "    def openaccount(self,name,email_id) :\n",
    "        print(\"open an account by taking name and mail id \")\n",
    "        return name+email_id\n",
    "\n",
    "    def deposit(self,amount):\n",
    "        print(\"i am trying to deposit an amount in my account\")\n",
    "\n",
    "    def withdraw(self,amt_with):\n",
    "        print(\"withdraw the details\")\n",
    "\n",
    "    def update_details(self,name_update,email_update):\n",
    "        print(\"this function will update my name and mail id for account\")\n",
    "\n",
    "\n",
    "\n",
    "    "
   ]
  },
  {
   "cell_type": "code",
   "execution_count": 6,
   "id": "e9ca4bee-287e-4717-a359-24ada6cf5448",
   "metadata": {},
   "outputs": [],
   "source": [
    "def openaccount(name,email_id) :\n",
    "        print(\"open an account by taking name and mail id \")\n",
    "        return name+email_id"
   ]
  },
  {
   "cell_type": "code",
   "execution_count": 7,
   "id": "6d59a7a9-1b51-4031-be39-710129e41bea",
   "metadata": {},
   "outputs": [
    {
     "name": "stdout",
     "output_type": "stream",
     "text": [
      "open an account by taking name and mail id \n"
     ]
    },
    {
     "data": {
      "text/plain": [
       "'saketsaket@gmail.com'"
      ]
     },
     "execution_count": 7,
     "metadata": {},
     "output_type": "execute_result"
    }
   ],
   "source": [
    "openaccount(\"saket\",\"saket@gmail.com\")"
   ]
  },
  {
   "cell_type": "code",
   "execution_count": 8,
   "id": "8ba065c5-1922-43c7-b3a4-48b09f13bf0a",
   "metadata": {},
   "outputs": [],
   "source": [
    "saket = bankaccount()"
   ]
  },
  {
   "cell_type": "code",
   "execution_count": 9,
   "id": "80508b0c-0fdd-4336-8e57-92503cc4666e",
   "metadata": {},
   "outputs": [
    {
     "name": "stdout",
     "output_type": "stream",
     "text": [
      "i am trying to deposit an amount in my account\n"
     ]
    }
   ],
   "source": [
    "saket.deposit(200)"
   ]
  },
  {
   "cell_type": "code",
   "execution_count": 10,
   "id": "810a1c37-429c-44d0-8ac1-7f05bec89792",
   "metadata": {},
   "outputs": [
    {
     "name": "stdout",
     "output_type": "stream",
     "text": [
      "open an account by taking name and mail id \n"
     ]
    },
    {
     "data": {
      "text/plain": [
       "'nikhilnikhil@gmail.com'"
      ]
     },
     "execution_count": 10,
     "metadata": {},
     "output_type": "execute_result"
    }
   ],
   "source": [
    "saket.openaccount(\"nikhil\",\"nikhil@gmail.com\")"
   ]
  },
  {
   "cell_type": "code",
   "execution_count": 11,
   "id": "75e4f937-9147-4631-b7f3-f5d005d0fa68",
   "metadata": {},
   "outputs": [
    {
     "name": "stdout",
     "output_type": "stream",
     "text": [
      "withdraw the details\n"
     ]
    }
   ],
   "source": [
    "saket.withdraw(100)"
   ]
  },
  {
   "cell_type": "code",
   "execution_count": 25,
   "id": "985c5aff-5e4d-4322-b23b-9e0851a24dd0",
   "metadata": {},
   "outputs": [],
   "source": [
    "class list_ops:\n",
    "\n",
    "    a = 10\n",
    "     l = [ 2,3,4,5,6,7,8,9,8,8]\n",
    "\n",
    "    def extractfromindex(self,l,index):\n",
    "        return l[index]\n",
    "\n",
    "    def extractrangedata(self,l,start,end):\n",
    "        return l[start:end]\n",
    "\n",
    "    def extracteven(self,l):\n",
    "        l1 = []\n",
    "        for i in l:\n",
    "            if i%2 == 0:\n",
    "                l1.append(i)\n",
    "        return l1       "
   ]
  },
  {
   "cell_type": "code",
   "execution_count": 26,
   "id": "09d8673a-6fc4-4e81-8280-4c93ea449115",
   "metadata": {},
   "outputs": [],
   "source": [
    "first_obj = list_ops()"
   ]
  },
  {
   "cell_type": "code",
   "execution_count": 22,
   "id": "1ff60beb-fc6c-4fb0-8745-074135a03e3b",
   "metadata": {},
   "outputs": [
    {
     "data": {
      "text/plain": [
       "5"
      ]
     },
     "execution_count": 22,
     "metadata": {},
     "output_type": "execute_result"
    }
   ],
   "source": [
    "first_obj.extractfromindex([1,2,3,4,5,6,7,8],4)"
   ]
  },
  {
   "cell_type": "code",
   "execution_count": 23,
   "id": "95ff1860-184f-4d5b-928c-3ff2f050d244",
   "metadata": {},
   "outputs": [
    {
     "data": {
      "text/plain": [
       "[2, 3, 4, 5]"
      ]
     },
     "execution_count": 23,
     "metadata": {},
     "output_type": "execute_result"
    }
   ],
   "source": [
    "first_obj.extractrangedata([1,2,3,4,5,6,7,8,9],1,5)"
   ]
  },
  {
   "cell_type": "code",
   "execution_count": 24,
   "id": "ed4a54ea-f418-447e-b318-d9a3bcc1d844",
   "metadata": {},
   "outputs": [
    {
     "data": {
      "text/plain": [
       "[2, 4, 6, 8]"
      ]
     },
     "execution_count": 24,
     "metadata": {},
     "output_type": "execute_result"
    }
   ],
   "source": [
    "first_obj.extracteven([1,2,3,4,5,6,7,8,9])"
   ]
  },
  {
   "cell_type": "code",
   "execution_count": 27,
   "id": "0d6de2fa-f75f-4bfd-9acf-6a3d486300e6",
   "metadata": {},
   "outputs": [
    {
     "data": {
      "text/plain": [
       "10"
      ]
     },
     "execution_count": 27,
     "metadata": {},
     "output_type": "execute_result"
    }
   ],
   "source": [
    "first_obj.a"
   ]
  },
  {
   "cell_type": "code",
   "execution_count": null,
   "id": "7a3bd742-f3d3-4870-b89b-f8b5ec0db407",
   "metadata": {},
   "outputs": [],
   "source": []
  }
 ],
 "metadata": {
  "kernelspec": {
   "display_name": "Python 3 (ipykernel)",
   "language": "python",
   "name": "python3"
  },
  "language_info": {
   "codemirror_mode": {
    "name": "ipython",
    "version": 3
   },
   "file_extension": ".py",
   "mimetype": "text/x-python",
   "name": "python",
   "nbconvert_exporter": "python",
   "pygments_lexer": "ipython3",
   "version": "3.12.1"
  }
 },
 "nbformat": 4,
 "nbformat_minor": 5
}
