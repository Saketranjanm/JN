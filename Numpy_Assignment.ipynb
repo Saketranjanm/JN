{
 "cells": [
  {
   "cell_type": "code",
   "execution_count": 1,
   "id": "23ae67c3-3eaf-4ac1-b18c-1eac3fcdaf05",
   "metadata": {},
   "outputs": [],
   "source": [
    "import numpy as np\n"
   ]
  },
  {
   "cell_type": "code",
   "execution_count": 2,
   "id": "3139f9b8-82f5-434c-aee1-ed107eb5e25f",
   "metadata": {},
   "outputs": [],
   "source": [
    "#1. What is a Python library? Why do we use Python libraries?\n",
    "#sol:- Python library is a collection of precompiled codes that can be used later on in a program for some specific well-defined operations. Other than pre-compiled codes, a library may contain documentation, configuration data, message templates, classes, and values, etc.\n",
    "# we use python library as it makes Python programming easier and simpler"
   ]
  },
  {
   "cell_type": "code",
   "execution_count": 3,
   "id": "cfdebbf8-8966-491d-8516-eb13aad1e193",
   "metadata": {},
   "outputs": [],
   "source": [
    "#2. What is the difference between Numpy array and List?\n",
    "#sol:-NumPy arrays can only contain elements of the same data type. This allows for more efficient storage and operations.\n",
    "#Lists can contain elements of different data types, making them more flexible but potentially less efficient for numerical operations.\n",
    "#NumPy arrays are more efficient for numerical operations because they are implemented in C and have a fixed, homogeneous data type.\n",
    "#Lists are more flexible but may be slower for numerical operations, especially with large datasets"
   ]
  },
  {
   "cell_type": "code",
   "execution_count": 12,
   "id": "f5e00c95-8518-4fc3-ade2-55903a69ab01",
   "metadata": {},
   "outputs": [
    {
     "name": "stdout",
     "output_type": "stream",
     "text": [
      " shape = (3, 4), size = 12, dim = 2\n"
     ]
    }
   ],
   "source": [
    "#3. Find the shape, size and dimension of the following array?\n",
    "#[[1, 2, 3, 4]\n",
    "#[5, 6, 7, 8],\n",
    "#[9, 10, 11, 12]]\n",
    "a = np.array([[1,2,3,4],[5,6,7,8],[9,10,11,12]])\n",
    "shape = a.shape\n",
    "size = a.size\n",
    "dim = a.ndim\n",
    "print(f\" shape = {shape}, size = {size}, dim = {dim}\")"
   ]
  },
  {
   "cell_type": "code",
   "execution_count": 14,
   "id": "3e631747-2038-4029-8312-9aff444deae0",
   "metadata": {},
   "outputs": [
    {
     "name": "stdout",
     "output_type": "stream",
     "text": [
      "[1 2 3 4]\n"
     ]
    }
   ],
   "source": [
    "#4. Write python code to access the first row of the following array?\n",
    "#[[1, 2, 3, 4]\n",
    "#[5, 6, 7, 8],\n",
    "#[9, 10, 11, 12]]\n",
    "print(a[0])"
   ]
  },
  {
   "cell_type": "code",
   "execution_count": 18,
   "id": "5b87eeb4-a366-4a61-ab27-d99df182f763",
   "metadata": {},
   "outputs": [
    {
     "data": {
      "text/plain": [
       "12"
      ]
     },
     "execution_count": 18,
     "metadata": {},
     "output_type": "execute_result"
    }
   ],
   "source": [
    "#5. How do you access the element at the third row and fourth column from the given numpy array?\n",
    "#[[1, 2, 3, 4]\n",
    "#[5, 6, 7, 8],\n",
    "#[9, 10, 11, 12]]\n",
    "#sol:- to access the element we mention its column and row and run the command\n",
    "a[2][3]"
   ]
  },
  {
   "cell_type": "code",
   "execution_count": 22,
   "id": "9370af7b-d378-47c0-86dc-80cbbe661656",
   "metadata": {},
   "outputs": [
    {
     "name": "stdout",
     "output_type": "stream",
     "text": [
      "[[ 2  4]\n",
      " [ 6  8]\n",
      " [10 12]]\n"
     ]
    }
   ],
   "source": [
    "#6. Write code to extract all odd-indexed elements from the given numpy array?\n",
    "#[[1, 2, 3, 4]\n",
    "#[5, 6, 7, 8],\n",
    "#[9, 10, 11, 12]]\n",
    "print(a[:, 1::2]) "
   ]
  },
  {
   "cell_type": "code",
   "execution_count": 26,
   "id": "9496d225-13fd-4655-ac2c-aea6014ac085",
   "metadata": {},
   "outputs": [
    {
     "name": "stdout",
     "output_type": "stream",
     "text": [
      "[[0.33374685 0.45212549 0.51590514]\n",
      " [0.87351957 0.37484808 0.4006001 ]\n",
      " [0.82276892 0.41515469 0.1147491 ]]\n"
     ]
    }
   ],
   "source": [
    "#7. How can you generate a random 3x3 matrix with values between 0 and 1?\n",
    "import random \n",
    "print(np.random.rand(3,3))"
   ]
  },
  {
   "cell_type": "code",
   "execution_count": 27,
   "id": "dd68e38a-ec54-427b-9243-5c15f9c8061e",
   "metadata": {},
   "outputs": [],
   "source": [
    "#8. Describe the difference between np.random.rand and np.random.randn?\n",
    "#sol:-np.random.rand = This function generates random numbers from a uniform distribution over the interval [0, 1).\n",
    "#The returned values are in the half-open interval [0, 1), meaning 0 is included, but 1 is excluded.\n",
    "#whearas, np.random.randn = This function generates random numbers from a standard normal distribution (mean = 0, standard deviation = 1).\n",
    "#The returned values are not bounded within a specific range and can be positive or negative"
   ]
  },
  {
   "cell_type": "code",
   "execution_count": 35,
   "id": "6b1846b2-041b-49f0-85cc-77f969916f79",
   "metadata": {},
   "outputs": [
    {
     "name": "stdout",
     "output_type": "stream",
     "text": [
      "old_dim = 2\n",
      " new_dim = 3\n"
     ]
    }
   ],
   "source": [
    "#9. Write code to increase the dimension of the following array?\n",
    "#[[1, 2, 3, 4]\n",
    "#[5, 6, 7, 8]\n",
    "#[9, 10, 11, 12]]\n",
    "old_dim = a.ndim\n",
    "print(f\"old_dim = {old_dim}\")\n",
    "new_dim = a[:,:,np.newaxis]\n",
    "print(f\" new_dim = {new_dim.ndim}\")\n"
   ]
  },
  {
   "cell_type": "code",
   "execution_count": 37,
   "id": "ad6917a3-4173-4042-baaf-9ede78d501dd",
   "metadata": {},
   "outputs": [
    {
     "name": "stdout",
     "output_type": "stream",
     "text": [
      "transpose = [[ 1  5  9]\n",
      " [ 2  6 10]\n",
      " [ 3  7 11]\n",
      " [ 4  8 12]]\n"
     ]
    }
   ],
   "source": [
    "#10. How to transpose the following array in NumPy?\n",
    "#[[1, 2, 3, 4]\n",
    "#[5, 6, 7, 8],\n",
    "#[9, 10, 11, 12]]\n",
    "print(f\"transpose = {a.T}\")"
   ]
  },
  {
   "cell_type": "code",
   "execution_count": 49,
   "id": "19ff229a-1c0b-496a-9f8f-536cc294fc41",
   "metadata": {},
   "outputs": [
    {
     "name": "stdout",
     "output_type": "stream",
     "text": [
      "index wise multiplication : [[ 5 10 15 20]\n",
      " [25 30 35 40]\n",
      " [45 50 55 60]],and [[ 7 14 21 28]\n",
      " [35 42 49 56]\n",
      " [63 70 77 84]]\n",
      "matrix multiplication cannot be performed as first matrix column is not equal to second matrix row\n",
      "addition: [[ 2  4  6  8]\n",
      " [10 12 14 16]\n",
      " [18 20 22 24]]\n",
      "subratction : [[0 0 0 0]\n",
      " [0 0 0 0]\n",
      " [0 0 0 0]]\n",
      "division: [[1. 1. 1. 1.]\n",
      " [1. 1. 1. 1.]\n",
      " [1. 1. 1. 1.]]\n"
     ]
    }
   ],
   "source": [
    "#11. Consider the following matrix:\n",
    "A = np.array([[1, 2, 3, 4], [5, 6, 7, 8],[9, 10, 11, 12]])\n",
    "B = np.array([[1, 2, 3, 4] ,[5, 6, 7, 8],[9, 10, 11, 12]])\n",
    "#Perform the following operation using Python1\n",
    "#1 Index wise multiplication\n",
    "#2 Matrix multiplication\n",
    "#3 Add both the matrics\n",
    "#4 Subtract matarix B from A\n",
    "#5 Divide Matrix B by A\n",
    "print(f\"index wise multiplication : {A*5},and {B*7}\")\n",
    "print(f\"matrix multiplication cannot be performed as first matrix column is not equal to second matrix row\")\n",
    "print(f\"addition: {A+B}\")\n",
    "print(f\"subratction : {A-B}\")\n",
    "print(f\"division: {B/A}\")"
   ]
  },
  {
   "cell_type": "code",
   "execution_count": 50,
   "id": "d26f4a55-0153-4700-aa3d-c1407c6afaa6",
   "metadata": {},
   "outputs": [],
   "source": [
    "#12.  Which function in Numpy can be used to swap the byte order of an array?\n",
    "#sol: In NumPy, the function \"\"numpy.ndarray.byteswap\"\" can be used to swap the byte order of an array."
   ]
  },
  {
   "cell_type": "code",
   "execution_count": 51,
   "id": "3a44bc22-2b43-41cc-aaa5-e29faa20d90c",
   "metadata": {},
   "outputs": [],
   "source": [
    "#13.  What is the significance of the np.linalg.inv function?\n",
    "#sol: The \"\"np.linalg.inv\"\" function in NumPy is used to compute the multiplicative inverse or simply the inverse of a square matrix."
   ]
  },
  {
   "cell_type": "code",
   "execution_count": 53,
   "id": "8d0199b4-1562-437a-8d68-7b47d651fcb5",
   "metadata": {},
   "outputs": [
    {
     "name": "stdout",
     "output_type": "stream",
     "text": [
      "[[1 2]\n",
      " [3 4]\n",
      " [5 6]]\n"
     ]
    }
   ],
   "source": [
    "#14. What does the np.reshape function do, and how is it used?\n",
    "#sol: The \"\"np.reshape\"\" function in NumPy is used to give a new shape to an array without changing its data.\n",
    "original_array = np.array([1, 2, 3, 4, 5, 6])\n",
    "reshaped_array = np.reshape(original_array, (3, 2))\n",
    "print(reshaped_array)"
   ]
  },
  {
   "cell_type": "code",
   "execution_count": null,
   "id": "6150a8ee-e747-4f01-9682-cf7697587b6c",
   "metadata": {},
   "outputs": [],
   "source": [
    "#15. What is broadcasting in Numpy?"
   ]
  }
 ],
 "metadata": {
  "kernelspec": {
   "display_name": "Python 3 (ipykernel)",
   "language": "python",
   "name": "python3"
  },
  "language_info": {
   "codemirror_mode": {
    "name": "ipython",
    "version": 3
   },
   "file_extension": ".py",
   "mimetype": "text/x-python",
   "name": "python",
   "nbconvert_exporter": "python",
   "pygments_lexer": "ipython3",
   "version": "3.12.1"
  }
 },
 "nbformat": 4,
 "nbformat_minor": 5
}
