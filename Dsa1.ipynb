{
 "cells": [
  {
   "cell_type": "code",
   "execution_count": 8,
   "id": "0c0cf544-b9fb-4362-b160-cdba5dfaf5f4",
   "metadata": {},
   "outputs": [
    {
     "name": "stdout",
     "output_type": "stream",
     "text": [
      "256\n"
     ]
    }
   ],
   "source": [
    "#tc = O(n)\n",
    "#sc = O(1)\n",
    "#normal array sum\n",
    "def summation(arr):\n",
    "    n = len(arr)\n",
    "    sum = 0\n",
    "    for i in range(n):\n",
    "        sum = sum + arr[i]\n",
    "    return sum\n",
    "\n",
    "arr = [23,32,45,67,89]\n",
    "result = summation(arr)\n",
    "print(result)"
   ]
  },
  {
   "cell_type": "code",
   "execution_count": 23,
   "id": "b4857469-4fdc-4ced-a46d-ca339bf139a0",
   "metadata": {},
   "outputs": [
    {
     "name": "stdin",
     "output_type": "stream",
     "text": [
      "enter target element 56\n"
     ]
    },
    {
     "name": "stdout",
     "output_type": "stream",
     "text": [
      "4\n"
     ]
    }
   ],
   "source": [
    "#element available in array or not\n",
    "#tc = O(n)\n",
    "#sc = O(1)\n",
    "def evaluate(arr,target):\n",
    "    n = len(arr)\n",
    "    for i in range(n):\n",
    "        if arr[i]==target:\n",
    "            return i\n",
    "    return -1\n",
    "  \n",
    "arr = [23,45,21,34,56,78]\n",
    "target = int(input(\"enter target element\"))\n",
    "result = evaluate(arr,target)\n",
    "print(result)"
   ]
  },
  {
   "cell_type": "code",
   "execution_count": 54,
   "id": "d18ab06d-fc81-4e18-a3ac-57e28626bc88",
   "metadata": {},
   "outputs": [
    {
     "name": "stdout",
     "output_type": "stream",
     "text": [
      "([2, 4, 6, 8], [1, 3, 5, 7, 9])\n"
     ]
    }
   ],
   "source": [
    "#construct even and odd array from source array\n",
    "#tc = O(n)\n",
    "#sc = O(n)\n",
    "even = []\n",
    "odd = []\n",
    "def twoarray(arr):\n",
    "    for i in arr:\n",
    "        if i % 2 == 0:\n",
    "            even.append(i)\n",
    "        else:\n",
    "            odd.append(i)\n",
    "    return even, odd\n",
    "\n",
    "arr = [1,2,3,4,5,6,7,8,9]\n",
    "print(twoarray(arr))\n"
   ]
  },
  {
   "cell_type": "code",
   "execution_count": 18,
   "id": "0817c008-d621-40f2-b568-dd1a727c52e8",
   "metadata": {},
   "outputs": [
    {
     "name": "stdout",
     "output_type": "stream",
     "text": [
      "(23, 24)\n"
     ]
    }
   ],
   "source": [
    "#diagonal sum in two-d matrix \n",
    "#tc = O(n^2)\n",
    "#sc = O(1)\n",
    "def Diagonalsum(arr,order_of_matrix):\n",
    "    primarydiagonalsum = 0\n",
    "    secondarydiagonalsum = 0\n",
    "    for i in range(len(arr)):\n",
    "        for j in range(len(arr)):\n",
    "            if i == j:\n",
    "                primarydiagonalsum += arr[i][j]\n",
    "            if i+j == order_of_matrix -1:\n",
    "                secondarydiagonalsum += arr[i][j]\n",
    "    return primarydiagonalsum, secondarydiagonalsum            \n",
    "\n",
    "arr = [[3,4,6],[7,8,9],[10,11,12]]\n",
    "order_of_matrix = 3\n",
    "print(Diagonalsum(arr,order_of_matrix))"
   ]
  },
  {
   "cell_type": "code",
   "execution_count": null,
   "id": "afb8bd1a-fde0-4aae-8630-c9186be33019",
   "metadata": {},
   "outputs": [],
   "source": []
  }
 ],
 "metadata": {
  "kernelspec": {
   "display_name": "Python 3 (ipykernel)",
   "language": "python",
   "name": "python3"
  },
  "language_info": {
   "codemirror_mode": {
    "name": "ipython",
    "version": 3
   },
   "file_extension": ".py",
   "mimetype": "text/x-python",
   "name": "python",
   "nbconvert_exporter": "python",
   "pygments_lexer": "ipython3",
   "version": "3.12.1"
  }
 },
 "nbformat": 4,
 "nbformat_minor": 5
}
